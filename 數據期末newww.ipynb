{
  "cells": [
    {
      "cell_type": "markdown",
      "metadata": {
        "id": "view-in-github",
        "colab_type": "text"
      },
      "source": [
        "<a href=\"https://colab.research.google.com/github/justin6677/data_science/blob/main/%E6%95%B8%E6%93%9A%E6%9C%9F%E6%9C%ABnewww.ipynb\" target=\"_parent\"><img src=\"https://colab.research.google.com/assets/colab-badge.svg\" alt=\"Open In Colab\"/></a>"
      ]
    },
    {
      "cell_type": "code",
      "execution_count": null,
      "metadata": {
        "id": "r-uLYGbfEwJD",
        "colab": {
          "base_uri": "https://localhost:8080/"
        },
        "outputId": "811e7fb4-79be-4c09-f30c-bf41da1c228d"
      },
      "outputs": [
        {
          "output_type": "stream",
          "name": "stdout",
          "text": [
            "\u001b[?25l   \u001b[90m━━━━━━━━━━━━━━━━━━━━━━━━━━━━━━━━━━━━━━━━\u001b[0m \u001b[32m0.0/650.7 kB\u001b[0m \u001b[31m?\u001b[0m eta \u001b[36m-:--:--\u001b[0m\r\u001b[2K   \u001b[91m━━━━━━━━━━━━━━━━━━━━━━━━━━━━━━━━━━━━━\u001b[0m\u001b[90m╺\u001b[0m\u001b[90m━━\u001b[0m \u001b[32m604.2/650.7 kB\u001b[0m \u001b[31m18.6 MB/s\u001b[0m eta \u001b[36m0:00:01\u001b[0m\r\u001b[2K   \u001b[90m━━━━━━━━━━━━━━━━━━━━━━━━━━━━━━━━━━━━━━━━\u001b[0m \u001b[32m650.7/650.7 kB\u001b[0m \u001b[31m12.6 MB/s\u001b[0m eta \u001b[36m0:00:00\u001b[0m\n",
            "\u001b[?25h\u001b[?25l   \u001b[90m━━━━━━━━━━━━━━━━━━━━━━━━━━━━━━━━━━━━━━━━\u001b[0m \u001b[32m0.0/950.8 kB\u001b[0m \u001b[31m?\u001b[0m eta \u001b[36m-:--:--\u001b[0m\r\u001b[2K   \u001b[91m━━━━━━━━━━━━━━━━━━━━━━━━━━━━━━━━━━━━━━━\u001b[0m\u001b[91m╸\u001b[0m \u001b[32m942.1/950.8 kB\u001b[0m \u001b[31m32.7 MB/s\u001b[0m eta \u001b[36m0:00:01\u001b[0m\r\u001b[2K   \u001b[90m━━━━━━━━━━━━━━━━━━━━━━━━━━━━━━━━━━━━━━━━\u001b[0m \u001b[32m950.8/950.8 kB\u001b[0m \u001b[31m13.9 MB/s\u001b[0m eta \u001b[36m0:00:00\u001b[0m\n",
            "\u001b[?25h"
          ]
        }
      ],
      "source": [
        "%pip install -q --upgrade keras-cv"
      ]
    },
    {
      "cell_type": "code",
      "source": [
        "! pip install -q kaggle\n",
        "! mkdir ~/.kaggle\n",
        "! mkdir ~/.kaggle\n",
        "! cp kaggle.json ~/.kaggle/\n",
        "! chmod 600 ~/.kaggle/kaggle.json\n",
        "!pip install tensorflow-gpu\n",
        "!pip install tensorflow"
      ],
      "metadata": {
        "colab": {
          "base_uri": "https://localhost:8080/"
        },
        "id": "hzQpvyneUH3i",
        "outputId": "e2cee967-1897-4f80-db4d-32039b1d71a3",
        "collapsed": true
      },
      "execution_count": null,
      "outputs": [
        {
          "output_type": "stream",
          "name": "stdout",
          "text": [
            "mkdir: cannot create directory ‘/root/.kaggle’: File exists\n",
            "cp: cannot stat 'kaggle.json': No such file or directory\n",
            "chmod: cannot access '/root/.kaggle/kaggle.json': No such file or directory\n",
            "Collecting tensorflow-gpu\n",
            "  Downloading tensorflow-gpu-2.12.0.tar.gz (2.6 kB)\n",
            "  \u001b[1;31merror\u001b[0m: \u001b[1msubprocess-exited-with-error\u001b[0m\n",
            "  \n",
            "  \u001b[31m×\u001b[0m \u001b[32mpython setup.py egg_info\u001b[0m did not run successfully.\n",
            "  \u001b[31m│\u001b[0m exit code: \u001b[1;36m1\u001b[0m\n",
            "  \u001b[31m╰─>\u001b[0m See above for output.\n",
            "  \n",
            "  \u001b[1;35mnote\u001b[0m: This error originates from a subprocess, and is likely not a problem with pip.\n",
            "  Preparing metadata (setup.py) ... \u001b[?25l\u001b[?25herror\n",
            "\u001b[1;31merror\u001b[0m: \u001b[1mmetadata-generation-failed\u001b[0m\n",
            "\n",
            "\u001b[31m×\u001b[0m Encountered error while generating package metadata.\n",
            "\u001b[31m╰─>\u001b[0m See above for output.\n",
            "\n",
            "\u001b[1;35mnote\u001b[0m: This is an issue with the package mentioned above, not pip.\n",
            "\u001b[1;36mhint\u001b[0m: See above for details.\n",
            "Requirement already satisfied: tensorflow in /usr/local/lib/python3.10/dist-packages (2.17.1)\n",
            "Requirement already satisfied: absl-py>=1.0.0 in /usr/local/lib/python3.10/dist-packages (from tensorflow) (1.4.0)\n",
            "Requirement already satisfied: astunparse>=1.6.0 in /usr/local/lib/python3.10/dist-packages (from tensorflow) (1.6.3)\n",
            "Requirement already satisfied: flatbuffers>=24.3.25 in /usr/local/lib/python3.10/dist-packages (from tensorflow) (24.3.25)\n",
            "Requirement already satisfied: gast!=0.5.0,!=0.5.1,!=0.5.2,>=0.2.1 in /usr/local/lib/python3.10/dist-packages (from tensorflow) (0.6.0)\n",
            "Requirement already satisfied: google-pasta>=0.1.1 in /usr/local/lib/python3.10/dist-packages (from tensorflow) (0.2.0)\n",
            "Requirement already satisfied: h5py>=3.10.0 in /usr/local/lib/python3.10/dist-packages (from tensorflow) (3.12.1)\n",
            "Requirement already satisfied: libclang>=13.0.0 in /usr/local/lib/python3.10/dist-packages (from tensorflow) (18.1.1)\n",
            "Requirement already satisfied: ml-dtypes<0.5.0,>=0.3.1 in /usr/local/lib/python3.10/dist-packages (from tensorflow) (0.4.1)\n",
            "Requirement already satisfied: opt-einsum>=2.3.2 in /usr/local/lib/python3.10/dist-packages (from tensorflow) (3.4.0)\n",
            "Requirement already satisfied: packaging in /usr/local/lib/python3.10/dist-packages (from tensorflow) (24.2)\n",
            "Requirement already satisfied: protobuf!=4.21.0,!=4.21.1,!=4.21.2,!=4.21.3,!=4.21.4,!=4.21.5,<5.0.0dev,>=3.20.3 in /usr/local/lib/python3.10/dist-packages (from tensorflow) (4.25.5)\n",
            "Requirement already satisfied: requests<3,>=2.21.0 in /usr/local/lib/python3.10/dist-packages (from tensorflow) (2.32.3)\n",
            "Requirement already satisfied: setuptools in /usr/local/lib/python3.10/dist-packages (from tensorflow) (75.1.0)\n",
            "Requirement already satisfied: six>=1.12.0 in /usr/local/lib/python3.10/dist-packages (from tensorflow) (1.16.0)\n",
            "Requirement already satisfied: termcolor>=1.1.0 in /usr/local/lib/python3.10/dist-packages (from tensorflow) (2.5.0)\n",
            "Requirement already satisfied: typing-extensions>=3.6.6 in /usr/local/lib/python3.10/dist-packages (from tensorflow) (4.12.2)\n",
            "Requirement already satisfied: wrapt>=1.11.0 in /usr/local/lib/python3.10/dist-packages (from tensorflow) (1.17.0)\n",
            "Requirement already satisfied: grpcio<2.0,>=1.24.3 in /usr/local/lib/python3.10/dist-packages (from tensorflow) (1.68.1)\n",
            "Requirement already satisfied: tensorboard<2.18,>=2.17 in /usr/local/lib/python3.10/dist-packages (from tensorflow) (2.17.1)\n",
            "Requirement already satisfied: keras>=3.2.0 in /usr/local/lib/python3.10/dist-packages (from tensorflow) (3.5.0)\n",
            "Requirement already satisfied: tensorflow-io-gcs-filesystem>=0.23.1 in /usr/local/lib/python3.10/dist-packages (from tensorflow) (0.37.1)\n",
            "Requirement already satisfied: numpy<2.0.0,>=1.23.5 in /usr/local/lib/python3.10/dist-packages (from tensorflow) (1.26.4)\n",
            "Requirement already satisfied: wheel<1.0,>=0.23.0 in /usr/local/lib/python3.10/dist-packages (from astunparse>=1.6.0->tensorflow) (0.45.1)\n",
            "Requirement already satisfied: rich in /usr/local/lib/python3.10/dist-packages (from keras>=3.2.0->tensorflow) (13.9.4)\n",
            "Requirement already satisfied: namex in /usr/local/lib/python3.10/dist-packages (from keras>=3.2.0->tensorflow) (0.0.8)\n",
            "Requirement already satisfied: optree in /usr/local/lib/python3.10/dist-packages (from keras>=3.2.0->tensorflow) (0.13.1)\n",
            "Requirement already satisfied: charset-normalizer<4,>=2 in /usr/local/lib/python3.10/dist-packages (from requests<3,>=2.21.0->tensorflow) (3.4.0)\n",
            "Requirement already satisfied: idna<4,>=2.5 in /usr/local/lib/python3.10/dist-packages (from requests<3,>=2.21.0->tensorflow) (3.10)\n",
            "Requirement already satisfied: urllib3<3,>=1.21.1 in /usr/local/lib/python3.10/dist-packages (from requests<3,>=2.21.0->tensorflow) (2.2.3)\n",
            "Requirement already satisfied: certifi>=2017.4.17 in /usr/local/lib/python3.10/dist-packages (from requests<3,>=2.21.0->tensorflow) (2024.8.30)\n",
            "Requirement already satisfied: markdown>=2.6.8 in /usr/local/lib/python3.10/dist-packages (from tensorboard<2.18,>=2.17->tensorflow) (3.7)\n",
            "Requirement already satisfied: tensorboard-data-server<0.8.0,>=0.7.0 in /usr/local/lib/python3.10/dist-packages (from tensorboard<2.18,>=2.17->tensorflow) (0.7.2)\n",
            "Requirement already satisfied: werkzeug>=1.0.1 in /usr/local/lib/python3.10/dist-packages (from tensorboard<2.18,>=2.17->tensorflow) (3.1.3)\n",
            "Requirement already satisfied: MarkupSafe>=2.1.1 in /usr/local/lib/python3.10/dist-packages (from werkzeug>=1.0.1->tensorboard<2.18,>=2.17->tensorflow) (3.0.2)\n",
            "Requirement already satisfied: markdown-it-py>=2.2.0 in /usr/local/lib/python3.10/dist-packages (from rich->keras>=3.2.0->tensorflow) (3.0.0)\n",
            "Requirement already satisfied: pygments<3.0.0,>=2.13.0 in /usr/local/lib/python3.10/dist-packages (from rich->keras>=3.2.0->tensorflow) (2.18.0)\n",
            "Requirement already satisfied: mdurl~=0.1 in /usr/local/lib/python3.10/dist-packages (from markdown-it-py>=2.2.0->rich->keras>=3.2.0->tensorflow) (0.1.2)\n"
          ]
        }
      ]
    },
    {
      "cell_type": "code",
      "source": [
        "import numpy as np\n",
        "import pandas as pd\n",
        "import matplotlib.pyplot as plt\n",
        "import os\n",
        "import PIL\n",
        "import tensorflow as tf\n",
        "from tensorflow import keras\n",
        "from tensorflow.keras import layers\n",
        "from tensorflow.keras.models import Sequential\n",
        "from sklearn.metrics import classification_report\n",
        "import pathlib\n",
        "from google.colab import files\n",
        "files.upload()"
      ],
      "metadata": {
        "colab": {
          "base_uri": "https://localhost:8080/",
          "height": 93
        },
        "id": "WyIE_81xULcQ",
        "outputId": "64e582c2-28ae-47cb-c214-e24e5ffe47d1"
      },
      "execution_count": null,
      "outputs": [
        {
          "output_type": "display_data",
          "data": {
            "text/plain": [
              "<IPython.core.display.HTML object>"
            ],
            "text/html": [
              "\n",
              "     <input type=\"file\" id=\"files-ec98d858-eda6-46b5-8272-29457bca75e9\" name=\"files[]\" multiple disabled\n",
              "        style=\"border:none\" />\n",
              "     <output id=\"result-ec98d858-eda6-46b5-8272-29457bca75e9\">\n",
              "      Upload widget is only available when the cell has been executed in the\n",
              "      current browser session. Please rerun this cell to enable.\n",
              "      </output>\n",
              "      <script>// Copyright 2017 Google LLC\n",
              "//\n",
              "// Licensed under the Apache License, Version 2.0 (the \"License\");\n",
              "// you may not use this file except in compliance with the License.\n",
              "// You may obtain a copy of the License at\n",
              "//\n",
              "//      http://www.apache.org/licenses/LICENSE-2.0\n",
              "//\n",
              "// Unless required by applicable law or agreed to in writing, software\n",
              "// distributed under the License is distributed on an \"AS IS\" BASIS,\n",
              "// WITHOUT WARRANTIES OR CONDITIONS OF ANY KIND, either express or implied.\n",
              "// See the License for the specific language governing permissions and\n",
              "// limitations under the License.\n",
              "\n",
              "/**\n",
              " * @fileoverview Helpers for google.colab Python module.\n",
              " */\n",
              "(function(scope) {\n",
              "function span(text, styleAttributes = {}) {\n",
              "  const element = document.createElement('span');\n",
              "  element.textContent = text;\n",
              "  for (const key of Object.keys(styleAttributes)) {\n",
              "    element.style[key] = styleAttributes[key];\n",
              "  }\n",
              "  return element;\n",
              "}\n",
              "\n",
              "// Max number of bytes which will be uploaded at a time.\n",
              "const MAX_PAYLOAD_SIZE = 100 * 1024;\n",
              "\n",
              "function _uploadFiles(inputId, outputId) {\n",
              "  const steps = uploadFilesStep(inputId, outputId);\n",
              "  const outputElement = document.getElementById(outputId);\n",
              "  // Cache steps on the outputElement to make it available for the next call\n",
              "  // to uploadFilesContinue from Python.\n",
              "  outputElement.steps = steps;\n",
              "\n",
              "  return _uploadFilesContinue(outputId);\n",
              "}\n",
              "\n",
              "// This is roughly an async generator (not supported in the browser yet),\n",
              "// where there are multiple asynchronous steps and the Python side is going\n",
              "// to poll for completion of each step.\n",
              "// This uses a Promise to block the python side on completion of each step,\n",
              "// then passes the result of the previous step as the input to the next step.\n",
              "function _uploadFilesContinue(outputId) {\n",
              "  const outputElement = document.getElementById(outputId);\n",
              "  const steps = outputElement.steps;\n",
              "\n",
              "  const next = steps.next(outputElement.lastPromiseValue);\n",
              "  return Promise.resolve(next.value.promise).then((value) => {\n",
              "    // Cache the last promise value to make it available to the next\n",
              "    // step of the generator.\n",
              "    outputElement.lastPromiseValue = value;\n",
              "    return next.value.response;\n",
              "  });\n",
              "}\n",
              "\n",
              "/**\n",
              " * Generator function which is called between each async step of the upload\n",
              " * process.\n",
              " * @param {string} inputId Element ID of the input file picker element.\n",
              " * @param {string} outputId Element ID of the output display.\n",
              " * @return {!Iterable<!Object>} Iterable of next steps.\n",
              " */\n",
              "function* uploadFilesStep(inputId, outputId) {\n",
              "  const inputElement = document.getElementById(inputId);\n",
              "  inputElement.disabled = false;\n",
              "\n",
              "  const outputElement = document.getElementById(outputId);\n",
              "  outputElement.innerHTML = '';\n",
              "\n",
              "  const pickedPromise = new Promise((resolve) => {\n",
              "    inputElement.addEventListener('change', (e) => {\n",
              "      resolve(e.target.files);\n",
              "    });\n",
              "  });\n",
              "\n",
              "  const cancel = document.createElement('button');\n",
              "  inputElement.parentElement.appendChild(cancel);\n",
              "  cancel.textContent = 'Cancel upload';\n",
              "  const cancelPromise = new Promise((resolve) => {\n",
              "    cancel.onclick = () => {\n",
              "      resolve(null);\n",
              "    };\n",
              "  });\n",
              "\n",
              "  // Wait for the user to pick the files.\n",
              "  const files = yield {\n",
              "    promise: Promise.race([pickedPromise, cancelPromise]),\n",
              "    response: {\n",
              "      action: 'starting',\n",
              "    }\n",
              "  };\n",
              "\n",
              "  cancel.remove();\n",
              "\n",
              "  // Disable the input element since further picks are not allowed.\n",
              "  inputElement.disabled = true;\n",
              "\n",
              "  if (!files) {\n",
              "    return {\n",
              "      response: {\n",
              "        action: 'complete',\n",
              "      }\n",
              "    };\n",
              "  }\n",
              "\n",
              "  for (const file of files) {\n",
              "    const li = document.createElement('li');\n",
              "    li.append(span(file.name, {fontWeight: 'bold'}));\n",
              "    li.append(span(\n",
              "        `(${file.type || 'n/a'}) - ${file.size} bytes, ` +\n",
              "        `last modified: ${\n",
              "            file.lastModifiedDate ? file.lastModifiedDate.toLocaleDateString() :\n",
              "                                    'n/a'} - `));\n",
              "    const percent = span('0% done');\n",
              "    li.appendChild(percent);\n",
              "\n",
              "    outputElement.appendChild(li);\n",
              "\n",
              "    const fileDataPromise = new Promise((resolve) => {\n",
              "      const reader = new FileReader();\n",
              "      reader.onload = (e) => {\n",
              "        resolve(e.target.result);\n",
              "      };\n",
              "      reader.readAsArrayBuffer(file);\n",
              "    });\n",
              "    // Wait for the data to be ready.\n",
              "    let fileData = yield {\n",
              "      promise: fileDataPromise,\n",
              "      response: {\n",
              "        action: 'continue',\n",
              "      }\n",
              "    };\n",
              "\n",
              "    // Use a chunked sending to avoid message size limits. See b/62115660.\n",
              "    let position = 0;\n",
              "    do {\n",
              "      const length = Math.min(fileData.byteLength - position, MAX_PAYLOAD_SIZE);\n",
              "      const chunk = new Uint8Array(fileData, position, length);\n",
              "      position += length;\n",
              "\n",
              "      const base64 = btoa(String.fromCharCode.apply(null, chunk));\n",
              "      yield {\n",
              "        response: {\n",
              "          action: 'append',\n",
              "          file: file.name,\n",
              "          data: base64,\n",
              "        },\n",
              "      };\n",
              "\n",
              "      let percentDone = fileData.byteLength === 0 ?\n",
              "          100 :\n",
              "          Math.round((position / fileData.byteLength) * 100);\n",
              "      percent.textContent = `${percentDone}% done`;\n",
              "\n",
              "    } while (position < fileData.byteLength);\n",
              "  }\n",
              "\n",
              "  // All done.\n",
              "  yield {\n",
              "    response: {\n",
              "      action: 'complete',\n",
              "    }\n",
              "  };\n",
              "}\n",
              "\n",
              "scope.google = scope.google || {};\n",
              "scope.google.colab = scope.google.colab || {};\n",
              "scope.google.colab._files = {\n",
              "  _uploadFiles,\n",
              "  _uploadFilesContinue,\n",
              "};\n",
              "})(self);\n",
              "</script> "
            ]
          },
          "metadata": {}
        },
        {
          "output_type": "stream",
          "name": "stdout",
          "text": [
            "Saving kaggle.json to kaggle.json\n"
          ]
        },
        {
          "output_type": "execute_result",
          "data": {
            "text/plain": [
              "{'kaggle.json': b'{\"username\":\"justin4390542\",\"key\":\"81b6dfab313a22e36e69b970dd5e8307\"}'}"
            ]
          },
          "metadata": {},
          "execution_count": 3
        }
      ]
    },
    {
      "cell_type": "code",
      "execution_count": null,
      "metadata": {
        "_cell_guid": "b1076dfc-b9ad-4769-8c92-a6c4dae69d19",
        "_uuid": "8f2839f25d086af736a60e9eeb907d3b93b6e0e5",
        "execution": {
          "iopub.execute_input": "2023-04-08T04:21:53.708968Z",
          "iopub.status.busy": "2023-04-08T04:21:53.708638Z",
          "iopub.status.idle": "2023-04-08T04:22:02.410335Z",
          "shell.execute_reply": "2023-04-08T04:22:02.409251Z",
          "shell.execute_reply.started": "2023-04-08T04:21:53.708939Z"
        },
        "id": "30tE3qakLUsp",
        "trusted": true
      },
      "outputs": [],
      "source": [
        "import tensorflow as tf\n",
        "from tensorflow import keras\n",
        "import json\n",
        "import sys\n",
        "import keras_cv\n",
        "import albumentations as A\n",
        "from albumentations.core.composition import OneOf\n",
        "from albumentations.augmentations.transforms import *\n",
        "import cv2\n",
        "\n",
        "#os.environ['TF_CPP_MIN_LOG_LEVEL'] = '2'\n",
        "\n"
      ]
    },
    {
      "cell_type": "code",
      "execution_count": null,
      "metadata": {
        "id": "y6A_cVAlLXtR",
        "colab": {
          "base_uri": "https://localhost:8080/"
        },
        "outputId": "e71151fd-8052-4e63-e852-96f1688c9109"
      },
      "outputs": [
        {
          "output_type": "stream",
          "name": "stdout",
          "text": [
            "Downloading...\n",
            "From (original): https://drive.google.com/uc?id=10LEPW3Di4dhqy_NASZ33G0eagi4w3CS4\n",
            "From (redirected): https://drive.google.com/uc?id=10LEPW3Di4dhqy_NASZ33G0eagi4w3CS4&confirm=t&uuid=0b810cb5-6211-4e74-939b-634fcfe5c319\n",
            "To: /content/Final.zip\n",
            "100% 12.1M/12.1M [00:00<00:00, 62.0MB/s]\n"
          ]
        }
      ],
      "source": [
        "!gdown --fuzzy https://drive.google.com/file/d/10LEPW3Di4dhqy_NASZ33G0eagi4w3CS4/view?usp=sharing # Replace the link with your file"
      ]
    },
    {
      "cell_type": "code",
      "execution_count": null,
      "metadata": {
        "id": "AxDVHXdDLkCx",
        "colab": {
          "base_uri": "https://localhost:8080/"
        },
        "outputId": "33a8931c-9995-43a7-f767-ab82a0da61cb",
        "collapsed": true
      },
      "outputs": [
        {
          "output_type": "stream",
          "name": "stdout",
          "text": [
            "Archive:  Final.zip\n",
            "replace training_data/val/vii/vii_8.png? [y]es, [n]o, [A]ll, [N]one, [r]ename: "
          ]
        }
      ],
      "source": [
        "!unzip Final.zip"
      ]
    },
    {
      "cell_type": "code",
      "source": [
        "!kaggle datasets download 'shubhamcodez/roman-number110-dataset'"
      ],
      "metadata": {
        "id": "T3aW9BroUSE3",
        "collapsed": true
      },
      "execution_count": null,
      "outputs": []
    },
    {
      "cell_type": "code",
      "source": [
        "!mkdir '/content'\n",
        "!unzip roman-number110-dataset.zip -d '/content'"
      ],
      "metadata": {
        "id": "OMt3SqDNUn9t",
        "collapsed": true
      },
      "execution_count": null,
      "outputs": []
    },
    {
      "cell_type": "markdown",
      "metadata": {
        "id": "Omwbw2MXLUsr"
      },
      "source": [
        "# Rules\n",
        "\n",
        "- Submission must have less than 12,000 images combined in training and validation\n",
        "\n",
        "**Submissions will be evaluated according to two categories:**\n",
        "1. **Best Performance Overall**\n",
        "2. **Most Innovative**"
      ]
    },
    {
      "cell_type": "code",
      "source": [
        "from pathlib import Path\n",
        "import shutil"
      ],
      "metadata": {
        "id": "2EiV1qkx8DPU"
      },
      "execution_count": null,
      "outputs": []
    },
    {
      "cell_type": "code",
      "source": [
        "source_folder =\"/content/Roman Numerals Dataset/train\"\n",
        "destination_folder =\"/content/training_data/train\"\n",
        "subfolders = [\"i\", \"ii\", \"iii\", \"iv\", \"v\", \"vi\", \"vii\", \"viii\", \"ix\", \"x\"]\n",
        "\n",
        "# 遍歷每個子資料夾\n",
        "for subfolder in subfolders:\n",
        "    source_subfolder = os.path.join(source_folder, subfolder)\n",
        "    destination_subfolder = os.path.join(destination_folder, subfolder)\n",
        "\n",
        "    # 確保目標子資料夾存在\n",
        "    os.makedirs(destination_subfolder, exist_ok=True)\n",
        "\n",
        "    # 遍歷來源子資料夾中的所有檔案\n",
        "    for file_name in os.listdir(source_subfolder):\n",
        "        source_path = os.path.join(source_subfolder, file_name)\n",
        "        destination_path = os.path.join(destination_subfolder, file_name)\n",
        "\n",
        "        # 移動圖片檔案\n",
        "        if file_name.endswith((\".jpg\", \".png\", \".jpeg\")):  # 可根據需求新增檔案類型\n",
        "            shutil.move(source_path, destination_path)\n",
        "\n",
        "print(\"所有圖片已移動完成!\")"
      ],
      "metadata": {
        "id": "9usC_M9rmM4m"
      },
      "execution_count": null,
      "outputs": []
    },
    {
      "cell_type": "code",
      "source": [
        "!pip install git+https://github.com/cleanlab/cleanvision.git -qq"
      ],
      "metadata": {
        "id": "AzXNRnQRVJaL"
      },
      "execution_count": null,
      "outputs": []
    },
    {
      "cell_type": "code",
      "source": [
        "!pip install cleanlab -qq"
      ],
      "metadata": {
        "id": "iC4g_Hk28Ht4"
      },
      "execution_count": null,
      "outputs": []
    },
    {
      "cell_type": "code",
      "source": [
        "from cleanvision.imagelab import Imagelab\n",
        "from tensorflow.keras.preprocessing.image import ImageDataGenerator\n",
        "from tensorflow.keras.utils import image_dataset_from_directory"
      ],
      "metadata": {
        "id": "qeOTKlnSWLqU"
      },
      "execution_count": null,
      "outputs": []
    },
    {
      "cell_type": "code",
      "source": [
        "from cleanlab.filter import find_label_issues"
      ],
      "metadata": {
        "id": "ow9okSXB6xVM"
      },
      "execution_count": null,
      "outputs": []
    },
    {
      "cell_type": "code",
      "source": [
        "directory = \"/content/\"\n",
        "user_data = directory + \"training_data\"\n",
        "test_data = directory + \"label_book/\" # this can be the label book, or any other test set you create"
      ],
      "metadata": {
        "id": "HXW90WJuEGeq"
      },
      "execution_count": null,
      "outputs": []
    },
    {
      "cell_type": "code",
      "source": [
        "imagelab=Imagelab(data_path=user_data + '/train')"
      ],
      "metadata": {
        "id": "JJJCYIMuWU71"
      },
      "execution_count": null,
      "outputs": []
    },
    {
      "cell_type": "code",
      "source": [
        "imagelab.visualize(num_images=16)"
      ],
      "metadata": {
        "id": "FH20zOP-WUTD"
      },
      "execution_count": null,
      "outputs": []
    },
    {
      "cell_type": "code",
      "source": [
        "imagelab.find_issues()"
      ],
      "metadata": {
        "id": "uC8_8houWYwO"
      },
      "execution_count": null,
      "outputs": []
    },
    {
      "cell_type": "code",
      "source": [
        "imagelab.report()"
      ],
      "metadata": {
        "id": "8TzJ-lmaWc6u"
      },
      "execution_count": null,
      "outputs": []
    },
    {
      "cell_type": "code",
      "source": [
        "imagelab.issue_summary"
      ],
      "metadata": {
        "id": "K8ETwJKAWgiK"
      },
      "execution_count": null,
      "outputs": []
    },
    {
      "cell_type": "code",
      "source": [
        "exact_dups=imagelab.info['exact_duplicates']['sets']\n",
        "near_dups=imagelab.info['near_duplicates']['sets']"
      ],
      "metadata": {
        "id": "KnmYmGf-Wkxd"
      },
      "execution_count": null,
      "outputs": []
    },
    {
      "cell_type": "code",
      "source": [
        "padded_data = []\n",
        "for element in exact_dups:\n",
        "  padded_element = np.pad(element, (0, len(max(exact_dups, key=len)) - len(element)), 'constant')\n",
        "  padded_data.append(padded_element)\n",
        "excat_dups=np.array(padded_data)\n",
        "padded_data2 = []\n",
        "for element in near_dups:\n",
        "  padded_element = np.pad(element, (0, len(max(near_dups, key=len)) - len(element)), 'constant')\n",
        "  padded_data2.append(padded_element)\n",
        "near_dups=np.array(padded_data2)"
      ],
      "metadata": {
        "id": "No030RfhYXPW"
      },
      "execution_count": null,
      "outputs": []
    },
    {
      "cell_type": "code",
      "source": [
        "range(1,len(excat_dups[0]))"
      ],
      "metadata": {
        "id": "Rlkebbw9acQI"
      },
      "execution_count": null,
      "outputs": []
    },
    {
      "cell_type": "code",
      "source": [
        "for i in range(len(padded_data)):\n",
        "  for j in range(1,len(padded_data[i])):\n",
        "    if os.path.exists(padded_data[i][j]):\n",
        "      os.remove(padded_data[i][j])\n",
        "for i in range(len(padded_data2)):\n",
        "  for j in range(1,len(padded_data2[i])):\n",
        "    if os.path.exists(padded_data2[i][j]):\n",
        "      os.remove(padded_data2[i][j])"
      ],
      "metadata": {
        "id": "15u_GZBZaF_3"
      },
      "execution_count": null,
      "outputs": []
    },
    {
      "cell_type": "code",
      "source": [
        "ttt=(imagelab.info[\"odd_aspect_ratio\"][\"aspect_ratio\"]<=0.5)"
      ],
      "metadata": {
        "id": "NTRh6HjmV9Br"
      },
      "execution_count": null,
      "outputs": []
    },
    {
      "cell_type": "code",
      "source": [
        "for i in range(len(ttt)):\n",
        "  if ttt[i]==True:\n",
        "    if os.path.exists(imagelab.info[\"odd_aspect_ratio\"][\"aspect_ratio\"].index[i]):\n",
        "      os.remove(imagelab.info[\"odd_aspect_ratio\"][\"aspect_ratio\"].index[i])"
      ],
      "metadata": {
        "id": "hEL9RBdcYFaG"
      },
      "execution_count": null,
      "outputs": []
    },
    {
      "cell_type": "code",
      "source": [
        "for o in range(len(imagelab.issues[\"is_odd_size_issue\"])):\n",
        "  if imagelab.issues[\"is_odd_size_issue\"][o]==True:\n",
        "    if os.path.exists(imagelab.issues[\"is_odd_size_issue\"].index[o]):\n",
        "      os.remove(imagelab.issues[\"is_odd_size_issue\"].index[o])"
      ],
      "metadata": {
        "id": "AaxG5wwi95TU"
      },
      "execution_count": null,
      "outputs": []
    },
    {
      "cell_type": "code",
      "source": [
        "imagelab_improved=Imagelab(data_path=user_data + '/train')"
      ],
      "metadata": {
        "id": "uDG9ShgH_GrC"
      },
      "execution_count": null,
      "outputs": []
    },
    {
      "cell_type": "code",
      "source": [
        "imagelab_improved.find_issues()"
      ],
      "metadata": {
        "id": "0ka91iKH_PUf"
      },
      "execution_count": null,
      "outputs": []
    },
    {
      "cell_type": "code",
      "source": [
        "imagelab_improved.report()"
      ],
      "metadata": {
        "id": "OecIkS-A_U2J"
      },
      "execution_count": null,
      "outputs": []
    },
    {
      "cell_type": "code",
      "source": [
        "imagelab_improved.issue_summary"
      ],
      "metadata": {
        "id": "rNRGJ-uSHpXU"
      },
      "execution_count": null,
      "outputs": []
    },
    {
      "cell_type": "markdown",
      "source": [
        "#print出來找錯誤"
      ],
      "metadata": {
        "id": "hpqbT70t_HJ1"
      }
    },
    {
      "cell_type": "code",
      "source": [
        "import os\n",
        "from PIL import Image\n",
        "import matplotlib.pyplot as plt\n",
        "\n",
        "# 指定目錄路徑\n",
        "directory1 = \"training_data/train/i\"\n",
        "\n",
        "# 篩選檔案名稱中包含 \"_\" 的檔案\n",
        "files_with_underscore = [file for file in os.listdir(directory) if \"_\" in file]\n",
        "\n",
        "# 計算行數 (每行 10 張)\n",
        "num_images = len(files_with_underscore)\n",
        "num_rows = (num_images + 9) // 10  # 無條件進位\n",
        "\n",
        "print(f\"找到 {num_images} 張圖片名稱包含 '_':\")\n",
        "\n",
        "# 顯示圖片\n",
        "fig, axes = plt.subplots(num_rows, 10, figsize=(15, 2 * num_rows))\n",
        "axes = axes.flatten()\n",
        "\n",
        "for ax, file in zip(axes, files_with_underscore):\n",
        "    try:\n",
        "        # 構建完整路徑\n",
        "        file_path = os.path.join(directory, file)\n",
        "\n",
        "        # 開啟圖片\n",
        "        img = Image.open(file_path)\n",
        "\n",
        "        # 顯示圖片\n",
        "        ax.imshow(img)\n",
        "        ax.axis(\"off\")\n",
        "        ax.set_title(file, fontsize=8)\n",
        "    except Exception as e:\n",
        "        print(f\"無法顯示圖片 {file}: {e}\")\n",
        "\n",
        "# 隱藏多餘的軸\n",
        "for ax in axes[num_images:]:\n",
        "    ax.axis(\"off\")\n",
        "\n",
        "plt.tight_layout()\n",
        "plt.show()"
      ],
      "metadata": {
        "id": "uiCEeLxVAzLL"
      },
      "execution_count": null,
      "outputs": []
    },
    {
      "cell_type": "code",
      "source": [
        "import os\n",
        "from PIL import Image\n",
        "import matplotlib.pyplot as plt\n",
        "\n",
        "# 指定目錄路徑\n",
        "directory1 = \"training_data/train/i\"\n",
        "\n",
        "# 篩選檔案名稱中包含 \"_\" 的檔案\n",
        "files_with_underscore = [file for file in os.listdir(directory) if \"_\" in file]\n",
        "\n",
        "# 計算行數 (每行 10 張)\n",
        "num_images = len(files_with_underscore)\n",
        "num_rows = (num_images + 9) // 10  # 無條件進位\n",
        "\n",
        "print(f\"找到 {num_images} 張圖片名稱包含 '_':\")\n",
        "\n",
        "# 顯示圖片\n",
        "fig, axes = plt.subplots(num_rows, 10, figsize=(15, 2 * num_rows))\n",
        "axes = axes.flatten()\n",
        "\n",
        "for ax, file in zip(axes, files_with_underscore):\n",
        "    try:\n",
        "        # 構建完整路徑\n",
        "        file_path = os.path.join(directory, file)\n",
        "\n",
        "        # 開啟圖片\n",
        "        img = Image.open(file_path)\n",
        "\n",
        "        # 顯示圖片\n",
        "        ax.imshow(img)\n",
        "        ax.axis(\"off\")\n",
        "        ax.set_title(file, fontsize=8)\n",
        "    except Exception as e:\n",
        "        print(f\"無法顯示圖片 {file}: {e}\")\n",
        "\n",
        "# 隱藏多餘的軸\n",
        "for ax in axes[num_images:]:\n",
        "    ax.axis(\"off\")\n",
        "\n",
        "plt.tight_layout()\n",
        "plt.show()\n"
      ],
      "metadata": {
        "colab": {
          "base_uri": "https://localhost:8080/",
          "height": 318
        },
        "id": "xNqPvrqgsoRM",
        "outputId": "1588ee9b-6f27-46b5-aad8-259648539f2f"
      },
      "execution_count": null,
      "outputs": [
        {
          "output_type": "stream",
          "name": "stdout",
          "text": [
            "找到 5 張圖片名稱包含 '_':\n",
            "無法顯示圖片 testing_data: [Errno 21] Is a directory: '/content/testing_data'\n",
            "無法顯示圖片 training_data: [Errno 21] Is a directory: '/content/training_data'\n",
            "無法顯示圖片 label_book: [Errno 21] Is a directory: '/content/label_book'\n",
            "無法顯示圖片 sample_submission.csv: cannot identify image file '/content/sample_submission.csv'\n",
            "無法顯示圖片 sample_data: [Errno 21] Is a directory: '/content/sample_data'\n"
          ]
        },
        {
          "output_type": "display_data",
          "data": {
            "text/plain": [
              "<Figure size 1500x200 with 10 Axes>"
            ],
            "image/png": "[encoded data removed]"
          },
          "metadata": {}
        }
      ]
    },
    {
      "cell_type": "code",
      "source": [
        "# 指定目錄路徑\n",
        "directory_1 = \"training_data/train/i\"\n",
        "\n",
        "# 篩選檔案名稱中包含 \"_\" 的檔案\n",
        "files_with_underscore = [file for file in os.listdir(directory) if \"_\" in file]\n",
        "\n",
        "# 計算行數 (每行 10 張)\n",
        "num_images = len(files_with_underscore)\n",
        "num_rows = (num_images + 9) // 10\n",
        "\n",
        "print(f\"找到 {num_images} 張圖片名稱包含 '_':\")\n",
        "\n",
        "# 顯示圖片\n",
        "fig, axes = plt.subplots(num_rows, 10, figsize=(15, 2 * num_rows))\n",
        "axes = axes.flatten()\n",
        "\n",
        "for ax, file in zip(axes, files_with_underscore):\n",
        "    try:\n",
        "\n",
        "        file_path = os.path.join(directory, file)# 構建完整路徑\n",
        "\n",
        "\n",
        "        img = Image.open(file_path).convert(\"RGB\") # 開啟圖片\n",
        "\n",
        "\n",
        "        ax.imshow(img) # 顯示圖片\n",
        "        ax.axis(\"off\")\n",
        "        ax.set_title(file, fontsize=8)\n",
        "    except Exception as e:\n",
        "        print(f\"無法顯示圖片 {file}: {e}\")\n",
        "\n",
        "# 隱藏多餘的軸\n",
        "for ax in axes[num_images:]:\n",
        "    ax.axis(\"off\")\n",
        "\n",
        "plt.tight_layout()\n",
        "plt.show()\n"
      ],
      "metadata": {
        "colab": {
          "base_uri": "https://localhost:8080/",
          "height": 318
        },
        "id": "IhebXcjCUI2R",
        "outputId": "a72c77c5-55d9-4411-fb96-57cad1fff380"
      },
      "execution_count": null,
      "outputs": [
        {
          "output_type": "stream",
          "name": "stdout",
          "text": [
            "找到 5 張圖片名稱包含 '_':\n",
            "無法顯示圖片 testing_data: [Errno 21] Is a directory: '/content/testing_data'\n",
            "無法顯示圖片 training_data: [Errno 21] Is a directory: '/content/training_data'\n",
            "無法顯示圖片 label_book: [Errno 21] Is a directory: '/content/label_book'\n",
            "無法顯示圖片 sample_submission.csv: cannot identify image file '/content/sample_submission.csv'\n",
            "無法顯示圖片 sample_data: [Errno 21] Is a directory: '/content/sample_data'\n"
          ]
        },
        {
          "output_type": "display_data",
          "data": {
            "text/plain": [
              "<Figure size 1500x200 with 10 Axes>"
            ],
            "image/png": "[encoded data removed]"
          },
          "metadata": {}
        }
      ]
    },
    {
      "cell_type": "code",
      "source": [
        "directory_2 = \"training_data/train/ii\"\n",
        "\n",
        "files_with_underscore = [file for file in os.listdir(directory_2) if \"_\" in file]\n",
        "\n",
        "num_images = len(files_with_underscore)\n",
        "num_rows = (num_images + 9) // 10\n",
        "\n",
        "print(f\"找到 {num_images} 張圖片名稱包含 '_':\")\n",
        "\n",
        "fig, axes = plt.subplots(num_rows, 10, figsize=(15, 2 * num_rows))\n",
        "axes = axes.flatten()\n",
        "\n",
        "for ax, file in zip(axes, files_with_underscore):\n",
        "    try:\n",
        "\n",
        "        file_path = os.path.join(directory_2, file)\n",
        "\n",
        "\n",
        "        img = Image.open(file_path).convert(\"RGB\")\n",
        "\n",
        "\n",
        "        ax.imshow(img)\n",
        "        ax.axis(\"off\")\n",
        "        ax.set_title(file, fontsize=8)\n",
        "    except Exception as e:\n",
        "        print(f\"無法顯示圖片 {file}: {e}\")\n",
        "\n",
        "\n",
        "for ax in axes[num_images:]:\n",
        "    ax.axis(\"off\")\n",
        "\n",
        "plt.tight_layout()\n",
        "plt.show()"
      ],
      "metadata": {
        "id": "hR5FQhbKWQ6F"
      },
      "execution_count": null,
      "outputs": []
    },
    {
      "cell_type": "code",
      "source": [
        "directory_3 = \"training_data/train/iii\"\n",
        "\n",
        "files_with_underscore = [file for file in os.listdir(directory_3) if \"_\" in file]\n",
        "\n",
        "num_images = len(files_with_underscore)\n",
        "num_rows = (num_images + 9) // 10\n",
        "\n",
        "print(f\"找到 {num_images} 張圖片名稱包含 '_':\")\n",
        "\n",
        "fig, axes = plt.subplots(num_rows, 10, figsize=(15, 2 * num_rows))\n",
        "axes = axes.flatten()\n",
        "\n",
        "for ax, file in zip(axes, files_with_underscore):\n",
        "    try:\n",
        "\n",
        "        file_path = os.path.join(directory_3, file)\n",
        "\n",
        "\n",
        "        img = Image.open(file_path).convert(\"RGB\")\n",
        "\n",
        "\n",
        "        ax.imshow(img)\n",
        "        ax.axis(\"off\")\n",
        "        ax.set_title(file, fontsize=8)\n",
        "    except Exception as e:\n",
        "        print(f\"無法顯示圖片 {file}: {e}\")\n",
        "\n",
        "\n",
        "for ax in axes[num_images:]:\n",
        "    ax.axis(\"off\")\n",
        "\n",
        "plt.tight_layout()\n",
        "plt.show()"
      ],
      "metadata": {
        "id": "aEJzxNlRXB_Z"
      },
      "execution_count": null,
      "outputs": []
    },
    {
      "cell_type": "code",
      "source": [
        "directory_4 = \"training_data/train/iv\"\n",
        "\n",
        "files_with_underscore = [file for file in os.listdir(directory_4) if \"_\" in file]\n",
        "\n",
        "num_images = len(files_with_underscore)\n",
        "num_rows = (num_images + 9) // 10\n",
        "\n",
        "print(f\"找到 {num_images} 張圖片名稱包含 '_':\")\n",
        "\n",
        "fig, axes = plt.subplots(num_rows, 10, figsize=(15, 2 * num_rows))\n",
        "axes = axes.flatten()\n",
        "\n",
        "for ax, file in zip(axes, files_with_underscore):\n",
        "    try:\n",
        "\n",
        "        file_path = os.path.join(directory_4, file)\n",
        "\n",
        "\n",
        "        img = Image.open(file_path).convert(\"RGB\")\n",
        "\n",
        "\n",
        "        ax.imshow(img)\n",
        "        ax.axis(\"off\")\n",
        "        ax.set_title(file, fontsize=8)\n",
        "    except Exception as e:\n",
        "        print(f\"無法顯示圖片 {file}: {e}\")\n",
        "\n",
        "\n",
        "for ax in axes[num_images:]:\n",
        "    ax.axis(\"off\")\n",
        "\n",
        "plt.tight_layout()\n",
        "plt.show()"
      ],
      "metadata": {
        "id": "2HZ-Ntq3XEsC"
      },
      "execution_count": null,
      "outputs": []
    },
    {
      "cell_type": "code",
      "source": [
        "directory_5 = \"training_data/train/v\"\n",
        "\n",
        "files_with_underscore = [file for file in os.listdir(directory_5) if \"_\" in file]\n",
        "\n",
        "num_images = len(files_with_underscore)\n",
        "num_rows = (num_images + 9) // 10\n",
        "\n",
        "print(f\"找到 {num_images} 張圖片名稱包含 '_':\")\n",
        "\n",
        "fig, axes = plt.subplots(num_rows, 10, figsize=(15, 2 * num_rows))\n",
        "axes = axes.flatten()\n",
        "\n",
        "for ax, file in zip(axes, files_with_underscore):\n",
        "    try:\n",
        "\n",
        "        file_path = os.path.join(directory_5, file)\n",
        "\n",
        "\n",
        "        img = Image.open(file_path).convert(\"RGB\")\n",
        "\n",
        "\n",
        "        ax.imshow(img)\n",
        "        ax.axis(\"off\")\n",
        "        ax.set_title(file, fontsize=8)\n",
        "    except Exception as e:\n",
        "        print(f\"無法顯示圖片 {file}: {e}\")\n",
        "\n",
        "\n",
        "for ax in axes[num_images:]:\n",
        "    ax.axis(\"off\")\n",
        "\n",
        "plt.tight_layout()\n",
        "plt.show()"
      ],
      "metadata": {
        "id": "AC-9cK79XJZM"
      },
      "execution_count": null,
      "outputs": []
    },
    {
      "cell_type": "code",
      "source": [
        "directory_6 = \"training_data/train/vi\"\n",
        "\n",
        "files_with_underscore = [file for file in os.listdir(directory_6) if \"_\" in file]\n",
        "\n",
        "num_images = len(files_with_underscore)\n",
        "num_rows = (num_images + 9) // 10\n",
        "\n",
        "print(f\"找到 {num_images} 張圖片名稱包含 '_':\")\n",
        "\n",
        "fig, axes = plt.subplots(num_rows, 10, figsize=(15, 2 * num_rows))\n",
        "axes = axes.flatten()\n",
        "\n",
        "for ax, file in zip(axes, files_with_underscore):\n",
        "    try:\n",
        "\n",
        "        file_path = os.path.join(directory_6, file)\n",
        "\n",
        "\n",
        "        img = Image.open(file_path).convert(\"RGB\")\n",
        "\n",
        "\n",
        "        ax.imshow(img)\n",
        "        ax.axis(\"off\")\n",
        "        ax.set_title(file, fontsize=8)\n",
        "    except Exception as e:\n",
        "        print(f\"無法顯示圖片 {file}: {e}\")\n",
        "\n",
        "\n",
        "for ax in axes[num_images:]:\n",
        "    ax.axis(\"off\")\n",
        "\n",
        "plt.tight_layout()\n",
        "plt.show()"
      ],
      "metadata": {
        "id": "SIKjOcOntfHm"
      },
      "execution_count": null,
      "outputs": []
    },
    {
      "cell_type": "code",
      "source": [
        "directory_7 = \"training_data/train/vii\"\n",
        "\n",
        "files_with_underscore = [file for file in os.listdir(directory_7) if \"_\" in file]\n",
        "\n",
        "num_images = len(files_with_underscore)\n",
        "num_rows = (num_images + 9) // 10\n",
        "\n",
        "print(f\"找到 {num_images} 張圖片名稱包含 '_':\")\n",
        "\n",
        "fig, axes = plt.subplots(num_rows, 10, figsize=(15, 2 * num_rows))\n",
        "axes = axes.flatten()\n",
        "\n",
        "for ax, file in zip(axes, files_with_underscore):\n",
        "    try:\n",
        "\n",
        "        file_path = os.path.join(directory_7, file)\n",
        "\n",
        "\n",
        "        img = Image.open(file_path).convert(\"RGB\")\n",
        "\n",
        "\n",
        "        ax.imshow(img)\n",
        "        ax.axis(\"off\")\n",
        "        ax.set_title(file, fontsize=8)\n",
        "    except Exception as e:\n",
        "        print(f\"無法顯示圖片 {file}: {e}\")\n",
        "\n",
        "\n",
        "for ax in axes[num_images:]:\n",
        "    ax.axis(\"off\")\n",
        "\n",
        "plt.tight_layout()\n",
        "plt.show()"
      ],
      "metadata": {
        "id": "54JEgft_ti1d"
      },
      "execution_count": null,
      "outputs": []
    },
    {
      "cell_type": "code",
      "source": [
        "directory_8 = \"training_data/train/viii\"\n",
        "\n",
        "files_with_underscore = [file for file in os.listdir(directory_8) if \"_\" in file]\n",
        "\n",
        "num_images = len(files_with_underscore)\n",
        "num_rows = (num_images + 9) // 10\n",
        "\n",
        "print(f\"找到 {num_images} 張圖片名稱包含 '_':\")\n",
        "\n",
        "fig, axes = plt.subplots(num_rows, 10, figsize=(15, 2 * num_rows))\n",
        "axes = axes.flatten()\n",
        "\n",
        "for ax, file in zip(axes, files_with_underscore):\n",
        "    try:\n",
        "\n",
        "        file_path = os.path.join(directory_8, file)\n",
        "\n",
        "\n",
        "        img = Image.open(file_path).convert(\"RGB\")\n",
        "\n",
        "\n",
        "        ax.imshow(img)\n",
        "        ax.axis(\"off\")\n",
        "        ax.set_title(file, fontsize=8)\n",
        "    except Exception as e:\n",
        "        print(f\"無法顯示圖片 {file}: {e}\")\n",
        "\n",
        "\n",
        "for ax in axes[num_images:]:\n",
        "    ax.axis(\"off\")\n",
        "\n",
        "plt.tight_layout()\n",
        "plt.show()"
      ],
      "metadata": {
        "id": "pfGTqDa0tuz2"
      },
      "execution_count": null,
      "outputs": []
    },
    {
      "cell_type": "code",
      "source": [
        "directory_9 = \"training_data/train/ix\"\n",
        "\n",
        "files_with_underscore = [file for file in os.listdir(directory_9) if \"_\" in file]\n",
        "\n",
        "num_images = len(files_with_underscore)\n",
        "num_rows = (num_images + 9) // 10\n",
        "\n",
        "print(f\"找到 {num_images} 張圖片名稱包含 '_':\")\n",
        "\n",
        "fig, axes = plt.subplots(num_rows, 10, figsize=(15, 2 * num_rows))\n",
        "axes = axes.flatten()\n",
        "\n",
        "for ax, file in zip(axes, files_with_underscore):\n",
        "    try:\n",
        "\n",
        "        file_path = os.path.join(directory_9, file)\n",
        "\n",
        "\n",
        "        img = Image.open(file_path).convert(\"RGB\")\n",
        "\n",
        "\n",
        "        ax.imshow(img)\n",
        "        ax.axis(\"off\")\n",
        "        ax.set_title(file, fontsize=8)\n",
        "    except Exception as e:\n",
        "        print(f\"無法顯示圖片 {file}: {e}\")\n",
        "\n",
        "\n",
        "for ax in axes[num_images:]:\n",
        "    ax.axis(\"off\")\n",
        "\n",
        "plt.tight_layout()\n",
        "plt.show()"
      ],
      "metadata": {
        "id": "v5_AqWf2t0h7"
      },
      "execution_count": null,
      "outputs": []
    },
    {
      "cell_type": "code",
      "source": [
        "directory_10 = \"training_data/train/x\"\n",
        "\n",
        "files_with_underscore = [file for file in os.listdir(directory_10) if \"_\" in file]\n",
        "\n",
        "num_images = len(files_with_underscore)\n",
        "num_rows = (num_images + 9) // 10\n",
        "\n",
        "print(f\"找到 {num_images} 張圖片名稱包含 '_':\")\n",
        "\n",
        "fig, axes = plt.subplots(num_rows, 10, figsize=(15, 2 * num_rows))\n",
        "axes = axes.flatten()\n",
        "\n",
        "for ax, file in zip(axes, files_with_underscore):\n",
        "    try:\n",
        "\n",
        "        file_path = os.path.join(directory_10, file)\n",
        "\n",
        "\n",
        "        img = Image.open(file_path).convert(\"RGB\")\n",
        "\n",
        "\n",
        "        ax.imshow(img)\n",
        "        ax.axis(\"off\")\n",
        "        ax.set_title(file, fontsize=8)\n",
        "    except Exception as e:\n",
        "        print(f\"無法顯示圖片 {file}: {e}\")\n",
        "\n",
        "\n",
        "for ax in axes[num_images:]:\n",
        "    ax.axis(\"off\")\n",
        "\n",
        "plt.tight_layout()\n",
        "plt.show()"
      ],
      "metadata": {
        "id": "Wt8B4DDkt6qb"
      },
      "execution_count": null,
      "outputs": []
    },
    {
      "cell_type": "markdown",
      "source": [
        "#移到對應資料夾&刪除白癡資料"
      ],
      "metadata": {
        "id": "qoeXshek_RIk"
      }
    },
    {
      "cell_type": "code",
      "source": [
        "import shutil\n",
        "\n",
        "# 定義資料夾路徑\n",
        "base_path = \"training_data/train\"\n",
        "label_issues_path_1 = os.path.join(base_path, \"i\")\n",
        "\n",
        "correct_labels_1 = {\n",
        "    \"ii\": [\"i_294.png\", \"i_235.png\", \"i_84.png\", \"i_214.png\", \"i_62.png\", \"i_110.png\"],\n",
        "    \"iii\": [\"i_196.png\", \"i_143.png\", \"i_347.png\", \"i_125.png\", \"i_75.png\"],\n",
        "    \"iv\": [\"i_245.png\", \"i_378.png\"],\n",
        "    \"v\": [\"i_158.png\", \"i_60.png\", \"i_341.png\", \"i_210.png\"],\n",
        "    \"vi\": [\"i_189.png\", \"i_243.png\"],\n",
        "    \"vii\": [\"i_41.png\", \"i_186.png\", \"i_146.png\"],\n",
        "    \"viii\": [\"i_73.png\", \"i_57.png\", \"i_137.png\"],\n",
        "    \"ix\": [\"i_308.png\", \"i_265.png\", \"i_249.png\"],\n",
        "    \"x\": [\"i_164.png\", \"i_385.png\", \"i_290.png\"],\n",
        "}\n",
        "delete_images_1 = [\"i_32.png\", \"i_166.png\", \"i_307.png\", \"i_2.png\", \"i_185.png\"]\n",
        "\n",
        "\n",
        "# 1. 移動圖片到正確的資料夾\n",
        "for label, images in correct_labels_1.items():\n",
        "    target_folder = os.path.join(base_path, label)  # 每個標籤對應的資料夾\n",
        "    os.makedirs(target_folder, exist_ok=True)  # 確保目標資料夾存在\n",
        "    for image in images:\n",
        "        source_path = os.path.join(label_issues_path_1, image)  # 問題標籤資料夾中的圖片路徑\n",
        "        target_path = os.path.join(target_folder, image)  # 目標資料夾的路徑\n",
        "        if os.path.exists(source_path):\n",
        "            shutil.move(source_path, target_path)\n",
        "            print(f\"Moved {image} to {target_folder}\")\n",
        "        else:\n",
        "            print(f\"Image {image} not found in {source_path}\")\n",
        "\n",
        "# 2. 刪除指定的圖片\n",
        "for image in delete_images_1:\n",
        "    image_path = os.path.join(label_issues_path_1, image)  # 問題標籤資料夾中的圖片路徑\n",
        "    if os.path.exists(image_path):\n",
        "        os.remove(image_path)\n",
        "        print(f\"Deleted {image}\")\n",
        "    else:\n",
        "        print(f\"Image {image} not found in {image_path}\")\n",
        "\n",
        "print(\"處理完成！\")"
      ],
      "metadata": {
        "colab": {
          "base_uri": "https://localhost:8080/"
        },
        "id": "IOWE42P5OMA6",
        "outputId": "876e1bc1-6c39-4699-d4c2-20b58eb57337"
      },
      "execution_count": null,
      "outputs": [
        {
          "output_type": "stream",
          "name": "stdout",
          "text": [
            "Moved i_294.png to training_data/train/ii\n",
            "Moved i_235.png to training_data/train/ii\n",
            "Moved i_84.png to training_data/train/ii\n",
            "Moved i_214.png to training_data/train/ii\n",
            "Moved i_62.png to training_data/train/ii\n",
            "Moved i_110.png to training_data/train/ii\n",
            "Moved i_196.png to training_data/train/iii\n",
            "Moved i_143.png to training_data/train/iii\n",
            "Moved i_347.png to training_data/train/iii\n",
            "Moved i_125.png to training_data/train/iii\n",
            "Moved i_75.png to training_data/train/iii\n",
            "Moved i_245.png to training_data/train/iv\n",
            "Moved i_378.png to training_data/train/iv\n",
            "Moved i_158.png to training_data/train/v\n",
            "Moved i_60.png to training_data/train/v\n",
            "Moved i_341.png to training_data/train/v\n",
            "Moved i_210.png to training_data/train/v\n",
            "Moved i_189.png to training_data/train/vi\n",
            "Moved i_243.png to training_data/train/vi\n",
            "Moved i_41.png to training_data/train/vii\n",
            "Moved i_186.png to training_data/train/vii\n",
            "Moved i_146.png to training_data/train/vii\n",
            "Moved i_73.png to training_data/train/viii\n",
            "Moved i_57.png to training_data/train/viii\n",
            "Moved i_137.png to training_data/train/viii\n",
            "Moved i_308.png to training_data/train/ix\n",
            "Moved i_265.png to training_data/train/ix\n",
            "Moved i_249.png to training_data/train/ix\n",
            "Moved i_164.png to training_data/train/x\n",
            "Moved i_385.png to training_data/train/x\n",
            "Moved i_290.png to training_data/train/x\n",
            "Deleted i_32.png\n",
            "Deleted i_166.png\n",
            "Deleted i_307.png\n",
            "Deleted i_2.png\n",
            "Deleted i_185.png\n",
            "處理完成！\n"
          ]
        }
      ]
    },
    {
      "cell_type": "code",
      "source": [
        "# 定義正確的標籤對應的圖片清單\n",
        "label_issues_path_2 = os.path.join(base_path, \"ii\")\n",
        "correct_labels_2 = {\n",
        "    \"i\": [\"ii_165.png\", \"ii_147.png\", \"ii_177.png\"],\n",
        "    \"ii\": [],\n",
        "    \"iii\": [\"ii_172.png\", \"ii_140.png\", \"ii_180.png\", \"ii_129.png\"],\n",
        "    \"iv\": [\"ii_197.png\", \"ii_65.png\", \"ii_276.png\"],\n",
        "    \"v\": [\"ii_121.png\"],\n",
        "    \"vi\": [\"ii_34.png\", \"ii_221.png\", \"ii_15.png\"],\n",
        "    \"vii\": [\"ii_83.png\", \"ii_259.png\", \"ii_37.png\"],\n",
        "    \"viii\": [\"ii_152.png\", \"ii_28.png\"],\n",
        "    \"ix\": [\"ii_39.png\", \"ii_148.png\", \"ii_242.png\"],\n",
        "    \"x\": [\"ii_122.png\", \"ii_71.png\", \"ii_238.png\", \"ii_128.png\"],\n",
        "}\n",
        "\n",
        "# 定義要刪除的圖片清單\n",
        "delete_images_2 = [\"ii_32.png\", \"ii_220.png\", \"ii_142.png\", \"ii_229.png\"]\n",
        "\n",
        "# 1. 移動圖片到正確的資料夾\n",
        "for label, images in correct_labels_2.items():\n",
        "    target_folder = os.path.join(base_path, label)  # 每個標籤對應的資料夾\n",
        "    os.makedirs(target_folder, exist_ok=True)  # 確保目標資料夾存在\n",
        "    for image in images:\n",
        "        source_path = os.path.join(label_issues_path_2, image)  # 問題標籤資料夾中的圖片路徑\n",
        "        target_path = os.path.join(target_folder, image)  # 目標資料夾的路徑\n",
        "        if os.path.exists(source_path):\n",
        "            shutil.move(source_path, target_path)\n",
        "            print(f\"Moved {image} to {target_folder}\")\n",
        "        else:\n",
        "            print(f\"Image {image} not found in {source_path}\")\n",
        "\n",
        "# 2. 刪除指定的圖片\n",
        "for image in delete_images_2:\n",
        "    image_path = os.path.join(label_issues_path_2, image)  # 問題標籤資料夾中的圖片路徑\n",
        "    if os.path.exists(image_path):\n",
        "        os.remove(image_path)\n",
        "        print(f\"Deleted {image}\")\n",
        "    else:\n",
        "        print(f\"Image {image} not found in {image_path}\")\n",
        "\n",
        "print(\"處理完成！\")"
      ],
      "metadata": {
        "colab": {
          "base_uri": "https://localhost:8080/"
        },
        "id": "6gqzfe144796",
        "outputId": "21e92327-b446-4136-bead-88a0ccf1b6fa"
      },
      "execution_count": null,
      "outputs": [
        {
          "output_type": "stream",
          "name": "stdout",
          "text": [
            "Moved ii_165.png to training_data/train/i\n",
            "Moved ii_147.png to training_data/train/i\n",
            "Moved ii_177.png to training_data/train/i\n",
            "Moved ii_172.png to training_data/train/iii\n",
            "Moved ii_140.png to training_data/train/iii\n",
            "Moved ii_180.png to training_data/train/iii\n",
            "Moved ii_129.png to training_data/train/iii\n",
            "Moved ii_197.png to training_data/train/iv\n",
            "Moved ii_65.png to training_data/train/iv\n",
            "Moved ii_276.png to training_data/train/iv\n",
            "Moved ii_121.png to training_data/train/v\n",
            "Moved ii_34.png to training_data/train/vi\n",
            "Moved ii_221.png to training_data/train/vi\n",
            "Moved ii_15.png to training_data/train/vi\n",
            "Moved ii_83.png to training_data/train/vii\n",
            "Moved ii_259.png to training_data/train/vii\n",
            "Moved ii_37.png to training_data/train/vii\n",
            "Moved ii_152.png to training_data/train/viii\n",
            "Moved ii_28.png to training_data/train/viii\n",
            "Moved ii_39.png to training_data/train/ix\n",
            "Moved ii_148.png to training_data/train/ix\n",
            "Moved ii_242.png to training_data/train/ix\n",
            "Moved ii_122.png to training_data/train/x\n",
            "Moved ii_71.png to training_data/train/x\n",
            "Moved ii_238.png to training_data/train/x\n",
            "Moved ii_128.png to training_data/train/x\n",
            "Deleted ii_32.png\n",
            "Deleted ii_220.png\n",
            "Deleted ii_142.png\n",
            "Deleted ii_229.png\n",
            "處理完成！\n"
          ]
        }
      ]
    },
    {
      "cell_type": "code",
      "source": [
        "label_issues_path_3 = os.path.join(base_path, \"iii\")\n",
        "\n",
        "correct_labels_3 = {\n",
        "    \"i\": [\"iii_236.png\", \"iii_92.png\", \"iii_209.png\", \"iii_252.png\", \"iii_140.png\"],\n",
        "    \"ii\": [\"iii_296.png\", \"iii_59.png\", \"iii_138.png\", \"iii_117.png\", \"iii_94.png\", \"iii_170.png\",\n",
        "           \"iii_127.png\", \"iii_195.png\"],\n",
        "    \"iii\": [],\n",
        "    \"iv\": [\"iii_159.png\", \"iii_144.png\", \"iii_228.png\"],\n",
        "    \"v\": [\"iii_86.png\", \"iii_28.png\", \"iii_65.png\"],\n",
        "    \"vi\": [\"iii_49.png\"],\n",
        "    \"vii\": [\"iii_31.png\", \"iii_37.png\"],\n",
        "    \"viii\": [],\n",
        "    \"ix\": [\"iii_234.png\", \"iii_103.png\", \"iii_242.png\"],\n",
        "    \"x\": [\"iii_17.png\", \"iii_294.png\", \"iii_101.png\"],\n",
        "}\n",
        "\n",
        "delete_images_3 = [\"iii_16.png\", \"iii_9.png\", \"iii_273.png\", \"iii_233.png\",\n",
        "                   \"iii_222.png\", \"iii_88.png\", \"iii_210.png\", \"iii_225.png\",\n",
        "                   \"iii_15.png\", \"iii_245.png\"]\n",
        "\n",
        "for label, images in correct_labels_3.items():\n",
        "    target_folder = os.path.join(base_path, label)\n",
        "    os.makedirs(target_folder, exist_ok=True)\n",
        "    for image in images:\n",
        "        source_path = os.path.join(label_issues_path_3, image)\n",
        "        target_path = os.path.join(target_folder, image)\n",
        "        if os.path.exists(source_path):\n",
        "            shutil.move(source_path, target_path)\n",
        "            print(f\"Moved {image} to {target_folder}\")\n",
        "        else:\n",
        "            print(f\"Image {image} not found in {source_path}\")\n",
        "\n",
        "\n",
        "for image in delete_images_3:\n",
        "    image_path = os.path.join(label_issues_path_3, image)\n",
        "    if os.path.exists(image_path):\n",
        "        os.remove(image_path)\n",
        "        print(f\"Deleted {image}\")\n",
        "    else:\n",
        "        print(f\"Image {image} not found in {image_path}\")\n",
        "\n",
        "print(\"處理完成！\")\n"
      ],
      "metadata": {
        "colab": {
          "base_uri": "https://localhost:8080/"
        },
        "id": "sN8jdztc7SU4",
        "outputId": "d16c5883-319e-4bf6-ee27-d2aa55fe20f4"
      },
      "execution_count": null,
      "outputs": [
        {
          "output_type": "stream",
          "name": "stdout",
          "text": [
            "Moved iii_236.png to training_data/train/i\n",
            "Moved iii_92.png to training_data/train/i\n",
            "Moved iii_209.png to training_data/train/i\n",
            "Moved iii_252.png to training_data/train/i\n",
            "Moved iii_140.png to training_data/train/i\n",
            "Moved iii_296.png to training_data/train/ii\n",
            "Moved iii_59.png to training_data/train/ii\n",
            "Moved iii_138.png to training_data/train/ii\n",
            "Moved iii_117.png to training_data/train/ii\n",
            "Moved iii_94.png to training_data/train/ii\n",
            "Moved iii_170.png to training_data/train/ii\n",
            "Moved iii_127.png to training_data/train/ii\n",
            "Moved iii_195.png to training_data/train/ii\n",
            "Moved iii_159.png to training_data/train/iv\n",
            "Moved iii_144.png to training_data/train/iv\n",
            "Moved iii_228.png to training_data/train/iv\n",
            "Moved iii_86.png to training_data/train/v\n",
            "Moved iii_28.png to training_data/train/v\n",
            "Moved iii_65.png to training_data/train/v\n",
            "Moved iii_49.png to training_data/train/vi\n",
            "Moved iii_31.png to training_data/train/vii\n",
            "Moved iii_37.png to training_data/train/vii\n",
            "Moved iii_234.png to training_data/train/ix\n",
            "Moved iii_103.png to training_data/train/ix\n",
            "Moved iii_242.png to training_data/train/ix\n",
            "Moved iii_17.png to training_data/train/x\n",
            "Moved iii_294.png to training_data/train/x\n",
            "Moved iii_101.png to training_data/train/x\n",
            "Deleted iii_16.png\n",
            "Deleted iii_9.png\n",
            "Deleted iii_273.png\n",
            "Deleted iii_233.png\n",
            "Deleted iii_222.png\n",
            "Deleted iii_88.png\n",
            "Deleted iii_210.png\n",
            "Deleted iii_225.png\n",
            "Deleted iii_15.png\n",
            "Deleted iii_245.png\n",
            "處理完成！\n"
          ]
        }
      ]
    },
    {
      "cell_type": "code",
      "source": [
        "label_issues_path_4 = os.path.join(base_path, \"iv\")  # iv資料夾\n",
        "\n",
        "# 定義正確的標籤對應圖片\n",
        "correct_labels_4 = {\n",
        "    \"i\": [\"iv_298.png\", \"iv_238.png\"],\n",
        "    \"ii\": [\"iv_268.png\", \"iv_313.png\", \"iv_52.png\", \"iv_63.png\", \"iv_294.png\"],\n",
        "    \"iii\": [\"iv_328.png\", \"iv_95.png\", \"iv_406.png\"],\n",
        "    \"iv\": [],\n",
        "    \"v\": [\"iv_315.png\", \"iv_74.png\"],\n",
        "    \"vi\": [\"iv_166.png\"],\n",
        "    \"vii\": [\"iv_206.png\", \"iv_45.png\"],\n",
        "    \"viii\": [\"iv_310.png\", \"iv_246.png\"],\n",
        "    \"ix\": [\"iv_273.png\"],\n",
        "    \"x\": [\"iv_106.png\"],\n",
        "}\n",
        "\n",
        "# 定義要刪除的圖片清單\n",
        "delete_images_4 = [\"iv_228.png\", \"iv_161.png\", \"iv_334.png\", \"iv_254.png\",\n",
        "                   \"iv_58.png\", \"iv_309.png\", \"iv_255.png\", \"iv_251.png\",\n",
        "                   \"iv_42.png\", \"iv_43.png\", \"iv_22.png\"]\n",
        "\n",
        "# 1. 移動圖片到正確的資料夾\n",
        "for label, images in correct_labels_4.items():\n",
        "    target_folder = os.path.join(base_path, label)  # 每個標籤對應的資料夾\n",
        "    os.makedirs(target_folder, exist_ok=True)  # 確保目標資料夾存在\n",
        "    for image in images:\n",
        "        source_path = os.path.join(label_issues_path_4, image)  # iv資料夾中的圖片路徑\n",
        "        target_path = os.path.join(target_folder, image)  # 目標資料夾路徑\n",
        "        if os.path.exists(source_path):\n",
        "            shutil.move(source_path, target_path)\n",
        "            print(f\"Moved {image} to {target_folder}\")\n",
        "        else:\n",
        "            print(f\"Image {image} not found in {source_path}\")\n",
        "\n",
        "# 2. 刪除指定的圖片\n",
        "for image in delete_images_4:\n",
        "    image_path = os.path.join(label_issues_path_4, image)  # iv資料夾中的圖片路徑\n",
        "    if os.path.exists(image_path):\n",
        "        os.remove(image_path)\n",
        "        print(f\"Deleted {image}\")\n",
        "    else:\n",
        "        print(f\"Image {image} not found in {image_path}\")\n",
        "\n",
        "print(\"處理完成！\")\n"
      ],
      "metadata": {
        "colab": {
          "base_uri": "https://localhost:8080/"
        },
        "id": "Uffzyj-g9HoP",
        "outputId": "ca1f789f-0c21-4b69-ac47-75c5c4187db9"
      },
      "execution_count": null,
      "outputs": [
        {
          "output_type": "stream",
          "name": "stdout",
          "text": [
            "Moved iv_298.png to training_data/train/i\n",
            "Moved iv_238.png to training_data/train/i\n",
            "Moved iv_268.png to training_data/train/ii\n",
            "Moved iv_313.png to training_data/train/ii\n",
            "Moved iv_52.png to training_data/train/ii\n",
            "Moved iv_63.png to training_data/train/ii\n",
            "Moved iv_294.png to training_data/train/ii\n",
            "Moved iv_328.png to training_data/train/iii\n",
            "Moved iv_95.png to training_data/train/iii\n",
            "Moved iv_406.png to training_data/train/iii\n",
            "Moved iv_315.png to training_data/train/v\n",
            "Moved iv_74.png to training_data/train/v\n",
            "Moved iv_166.png to training_data/train/vi\n",
            "Moved iv_206.png to training_data/train/vii\n",
            "Moved iv_45.png to training_data/train/vii\n",
            "Moved iv_310.png to training_data/train/viii\n",
            "Moved iv_246.png to training_data/train/viii\n",
            "Moved iv_273.png to training_data/train/ix\n",
            "Moved iv_106.png to training_data/train/x\n",
            "Deleted iv_228.png\n",
            "Deleted iv_161.png\n",
            "Deleted iv_334.png\n",
            "Deleted iv_254.png\n",
            "Deleted iv_58.png\n",
            "Deleted iv_309.png\n",
            "Deleted iv_255.png\n",
            "Deleted iv_251.png\n",
            "Deleted iv_42.png\n",
            "Deleted iv_43.png\n",
            "Deleted iv_22.png\n",
            "處理完成！\n"
          ]
        }
      ]
    },
    {
      "cell_type": "code",
      "source": [
        "label_issues_path_5 = os.path.join(base_path, \"v\")  # v資料夾\n",
        "\n",
        "# 定義正確的標籤對應圖片\n",
        "correct_labels_5 = {\n",
        "    \"i\": [\"v_94.png\", \"v_290.png\"],\n",
        "    \"ii\": [\"v_7.png\", \"v_307.png\", \"v_262.png\", \"v_267.png\"],\n",
        "    \"iii\": [\"v_102.png\", \"v_29.png\"],\n",
        "    \"iv\": [\"v_143.png\", \"v_108.png\", \"v_145.png\"],\n",
        "    \"v\": [],\n",
        "    \"vi\": [\"v_274.png\", \"v_210.png\"],\n",
        "    \"vii\": [\"v_233.png\", \"v_263.png\", \"v_17.png\"],\n",
        "    \"viii\": [\"v_46.png\", \"v_22.png\", \"v_78.png\"],\n",
        "    \"ix\": [\"v_4.png\", \"v_201.png\", \"v_119.png\"],\n",
        "    \"x\": [\"v_101.png\", \"v_56.png\", \"v_128.png\", \"v_249.png\"],\n",
        "}\n",
        "\n",
        "# 定義要刪除的圖片清單\n",
        "delete_images_5 = [\n",
        "    \"v_179.png\", \"v_203.png\", \"v_84.png\", \"v_183.png\", \"v_162.png\", \"v_289.png\",\n",
        "    \"v_319.png\", \"v_219.png\", \"v_39.png\", \"v_48.png\", \"v_166.png\", \"v_215.png\", \"v_60.png\"\n",
        "]\n",
        "\n",
        "# 1. 移動圖片到正確的資料夾\n",
        "for label, images in correct_labels_5.items():\n",
        "    target_folder = os.path.join(base_path, label)  # 每個標籤對應的資料夾\n",
        "    os.makedirs(target_folder, exist_ok=True)  # 確保目標資料夾存在\n",
        "    for image in images:\n",
        "        source_path = os.path.join(label_issues_path_5, image)  # v資料夾中的圖片路徑\n",
        "        target_path = os.path.join(target_folder, image)  # 目標資料夾路徑\n",
        "        if os.path.exists(source_path):\n",
        "            shutil.move(source_path, target_path)\n",
        "            print(f\"Moved {image} to {target_folder}\")\n",
        "        else:\n",
        "            print(f\"Image {image} not found in {source_path}\")\n",
        "\n",
        "# 2. 刪除指定的圖片\n",
        "for image in delete_images_5:\n",
        "    image_path = os.path.join(label_issues_path_5, image)  # v資料夾中的圖片路徑\n",
        "    if os.path.exists(image_path):\n",
        "        os.remove(image_path)\n",
        "        print(f\"Deleted {image}\")\n",
        "    else:\n",
        "        print(f\"Image {image} not found in {image_path}\")\n",
        "\n",
        "print(\"處理完成！\")"
      ],
      "metadata": {
        "colab": {
          "base_uri": "https://localhost:8080/"
        },
        "id": "gGxsPiz39MNO",
        "outputId": "d2a35da8-2864-4965-a371-f524bb508c22"
      },
      "execution_count": null,
      "outputs": [
        {
          "output_type": "stream",
          "name": "stdout",
          "text": [
            "Moved v_94.png to training_data/train/i\n",
            "Moved v_290.png to training_data/train/i\n",
            "Moved v_7.png to training_data/train/ii\n",
            "Moved v_307.png to training_data/train/ii\n",
            "Moved v_262.png to training_data/train/ii\n",
            "Moved v_267.png to training_data/train/ii\n",
            "Moved v_102.png to training_data/train/iii\n",
            "Moved v_29.png to training_data/train/iii\n",
            "Moved v_143.png to training_data/train/iv\n",
            "Moved v_108.png to training_data/train/iv\n",
            "Moved v_145.png to training_data/train/iv\n",
            "Moved v_274.png to training_data/train/vi\n",
            "Moved v_210.png to training_data/train/vi\n",
            "Moved v_233.png to training_data/train/vii\n",
            "Moved v_263.png to training_data/train/vii\n",
            "Moved v_17.png to training_data/train/vii\n",
            "Moved v_46.png to training_data/train/viii\n",
            "Moved v_22.png to training_data/train/viii\n",
            "Moved v_78.png to training_data/train/viii\n",
            "Moved v_4.png to training_data/train/ix\n",
            "Moved v_201.png to training_data/train/ix\n",
            "Moved v_119.png to training_data/train/ix\n",
            "Moved v_101.png to training_data/train/x\n",
            "Moved v_56.png to training_data/train/x\n",
            "Moved v_128.png to training_data/train/x\n",
            "Moved v_249.png to training_data/train/x\n",
            "Deleted v_179.png\n",
            "Deleted v_203.png\n",
            "Deleted v_84.png\n",
            "Deleted v_183.png\n",
            "Deleted v_162.png\n",
            "Deleted v_289.png\n",
            "Deleted v_319.png\n",
            "Deleted v_219.png\n",
            "Deleted v_39.png\n",
            "Deleted v_48.png\n",
            "Deleted v_166.png\n",
            "Deleted v_215.png\n",
            "Deleted v_60.png\n",
            "處理完成！\n"
          ]
        }
      ]
    },
    {
      "cell_type": "code",
      "source": [
        "label_issues_path_6 = os.path.join(base_path, \"vi\")  # vi資料夾\n",
        "\n",
        "# 定義正確的標籤對應圖片\n",
        "correct_labels_6 = {\n",
        "    \"i\": [\"vi_309.png\", \"vi_184.png\", \"vi_283.png\"],\n",
        "    \"ii\": [\"vi_14.png\", \"vi_147.png\", \"vi_62.png\", \"vi_295.png\", \"vi_293.png\", \"vi_109.png\", \"vi_157.png\"],\n",
        "    \"iii\": [\"vi_195.png\", \"vi_72.png\", \"vi_97.png\"],\n",
        "    \"iv\": [\"vi_232.png\", \"vi_3.png\", \"vi_196.png\", \"vi_274.png\", \"vi_149.png\"],\n",
        "    \"v\": [\"vi_46.png\"],\n",
        "    \"vi\": [],\n",
        "    \"vii\": [\"vi_139.png\", \"vi_230.png\"],\n",
        "    \"viii\": [\"vi_183.png\", \"vi_253.png\"],\n",
        "    \"ix\": [\"vi_276.png\", \"vi_131.png\", \"vi_43.png\", \"vi_129.png\"],\n",
        "    \"x\": [\"vi_24.png\", \"vi_176.png\", \"vi_262.png\", \"vi_50.png\", \"vi_302.png\"],\n",
        "}\n",
        "\n",
        "# 定義要刪除的圖片清單\n",
        "delete_images_6 = [\"vi_163.png\", \"vi_234.png\", \"vi_144.png\", \"vi_241.png\", \"vi_37.png\"]\n",
        "\n",
        "# 1. 移動圖片到正確的資料夾\n",
        "for label, images in correct_labels_6.items():\n",
        "    target_folder = os.path.join(base_path, label)  # 每個標籤對應的資料夾\n",
        "    os.makedirs(target_folder, exist_ok=True)  # 確保目標資料夾存在\n",
        "    for image in images:\n",
        "        source_path = os.path.join(label_issues_path_6, image)  # vi資料夾中的圖片路徑\n",
        "        target_path = os.path.join(target_folder, image)  # 目標資料夾路徑\n",
        "        if os.path.exists(source_path):\n",
        "            shutil.move(source_path, target_path)\n",
        "            print(f\"Moved {image} to {target_folder}\")\n",
        "        else:\n",
        "            print(f\"Image {image} not found in {source_path}\")\n",
        "\n",
        "# 2. 刪除指定的圖片\n",
        "for image in delete_images_6:\n",
        "    image_path = os.path.join(label_issues_path_6, image)  # vi資料夾中的圖片路徑\n",
        "    if os.path.exists(image_path):\n",
        "        os.remove(image_path)\n",
        "        print(f\"Deleted {image}\")\n",
        "    else:\n",
        "        print(f\"Image {image} not found in {image_path}\")\n",
        "\n",
        "print(\"處理完成\")\n"
      ],
      "metadata": {
        "colab": {
          "base_uri": "https://localhost:8080/"
        },
        "id": "rviyvWGl9vN1",
        "outputId": "ba97ca86-4786-4f7f-9c2a-3cb1f2cf3f93"
      },
      "execution_count": null,
      "outputs": [
        {
          "output_type": "stream",
          "name": "stdout",
          "text": [
            "Moved vi_309.png to training_data/train/i\n",
            "Moved vi_184.png to training_data/train/i\n",
            "Moved vi_283.png to training_data/train/i\n",
            "Moved vi_14.png to training_data/train/ii\n",
            "Moved vi_147.png to training_data/train/ii\n",
            "Moved vi_62.png to training_data/train/ii\n",
            "Moved vi_295.png to training_data/train/ii\n",
            "Moved vi_293.png to training_data/train/ii\n",
            "Moved vi_109.png to training_data/train/ii\n",
            "Moved vi_157.png to training_data/train/ii\n",
            "Moved vi_195.png to training_data/train/iii\n",
            "Moved vi_72.png to training_data/train/iii\n",
            "Moved vi_97.png to training_data/train/iii\n",
            "Moved vi_232.png to training_data/train/iv\n",
            "Moved vi_3.png to training_data/train/iv\n",
            "Moved vi_196.png to training_data/train/iv\n",
            "Moved vi_274.png to training_data/train/iv\n",
            "Moved vi_149.png to training_data/train/iv\n",
            "Moved vi_46.png to training_data/train/v\n",
            "Moved vi_139.png to training_data/train/vii\n",
            "Moved vi_230.png to training_data/train/vii\n",
            "Moved vi_183.png to training_data/train/viii\n",
            "Moved vi_253.png to training_data/train/viii\n",
            "Moved vi_276.png to training_data/train/ix\n",
            "Moved vi_131.png to training_data/train/ix\n",
            "Moved vi_43.png to training_data/train/ix\n",
            "Moved vi_129.png to training_data/train/ix\n",
            "Moved vi_24.png to training_data/train/x\n",
            "Moved vi_176.png to training_data/train/x\n",
            "Moved vi_262.png to training_data/train/x\n",
            "Moved vi_50.png to training_data/train/x\n",
            "Moved vi_302.png to training_data/train/x\n",
            "Deleted vi_163.png\n",
            "Deleted vi_234.png\n",
            "Deleted vi_144.png\n",
            "Deleted vi_241.png\n",
            "Deleted vi_37.png\n",
            "處理完成\n"
          ]
        }
      ]
    },
    {
      "cell_type": "code",
      "source": [
        "\n",
        "label_issues_path_7 = os.path.join(base_path, \"vii\")  # vii 資料夾\n",
        "\n",
        "# 定義正確的標籤對應圖片\n",
        "correct_labels_7 = {\n",
        "    \"i\": [\"vii_2.png\", \"vii_168.png\"],\n",
        "    \"ii\": [\"vii_207.png\", \"vii_239.png\"],\n",
        "    \"iii\": [\"vii_173.png\", \"vii_22.png\", \"vii_110.png\", \"vii_152.png\", \"vii_127.png\", \"vii_171.png\", \"vii_57.png\"],\n",
        "    \"iv\": [\"vii_94.png\", \"vii_215.png\"],\n",
        "    \"v\": [\"vii_179.png\", \"vii_270.png\", \"vii_259.png\", \"vii_300.png\"],\n",
        "    \"vi\": [\"vii_3.png\", \"vii_93.png\", \"vii_126.png\"],\n",
        "    \"vii\": [],\n",
        "    \"viii\": [\"vii_117.png\", \"vii_47.png\", \"vii_213.png\", \"vii_157.png\"],\n",
        "    \"ix\": [\"vii_85.png\"],\n",
        "    \"x\": [\"vii_67.png\", \"vii_203.png\"],\n",
        "}\n",
        "\n",
        "# 定義要刪除的圖片清單\n",
        "delete_images_7 = [\"vii_274.png\", \"vii_256.png\", \"vii_236.png\", \"vii_291.png\", \"vii_165.png\",\n",
        "                   \"vii_278.png\", \"vii_167.png\", \"vii_229.png\", \"vii_209.png\"]\n",
        "\n",
        "# 1. 移動圖片到正確的資料夾\n",
        "for label, images in correct_labels_7.items():\n",
        "    target_folder = os.path.join(base_path, label)  # 每個標籤對應的資料夾\n",
        "    os.makedirs(target_folder, exist_ok=True)  # 確保目標資料夾存在\n",
        "    for image in images:\n",
        "        source_path = os.path.join(label_issues_path_7, image)  # vii資料夾中的圖片路徑\n",
        "        target_path = os.path.join(target_folder, image)  # 目標資料夾路徑\n",
        "        if os.path.exists(source_path):\n",
        "            shutil.move(source_path, target_path)\n",
        "            print(f\"Moved {image} to {target_folder}\")\n",
        "        else:\n",
        "            print(f\"Image {image} not found in {source_path}\")\n",
        "\n",
        "# 2. 刪除指定的圖片\n",
        "for image in delete_images_7:\n",
        "    image_path = os.path.join(label_issues_path_7, image)  # vii 資料夾中的圖片路徑\n",
        "    if os.path.exists(image_path):\n",
        "        os.remove(image_path)\n",
        "        print(f\"Deleted {image}\")\n",
        "    else:\n",
        "        print(f\"Image {image} not found in {image_path}\")\n",
        "\n",
        "print(\"處理完成！\")\n"
      ],
      "metadata": {
        "colab": {
          "base_uri": "https://localhost:8080/"
        },
        "id": "V8Z1MNxf9vc9",
        "outputId": "a71f98b0-4998-4029-f404-2b79531eba03"
      },
      "execution_count": null,
      "outputs": [
        {
          "output_type": "stream",
          "name": "stdout",
          "text": [
            "Moved vii_2.png to training_data/train/i\n",
            "Moved vii_168.png to training_data/train/i\n",
            "Moved vii_207.png to training_data/train/ii\n",
            "Moved vii_239.png to training_data/train/ii\n",
            "Moved vii_173.png to training_data/train/iii\n",
            "Moved vii_22.png to training_data/train/iii\n",
            "Moved vii_110.png to training_data/train/iii\n",
            "Moved vii_152.png to training_data/train/iii\n",
            "Moved vii_127.png to training_data/train/iii\n",
            "Moved vii_171.png to training_data/train/iii\n",
            "Moved vii_57.png to training_data/train/iii\n",
            "Moved vii_94.png to training_data/train/iv\n",
            "Moved vii_215.png to training_data/train/iv\n",
            "Moved vii_179.png to training_data/train/v\n",
            "Moved vii_270.png to training_data/train/v\n",
            "Moved vii_259.png to training_data/train/v\n",
            "Moved vii_300.png to training_data/train/v\n",
            "Moved vii_3.png to training_data/train/vi\n",
            "Moved vii_93.png to training_data/train/vi\n",
            "Moved vii_126.png to training_data/train/vi\n",
            "Moved vii_117.png to training_data/train/viii\n",
            "Moved vii_47.png to training_data/train/viii\n",
            "Moved vii_213.png to training_data/train/viii\n",
            "Moved vii_157.png to training_data/train/viii\n",
            "Moved vii_85.png to training_data/train/ix\n",
            "Moved vii_67.png to training_data/train/x\n",
            "Moved vii_203.png to training_data/train/x\n",
            "Deleted vii_274.png\n",
            "Deleted vii_256.png\n",
            "Deleted vii_236.png\n",
            "Deleted vii_291.png\n",
            "Deleted vii_165.png\n",
            "Deleted vii_278.png\n",
            "Deleted vii_167.png\n",
            "Deleted vii_229.png\n",
            "Deleted vii_209.png\n",
            "處理完成！\n"
          ]
        }
      ]
    },
    {
      "cell_type": "code",
      "source": [
        "\n",
        "label_issues_path_8 = os.path.join(base_path, \"viii\")  # viii 資料夾\n",
        "\n",
        "# 定義正確的標籤對應圖片\n",
        "correct_labels_8 = {\n",
        "    \"i\": [\"viii_229.png\", \"viii_202.png\"],\n",
        "    \"ii\": [\"viii_248.png\", \"viii_67.png\", \"viii_78.png\", \"viii_30.png\", \"viii_74.png\"],\n",
        "    \"iii\": [\"viii_207.png\", \"viii_159.png\", \"viii_247.png\", \"viii_50.png\"],\n",
        "    \"iv\": [\"viii_210.png\", \"viii_75.png\", \"viii_294.png\", \"viii_131.png\"],\n",
        "    \"v\": [\"viii_37.png\", \"viii_153.png\", \"viii_134.png\"],\n",
        "    \"vi\": [\"viii_317.png\", \"viii_196.png\", \"viii_11.png\"],\n",
        "    \"vii\": [\"viii_97.png\", \"viii_221.png\"],\n",
        "    \"viii\": [],\n",
        "    \"ix\": [\"viii_237.png\", \"viii_254.png\", \"viii_235.png\", \"viii_259.png\", \"viii_315.png\"],\n",
        "    \"x\": [\"viii_291.png\", \"viii_179.png\"],\n",
        "}\n",
        "\n",
        "# 定義要刪除的圖片清單\n",
        "delete_images_8 = [\n",
        "    \"viii_253.png\", \"viii_3.png\", \"viii_63.png\", \"viii_21.png\", \"viii_32.png\", \"viii_89.png\",\n",
        "    \"viii_245.png\", \"viii_120.png\", \"viii_327.png\", \"viii_290.png\", \"viii_314.png\",\n",
        "    \"viii_130.png\", \"viii_240.png\", \"viii_292.png\"\n",
        "]\n",
        "\n",
        "# 1. 移動圖片到正確的資料夾\n",
        "for label, images in correct_labels_8.items():\n",
        "    target_folder = os.path.join(base_path, label)  # 每個標籤對應的資料夾\n",
        "    os.makedirs(target_folder, exist_ok=True)  # 確保目標資料夾存在\n",
        "    for image in images:\n",
        "        source_path = os.path.join(label_issues_path_8, image)  # viii 資料夾中的圖片路徑\n",
        "        target_path = os.path.join(target_folder, image)  # 目標資料夾路徑\n",
        "        if os.path.exists(source_path):\n",
        "            shutil.move(source_path, target_path)\n",
        "            print(f\"Moved {image} to {target_folder}\")\n",
        "        else:\n",
        "            print(f\"Image {image} not found in {source_path}\")\n",
        "\n",
        "# 2. 刪除指定的圖片\n",
        "for image in delete_images_8:\n",
        "    image_path = os.path.join(label_issues_path_8, image)  # viii 資料夾中的圖片路徑\n",
        "    if os.path.exists(image_path):\n",
        "        os.remove(image_path)\n",
        "        print(f\"Deleted {image}\")\n",
        "    else:\n",
        "        print(f\"Image {image} not found in {image_path}\")\n",
        "\n",
        "print(\"處理完成！\")\n"
      ],
      "metadata": {
        "colab": {
          "base_uri": "https://localhost:8080/"
        },
        "id": "BV-grr2B9vte",
        "outputId": "894e8895-6d88-4aeb-9af2-3f5cd1048ed3"
      },
      "execution_count": null,
      "outputs": [
        {
          "output_type": "stream",
          "name": "stdout",
          "text": [
            "Moved viii_229.png to training_data/train/i\n",
            "Moved viii_202.png to training_data/train/i\n",
            "Moved viii_248.png to training_data/train/ii\n",
            "Moved viii_67.png to training_data/train/ii\n",
            "Moved viii_78.png to training_data/train/ii\n",
            "Moved viii_30.png to training_data/train/ii\n",
            "Moved viii_74.png to training_data/train/ii\n",
            "Moved viii_207.png to training_data/train/iii\n",
            "Moved viii_159.png to training_data/train/iii\n",
            "Moved viii_247.png to training_data/train/iii\n",
            "Moved viii_50.png to training_data/train/iii\n",
            "Moved viii_210.png to training_data/train/iv\n",
            "Moved viii_75.png to training_data/train/iv\n",
            "Moved viii_294.png to training_data/train/iv\n",
            "Moved viii_131.png to training_data/train/iv\n",
            "Moved viii_37.png to training_data/train/v\n",
            "Moved viii_153.png to training_data/train/v\n",
            "Moved viii_134.png to training_data/train/v\n",
            "Moved viii_317.png to training_data/train/vi\n",
            "Moved viii_196.png to training_data/train/vi\n",
            "Moved viii_11.png to training_data/train/vi\n",
            "Moved viii_97.png to training_data/train/vii\n",
            "Moved viii_221.png to training_data/train/vii\n",
            "Moved viii_237.png to training_data/train/ix\n",
            "Moved viii_254.png to training_data/train/ix\n",
            "Moved viii_235.png to training_data/train/ix\n",
            "Moved viii_259.png to training_data/train/ix\n",
            "Moved viii_315.png to training_data/train/ix\n",
            "Moved viii_291.png to training_data/train/x\n",
            "Moved viii_179.png to training_data/train/x\n",
            "Deleted viii_253.png\n",
            "Deleted viii_3.png\n",
            "Deleted viii_63.png\n",
            "Deleted viii_21.png\n",
            "Deleted viii_32.png\n",
            "Deleted viii_89.png\n",
            "Deleted viii_245.png\n",
            "Deleted viii_120.png\n",
            "Deleted viii_327.png\n",
            "Deleted viii_290.png\n",
            "Deleted viii_314.png\n",
            "Deleted viii_130.png\n",
            "Deleted viii_240.png\n",
            "Deleted viii_292.png\n",
            "處理完成！\n"
          ]
        }
      ]
    },
    {
      "cell_type": "code",
      "source": [
        "label_issues_path_9 = os.path.join(base_path, \"ix\")  # ix 資料夾\n",
        "\n",
        "# 定義正確的標籤對應圖片\n",
        "correct_labels_9 = {\n",
        "    \"i\": [\"ix_343.png\", \"ix_5.png\", \"ix_316.png\", \"ix_242.png\"],\n",
        "    \"ii\": [\"ix_11.png\", \"ix_21.png\", \"ix_243.png\"],\n",
        "    \"iii\": [\"ix_15.png\", \"ix_123.png\", \"ix_325.png\"],\n",
        "    \"iv\": [\"ix_336.png\", \"ix_310.png\", \"ix_204.png\"],\n",
        "    \"v\": [\"ix_54.png\", \"ix_305.png\", \"ix_279.png\", \"ix_286.png\", \"ix_87.png\"],\n",
        "    \"vi\": [\"ix_93.png\"],\n",
        "    \"vii\": [\"ix_241.png\", \"ix_132.png\", \"ix_159.png\", \"ix_78.png\"],\n",
        "    \"viii\": [\"ix_22.png\", \"ix_317.png\", \"ix_299.png\"],\n",
        "    \"ix\": [],\n",
        "    \"x\": [\"ix_275.png\", \"ix_84.png\", \"ix_293.png\", \"ix_355.png\", \"ix_185.png\", \"ix_75.png\", \"ix_127.png\"],\n",
        "}\n",
        "\n",
        "# 定義要刪除的圖片清單\n",
        "delete_images_9 = [\n",
        "    \"ix_52.png\", \"ix_40.png\", \"ix_307.png\", \"ix_65.png\", \"ix_276.png\", \"ix_288.png\", \"ix_140.png\",\n",
        "    \"ix_162.png\", \"ix_231.png\", \"ix_69.png\", \"ix_269.png\", \"ix_38.png\", \"ix_349.png\",\n",
        "    \"ix_287.png\", \"ix_282.png\"\n",
        "]\n",
        "\n",
        "# 1. 移動圖片到正確的資料夾\n",
        "for label, images in correct_labels_9.items():\n",
        "    target_folder = os.path.join(base_path, label)  # 每個標籤對應的資料夾\n",
        "    os.makedirs(target_folder, exist_ok=True)  # 確保目標資料夾存在\n",
        "    for image in images:\n",
        "        source_path = os.path.join(label_issues_path_9, image)  # ix 資料夾中的圖片路徑\n",
        "        target_path = os.path.join(target_folder, image)  # 目標資料夾路徑\n",
        "        if os.path.exists(source_path):\n",
        "            shutil.move(source_path, target_path)\n",
        "            print(f\"Moved {image} to {target_folder}\")\n",
        "        else:\n",
        "            print(f\"Image {image} not found in {source_path}\")\n",
        "\n",
        "# 2. 刪除指定的圖片\n",
        "for image in delete_images_9:\n",
        "    image_path = os.path.join(label_issues_path_9, image)  # ix 資料夾中的圖片路徑\n",
        "    if os.path.exists(image_path):\n",
        "        os.remove(image_path)\n",
        "        print(f\"Deleted {image}\")\n",
        "    else:\n",
        "        print(f\"Image {image} not found in {image_path}\")\n",
        "\n",
        "print(\"處理完成！\")"
      ],
      "metadata": {
        "colab": {
          "base_uri": "https://localhost:8080/"
        },
        "id": "a_Kfc_vZ9v6G",
        "outputId": "2d70f04f-de8e-4ed8-bd0d-1af8c1364fe6"
      },
      "execution_count": null,
      "outputs": [
        {
          "output_type": "stream",
          "name": "stdout",
          "text": [
            "Moved ix_343.png to training_data/train/i\n",
            "Moved ix_5.png to training_data/train/i\n",
            "Moved ix_316.png to training_data/train/i\n",
            "Moved ix_242.png to training_data/train/i\n",
            "Moved ix_11.png to training_data/train/ii\n",
            "Moved ix_21.png to training_data/train/ii\n",
            "Moved ix_243.png to training_data/train/ii\n",
            "Moved ix_15.png to training_data/train/iii\n",
            "Moved ix_123.png to training_data/train/iii\n",
            "Moved ix_325.png to training_data/train/iii\n",
            "Moved ix_336.png to training_data/train/iv\n",
            "Moved ix_310.png to training_data/train/iv\n",
            "Moved ix_204.png to training_data/train/iv\n",
            "Moved ix_54.png to training_data/train/v\n",
            "Moved ix_305.png to training_data/train/v\n",
            "Moved ix_279.png to training_data/train/v\n",
            "Moved ix_286.png to training_data/train/v\n",
            "Moved ix_87.png to training_data/train/v\n",
            "Moved ix_93.png to training_data/train/vi\n",
            "Moved ix_241.png to training_data/train/vii\n",
            "Moved ix_132.png to training_data/train/vii\n",
            "Moved ix_159.png to training_data/train/vii\n",
            "Moved ix_78.png to training_data/train/vii\n",
            "Moved ix_22.png to training_data/train/viii\n",
            "Moved ix_317.png to training_data/train/viii\n",
            "Moved ix_299.png to training_data/train/viii\n",
            "Moved ix_275.png to training_data/train/x\n",
            "Moved ix_84.png to training_data/train/x\n",
            "Moved ix_293.png to training_data/train/x\n",
            "Moved ix_355.png to training_data/train/x\n",
            "Moved ix_185.png to training_data/train/x\n",
            "Moved ix_75.png to training_data/train/x\n",
            "Moved ix_127.png to training_data/train/x\n",
            "Deleted ix_52.png\n",
            "Deleted ix_40.png\n",
            "Deleted ix_307.png\n",
            "Deleted ix_65.png\n",
            "Deleted ix_276.png\n",
            "Deleted ix_288.png\n",
            "Deleted ix_140.png\n",
            "Deleted ix_162.png\n",
            "Deleted ix_231.png\n",
            "Deleted ix_69.png\n",
            "Deleted ix_269.png\n",
            "Deleted ix_38.png\n",
            "Deleted ix_349.png\n",
            "Deleted ix_287.png\n",
            "Deleted ix_282.png\n",
            "處理完成！\n"
          ]
        }
      ]
    },
    {
      "cell_type": "code",
      "source": [
        "label_issues_path_10 = os.path.join(base_path, \"x\")  # x 資料夾\n",
        "\n",
        "# 定義正確的標籤對應圖片\n",
        "correct_labels_10 = {\n",
        "    \"i\": [\"x_108.png\", \"x_295.png\", \"x_132.png\"],\n",
        "    \"ii\": [\"x_123.png\", \"x_193.png\"],\n",
        "    \"iii\": [\"x_21.png\", \"x_80.png\", \"x_24.png\"],\n",
        "    \"iv\": [\"x_81.png\", \"x_222.png\"],\n",
        "    \"v\": [\"x_30.png\", \"x_1.png\", \"x_232.png\", \"x_224.png\", \"x_79.png\"],\n",
        "    \"vi\": [\"x_177.png\", \"x_254.png\", \"x_189.png\"],\n",
        "    \"vii\": [\"x_200.png\", \"x_262.png\", \"x_51.png\"],\n",
        "    \"viii\": [\"x_120.png\", \"x_269.png\"],\n",
        "    \"ix\": [\"x_251.png\", \"x_229.png\", \"x_307.png\", \"x_269.png\"],\n",
        "    \"x\": [],\n",
        "}\n",
        "\n",
        "# 定義要刪除的圖片清單\n",
        "delete_images_10 = [\n",
        "    \"x_40.png\", \"x_71.png\", \"x_213.png\", \"x_59.png\", \"x_291.png\",\n",
        "    \"x_258.png\", \"x_58.png\", \"x_204.png\",\n",
        "]\n",
        "\n",
        "# 1. 移動圖片到正確的資料夾\n",
        "for label, images in correct_labels_10.items():\n",
        "    target_folder = os.path.join(base_path, label)  # 每個標籤對應的資料夾\n",
        "    os.makedirs(target_folder, exist_ok=True)  # 確保目標資料夾存在\n",
        "    for image in images:\n",
        "        source_path = os.path.join(label_issues_path_10, image)  # x 資料夾中的圖片路徑\n",
        "        target_path = os.path.join(target_folder, image)  # 目標資料夾路徑\n",
        "        if os.path.exists(source_path):\n",
        "            shutil.move(source_path, target_path)\n",
        "            print(f\"Moved {image} to {target_folder}\")\n",
        "        else:\n",
        "            print(f\"Image {image} not found in {source_path}\")\n",
        "\n",
        "# 2. 刪除指定的圖片\n",
        "for image in delete_images_10:\n",
        "    image_path = os.path.join(label_issues_path_10, image)  # x 資料夾中的圖片路徑\n",
        "    if os.path.exists(image_path):\n",
        "        os.remove(image_path)\n",
        "        print(f\"Deleted {image}\")\n",
        "    else:\n",
        "        print(f\"Image {image} not found in {image_path}\")\n",
        "\n",
        "print(\"處理完成！\")"
      ],
      "metadata": {
        "colab": {
          "base_uri": "https://localhost:8080/"
        },
        "id": "iVdp4Ul49wMh",
        "outputId": "dd0c1df7-71d0-44ce-f202-891882d44644"
      },
      "execution_count": null,
      "outputs": [
        {
          "output_type": "stream",
          "name": "stdout",
          "text": [
            "Moved x_108.png to training_data/train/i\n",
            "Moved x_295.png to training_data/train/i\n",
            "Moved x_132.png to training_data/train/i\n",
            "Moved x_123.png to training_data/train/ii\n",
            "Moved x_193.png to training_data/train/ii\n",
            "Moved x_21.png to training_data/train/iii\n",
            "Moved x_80.png to training_data/train/iii\n",
            "Moved x_24.png to training_data/train/iii\n",
            "Moved x_81.png to training_data/train/iv\n",
            "Moved x_222.png to training_data/train/iv\n",
            "Moved x_30.png to training_data/train/v\n",
            "Moved x_1.png to training_data/train/v\n",
            "Moved x_232.png to training_data/train/v\n",
            "Moved x_224.png to training_data/train/v\n",
            "Moved x_79.png to training_data/train/v\n",
            "Moved x_177.png to training_data/train/vi\n",
            "Moved x_254.png to training_data/train/vi\n",
            "Moved x_189.png to training_data/train/vi\n",
            "Moved x_200.png to training_data/train/vii\n",
            "Moved x_262.png to training_data/train/vii\n",
            "Moved x_51.png to training_data/train/vii\n",
            "Moved x_120.png to training_data/train/viii\n",
            "Moved x_269.png to training_data/train/viii\n",
            "Moved x_251.png to training_data/train/ix\n",
            "Moved x_229.png to training_data/train/ix\n",
            "Moved x_307.png to training_data/train/ix\n",
            "Image x_269.png not found in training_data/train/x/x_269.png\n",
            "Deleted x_40.png\n",
            "Deleted x_71.png\n",
            "Deleted x_213.png\n",
            "Deleted x_59.png\n",
            "Deleted x_291.png\n",
            "Deleted x_258.png\n",
            "Deleted x_58.png\n",
            "Deleted x_204.png\n",
            "處理完成！\n"
          ]
        }
      ]
    },
    {
      "cell_type": "markdown",
      "source": [
        "#處理十字線"
      ],
      "metadata": {
        "id": "ZQ2YY-tDc7n-"
      }
    },
    {
      "cell_type": "code",
      "source": [
        "import cv2\n",
        "import os\n",
        "\n",
        "# 假设 image_path 是文件夹路径\n",
        "image_folder_path = \"/content/training_data/train/i\"  # 这是文件夹路径\n",
        "image_filename = \"i_297.png\"  # 原始文件名\n",
        "image_path = os.path.join(image_folder_path, image_filename)\n",
        "\n",
        "# 读取原始图像\n",
        "img = cv2.imread(image_path, cv2.IMREAD_GRAYSCALE)\n",
        "\n",
        "# 二值化处理\n",
        "_, binary = cv2.threshold(img, 127, 255, cv2.THRESH_BINARY_INV)\n",
        "\n",
        "# 水平和垂直结构元素\n",
        "horizontal_kernel = cv2.getStructuringElement(cv2.MORPH_RECT, (25, 1))\n",
        "vertical_kernel = cv2.getStructuringElement(cv2.MORPH_RECT, (1, 25))\n",
        "\n",
        "# 提取水平和垂直线条\n",
        "horizontal_lines = cv2.morphologyEx(binary, cv2.MORPH_OPEN, horizontal_kernel, iterations=2)\n",
        "vertical_lines = cv2.morphologyEx(binary, cv2.MORPH_OPEN, vertical_kernel, iterations=2)\n",
        "\n",
        "# 合并线条\n",
        "lines = cv2.bitwise_or(horizontal_lines, vertical_lines)\n",
        "\n",
        "# 删除线条\n",
        "mask = cv2.bitwise_not(lines)\n",
        "cleaned = cv2.bitwise_and(binary, binary, mask=mask)\n",
        "\n",
        "# 恢复原图（可选）\n",
        "cleaned_final = cv2.bitwise_not(cleaned)\n",
        "\n",
        "# 将清理后的图像保存到原文件路径，覆盖原图\n",
        "cv2.imwrite(image_path, cleaned_final)\n",
        "\n",
        "print(f\"Cleaned image has been saved and replaced at {image_path}\")"
      ],
      "metadata": {
        "id": "wFZ7ajFgc9zY"
      },
      "execution_count": null,
      "outputs": []
    },
    {
      "cell_type": "markdown",
      "source": [
        "#----------------------------\n"
      ],
      "metadata": {
        "id": "Ztf2R8wnao9o"
      }
    },
    {
      "cell_type": "markdown",
      "source": [
        "增強5跟7的分別"
      ],
      "metadata": {
        "id": "M9dl7g8MhkEM"
      }
    },
    {
      "cell_type": "code",
      "source": [
        "from tqdm import tqdm  # 用於顯示進度條\n",
        "\n",
        "\n",
        "# 定義 V 和 VII 的路徑\n",
        "v_path = \"/content/training_data/train/v\"\n",
        "vii_path = \"/content/training_data/train/vii\"\n",
        "\n",
        "# 創建存儲增強數據的目錄\n",
        "aug_v_path = \"/content/training_data/train/v\"\n",
        "aug_vii_path = \"/content/training_data/train/vii\"\n",
        "os.makedirs(aug_v_path, exist_ok=True)\n",
        "os.makedirs(aug_vii_path, exist_ok=True)\n"
      ],
      "metadata": {
        "id": "j9IOqMiXfNfk"
      },
      "execution_count": null,
      "outputs": []
    },
    {
      "cell_type": "code",
      "source": [
        "# 定義數據增強的轉換\n",
        "transforms = A.Compose([\n",
        "    A.HorizontalFlip(p=0.5),\n",
        "    A.Rotate(limit=10, p=0.7),\n",
        "    A.RandomBrightnessContrast(p=0.5),\n",
        "    A.GaussNoise(p=0.3)\n",
        "])\n"
      ],
      "metadata": {
        "id": "Sh8uRPJBhjm5"
      },
      "execution_count": null,
      "outputs": []
    },
    {
      "cell_type": "code",
      "source": [
        "def augment_and_save_images(input_path, output_path, transforms, num_augments=5):\n",
        "    # 遍歷資料夾內的圖片\n",
        "    for image_file in tqdm(os.listdir(input_path)):\n",
        "        img_path = os.path.join(input_path, image_file)\n",
        "        image = cv2.imread(img_path)\n",
        "\n",
        "        if image is None:\n",
        "            continue\n",
        "\n",
        "        for i in range(num_augments):  # 每張圖增強 num_augments 次\n",
        "            augmented = transforms(image=image)\n",
        "            aug_image = augmented['image']\n",
        "\n",
        "            # 保存增強後的圖像\n",
        "            aug_filename = f\"{os.path.splitext(image_file)[0]}_aug_{i}.png\"\n",
        "            aug_path = os.path.join(output_path, aug_filename)\n",
        "            cv2.imwrite(aug_path, aug_image)\n",
        "\n",
        "# 對 V 進行增強\n",
        "augment_and_save_images(v_path, aug_v_path, transforms, num_augments=5)\n",
        "\n",
        "# 對 VII 進行增強\n",
        "augment_and_save_images(vii_path, aug_vii_path, transforms, num_augments=5)\n"
      ],
      "metadata": {
        "colab": {
          "base_uri": "https://localhost:8080/"
        },
        "id": "ivpLl6smhpz6",
        "outputId": "74b67c71-5162-4e8a-8bc8-fd7d239ef66f"
      },
      "execution_count": null,
      "outputs": [
        {
          "output_type": "stream",
          "name": "stderr",
          "text": [
            "100%|██████████| 897/897 [00:09<00:00, 90.81it/s]\n",
            "100%|██████████| 901/901 [00:07<00:00, 117.00it/s]\n"
          ]
        }
      ]
    },
    {
      "cell_type": "code",
      "source": [
        "# 驗證某個增強後的樣本\n",
        "import matplotlib.pyplot as plt\n",
        "\n",
        "aug_images = os.listdir(aug_v_path)\n",
        "sample_aug_image = cv2.imread(os.path.join(aug_v_path, aug_images[0]))\n",
        "plt.imshow(cv2.cvtColor(sample_aug_image, cv2.COLOR_BGR2RGB))\n",
        "plt.axis('off')\n",
        "plt.show()\n"
      ],
      "metadata": {
        "colab": {
          "base_uri": "https://localhost:8080/",
          "height": 406
        },
        "id": "PS8eXdwrnkl2",
        "outputId": "42ade45e-491a-4104-f441-2669e99779c5"
      },
      "execution_count": null,
      "outputs": [
        {
          "output_type": "display_data",
          "data": {
            "text/plain": [
              "<Figure size 640x480 with 1 Axes>"
            ],
            "image/png": "[encoded data removed]"
          },
          "metadata": {}
        }
      ]
    },
    {
      "cell_type": "code",
      "source": [
        "from tensorflow.keras.preprocessing.image import ImageDataGenerator\n",
        "\n",
        "# 使用 Keras 的 ImageDataGenerator 從文件夾加載圖片\n",
        "datagen = ImageDataGenerator(rescale=1./255)\n",
        "\n",
        "train_generator = datagen.flow_from_directory(\n",
        "    '/content/training_data/train',  # 包括增強的數據\n",
        "    target_size=(180, 180),\n",
        "    batch_size=32,\n",
        "    class_mode='categorical'\n",
        ")\n"
      ],
      "metadata": {
        "colab": {
          "base_uri": "https://localhost:8080/"
        },
        "id": "dx5AdAXBnlzd",
        "outputId": "12deb540-c09a-443b-be6a-51a568d0adc7"
      },
      "execution_count": null,
      "outputs": [
        {
          "output_type": "stream",
          "name": "stdout",
          "text": [
            "Found 18106 images belonging to 10 classes.\n"
          ]
        }
      ]
    },
    {
      "cell_type": "code",
      "source": [
        "import tensorflow as tf\n",
        "batch_size = 32\n",
        "# 讀取原始數據\n",
        "train_original_ds = tf.keras.utils.image_dataset_from_directory(\n",
        "    '/content/training_data/train',\n",
        "    image_size=(180, 180),\n",
        "    batch_size=batch_size\n",
        ")\n",
        "\n",
        "# 讀取增強後數據\n",
        "train_augmented_ds = tf.keras.utils.image_dataset_from_directory(\n",
        "    '/content/training_data/augmented',\n",
        "    image_size=(180, 180),\n",
        "    batch_size=batch_size\n",
        ")\n",
        "\n",
        "# 合併兩個 Dataset\n",
        "train_dataset = train_original_ds.concatenate(train_augmented_ds)\n",
        "train_dataset = train_dataset.shuffle(buffer_size=1000).prefetch(buffer_size=tf.data.AUTOTUNE)\n"
      ],
      "metadata": {
        "id": "siIR5Cf-nLaW"
      },
      "execution_count": null,
      "outputs": []
    },
    {
      "cell_type": "code",
      "source": [
        "import os\n",
        "import shutil\n",
        "\n",
        "# 定義路徑\n",
        "original_folder = '/content/training_data/train/v'\n",
        "augmented_folder = '/content/training_data/augmented/v'\n",
        "\n",
        "# 確保原始資料夾存在\n",
        "if not os.path.exists(original_folder):\n",
        "    os.makedirs(original_folder)\n",
        "\n",
        "# 複製增強後的檔案到原始資料夾\n",
        "for filename in os.listdir(augmented_folder):\n",
        "    source_path = os.path.join(augmented_folder, filename)\n",
        "    destination_path = os.path.join(original_folder, filename)\n",
        "\n",
        "    # 如果檔案名稱衝突，可重新命名或覆蓋\n",
        "    if os.path.exists(destination_path):\n",
        "        new_name = f\"aug_{filename}\"  # 添加增強前綴避免覆蓋\n",
        "        destination_path = os.path.join(original_folder, new_name)\n",
        "\n",
        "    shutil.copy(source_path, destination_path)\n",
        "\n",
        "print(f\"增強資料已成功合併到: {original_folder}\")\n"
      ],
      "metadata": {
        "colab": {
          "base_uri": "https://localhost:8080/"
        },
        "id": "6HnF4QXamy4m",
        "outputId": "8de329e8-823e-4e2a-ff4d-48ffd7f585bf"
      },
      "execution_count": null,
      "outputs": [
        {
          "output_type": "stream",
          "name": "stdout",
          "text": [
            "增強資料已成功合併到: /content/training_data/train/v\n"
          ]
        }
      ]
    },
    {
      "cell_type": "markdown",
      "source": [
        "#數據增強\n"
      ],
      "metadata": {
        "id": "xHIi4dJz436m"
      }
    },
    {
      "cell_type": "code",
      "source": [
        "# 設定資料增強參數\n",
        "datagen = ImageDataGenerator(\n",
        "    rotation_range=10,          # 隨機旋轉角度範圍較小，防止數字過於扭曲\n",
        "    width_shift_range=0.05,     # 輕微的水平平移，避免過多影響數字結構\n",
        "    height_shift_range=0.05,    # 輕微的垂直平移\n",
        "    brightness_range=(0.9, 1.1),# 輕微的亮度調整，保留字形的可讀性\n",
        "    zoom_range=0.1,             # 輕微的縮放，模擬不同手寫壓力的效果\n",
        "    shear_range=0.1,            # 輕微的剪切變換，使數字略微傾斜\n",
        "    fill_mode='nearest',        # 填補因旋轉/平移產生的空白\n",
        "    horizontal_flip=False,      # 禁用水平翻轉，因為羅馬數字的方向性強\n",
        "    vertical_flip=False         # 禁用垂直翻轉，防止數字顛倒\n",
        ")\n",
        "\n",
        "\n",
        "# 讀取影像資料集\n",
        "train = tf.keras.preprocessing.image_dataset_from_directory(\n",
        "    '/content/training_data/train',\n",
        "    labels=\"inferred\",           # 自動從資料夾名稱推測類別\n",
        "    label_mode=\"categorical\",    # 多類別分類\n",
        "    class_names=[\"i\", \"ii\", \"iii\", \"iv\", \"v\", \"vi\", \"vii\", \"viii\", \"ix\", \"x\"],  # 類別名稱\n",
        "    shuffle=True,                # 隨機打亂影像\n",
        "    seed=123,                    # 設定隨機種子，確保可重現性\n",
        "    batch_size=8,                # 每批影像數量\n",
        "    image_size=(32, 32)          # 將影像調整為統一大小\n",
        ")\n",
        "\n",
        "# 讀取驗證集資料集（不進行增強）\n",
        "validation_combine = tf.keras.preprocessing.image_dataset_from_directory(\n",
        "    '/content/training_data/val',  # Use merged data for validation as well\n",
        "    labels=\"inferred\",# 自動從資料夾名稱推測類別\n",
        "    label_mode=\"categorical\",\n",
        "    class_names=[\"i\", \"ii\", \"iii\", \"iv\", \"v\", \"vi\", \"vii\", \"viii\", \"ix\", \"x\"],\n",
        "    shuffle=True,\n",
        "    seed=123,\n",
        "    batch_size=1,\n",
        "    image_size=(32, 32)\n",
        ")\n"
      ],
      "metadata": {
        "colab": {
          "base_uri": "https://localhost:8080/"
        },
        "id": "G9i1Mn4E43ln",
        "outputId": "bf43c140-8a4e-425e-e1df-39b23ff32c19"
      },
      "execution_count": null,
      "outputs": [
        {
          "output_type": "stream",
          "name": "stdout",
          "text": [
            "Found 9126 files belonging to 10 classes.\n",
            "Found 963 files belonging to 10 classes.\n"
          ]
        }
      ]
    },
    {
      "cell_type": "code",
      "source": [
        "# 使用資料增強生成器來訓練\n",
        "train_alb = datagen.flow_from_directory(\n",
        "    '/content/training_data/train',\n",
        "    target_size=(32, 32),\n",
        "    batch_size=8,\n",
        "    class_mode='categorical', # 設定標籤類型（如果使用 one-hot 編碼）\n",
        "    shuffle=True,             # 打亂資料\n",
        "    seed=123                  # 設定隨機種子\n",
        ")"
      ],
      "metadata": {
        "colab": {
          "base_uri": "https://localhost:8080/"
        },
        "id": "R_BRQtY25JBf",
        "outputId": "90c2aa92-5cab-4557-b7e4-9bc5843c5560"
      },
      "execution_count": null,
      "outputs": [
        {
          "output_type": "stream",
          "name": "stdout",
          "text": [
            "Found 9126 images belonging to 10 classes.\n"
          ]
        }
      ]
    },
    {
      "cell_type": "code",
      "source": [
        "history = model.fit(\n",
        "    train_alb,  # 使用資料增強的訓練資料\n",
        "    validation_data=validation_combine,  # 驗證資料集\n",
        "    epochs=75,  # 設定訓練的周期數\n",
        "    callbacks=[checkpoint, lr_scheduler],  # 可選擇回調函數來儲存模型和調整學習率\n",
        ")\n"
      ],
      "metadata": {
        "colab": {
          "base_uri": "https://localhost:8080/",
          "height": 1000
        },
        "id": "K9EyS9F_5UCG",
        "outputId": "86f5a67c-7ff4-40a1-b35c-18639f0dcbcd"
      },
      "execution_count": null,
      "outputs": [
        {
          "output_type": "stream",
          "name": "stdout",
          "text": [
            "Epoch 1/75\n",
            "\u001b[1m1141/1141\u001b[0m \u001b[32m━━━━━━━━━━━━━━━━━━━━\u001b[0m\u001b[37m\u001b[0m \u001b[1m24s\u001b[0m 21ms/step - accuracy: 0.3588 - loss: 3.3356 - val_accuracy: 0.6947 - val_loss: 1.4305 - learning_rate: 1.0000e-07\n",
            "Epoch 2/75\n",
            "\u001b[1m1141/1141\u001b[0m \u001b[32m━━━━━━━━━━━━━━━━━━━━\u001b[0m\u001b[37m\u001b[0m \u001b[1m18s\u001b[0m 15ms/step - accuracy: 0.3556 - loss: 3.3551 - val_accuracy: 0.6957 - val_loss: 1.4325 - learning_rate: 1.0000e-07\n",
            "Epoch 3/75\n",
            "\u001b[1m1141/1141\u001b[0m \u001b[32m━━━━━━━━━━━━━━━━━━━━\u001b[0m\u001b[37m\u001b[0m \u001b[1m34s\u001b[0m 30ms/step - accuracy: 0.3640 - loss: 3.2227 - val_accuracy: 0.6854 - val_loss: 1.4453 - learning_rate: 1.0000e-07\n",
            "Epoch 4/75\n",
            "\u001b[1m1141/1141\u001b[0m \u001b[32m━━━━━━━━━━━━━━━━━━━━\u001b[0m\u001b[37m\u001b[0m \u001b[1m34s\u001b[0m 24ms/step - accuracy: 0.3516 - loss: 3.2231 - val_accuracy: 0.6937 - val_loss: 1.4420 - learning_rate: 1.0000e-07\n",
            "Epoch 5/75\n",
            "\u001b[1m1141/1141\u001b[0m \u001b[32m━━━━━━━━━━━━━━━━━━━━\u001b[0m\u001b[37m\u001b[0m \u001b[1m20s\u001b[0m 18ms/step - accuracy: 0.3589 - loss: 3.1746 - val_accuracy: 0.6781 - val_loss: 1.5013 - learning_rate: 1.0000e-07\n",
            "Epoch 6/75\n",
            "\u001b[1m1141/1141\u001b[0m \u001b[32m━━━━━━━━━━━━━━━━━━━━\u001b[0m\u001b[37m\u001b[0m \u001b[1m25s\u001b[0m 22ms/step - accuracy: 0.3712 - loss: 3.0783 - val_accuracy: 0.6719 - val_loss: 1.4930 - learning_rate: 1.0000e-07\n",
            "Epoch 7/75\n",
            "\u001b[1m1141/1141\u001b[0m \u001b[32m━━━━━━━━━━━━━━━━━━━━\u001b[0m\u001b[37m\u001b[0m \u001b[1m39s\u001b[0m 20ms/step - accuracy: 0.3754 - loss: 3.0097 - val_accuracy: 0.6687 - val_loss: 1.5297 - learning_rate: 1.0000e-07\n",
            "Epoch 8/75\n",
            "\u001b[1m1141/1141\u001b[0m \u001b[32m━━━━━━━━━━━━━━━━━━━━\u001b[0m\u001b[37m\u001b[0m \u001b[1m36s\u001b[0m 16ms/step - accuracy: 0.3670 - loss: 3.0000 - val_accuracy: 0.6760 - val_loss: 1.4890 - learning_rate: 1.0000e-07\n",
            "Epoch 9/75\n",
            "\u001b[1m1141/1141\u001b[0m \u001b[32m━━━━━━━━━━━━━━━━━━━━\u001b[0m\u001b[37m\u001b[0m \u001b[1m21s\u001b[0m 16ms/step - accuracy: 0.3628 - loss: 2.9356 - val_accuracy: 0.6552 - val_loss: 1.5594 - learning_rate: 1.0000e-07\n",
            "Epoch 10/75\n",
            "\u001b[1m1141/1141\u001b[0m \u001b[32m━━━━━━━━━━━━━━━━━━━━\u001b[0m\u001b[37m\u001b[0m \u001b[1m18s\u001b[0m 16ms/step - accuracy: 0.3664 - loss: 2.8992 - val_accuracy: 0.6604 - val_loss: 1.5244 - learning_rate: 1.0000e-07\n",
            "Epoch 11/75\n",
            "\u001b[1m1141/1141\u001b[0m \u001b[32m━━━━━━━━━━━━━━━━━━━━\u001b[0m\u001b[37m\u001b[0m \u001b[1m23s\u001b[0m 18ms/step - accuracy: 0.3845 - loss: 2.8090 - val_accuracy: 0.6469 - val_loss: 1.6080 - learning_rate: 1.0000e-07\n",
            "Epoch 12/75\n",
            "\u001b[1m1141/1141\u001b[0m \u001b[32m━━━━━━━━━━━━━━━━━━━━\u001b[0m\u001b[37m\u001b[0m \u001b[1m41s\u001b[0m 18ms/step - accuracy: 0.3814 - loss: 2.7545 - val_accuracy: 0.6438 - val_loss: 1.5853 - learning_rate: 1.0000e-07\n",
            "Epoch 13/75\n",
            "\u001b[1m1141/1141\u001b[0m \u001b[32m━━━━━━━━━━━━━━━━━━━━\u001b[0m\u001b[37m\u001b[0m \u001b[1m18s\u001b[0m 16ms/step - accuracy: 0.3807 - loss: 2.7035 - val_accuracy: 0.6438 - val_loss: 1.5753 - learning_rate: 1.0000e-07\n",
            "Epoch 14/75\n",
            "\u001b[1m1141/1141\u001b[0m \u001b[32m━━━━━━━━━━━━━━━━━━━━\u001b[0m\u001b[37m\u001b[0m \u001b[1m19s\u001b[0m 16ms/step - accuracy: 0.3752 - loss: 2.6863 - val_accuracy: 0.6210 - val_loss: 1.6575 - learning_rate: 1.0000e-07\n",
            "Epoch 15/75\n",
            "\u001b[1m1141/1141\u001b[0m \u001b[32m━━━━━━━━━━━━━━━━━━━━\u001b[0m\u001b[37m\u001b[0m \u001b[1m20s\u001b[0m 18ms/step - accuracy: 0.3908 - loss: 2.6379 - val_accuracy: 0.6147 - val_loss: 1.6417 - learning_rate: 1.0000e-07\n",
            "Epoch 16/75\n",
            "\u001b[1m1141/1141\u001b[0m \u001b[32m━━━━━━━━━━━━━━━━━━━━\u001b[0m\u001b[37m\u001b[0m \u001b[1m20s\u001b[0m 17ms/step - accuracy: 0.3806 - loss: 2.5499 - val_accuracy: 0.6033 - val_loss: 1.6649 - learning_rate: 1.0000e-07\n",
            "Epoch 17/75\n",
            "\u001b[1m1141/1141\u001b[0m \u001b[32m━━━━━━━━━━━━━━━━━━━━\u001b[0m\u001b[37m\u001b[0m \u001b[1m18s\u001b[0m 16ms/step - accuracy: 0.3993 - loss: 2.4919 - val_accuracy: 0.6085 - val_loss: 1.6453 - learning_rate: 1.0000e-07\n",
            "Epoch 18/75\n",
            "\u001b[1m1141/1141\u001b[0m \u001b[32m━━━━━━━━━━━━━━━━━━━━\u001b[0m\u001b[37m\u001b[0m \u001b[1m18s\u001b[0m 16ms/step - accuracy: 0.3901 - loss: 2.4887 - val_accuracy: 0.5888 - val_loss: 1.6923 - learning_rate: 1.0000e-07\n",
            "Epoch 19/75\n",
            "\u001b[1m1141/1141\u001b[0m \u001b[32m━━━━━━━━━━━━━━━━━━━━\u001b[0m\u001b[37m\u001b[0m \u001b[1m22s\u001b[0m 17ms/step - accuracy: 0.3940 - loss: 2.4167 - val_accuracy: 0.5815 - val_loss: 1.7066 - learning_rate: 1.0000e-07\n",
            "Epoch 20/75\n",
            "\u001b[1m1141/1141\u001b[0m \u001b[32m━━━━━━━━━━━━━━━━━━━━\u001b[0m\u001b[37m\u001b[0m \u001b[1m19s\u001b[0m 16ms/step - accuracy: 0.3782 - loss: 2.4277 - val_accuracy: 0.5659 - val_loss: 1.7603 - learning_rate: 1.0000e-07\n",
            "Epoch 21/75\n",
            "\u001b[1m1141/1141\u001b[0m \u001b[32m━━━━━━━━━━━━━━━━━━━━\u001b[0m\u001b[37m\u001b[0m \u001b[1m19s\u001b[0m 16ms/step - accuracy: 0.3994 - loss: 2.3326 - val_accuracy: 0.5722 - val_loss: 1.7593 - learning_rate: 1.0000e-07\n",
            "Epoch 22/75\n",
            "\u001b[1m1141/1141\u001b[0m \u001b[32m━━━━━━━━━━━━━━━━━━━━\u001b[0m\u001b[37m\u001b[0m \u001b[1m20s\u001b[0m 16ms/step - accuracy: 0.3989 - loss: 2.3036 - val_accuracy: 0.5649 - val_loss: 1.7655 - learning_rate: 1.0000e-07\n",
            "Epoch 23/75\n",
            "\u001b[1m1141/1141\u001b[0m \u001b[32m━━━━━━━━━━━━━━━━━━━━\u001b[0m\u001b[37m\u001b[0m \u001b[1m18s\u001b[0m 16ms/step - accuracy: 0.4071 - loss: 2.2342 - val_accuracy: 0.5691 - val_loss: 1.7490 - learning_rate: 1.0000e-07\n",
            "Epoch 24/75\n",
            "\u001b[1m 778/1141\u001b[0m \u001b[32m━━━━━━━━━━━━━\u001b[0m\u001b[37m━━━━━━━\u001b[0m \u001b[1m4s\u001b[0m 14ms/step - accuracy: 0.3929 - loss: 2.3238"
          ]
        },
        {
          "output_type": "error",
          "ename": "KeyboardInterrupt",
          "evalue": "",
          "traceback": [
            "\u001b[0;31m---------------------------------------------------------------------------\u001b[0m",
            "\u001b[0;31mKeyboardInterrupt\u001b[0m                         Traceback (most recent call last)",
            "\u001b[0;32m<ipython-input-89-b8a11b046835>\u001b[0m in \u001b[0;36m<cell line: 1>\u001b[0;34m()\u001b[0m\n\u001b[0;32m----> 1\u001b[0;31m history = model.fit(\n\u001b[0m\u001b[1;32m      2\u001b[0m     \u001b[0mtrain_alb\u001b[0m\u001b[0;34m,\u001b[0m  \u001b[0;31m# 使用資料增強的訓練資料\u001b[0m\u001b[0;34m\u001b[0m\u001b[0;34m\u001b[0m\u001b[0m\n\u001b[1;32m      3\u001b[0m     \u001b[0mvalidation_data\u001b[0m\u001b[0;34m=\u001b[0m\u001b[0mvalidation_combine\u001b[0m\u001b[0;34m,\u001b[0m  \u001b[0;31m# 驗證資料集\u001b[0m\u001b[0;34m\u001b[0m\u001b[0;34m\u001b[0m\u001b[0m\n\u001b[1;32m      4\u001b[0m     \u001b[0mepochs\u001b[0m\u001b[0;34m=\u001b[0m\u001b[0;36m75\u001b[0m\u001b[0;34m,\u001b[0m  \u001b[0;31m# 設定訓練的周期數\u001b[0m\u001b[0;34m\u001b[0m\u001b[0;34m\u001b[0m\u001b[0m\n\u001b[1;32m      5\u001b[0m     \u001b[0mcallbacks\u001b[0m\u001b[0;34m=\u001b[0m\u001b[0;34m[\u001b[0m\u001b[0mcheckpoint\u001b[0m\u001b[0;34m,\u001b[0m \u001b[0mlr_scheduler\u001b[0m\u001b[0;34m]\u001b[0m\u001b[0;34m,\u001b[0m  \u001b[0;31m# 可選擇回調函數來儲存模型和調整學習率\u001b[0m\u001b[0;34m\u001b[0m\u001b[0;34m\u001b[0m\u001b[0m\n",
            "\u001b[0;32m/usr/local/lib/python3.10/dist-packages/keras/src/utils/traceback_utils.py\u001b[0m in \u001b[0;36merror_handler\u001b[0;34m(*args, **kwargs)\u001b[0m\n\u001b[1;32m    115\u001b[0m         \u001b[0mfiltered_tb\u001b[0m \u001b[0;34m=\u001b[0m \u001b[0;32mNone\u001b[0m\u001b[0;34m\u001b[0m\u001b[0;34m\u001b[0m\u001b[0m\n\u001b[1;32m    116\u001b[0m         \u001b[0;32mtry\u001b[0m\u001b[0;34m:\u001b[0m\u001b[0;34m\u001b[0m\u001b[0;34m\u001b[0m\u001b[0m\n\u001b[0;32m--> 117\u001b[0;31m             \u001b[0;32mreturn\u001b[0m \u001b[0mfn\u001b[0m\u001b[0;34m(\u001b[0m\u001b[0;34m*\u001b[0m\u001b[0margs\u001b[0m\u001b[0;34m,\u001b[0m \u001b[0;34m**\u001b[0m\u001b[0mkwargs\u001b[0m\u001b[0;34m)\u001b[0m\u001b[0;34m\u001b[0m\u001b[0;34m\u001b[0m\u001b[0m\n\u001b[0m\u001b[1;32m    118\u001b[0m         \u001b[0;32mexcept\u001b[0m \u001b[0mException\u001b[0m \u001b[0;32mas\u001b[0m \u001b[0me\u001b[0m\u001b[0;34m:\u001b[0m\u001b[0;34m\u001b[0m\u001b[0;34m\u001b[0m\u001b[0m\n\u001b[1;32m    119\u001b[0m             \u001b[0mfiltered_tb\u001b[0m \u001b[0;34m=\u001b[0m \u001b[0m_process_traceback_frames\u001b[0m\u001b[0;34m(\u001b[0m\u001b[0me\u001b[0m\u001b[0;34m.\u001b[0m\u001b[0m__traceback__\u001b[0m\u001b[0;34m)\u001b[0m\u001b[0;34m\u001b[0m\u001b[0;34m\u001b[0m\u001b[0m\n",
            "\u001b[0;32m/usr/local/lib/python3.10/dist-packages/keras/src/backend/tensorflow/trainer.py\u001b[0m in \u001b[0;36mfit\u001b[0;34m(self, x, y, batch_size, epochs, verbose, callbacks, validation_split, validation_data, shuffle, class_weight, sample_weight, initial_epoch, steps_per_epoch, validation_steps, validation_batch_size, validation_freq)\u001b[0m\n\u001b[1;32m    318\u001b[0m                 \u001b[0;32mfor\u001b[0m \u001b[0mstep\u001b[0m\u001b[0;34m,\u001b[0m \u001b[0miterator\u001b[0m \u001b[0;32min\u001b[0m \u001b[0mepoch_iterator\u001b[0m\u001b[0;34m.\u001b[0m\u001b[0menumerate_epoch\u001b[0m\u001b[0;34m(\u001b[0m\u001b[0;34m)\u001b[0m\u001b[0;34m:\u001b[0m\u001b[0;34m\u001b[0m\u001b[0;34m\u001b[0m\u001b[0m\n\u001b[1;32m    319\u001b[0m                     \u001b[0mcallbacks\u001b[0m\u001b[0;34m.\u001b[0m\u001b[0mon_train_batch_begin\u001b[0m\u001b[0;34m(\u001b[0m\u001b[0mstep\u001b[0m\u001b[0;34m)\u001b[0m\u001b[0;34m\u001b[0m\u001b[0;34m\u001b[0m\u001b[0m\n\u001b[0;32m--> 320\u001b[0;31m                     \u001b[0mlogs\u001b[0m \u001b[0;34m=\u001b[0m \u001b[0mself\u001b[0m\u001b[0;34m.\u001b[0m\u001b[0mtrain_function\u001b[0m\u001b[0;34m(\u001b[0m\u001b[0miterator\u001b[0m\u001b[0;34m)\u001b[0m\u001b[0;34m\u001b[0m\u001b[0;34m\u001b[0m\u001b[0m\n\u001b[0m\u001b[1;32m    321\u001b[0m                     \u001b[0mlogs\u001b[0m \u001b[0;34m=\u001b[0m \u001b[0mself\u001b[0m\u001b[0;34m.\u001b[0m\u001b[0m_pythonify_logs\u001b[0m\u001b[0;34m(\u001b[0m\u001b[0mlogs\u001b[0m\u001b[0;34m)\u001b[0m\u001b[0;34m\u001b[0m\u001b[0;34m\u001b[0m\u001b[0m\n\u001b[1;32m    322\u001b[0m                     \u001b[0mcallbacks\u001b[0m\u001b[0;34m.\u001b[0m\u001b[0mon_train_batch_end\u001b[0m\u001b[0;34m(\u001b[0m\u001b[0mstep\u001b[0m\u001b[0;34m,\u001b[0m \u001b[0mlogs\u001b[0m\u001b[0;34m)\u001b[0m\u001b[0;34m\u001b[0m\u001b[0;34m\u001b[0m\u001b[0m\n",
            "\u001b[0;32m/usr/local/lib/python3.10/dist-packages/tensorflow/python/util/traceback_utils.py\u001b[0m in \u001b[0;36merror_handler\u001b[0;34m(*args, **kwargs)\u001b[0m\n\u001b[1;32m    148\u001b[0m     \u001b[0mfiltered_tb\u001b[0m \u001b[0;34m=\u001b[0m \u001b[0;32mNone\u001b[0m\u001b[0;34m\u001b[0m\u001b[0;34m\u001b[0m\u001b[0m\n\u001b[1;32m    149\u001b[0m     \u001b[0;32mtry\u001b[0m\u001b[0;34m:\u001b[0m\u001b[0;34m\u001b[0m\u001b[0;34m\u001b[0m\u001b[0m\n\u001b[0;32m--> 150\u001b[0;31m       \u001b[0;32mreturn\u001b[0m \u001b[0mfn\u001b[0m\u001b[0;34m(\u001b[0m\u001b[0;34m*\u001b[0m\u001b[0margs\u001b[0m\u001b[0;34m,\u001b[0m \u001b[0;34m**\u001b[0m\u001b[0mkwargs\u001b[0m\u001b[0;34m)\u001b[0m\u001b[0;34m\u001b[0m\u001b[0;34m\u001b[0m\u001b[0m\n\u001b[0m\u001b[1;32m    151\u001b[0m     \u001b[0;32mexcept\u001b[0m \u001b[0mException\u001b[0m \u001b[0;32mas\u001b[0m \u001b[0me\u001b[0m\u001b[0;34m:\u001b[0m\u001b[0;34m\u001b[0m\u001b[0;34m\u001b[0m\u001b[0m\n\u001b[1;32m    152\u001b[0m       \u001b[0mfiltered_tb\u001b[0m \u001b[0;34m=\u001b[0m \u001b[0m_process_traceback_frames\u001b[0m\u001b[0;34m(\u001b[0m\u001b[0me\u001b[0m\u001b[0;34m.\u001b[0m\u001b[0m__traceback__\u001b[0m\u001b[0;34m)\u001b[0m\u001b[0;34m\u001b[0m\u001b[0;34m\u001b[0m\u001b[0m\n",
            "\u001b[0;32m/usr/local/lib/python3.10/dist-packages/tensorflow/python/eager/polymorphic_function/polymorphic_function.py\u001b[0m in \u001b[0;36m__call__\u001b[0;34m(self, *args, **kwds)\u001b[0m\n\u001b[1;32m    831\u001b[0m \u001b[0;34m\u001b[0m\u001b[0m\n\u001b[1;32m    832\u001b[0m       \u001b[0;32mwith\u001b[0m \u001b[0mOptionalXlaContext\u001b[0m\u001b[0;34m(\u001b[0m\u001b[0mself\u001b[0m\u001b[0;34m.\u001b[0m\u001b[0m_jit_compile\u001b[0m\u001b[0;34m)\u001b[0m\u001b[0;34m:\u001b[0m\u001b[0;34m\u001b[0m\u001b[0;34m\u001b[0m\u001b[0m\n\u001b[0;32m--> 833\u001b[0;31m         \u001b[0mresult\u001b[0m \u001b[0;34m=\u001b[0m \u001b[0mself\u001b[0m\u001b[0;34m.\u001b[0m\u001b[0m_call\u001b[0m\u001b[0;34m(\u001b[0m\u001b[0;34m*\u001b[0m\u001b[0margs\u001b[0m\u001b[0;34m,\u001b[0m \u001b[0;34m**\u001b[0m\u001b[0mkwds\u001b[0m\u001b[0;34m)\u001b[0m\u001b[0;34m\u001b[0m\u001b[0;34m\u001b[0m\u001b[0m\n\u001b[0m\u001b[1;32m    834\u001b[0m \u001b[0;34m\u001b[0m\u001b[0m\n\u001b[1;32m    835\u001b[0m       \u001b[0mnew_tracing_count\u001b[0m \u001b[0;34m=\u001b[0m \u001b[0mself\u001b[0m\u001b[0;34m.\u001b[0m\u001b[0mexperimental_get_tracing_count\u001b[0m\u001b[0;34m(\u001b[0m\u001b[0;34m)\u001b[0m\u001b[0;34m\u001b[0m\u001b[0;34m\u001b[0m\u001b[0m\n",
            "\u001b[0;32m/usr/local/lib/python3.10/dist-packages/tensorflow/python/eager/polymorphic_function/polymorphic_function.py\u001b[0m in \u001b[0;36m_call\u001b[0;34m(self, *args, **kwds)\u001b[0m\n\u001b[1;32m    876\u001b[0m       \u001b[0;31m# In this case we have not created variables on the first call. So we can\u001b[0m\u001b[0;34m\u001b[0m\u001b[0;34m\u001b[0m\u001b[0m\n\u001b[1;32m    877\u001b[0m       \u001b[0;31m# run the first trace but we should fail if variables are created.\u001b[0m\u001b[0;34m\u001b[0m\u001b[0;34m\u001b[0m\u001b[0m\n\u001b[0;32m--> 878\u001b[0;31m       results = tracing_compilation.call_function(\n\u001b[0m\u001b[1;32m    879\u001b[0m           \u001b[0margs\u001b[0m\u001b[0;34m,\u001b[0m \u001b[0mkwds\u001b[0m\u001b[0;34m,\u001b[0m \u001b[0mself\u001b[0m\u001b[0;34m.\u001b[0m\u001b[0m_variable_creation_config\u001b[0m\u001b[0;34m\u001b[0m\u001b[0;34m\u001b[0m\u001b[0m\n\u001b[1;32m    880\u001b[0m       )\n",
            "\u001b[0;32m/usr/local/lib/python3.10/dist-packages/tensorflow/python/eager/polymorphic_function/tracing_compilation.py\u001b[0m in \u001b[0;36mcall_function\u001b[0;34m(args, kwargs, tracing_options)\u001b[0m\n\u001b[1;32m    137\u001b[0m   \u001b[0mbound_args\u001b[0m \u001b[0;34m=\u001b[0m \u001b[0mfunction\u001b[0m\u001b[0;34m.\u001b[0m\u001b[0mfunction_type\u001b[0m\u001b[0;34m.\u001b[0m\u001b[0mbind\u001b[0m\u001b[0;34m(\u001b[0m\u001b[0;34m*\u001b[0m\u001b[0margs\u001b[0m\u001b[0;34m,\u001b[0m \u001b[0;34m**\u001b[0m\u001b[0mkwargs\u001b[0m\u001b[0;34m)\u001b[0m\u001b[0;34m\u001b[0m\u001b[0;34m\u001b[0m\u001b[0m\n\u001b[1;32m    138\u001b[0m   \u001b[0mflat_inputs\u001b[0m \u001b[0;34m=\u001b[0m \u001b[0mfunction\u001b[0m\u001b[0;34m.\u001b[0m\u001b[0mfunction_type\u001b[0m\u001b[0;34m.\u001b[0m\u001b[0munpack_inputs\u001b[0m\u001b[0;34m(\u001b[0m\u001b[0mbound_args\u001b[0m\u001b[0;34m)\u001b[0m\u001b[0;34m\u001b[0m\u001b[0;34m\u001b[0m\u001b[0m\n\u001b[0;32m--> 139\u001b[0;31m   return function._call_flat(  # pylint: disable=protected-access\n\u001b[0m\u001b[1;32m    140\u001b[0m       \u001b[0mflat_inputs\u001b[0m\u001b[0;34m,\u001b[0m \u001b[0mcaptured_inputs\u001b[0m\u001b[0;34m=\u001b[0m\u001b[0mfunction\u001b[0m\u001b[0;34m.\u001b[0m\u001b[0mcaptured_inputs\u001b[0m\u001b[0;34m\u001b[0m\u001b[0;34m\u001b[0m\u001b[0m\n\u001b[1;32m    141\u001b[0m   )\n",
            "\u001b[0;32m/usr/local/lib/python3.10/dist-packages/tensorflow/python/eager/polymorphic_function/concrete_function.py\u001b[0m in \u001b[0;36m_call_flat\u001b[0;34m(self, tensor_inputs, captured_inputs)\u001b[0m\n\u001b[1;32m   1320\u001b[0m         and executing_eagerly):\n\u001b[1;32m   1321\u001b[0m       \u001b[0;31m# No tape is watching; skip to running the function.\u001b[0m\u001b[0;34m\u001b[0m\u001b[0;34m\u001b[0m\u001b[0m\n\u001b[0;32m-> 1322\u001b[0;31m       \u001b[0;32mreturn\u001b[0m \u001b[0mself\u001b[0m\u001b[0;34m.\u001b[0m\u001b[0m_inference_function\u001b[0m\u001b[0;34m.\u001b[0m\u001b[0mcall_preflattened\u001b[0m\u001b[0;34m(\u001b[0m\u001b[0margs\u001b[0m\u001b[0;34m)\u001b[0m\u001b[0;34m\u001b[0m\u001b[0;34m\u001b[0m\u001b[0m\n\u001b[0m\u001b[1;32m   1323\u001b[0m     forward_backward = self._select_forward_and_backward_functions(\n\u001b[1;32m   1324\u001b[0m         \u001b[0margs\u001b[0m\u001b[0;34m,\u001b[0m\u001b[0;34m\u001b[0m\u001b[0;34m\u001b[0m\u001b[0m\n",
            "\u001b[0;32m/usr/local/lib/python3.10/dist-packages/tensorflow/python/eager/polymorphic_function/atomic_function.py\u001b[0m in \u001b[0;36mcall_preflattened\u001b[0;34m(self, args)\u001b[0m\n\u001b[1;32m    214\u001b[0m   \u001b[0;32mdef\u001b[0m \u001b[0mcall_preflattened\u001b[0m\u001b[0;34m(\u001b[0m\u001b[0mself\u001b[0m\u001b[0;34m,\u001b[0m \u001b[0margs\u001b[0m\u001b[0;34m:\u001b[0m \u001b[0mSequence\u001b[0m\u001b[0;34m[\u001b[0m\u001b[0mcore\u001b[0m\u001b[0;34m.\u001b[0m\u001b[0mTensor\u001b[0m\u001b[0;34m]\u001b[0m\u001b[0;34m)\u001b[0m \u001b[0;34m->\u001b[0m \u001b[0mAny\u001b[0m\u001b[0;34m:\u001b[0m\u001b[0;34m\u001b[0m\u001b[0;34m\u001b[0m\u001b[0m\n\u001b[1;32m    215\u001b[0m     \u001b[0;34m\"\"\"Calls with flattened tensor inputs and returns the structured output.\"\"\"\u001b[0m\u001b[0;34m\u001b[0m\u001b[0;34m\u001b[0m\u001b[0m\n\u001b[0;32m--> 216\u001b[0;31m     \u001b[0mflat_outputs\u001b[0m \u001b[0;34m=\u001b[0m \u001b[0mself\u001b[0m\u001b[0;34m.\u001b[0m\u001b[0mcall_flat\u001b[0m\u001b[0;34m(\u001b[0m\u001b[0;34m*\u001b[0m\u001b[0margs\u001b[0m\u001b[0;34m)\u001b[0m\u001b[0;34m\u001b[0m\u001b[0;34m\u001b[0m\u001b[0m\n\u001b[0m\u001b[1;32m    217\u001b[0m     \u001b[0;32mreturn\u001b[0m \u001b[0mself\u001b[0m\u001b[0;34m.\u001b[0m\u001b[0mfunction_type\u001b[0m\u001b[0;34m.\u001b[0m\u001b[0mpack_output\u001b[0m\u001b[0;34m(\u001b[0m\u001b[0mflat_outputs\u001b[0m\u001b[0;34m)\u001b[0m\u001b[0;34m\u001b[0m\u001b[0;34m\u001b[0m\u001b[0m\n\u001b[1;32m    218\u001b[0m \u001b[0;34m\u001b[0m\u001b[0m\n",
            "\u001b[0;32m/usr/local/lib/python3.10/dist-packages/tensorflow/python/eager/polymorphic_function/atomic_function.py\u001b[0m in \u001b[0;36mcall_flat\u001b[0;34m(self, *args)\u001b[0m\n\u001b[1;32m    249\u001b[0m         \u001b[0;32mwith\u001b[0m \u001b[0mrecord\u001b[0m\u001b[0;34m.\u001b[0m\u001b[0mstop_recording\u001b[0m\u001b[0;34m(\u001b[0m\u001b[0;34m)\u001b[0m\u001b[0;34m:\u001b[0m\u001b[0;34m\u001b[0m\u001b[0;34m\u001b[0m\u001b[0m\n\u001b[1;32m    250\u001b[0m           \u001b[0;32mif\u001b[0m \u001b[0mself\u001b[0m\u001b[0;34m.\u001b[0m\u001b[0m_bound_context\u001b[0m\u001b[0;34m.\u001b[0m\u001b[0mexecuting_eagerly\u001b[0m\u001b[0;34m(\u001b[0m\u001b[0;34m)\u001b[0m\u001b[0;34m:\u001b[0m\u001b[0;34m\u001b[0m\u001b[0;34m\u001b[0m\u001b[0m\n\u001b[0;32m--> 251\u001b[0;31m             outputs = self._bound_context.call_function(\n\u001b[0m\u001b[1;32m    252\u001b[0m                 \u001b[0mself\u001b[0m\u001b[0;34m.\u001b[0m\u001b[0mname\u001b[0m\u001b[0;34m,\u001b[0m\u001b[0;34m\u001b[0m\u001b[0;34m\u001b[0m\u001b[0m\n\u001b[1;32m    253\u001b[0m                 \u001b[0mlist\u001b[0m\u001b[0;34m(\u001b[0m\u001b[0margs\u001b[0m\u001b[0;34m)\u001b[0m\u001b[0;34m,\u001b[0m\u001b[0;34m\u001b[0m\u001b[0;34m\u001b[0m\u001b[0m\n",
            "\u001b[0;32m/usr/local/lib/python3.10/dist-packages/tensorflow/python/eager/context.py\u001b[0m in \u001b[0;36mcall_function\u001b[0;34m(self, name, tensor_inputs, num_outputs)\u001b[0m\n\u001b[1;32m   1550\u001b[0m     \u001b[0mcancellation_context\u001b[0m \u001b[0;34m=\u001b[0m \u001b[0mcancellation\u001b[0m\u001b[0;34m.\u001b[0m\u001b[0mcontext\u001b[0m\u001b[0;34m(\u001b[0m\u001b[0;34m)\u001b[0m\u001b[0;34m\u001b[0m\u001b[0;34m\u001b[0m\u001b[0m\n\u001b[1;32m   1551\u001b[0m     \u001b[0;32mif\u001b[0m \u001b[0mcancellation_context\u001b[0m \u001b[0;32mis\u001b[0m \u001b[0;32mNone\u001b[0m\u001b[0;34m:\u001b[0m\u001b[0;34m\u001b[0m\u001b[0;34m\u001b[0m\u001b[0m\n\u001b[0;32m-> 1552\u001b[0;31m       outputs = execute.execute(\n\u001b[0m\u001b[1;32m   1553\u001b[0m           \u001b[0mname\u001b[0m\u001b[0;34m.\u001b[0m\u001b[0mdecode\u001b[0m\u001b[0;34m(\u001b[0m\u001b[0;34m\"utf-8\"\u001b[0m\u001b[0;34m)\u001b[0m\u001b[0;34m,\u001b[0m\u001b[0;34m\u001b[0m\u001b[0;34m\u001b[0m\u001b[0m\n\u001b[1;32m   1554\u001b[0m           \u001b[0mnum_outputs\u001b[0m\u001b[0;34m=\u001b[0m\u001b[0mnum_outputs\u001b[0m\u001b[0;34m,\u001b[0m\u001b[0;34m\u001b[0m\u001b[0;34m\u001b[0m\u001b[0m\n",
            "\u001b[0;32m/usr/local/lib/python3.10/dist-packages/tensorflow/python/eager/execute.py\u001b[0m in \u001b[0;36mquick_execute\u001b[0;34m(op_name, num_outputs, inputs, attrs, ctx, name)\u001b[0m\n\u001b[1;32m     51\u001b[0m   \u001b[0;32mtry\u001b[0m\u001b[0;34m:\u001b[0m\u001b[0;34m\u001b[0m\u001b[0;34m\u001b[0m\u001b[0m\n\u001b[1;32m     52\u001b[0m     \u001b[0mctx\u001b[0m\u001b[0;34m.\u001b[0m\u001b[0mensure_initialized\u001b[0m\u001b[0;34m(\u001b[0m\u001b[0;34m)\u001b[0m\u001b[0;34m\u001b[0m\u001b[0;34m\u001b[0m\u001b[0m\n\u001b[0;32m---> 53\u001b[0;31m     tensors = pywrap_tfe.TFE_Py_Execute(ctx._handle, device_name, op_name,\n\u001b[0m\u001b[1;32m     54\u001b[0m                                         inputs, attrs, num_outputs)\n\u001b[1;32m     55\u001b[0m   \u001b[0;32mexcept\u001b[0m \u001b[0mcore\u001b[0m\u001b[0;34m.\u001b[0m\u001b[0m_NotOkStatusException\u001b[0m \u001b[0;32mas\u001b[0m \u001b[0me\u001b[0m\u001b[0;34m:\u001b[0m\u001b[0;34m\u001b[0m\u001b[0;34m\u001b[0m\u001b[0m\n",
            "\u001b[0;31mKeyboardInterrupt\u001b[0m: "
          ]
        }
      ]
    },
    {
      "cell_type": "code",
      "source": [
        "#對合併後的資料集進行標籤問題檢測\n",
        "def dataset_to_numpy_with_indices(dataset):\n",
        "    images, labels, indices = [], [], []\n",
        "    for i, (x, y) in enumerate(dataset):\n",
        "        images.append(x.numpy())\n",
        "        labels.append(y.numpy())\n",
        "        indices.append(np.arange(len(y)) + i * len(y))  # Track original indices\n",
        "    return np.concatenate(images), np.concatenate(labels), np.concatenate(indices)\n",
        "\n",
        "# 假設你的合併資料集是 train_combine，並將其轉換為 NumPy 格式\n",
        "X_train, y_train, original_indices = dataset_to_numpy_with_indices(train)\n",
        "\n",
        "# 使用模型預測來檢測標籤問題\n",
        "issues = find_label_issues(\n",
        "    labels=np.argmax(y_train, axis=1),  # 假設使用 one-hot 編碼\n",
        "    pred_probs=tf.nn.softmax(model.predict(train), axis=1).numpy(),\n",
        "    return_indices_ranked_by=\"self_confidence\",  # 這是自信度的排名\n",
        ")\n",
        "\n",
        "# 提取可能的標籤問題樣本索引\n",
        "aligned_indices = [original_indices[idx] for idx in issues[:16]]\n",
        "\n",
        "# 顯示問題的樣本\n",
        "print(f\"Possible label issues (indices): {aligned_indices}\")\n"
      ],
      "metadata": {
        "id": "7zd4-Hox5lQq"
      },
      "execution_count": null,
      "outputs": []
    },
    {
      "cell_type": "code",
      "source": [
        "# 打印標籤問題的前16個索引\n",
        "print(f\"Top 16 label issue indices (aligned): {aligned_indices}\")\n",
        "\n",
        "# 用於繪製標籤問題的函數\n",
        "def plot_label_issues_aligned(indices, images, labels, predictions):\n",
        "    fig, axes = plt.subplots(2, 8, figsize=(8, 8))\n",
        "    axes = axes.flatten()\n",
        "\n",
        "    for ax, idx in zip(axes, indices):\n",
        "        image = images[idx]\n",
        "        true_label = labels[idx]\n",
        "        predicted_label = np.argmax(predictions[idx])\n",
        "\n",
        "        ax.imshow(image.astype(\"uint8\"))\n",
        "        ax.axis(\"off\")\n",
        "        ax.set_title(\n",
        "            f\"True: {true_label}\\nPred: {predicted_label}\",\n",
        "            fontsize=10,\n",
        "            color=\"red\" if true_label != predicted_label else \"green\",\n",
        "        )\n",
        "\n",
        "    plt.tight_layout()\n",
        "    plt.show()\n",
        "\n",
        "# 取得預測結果\n",
        "predictions_combine = tf.nn.softmax(model.predict(train), axis=1).numpy()\n",
        "\n",
        "# 使用合併資料集中的圖像、標籤及預測進行繪製\n",
        "plot_label_issues_aligned(\n",
        "    aligned_indices,  # 使用合併資料的標籤問題索引\n",
        "    X_train,          # 使用合併資料集中的圖像\n",
        "    np.argmax(y_train, axis=1),  # 使用合併資料集中的標籤\n",
        "    predictions_combine       # 使用合併資料集中的預測結果\n",
        ")\n"
      ],
      "metadata": {
        "id": "RTxmmGvq5zhp"
      },
      "execution_count": null,
      "outputs": []
    },
    {
      "cell_type": "code",
      "source": [
        "# 計算前%的錯誤標籤\n",
        "num_errors = len(issues)\n",
        "top_30_percent = int(num_errors * 0.3)  # 計算 30% 的樣本數量\n",
        "\n",
        "# 提取錯誤標籤的前30%\n",
        "aligned_indices_combine = [original_indices[idx] for idx in issues[:top_30_percent]]"
      ],
      "metadata": {
        "id": "Lr_OkF2x6AJ7"
      },
      "execution_count": null,
      "outputs": []
    },
    {
      "cell_type": "markdown",
      "metadata": {
        "id": "SSRiwFuSLUss"
      },
      "source": [
        "# Getting started\n",
        "\n",
        "\n",
        "The dataset contains ~4400 images of handwritten roman numerals 1-10. **Your task is to optimize model performance by improving the dataset and making training and validation splits.**\n",
        "\n",
        "You can try fixing incorrect labels, adding data for side case tuning, apply data augmentation techniques, or use any other method to improve the data. You may also find it helpful to take a look at the training script to get a better sense of the model below (these are held fixed). The script will resize all images to `(32, 32)` and run them through a cut off version of ResNet50."
      ]
    },
    {
      "cell_type": "code",
      "execution_count": null,
      "metadata": {
        "execution": {
          "iopub.execute_input": "2023-04-08T04:22:02.414993Z",
          "iopub.status.busy": "2023-04-08T04:22:02.413829Z",
          "iopub.status.idle": "2023-04-08T04:31:44.903654Z",
          "shell.execute_reply": "2023-04-08T04:31:44.902607Z",
          "shell.execute_reply.started": "2023-04-08T04:22:02.414948Z"
        },
        "id": "ol5FYx43LUst",
        "trusted": true,
        "colab": {
          "base_uri": "https://localhost:8080/",
          "height": 450
        },
        "outputId": "d9158193-0104-4f92-a0ce-e3c328fb55ab"
      },
      "outputs": [
        {
          "output_type": "stream",
          "name": "stdout",
          "text": [
            "Found 9126 files belonging to 10 classes.\n",
            "Found 963 files belonging to 10 classes.\n",
            "Found 52 files belonging to 10 classes.\n",
            "Downloading from https://www.kaggle.com/api/v1/models/keras/resnetv1/keras/resnet50_imagenet/2/download/config.json...\n"
          ]
        },
        {
          "output_type": "stream",
          "name": "stderr",
          "text": [
            "100%|██████████| 777/777 [00:00<00:00, 1.57MB/s]\n"
          ]
        },
        {
          "output_type": "display_data",
          "data": {
            "text/plain": [
              "\u001b[1mModel: \"functional_1\"\u001b[0m\n"
            ],
            "text/html": [
              "<pre style=\"white-space:pre;overflow-x:auto;line-height:normal;font-family:Menlo,'DejaVu Sans Mono',consolas,'Courier New',monospace\"><span style=\"font-weight: bold\">Model: \"functional_1\"</span>\n",
              "</pre>\n"
            ]
          },
          "metadata": {}
        },
        {
          "output_type": "display_data",
          "data": {
            "text/plain": [
              "┏━━━━━━━━━━━━━━━━━━━━━━━━━━━━━━━━━━━━━━┳━━━━━━━━━━━━━━━━━━━━━━━━━━━━━┳━━━━━━━━━━━━━━━━━┓\n",
              "┃\u001b[1m \u001b[0m\u001b[1mLayer (type)                        \u001b[0m\u001b[1m \u001b[0m┃\u001b[1m \u001b[0m\u001b[1mOutput Shape               \u001b[0m\u001b[1m \u001b[0m┃\u001b[1m \u001b[0m\u001b[1m        Param #\u001b[0m\u001b[1m \u001b[0m┃\n",
              "┡━━━━━━━━━━━━━━━━━━━━━━━━━━━━━━━━━━━━━━╇━━━━━━━━━━━━━━━━━━━━━━━━━━━━━╇━━━━━━━━━━━━━━━━━┩\n",
              "│ input_layer_1 (\u001b[38;5;33mInputLayer\u001b[0m)           │ (\u001b[38;5;45mNone\u001b[0m, \u001b[38;5;34m32\u001b[0m, \u001b[38;5;34m32\u001b[0m, \u001b[38;5;34m3\u001b[0m)           │               \u001b[38;5;34m0\u001b[0m │\n",
              "├──────────────────────────────────────┼─────────────────────────────┼─────────────────┤\n",
              "│ functional (\u001b[38;5;33mFunctional\u001b[0m)              │ (\u001b[38;5;45mNone\u001b[0m, \u001b[38;5;34m8\u001b[0m, \u001b[38;5;34m8\u001b[0m, \u001b[38;5;34m256\u001b[0m)           │         \u001b[38;5;34m228,288\u001b[0m │\n",
              "├──────────────────────────────────────┼─────────────────────────────┼─────────────────┤\n",
              "│ global_average_pooling2d             │ (\u001b[38;5;45mNone\u001b[0m, \u001b[38;5;34m256\u001b[0m)                 │               \u001b[38;5;34m0\u001b[0m │\n",
              "│ (\u001b[38;5;33mGlobalAveragePooling2D\u001b[0m)             │                             │                 │\n",
              "├──────────────────────────────────────┼─────────────────────────────┼─────────────────┤\n",
              "│ dense (\u001b[38;5;33mDense\u001b[0m)                        │ (\u001b[38;5;45mNone\u001b[0m, \u001b[38;5;34m10\u001b[0m)                  │           \u001b[38;5;34m2,570\u001b[0m │\n",
              "└──────────────────────────────────────┴─────────────────────────────┴─────────────────┘\n"
            ],
            "text/html": [
              "<pre style=\"white-space:pre;overflow-x:auto;line-height:normal;font-family:Menlo,'DejaVu Sans Mono',consolas,'Courier New',monospace\">┏━━━━━━━━━━━━━━━━━━━━━━━━━━━━━━━━━━━━━━┳━━━━━━━━━━━━━━━━━━━━━━━━━━━━━┳━━━━━━━━━━━━━━━━━┓\n",
              "┃<span style=\"font-weight: bold\"> Layer (type)                         </span>┃<span style=\"font-weight: bold\"> Output Shape                </span>┃<span style=\"font-weight: bold\">         Param # </span>┃\n",
              "┡━━━━━━━━━━━━━━━━━━━━━━━━━━━━━━━━━━━━━━╇━━━━━━━━━━━━━━━━━━━━━━━━━━━━━╇━━━━━━━━━━━━━━━━━┩\n",
              "│ input_layer_1 (<span style=\"color: #0087ff; text-decoration-color: #0087ff\">InputLayer</span>)           │ (<span style=\"color: #00d7ff; text-decoration-color: #00d7ff\">None</span>, <span style=\"color: #00af00; text-decoration-color: #00af00\">32</span>, <span style=\"color: #00af00; text-decoration-color: #00af00\">32</span>, <span style=\"color: #00af00; text-decoration-color: #00af00\">3</span>)           │               <span style=\"color: #00af00; text-decoration-color: #00af00\">0</span> │\n",
              "├──────────────────────────────────────┼─────────────────────────────┼─────────────────┤\n",
              "│ functional (<span style=\"color: #0087ff; text-decoration-color: #0087ff\">Functional</span>)              │ (<span style=\"color: #00d7ff; text-decoration-color: #00d7ff\">None</span>, <span style=\"color: #00af00; text-decoration-color: #00af00\">8</span>, <span style=\"color: #00af00; text-decoration-color: #00af00\">8</span>, <span style=\"color: #00af00; text-decoration-color: #00af00\">256</span>)           │         <span style=\"color: #00af00; text-decoration-color: #00af00\">228,288</span> │\n",
              "├──────────────────────────────────────┼─────────────────────────────┼─────────────────┤\n",
              "│ global_average_pooling2d             │ (<span style=\"color: #00d7ff; text-decoration-color: #00d7ff\">None</span>, <span style=\"color: #00af00; text-decoration-color: #00af00\">256</span>)                 │               <span style=\"color: #00af00; text-decoration-color: #00af00\">0</span> │\n",
              "│ (<span style=\"color: #0087ff; text-decoration-color: #0087ff\">GlobalAveragePooling2D</span>)             │                             │                 │\n",
              "├──────────────────────────────────────┼─────────────────────────────┼─────────────────┤\n",
              "│ dense (<span style=\"color: #0087ff; text-decoration-color: #0087ff\">Dense</span>)                        │ (<span style=\"color: #00d7ff; text-decoration-color: #00d7ff\">None</span>, <span style=\"color: #00af00; text-decoration-color: #00af00\">10</span>)                  │           <span style=\"color: #00af00; text-decoration-color: #00af00\">2,570</span> │\n",
              "└──────────────────────────────────────┴─────────────────────────────┴─────────────────┘\n",
              "</pre>\n"
            ]
          },
          "metadata": {}
        },
        {
          "output_type": "display_data",
          "data": {
            "text/plain": [
              "\u001b[1m Total params: \u001b[0m\u001b[38;5;34m230,858\u001b[0m (901.79 KB)\n"
            ],
            "text/html": [
              "<pre style=\"white-space:pre;overflow-x:auto;line-height:normal;font-family:Menlo,'DejaVu Sans Mono',consolas,'Courier New',monospace\"><span style=\"font-weight: bold\"> Total params: </span><span style=\"color: #00af00; text-decoration-color: #00af00\">230,858</span> (901.79 KB)\n",
              "</pre>\n"
            ]
          },
          "metadata": {}
        },
        {
          "output_type": "display_data",
          "data": {
            "text/plain": [
              "\u001b[1m Trainable params: \u001b[0m\u001b[38;5;34m227,914\u001b[0m (890.29 KB)\n"
            ],
            "text/html": [
              "<pre style=\"white-space:pre;overflow-x:auto;line-height:normal;font-family:Menlo,'DejaVu Sans Mono',consolas,'Courier New',monospace\"><span style=\"font-weight: bold\"> Trainable params: </span><span style=\"color: #00af00; text-decoration-color: #00af00\">227,914</span> (890.29 KB)\n",
              "</pre>\n"
            ]
          },
          "metadata": {}
        },
        {
          "output_type": "display_data",
          "data": {
            "text/plain": [
              "\u001b[1m Non-trainable params: \u001b[0m\u001b[38;5;34m2,944\u001b[0m (11.50 KB)\n"
            ],
            "text/html": [
              "<pre style=\"white-space:pre;overflow-x:auto;line-height:normal;font-family:Menlo,'DejaVu Sans Mono',consolas,'Courier New',monospace\"><span style=\"font-weight: bold\"> Non-trainable params: </span><span style=\"color: #00af00; text-decoration-color: #00af00\">2,944</span> (11.50 KB)\n",
              "</pre>\n"
            ]
          },
          "metadata": {}
        },
        {
          "output_type": "stream",
          "name": "stdout",
          "text": [
            "\u001b[1m121/121\u001b[0m \u001b[32m━━━━━━━━━━━━━━━━━━━━\u001b[0m\u001b[37m\u001b[0m \u001b[1m4s\u001b[0m 10ms/step - accuracy: 0.1106 - loss: 2.3070\n",
            "loss 2.309457302093506, acc 0.10176531970500946\n"
          ]
        },
        {
          "output_type": "execute_result",
          "data": {
            "text/plain": [
              "'\\nhistory = model.fit(\\n        train,\\n        validation_data=valid,\\n        epochs=75,\\n        callbacks=[checkpoint, lr_scheduler],\\n)\\n\\nmodel.load_weights(\"best_model.weights.h5\")\\n\\nloss, acc = model.evaluate(valid)\\nprint(f\"final loss {loss}, final acc {acc}\")\\n\\ntest_loss, test_acc = model.evaluate(test)\\nprint(f\"test loss {test_loss}, test acc {test_acc}\")\\n'"
            ],
            "application/vnd.google.colaboratory.intrinsic+json": {
              "type": "string"
            }
          },
          "metadata": {},
          "execution_count": 43
        }
      ],
      "source": [
        "### DO NOT MODIFY BELOW THIS LINE, THIS IS THE FIXED MODEL ###\n",
        "tf.keras.backend.clear_session()\n",
        "batch_size = 8\n",
        "tf.random.set_seed(2024)\n",
        "\n",
        "train = tf.keras.preprocessing.image_dataset_from_directory(\n",
        "        user_data + '/train',\n",
        "        labels=\"inferred\",\n",
        "        label_mode=\"categorical\",\n",
        "        class_names=[\"i\", \"ii\", \"iii\", \"iv\", \"v\", \"vi\", \"vii\", \"viii\", \"ix\", \"x\"],\n",
        "        shuffle=True,\n",
        "        seed=123,\n",
        "        batch_size=batch_size,\n",
        "        image_size=(32, 32),\n",
        "    )\n",
        "\n",
        "valid = tf.keras.preprocessing.image_dataset_from_directory(\n",
        "        user_data + '/val',\n",
        "        labels=\"inferred\",\n",
        "        label_mode=\"categorical\",\n",
        "        class_names=[\"i\", \"ii\", \"iii\", \"iv\", \"v\", \"vi\", \"vii\", \"viii\", \"ix\", \"x\"],\n",
        "        shuffle=True,\n",
        "        seed=123,\n",
        "        batch_size=batch_size,\n",
        "        image_size=(32, 32),\n",
        ")\n",
        "\n",
        "total_length = ((train.cardinality() + valid.cardinality()) * batch_size).numpy()\n",
        "\n",
        "if total_length > 12_000:\n",
        "    print(f\"Dataset size larger than 12,000. Got {total_length} examples\")\n",
        "    sys.exit()\n",
        "\n",
        "test = tf.keras.preprocessing.image_dataset_from_directory(\n",
        "        test_data,\n",
        "        labels=\"inferred\",\n",
        "        label_mode=\"categorical\",\n",
        "        class_names=[\"i\", \"ii\", \"iii\", \"iv\", \"v\", \"vi\", \"vii\", \"viii\", \"ix\", \"x\"],\n",
        "        shuffle=False,\n",
        "        seed=123,\n",
        "        batch_size=batch_size,\n",
        "        image_size=(32, 32),\n",
        ")\n",
        "\n",
        "# Initialize the base model using KerasCV's ResNet50\n",
        "backbone = keras_cv.models.ResNet50Backbone.from_preset(\n",
        "    input_shape=(32, 32, 3),\n",
        "    preset = \"resnet50_imagenet\",\n",
        "    load_weights=False,\n",
        ")\n",
        "\n",
        "# Create a new model that outputs the desired intermediate layer\n",
        "base_model = tf.keras.Model(\n",
        "    inputs=backbone.inputs,\n",
        "    outputs=backbone.get_layer(\"v2_stack_0_block3_out\").output\n",
        ")\n",
        "\n",
        "# Define the input tensor\n",
        "inputs = tf.keras.Input(shape=(32, 32, 3))\n",
        "\n",
        "# Pass the preprocessed input through the base model\n",
        "x = base_model(inputs)\n",
        "\n",
        "# Add global average pooling\n",
        "x = tf.keras.layers.GlobalAveragePooling2D()(x)\n",
        "\n",
        "# Add a dense layer for classification (assuming 10 classes)\n",
        "x = tf.keras.layers.Dense(10)(x)\n",
        "\n",
        "# Define the final model\n",
        "model = tf.keras.Model(inputs, x)\n",
        "\n",
        "# Compile the model with appropriate optimizer, loss, and metrics\n",
        "model.compile(\n",
        "    optimizer=tf.keras.optimizers.Adam(learning_rate=0.0001),\n",
        "    loss=tf.keras.losses.CategoricalCrossentropy(from_logits=True),\n",
        "    metrics=[\"accuracy\"],\n",
        ")\n",
        "\n",
        "# Display the model's architecture\n",
        "model.summary()\n",
        "\n",
        "loss_0, acc_0 = model.evaluate(valid)\n",
        "print(f\"loss {loss_0}, acc {acc_0}\")\n",
        "\n",
        "checkpoint = tf.keras.callbacks.ModelCheckpoint(\n",
        "        \"best_model.weights.h5\",\n",
        "        monitor=\"val_accuracy\",\n",
        "        mode=\"max\",\n",
        "        save_best_only=True,\n",
        "        save_weights_only=True,\n",
        ")\n",
        "lr_scheduler = tf.keras.callbacks.ReduceLROnPlateau(factor=0.1, patience=10, verbose=1, min_lr=1e-7)\n",
        "\n",
        "'''\n",
        "history = model.fit(\n",
        "        train,\n",
        "        validation_data=valid,\n",
        "        epochs=75,\n",
        "        callbacks=[checkpoint, lr_scheduler],\n",
        ")\n",
        "\n",
        "model.load_weights(\"best_model.weights.h5\")\n",
        "\n",
        "loss, acc = model.evaluate(valid)\n",
        "print(f\"final loss {loss}, final acc {acc}\")\n",
        "\n",
        "test_loss, test_acc = model.evaluate(test)\n",
        "print(f\"test loss {test_loss}, test acc {test_acc}\")\n",
        "'''\n",
        "### DO NOT MODIFY ABOVE THIS LINE, THIS IS THE FIXED MODEL ###"
      ]
    },
    {
      "cell_type": "code",
      "source": [
        "!pip install scikeras -qq"
      ],
      "metadata": {
        "id": "U-ncsJxMVkUF"
      },
      "execution_count": null,
      "outputs": []
    },
    {
      "cell_type": "code",
      "source": [
        "predicted_labels=model.predict(train)"
      ],
      "metadata": {
        "colab": {
          "base_uri": "https://localhost:8080/"
        },
        "id": "JWl2KsqtKN1R",
        "outputId": "d624c776-8d53-4ba5-d35f-e331e5efd2c7"
      },
      "execution_count": null,
      "outputs": [
        {
          "output_type": "stream",
          "name": "stdout",
          "text": [
            "\u001b[1m1287/1287\u001b[0m \u001b[32m━━━━━━━━━━━━━━━━━━━━\u001b[0m\u001b[37m\u001b[0m \u001b[1m4s\u001b[0m 3ms/step\n"
          ]
        }
      ]
    },
    {
      "cell_type": "code",
      "source": [
        "all_labels = []  # Initialize an empty list to store labels\n",
        "\n",
        "for images, labels in train:\n",
        "  # labels is a tensor containing one-hot encoded labels for the batch\n",
        "  # Convert labels to class indices (0-9)\n",
        "  class_indices = np.argmax(labels.numpy(), axis=1)\n",
        "  all_labels.extend(class_indices)  # Add labels to the list\n",
        "\n",
        "# Convert the list of labels to a NumPy array\n",
        "all_labels = np.array(all_labels)"
      ],
      "metadata": {
        "id": "WEZkkm4oKtwM"
      },
      "execution_count": null,
      "outputs": []
    },
    {
      "cell_type": "code",
      "source": [
        "predicted_labels = np.array(predicted_labels)"
      ],
      "metadata": {
        "id": "8jamZWFXSmRC"
      },
      "execution_count": null,
      "outputs": []
    },
    {
      "cell_type": "code",
      "source": [
        "predicted_labels.shape"
      ],
      "metadata": {
        "colab": {
          "base_uri": "https://localhost:8080/"
        },
        "id": "Vn7c0zvYYfex",
        "outputId": "2fdabca8-f85c-4ad5-a3a5-a77cb2d0d3bb"
      },
      "execution_count": null,
      "outputs": [
        {
          "output_type": "execute_result",
          "data": {
            "text/plain": [
              "(10289, 10)"
            ]
          },
          "metadata": {},
          "execution_count": 109
        }
      ]
    },
    {
      "cell_type": "code",
      "source": [
        "from scipy.special import softmax"
      ],
      "metadata": {
        "id": "zZkuxObAZ1-H"
      },
      "execution_count": null,
      "outputs": []
    },
    {
      "cell_type": "code",
      "source": [
        "\n",
        "predicted=softmax(predicted_labels)\n",
        "trainn_label=np.array(all_labels)\n",
        "ranked_label_issues=find_label_issues(\n",
        "    trainn_label,\n",
        "    predicted,\n",
        "    return_indices_ranked_by=\"self_confidence\",\n",
        ")\n"
      ],
      "metadata": {
        "id": "V3S2bBiuKaZ9"
      },
      "execution_count": null,
      "outputs": []
    },
    {
      "cell_type": "code",
      "source": [
        "len(ranked_label_issues)"
      ],
      "metadata": {
        "colab": {
          "base_uri": "https://localhost:8080/"
        },
        "id": "gg0NdBIIbJMV",
        "outputId": "f73d849a-032a-4877-b01f-8e2f3b10526b"
      },
      "execution_count": null,
      "outputs": [
        {
          "output_type": "execute_result",
          "data": {
            "text/plain": [
              "7688"
            ]
          },
          "metadata": {},
          "execution_count": 118
        }
      ]
    },
    {
      "cell_type": "code",
      "source": [
        "import matplotlib.pyplot as plt\n",
        "import numpy as np\n",
        "\n",
        "# Ensure you have `ranked_label_issues` from Cleanlab\n",
        "# ranked_label_issues contains indices of potential label issues ranked by confidence\n",
        "\n",
        "# Get the first 15 examples\n",
        "num_examples = 15\n",
        "example_indices = ranked_label_issues[:num_examples]\n",
        "\n",
        "# Prepare a dataset iterator to extract images and labels\n",
        "image_batches = []\n",
        "label_batches = []\n",
        "\n",
        "for images, labels in train:\n",
        "    image_batches.append(images.numpy())\n",
        "    label_batches.append(labels.numpy())\n",
        "\n",
        "# Concatenate all batches to get the full dataset in memory\n",
        "all_images = np.concatenate(image_batches, axis=0)\n",
        "all_true_labels = np.concatenate(label_batches, axis=0)\n",
        "\n",
        "# Create the plot\n",
        "plt.figure(figsize=(15, 15))\n",
        "\n",
        "for i, idx in enumerate(example_indices[:num_examples]):\n",
        "    plt.subplot(3, 5, i + 1)  # 3 rows, 5 columns\n",
        "    plt.imshow(all_images[idx].astype(\"uint8\"))  # Display the image\n",
        "    true_label = np.argmax(all_true_labels[idx])  # Convert one-hot label to class index\n",
        "    plt.title(f\"Index: {idx}\\nTrue: {true_label}\\nPred: {np.argmax(predicted[idx])}\")\n",
        "    plt.axis(\"off\")\n",
        "\n",
        "plt.tight_layout()\n",
        "plt.show()\n"
      ],
      "metadata": {
        "colab": {
          "base_uri": "https://localhost:8080/",
          "height": 769
        },
        "id": "BnoJnVj5a-SC",
        "outputId": "51dbd914-db44-4c0f-c016-801d30fd03a2"
      },
      "execution_count": null,
      "outputs": [
        {
          "output_type": "display_data",
          "data": {
            "text/plain": [
              "<Figure size 1500x1500 with 15 Axes>"
            ],
            "image/png": "[encoded data removed]"
          },
          "metadata": {}
        }
      ]
    },
    {
      "cell_type": "code",
      "source": [
        "replace_ratio = 0.3\n",
        "num_issues_to_replace = int(len(ranked_label_issues) * replace_ratio)\n",
        "\n",
        "# 获取需要替换的样本索引\n",
        "indices_to_replace = ranked_label_issues[:num_issues_to_replace]\n",
        "\n",
        "# 替换标签\n",
        "for idx in indices_to_replace:\n",
        "    # 获取模型预测的概率最高类别\n",
        "    predicted_class = np.argmax(predicted[idx])\n",
        "    # 替换标签\n",
        "    all_labels[idx] = predicted_class\n",
        "for idx in indices_to_replace[:5]:\n",
        "    print(f\"Index {idx}: New Label = {all_labels[idx]}\")"
      ],
      "metadata": {
        "colab": {
          "base_uri": "https://localhost:8080/"
        },
        "id": "wYfs_U1zcLmi",
        "outputId": "b8106c18-ffd3-4907-c240-1a3a5d8c8413"
      },
      "execution_count": null,
      "outputs": [
        {
          "output_type": "stream",
          "name": "stdout",
          "text": [
            "Index 1559: New Label = 7\n",
            "Index 4285: New Label = 0\n",
            "Index 7173: New Label = 1\n",
            "Index 8861: New Label = 3\n",
            "Index 5821: New Label = 7\n"
          ]
        }
      ]
    },
    {
      "cell_type": "markdown",
      "metadata": {
        "id": "MakJWLXHLUsu"
      },
      "source": [
        "## Make your submission"
      ]
    },
    {
      "cell_type": "markdown",
      "metadata": {
        "id": "X9kYrrD4LUsu"
      },
      "source": [
        "Remember that the evaluation metric is Macro F1 score, you may want to also evaluate the above results using the Macro F1 score before submission."
      ]
    },
    {
      "cell_type": "code",
      "execution_count": null,
      "metadata": {
        "execution": {
          "iopub.execute_input": "2023-04-08T04:32:28.734394Z",
          "iopub.status.busy": "2023-04-08T04:32:28.734019Z",
          "iopub.status.idle": "2023-04-08T04:32:30.496472Z",
          "shell.execute_reply": "2023-04-08T04:32:30.495412Z",
          "shell.execute_reply.started": "2023-04-08T04:32:28.734361Z"
        },
        "id": "CF6kwgHRLUsv",
        "trusted": true,
        "colab": {
          "base_uri": "https://localhost:8080/"
        },
        "outputId": "5bdd44cb-cadb-411f-9a2a-20419eff6a01"
      },
      "outputs": [
        {
          "output_type": "stream",
          "name": "stdout",
          "text": [
            "Found 500 files belonging to 1 classes.\n",
            "\u001b[1m500/500\u001b[0m \u001b[32m━━━━━━━━━━━━━━━━━━━━\u001b[0m\u001b[37m\u001b[0m \u001b[1m2s\u001b[0m 2ms/step\n"
          ]
        }
      ],
      "source": [
        "test_dataset = tf.keras.preprocessing.image_dataset_from_directory(\n",
        "    directory+\"testing_data\",\n",
        "    shuffle = False,\n",
        "    image_size=(32, 32),\n",
        "    batch_size=1)\n",
        "\n",
        "prob = model.predict(test_dataset)\n",
        "predictions = []\n",
        "for i in range(0, prob.shape[0]):\n",
        "    predictions.append(np.argmax(prob[i,:])+1)"
      ]
    },
    {
      "cell_type": "code",
      "execution_count": null,
      "metadata": {
        "id": "gHXxkWHwg_g8"
      },
      "outputs": [],
      "source": [
        "import pandas as pd\n",
        "\n",
        "paths = test_dataset.file_paths\n",
        "\n",
        "Ids = []\n",
        "for x in paths:\n",
        "    Ids.append(x.split(\"/\")[-1])\n",
        "\n",
        "df = pd.DataFrame()\n",
        "df[\"Id\"] = Ids\n",
        "df[\"Predicted\"] = predictions\n",
        "df.to_csv(\"submission.csv\", index=False)"
      ]
    }
  ],
  "metadata": {
    "colab": {
      "provenance": [],
      "gpuType": "T4",
      "toc_visible": true,
      "include_colab_link": true
    },
    "kernelspec": {
      "display_name": "Python 3",
      "name": "python3"
    },
    "language_info": {
      "codemirror_mode": {
        "name": "ipython",
        "version": 3
      },
      "file_extension": ".py",
      "mimetype": "text/x-python",
      "name": "python",
      "nbconvert_exporter": "python",
      "pygments_lexer": "ipython3",
      "version": "3.7.12"
    },
    "accelerator": "GPU"
  },
  "nbformat": 4,
  "nbformat_minor": 0
}