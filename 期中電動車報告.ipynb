{
  "cells": [
    {
      "cell_type": "markdown",
      "metadata": {
        "id": "view-in-github",
        "colab_type": "text"
      },
      "source": [
        "<a href=\"https://colab.research.google.com/github/justin6677/data_science/blob/main/%E6%9C%9F%E4%B8%AD%E9%9B%BB%E5%8B%95%E8%BB%8A%E5%A0%B1%E5%91%8A.ipynb\" target=\"_parent\"><img src=\"https://colab.research.google.com/assets/colab-badge.svg\" alt=\"Open In Colab\"/></a>"
      ]
    },
    {
      "cell_type": "markdown",
      "metadata": {
        "id": "vZocInPxzR_y"
      },
      "source": [
        "##data"
      ]
    },
    {
      "cell_type": "code",
      "source": [],
      "metadata": {
        "id": "gL2Slw_ihiR5"
      },
      "execution_count": null,
      "outputs": []
    },
    {
      "cell_type": "markdown",
      "source": [
        "###install package and data"
      ],
      "metadata": {
        "id": "BWRDDlpTJwFi"
      }
    },
    {
      "cell_type": "code",
      "source": [
        "%pip install --pre pycaret[full] -qq\n"
      ],
      "metadata": {
        "id": "x12WUsN_iofE",
        "collapsed": true,
        "colab": {
          "base_uri": "https://localhost:8080/"
        },
        "outputId": "2e03e600-a815-4dac-f4d8-6a358a14a18b"
      },
      "execution_count": null,
      "outputs": [
        {
          "output_type": "stream",
          "name": "stdout",
          "text": [
            "\u001b[2K     \u001b[90m━━━━━━━━━━━━━━━━━━━━━━━━━━━━━━━━━━━━━━━━\u001b[0m \u001b[32m60.4/60.4 kB\u001b[0m \u001b[31m2.5 MB/s\u001b[0m eta \u001b[36m0:00:00\u001b[0m\n",
            "\u001b[2K     \u001b[90m━━━━━━━━━━━━━━━━━━━━━━━━━━━━━━━━━━━━━━━━\u001b[0m \u001b[32m165.8/165.8 kB\u001b[0m \u001b[31m9.7 MB/s\u001b[0m eta \u001b[36m0:00:00\u001b[0m\n",
            "\u001b[?25h  Preparing metadata (setup.py) ... \u001b[?25l\u001b[?25hdone\n",
            "\u001b[2K     \u001b[90m━━━━━━━━━━━━━━━━━━━━━━━━━━━━━━━━━━━━━━━━\u001b[0m \u001b[32m105.3/105.3 kB\u001b[0m \u001b[31m11.7 MB/s\u001b[0m eta \u001b[36m0:00:00\u001b[0m\n",
            "\u001b[2K     \u001b[90m━━━━━━━━━━━━━━━━━━━━━━━━━━━━━━━━━━━━━━━━\u001b[0m \u001b[32m41.9/41.9 kB\u001b[0m \u001b[31m4.1 MB/s\u001b[0m eta \u001b[36m0:00:00\u001b[0m\n",
            "\u001b[2K     \u001b[90m━━━━━━━━━━━━━━━━━━━━━━━━━━━━━━━━━━━━━━━━\u001b[0m \u001b[32m154.7/154.7 kB\u001b[0m \u001b[31m13.0 MB/s\u001b[0m eta \u001b[36m0:00:00\u001b[0m\n",
            "\u001b[?25h  Preparing metadata (setup.py) ... \u001b[?25l\u001b[?25hdone\n",
            "\u001b[2K     \u001b[90m━━━━━━━━━━━━━━━━━━━━━━━━━━━━━━━━━━━━━━━━\u001b[0m \u001b[32m4.0/4.0 MB\u001b[0m \u001b[31m48.5 MB/s\u001b[0m eta \u001b[36m0:00:00\u001b[0m\n",
            "\u001b[?25h  Preparing metadata (setup.py) ... \u001b[?25l\u001b[?25hdone\n",
            "\u001b[2K     \u001b[90m━━━━━━━━━━━━━━━━━━━━━━━━━━━━━━━━━━━━━━━━\u001b[0m \u001b[32m46.7/46.7 kB\u001b[0m \u001b[31m5.4 MB/s\u001b[0m eta \u001b[36m0:00:00\u001b[0m\n",
            "\u001b[?25h  Preparing metadata (setup.py) ... \u001b[?25l\u001b[?25hdone\n",
            "\u001b[2K     \u001b[90m━━━━━━━━━━━━━━━━━━━━━━━━━━━━━━━━━━━━━━━━\u001b[0m \u001b[32m50.1/50.1 kB\u001b[0m \u001b[31m4.9 MB/s\u001b[0m eta \u001b[36m0:00:00\u001b[0m\n",
            "\u001b[2K     \u001b[90m━━━━━━━━━━━━━━━━━━━━━━━━━━━━━━━━━━━━━━━━\u001b[0m \u001b[32m44.1/44.1 kB\u001b[0m \u001b[31m4.5 MB/s\u001b[0m eta \u001b[36m0:00:00\u001b[0m\n",
            "\u001b[2K   \u001b[90m━━━━━━━━━━━━━━━━━━━━━━━━━━━━━━━━━━━━━━━━\u001b[0m \u001b[32m177.5/177.5 kB\u001b[0m \u001b[31m17.6 MB/s\u001b[0m eta \u001b[36m0:00:00\u001b[0m\n",
            "\u001b[2K   \u001b[90m━━━━━━━━━━━━━━━━━━━━━━━━━━━━━━━━━━━━━━━━\u001b[0m \u001b[32m106.8/106.8 kB\u001b[0m \u001b[31m12.3 MB/s\u001b[0m eta \u001b[36m0:00:00\u001b[0m\n",
            "\u001b[2K   \u001b[90m━━━━━━━━━━━━━━━━━━━━━━━━━━━━━━━━━━━━━━━━\u001b[0m \u001b[32m21.8/21.8 MB\u001b[0m \u001b[31m75.5 MB/s\u001b[0m eta \u001b[36m0:00:00\u001b[0m\n",
            "\u001b[2K   \u001b[90m━━━━━━━━━━━━━━━━━━━━━━━━━━━━━━━━━━━━━━━━\u001b[0m \u001b[32m139.2/139.2 kB\u001b[0m \u001b[31m15.8 MB/s\u001b[0m eta \u001b[36m0:00:00\u001b[0m\n",
            "\u001b[2K   \u001b[90m━━━━━━━━━━━━━━━━━━━━━━━━━━━━━━━━━━━━━━━━\u001b[0m \u001b[32m98.7/98.7 MB\u001b[0m \u001b[31m8.4 MB/s\u001b[0m eta \u001b[36m0:00:00\u001b[0m\n",
            "\u001b[2K   \u001b[90m━━━━━━━━━━━━━━━━━━━━━━━━━━━━━━━━━━━━━━━━\u001b[0m \u001b[32m82.0/82.0 kB\u001b[0m \u001b[31m9.1 MB/s\u001b[0m eta \u001b[36m0:00:00\u001b[0m\n",
            "\u001b[2K   \u001b[90m━━━━━━━━━━━━━━━━━━━━━━━━━━━━━━━━━━━━━━━━\u001b[0m \u001b[32m1.0/1.0 MB\u001b[0m \u001b[31m64.8 MB/s\u001b[0m eta \u001b[36m0:00:00\u001b[0m\n",
            "\u001b[2K   \u001b[90m━━━━━━━━━━━━━━━━━━━━━━━━━━━━━━━━━━━━━━━━\u001b[0m \u001b[32m3.5/3.5 MB\u001b[0m \u001b[31m91.6 MB/s\u001b[0m eta \u001b[36m0:00:00\u001b[0m\n",
            "\u001b[2K   \u001b[90m━━━━━━━━━━━━━━━━━━━━━━━━━━━━━━━━━━━━━━━━\u001b[0m \u001b[32m287.8/287.8 kB\u001b[0m \u001b[31m28.8 MB/s\u001b[0m eta \u001b[36m0:00:00\u001b[0m\n",
            "\u001b[2K   \u001b[90m━━━━━━━━━━━━━━━━━━━━━━━━━━━━━━━━━━━━━━━━\u001b[0m \u001b[32m279.8/279.8 kB\u001b[0m \u001b[31m27.5 MB/s\u001b[0m eta \u001b[36m0:00:00\u001b[0m\n",
            "\u001b[2K   \u001b[90m━━━━━━━━━━━━━━━━━━━━━━━━━━━━━━━━━━━━━━━━\u001b[0m \u001b[32m56.7/56.7 MB\u001b[0m \u001b[31m16.7 MB/s\u001b[0m eta \u001b[36m0:00:00\u001b[0m\n",
            "\u001b[2K   \u001b[90m━━━━━━━━━━━━━━━━━━━━━━━━━━━━━━━━━━━━━━━━\u001b[0m \u001b[32m319.8/319.8 kB\u001b[0m \u001b[31m30.8 MB/s\u001b[0m eta \u001b[36m0:00:00\u001b[0m\n",
            "\u001b[2K   \u001b[90m━━━━━━━━━━━━━━━━━━━━━━━━━━━━━━━━━━━━━━━━\u001b[0m \u001b[32m94.7/94.7 kB\u001b[0m \u001b[31m11.4 MB/s\u001b[0m eta \u001b[36m0:00:00\u001b[0m\n",
            "\u001b[2K   \u001b[90m━━━━━━━━━━━━━━━━━━━━━━━━━━━━━━━━━━━━━━━━\u001b[0m \u001b[32m14.5/14.5 MB\u001b[0m \u001b[31m98.2 MB/s\u001b[0m eta \u001b[36m0:00:00\u001b[0m\n",
            "\u001b[2K   \u001b[90m━━━━━━━━━━━━━━━━━━━━━━━━━━━━━━━━━━━━━━━━\u001b[0m \u001b[32m302.2/302.2 kB\u001b[0m \u001b[31m30.0 MB/s\u001b[0m eta \u001b[36m0:00:00\u001b[0m\n",
            "\u001b[2K   \u001b[90m━━━━━━━━━━━━━━━━━━━━━━━━━━━━━━━━━━━━━━━━\u001b[0m \u001b[32m1.8/1.8 MB\u001b[0m \u001b[31m76.0 MB/s\u001b[0m eta \u001b[36m0:00:00\u001b[0m\n",
            "\u001b[2K   \u001b[90m━━━━━━━━━━━━━━━━━━━━━━━━━━━━━━━━━━━━━━━━\u001b[0m \u001b[32m92.2/92.2 kB\u001b[0m \u001b[31m10.5 MB/s\u001b[0m eta \u001b[36m0:00:00\u001b[0m\n",
            "\u001b[2K   \u001b[90m━━━━━━━━━━━━━━━━━━━━━━━━━━━━━━━━━━━━━━━━\u001b[0m \u001b[32m11.6/11.6 MB\u001b[0m \u001b[31m96.3 MB/s\u001b[0m eta \u001b[36m0:00:00\u001b[0m\n",
            "\u001b[2K   \u001b[90m━━━━━━━━━━━━━━━━━━━━━━━━━━━━━━━━━━━━━━━━\u001b[0m \u001b[32m26.7/26.7 MB\u001b[0m \u001b[31m18.0 MB/s\u001b[0m eta \u001b[36m0:00:00\u001b[0m\n",
            "\u001b[2K   \u001b[90m━━━━━━━━━━━━━━━━━━━━━━━━━━━━━━━━━━━━━━━━\u001b[0m \u001b[32m5.7/5.7 MB\u001b[0m \u001b[31m98.9 MB/s\u001b[0m eta \u001b[36m0:00:00\u001b[0m\n",
            "\u001b[2K   \u001b[90m━━━━━━━━━━━━━━━━━━━━━━━━━━━━━━━━━━━━━━━━\u001b[0m \u001b[32m3.3/3.3 MB\u001b[0m \u001b[31m84.8 MB/s\u001b[0m eta \u001b[36m0:00:00\u001b[0m\n",
            "\u001b[2K   \u001b[90m━━━━━━━━━━━━━━━━━━━━━━━━━━━━━━━━━━━━━━━━\u001b[0m \u001b[32m362.8/362.8 kB\u001b[0m \u001b[31m29.1 MB/s\u001b[0m eta \u001b[36m0:00:00\u001b[0m\n",
            "\u001b[2K   \u001b[90m━━━━━━━━━━━━━━━━━━━━━━━━━━━━━━━━━━━━━━━━\u001b[0m \u001b[32m12.3/12.3 MB\u001b[0m \u001b[31m94.8 MB/s\u001b[0m eta \u001b[36m0:00:00\u001b[0m\n",
            "\u001b[2K   \u001b[90m━━━━━━━━━━━━━━━━━━━━━━━━━━━━━━━━━━━━━━━━\u001b[0m \u001b[32m80.7/80.7 kB\u001b[0m \u001b[31m8.5 MB/s\u001b[0m eta \u001b[36m0:00:00\u001b[0m\n",
            "\u001b[2K   \u001b[90m━━━━━━━━━━━━━━━━━━━━━━━━━━━━━━━━━━━━━━━━\u001b[0m \u001b[32m2.1/2.1 MB\u001b[0m \u001b[31m81.1 MB/s\u001b[0m eta \u001b[36m0:00:00\u001b[0m\n",
            "\u001b[2K   \u001b[90m━━━━━━━━━━━━━━━━━━━━━━━━━━━━━━━━━━━━━━━━\u001b[0m \u001b[32m66.0/66.0 MB\u001b[0m \u001b[31m10.0 MB/s\u001b[0m eta \u001b[36m0:00:00\u001b[0m\n",
            "\u001b[2K   \u001b[90m━━━━━━━━━━━━━━━━━━━━━━━━━━━━━━━━━━━━━━━━\u001b[0m \u001b[32m12.1/12.1 MB\u001b[0m \u001b[31m101.2 MB/s\u001b[0m eta \u001b[36m0:00:00\u001b[0m\n",
            "\u001b[2K   \u001b[90m━━━━━━━━━━━━━━━━━━━━━━━━━━━━━━━━━━━━━━━━\u001b[0m \u001b[32m4.2/4.2 MB\u001b[0m \u001b[31m90.6 MB/s\u001b[0m eta \u001b[36m0:00:00\u001b[0m\n",
            "\u001b[2K   \u001b[90m━━━━━━━━━━━━━━━━━━━━━━━━━━━━━━━━━━━━━━━━\u001b[0m \u001b[32m91.4/91.4 MB\u001b[0m \u001b[31m8.2 MB/s\u001b[0m eta \u001b[36m0:00:00\u001b[0m\n",
            "\u001b[2K   \u001b[90m━━━━━━━━━━━━━━━━━━━━━━━━━━━━━━━━━━━━━━━━\u001b[0m \u001b[32m5.8/5.8 MB\u001b[0m \u001b[31m63.7 MB/s\u001b[0m eta \u001b[36m0:00:00\u001b[0m\n",
            "\u001b[2K   \u001b[90m━━━━━━━━━━━━━━━━━━━━━━━━━━━━━━━━━━━━━━━━\u001b[0m \u001b[32m107.8/107.8 kB\u001b[0m \u001b[31m8.5 MB/s\u001b[0m eta \u001b[36m0:00:00\u001b[0m\n",
            "\u001b[2K   \u001b[90m━━━━━━━━━━━━━━━━━━━━━━━━━━━━━━━━━━━━━━━━\u001b[0m \u001b[32m36.4/36.4 MB\u001b[0m \u001b[31m15.8 MB/s\u001b[0m eta \u001b[36m0:00:00\u001b[0m\n",
            "\u001b[2K   \u001b[90m━━━━━━━━━━━━━━━━━━━━━━━━━━━━━━━━━━━━━━━━\u001b[0m \u001b[32m535.7/535.7 kB\u001b[0m \u001b[31m38.7 MB/s\u001b[0m eta \u001b[36m0:00:00\u001b[0m\n",
            "\u001b[2K   \u001b[90m━━━━━━━━━━━━━━━━━━━━━━━━━━━━━━━━━━━━━━━━\u001b[0m \u001b[32m100.0/100.0 kB\u001b[0m \u001b[31m10.3 MB/s\u001b[0m eta \u001b[36m0:00:00\u001b[0m\n",
            "\u001b[2K   \u001b[90m━━━━━━━━━━━━━━━━━━━━━━━━━━━━━━━━━━━━━━━━\u001b[0m \u001b[32m44.0/44.0 kB\u001b[0m \u001b[31m4.6 MB/s\u001b[0m eta \u001b[36m0:00:00\u001b[0m\n",
            "\u001b[2K   \u001b[90m━━━━━━━━━━━━━━━━━━━━━━━━━━━━━━━━━━━━━━━━\u001b[0m \u001b[32m42.2/42.2 kB\u001b[0m \u001b[31m3.9 MB/s\u001b[0m eta \u001b[36m0:00:00\u001b[0m\n",
            "\u001b[2K   \u001b[90m━━━━━━━━━━━━━━━━━━━━━━━━━━━━━━━━━━━━━━━━\u001b[0m \u001b[32m88.8/88.8 kB\u001b[0m \u001b[31m9.9 MB/s\u001b[0m eta \u001b[36m0:00:00\u001b[0m\n",
            "\u001b[2K   \u001b[90m━━━━━━━━━━━━━━━━━━━━━━━━━━━━━━━━━━━━━━━━\u001b[0m \u001b[32m63.7/63.7 kB\u001b[0m \u001b[31m6.4 MB/s\u001b[0m eta \u001b[36m0:00:00\u001b[0m\n",
            "\u001b[2K   \u001b[90m━━━━━━━━━━━━━━━━━━━━━━━━━━━━━━━━━━━━━━━━\u001b[0m \u001b[32m242.3/242.3 kB\u001b[0m \u001b[31m24.2 MB/s\u001b[0m eta \u001b[36m0:00:00\u001b[0m\n",
            "\u001b[2K   \u001b[90m━━━━━━━━━━━━━━━━━━━━━━━━━━━━━━━━━━━━━━━━\u001b[0m \u001b[32m390.6/390.6 kB\u001b[0m \u001b[31m34.8 MB/s\u001b[0m eta \u001b[36m0:00:00\u001b[0m\n",
            "\u001b[2K   \u001b[90m━━━━━━━━━━━━━━━━━━━━━━━━━━━━━━━━━━━━━━━━\u001b[0m \u001b[32m296.5/296.5 kB\u001b[0m \u001b[31m27.9 MB/s\u001b[0m eta \u001b[36m0:00:00\u001b[0m\n",
            "\u001b[2K   \u001b[90m━━━━━━━━━━━━━━━━━━━━━━━━━━━━━━━━━━━━━━━━\u001b[0m \u001b[32m96.9/96.9 kB\u001b[0m \u001b[31m10.9 MB/s\u001b[0m eta \u001b[36m0:00:00\u001b[0m\n",
            "\u001b[2K   \u001b[90m━━━━━━━━━━━━━━━━━━━━━━━━━━━━━━━━━━━━━━━━\u001b[0m \u001b[32m486.1/486.1 kB\u001b[0m \u001b[31m32.8 MB/s\u001b[0m eta \u001b[36m0:00:00\u001b[0m\n",
            "\u001b[2K   \u001b[90m━━━━━━━━━━━━━━━━━━━━━━━━━━━━━━━━━━━━━━━━\u001b[0m \u001b[32m194.1/194.1 kB\u001b[0m \u001b[31m17.6 MB/s\u001b[0m eta \u001b[36m0:00:00\u001b[0m\n",
            "\u001b[2K   \u001b[90m━━━━━━━━━━━━━━━━━━━━━━━━━━━━━━━━━━━━━━━━\u001b[0m \u001b[32m233.2/233.2 kB\u001b[0m \u001b[31m23.8 MB/s\u001b[0m eta \u001b[36m0:00:00\u001b[0m\n",
            "\u001b[2K   \u001b[90m━━━━━━━━━━━━━━━━━━━━━━━━━━━━━━━━━━━━━━━━\u001b[0m \u001b[32m12.7/12.7 MB\u001b[0m \u001b[31m86.7 MB/s\u001b[0m eta \u001b[36m0:00:00\u001b[0m\n",
            "\u001b[2K   \u001b[90m━━━━━━━━━━━━━━━━━━━━━━━━━━━━━━━━━━━━━━━━\u001b[0m \u001b[32m7.5/7.5 MB\u001b[0m \u001b[31m95.1 MB/s\u001b[0m eta \u001b[36m0:00:00\u001b[0m\n",
            "\u001b[2K   \u001b[90m━━━━━━━━━━━━━━━━━━━━━━━━━━━━━━━━━━━━━━━━\u001b[0m \u001b[32m223.1/223.1 kB\u001b[0m \u001b[31m23.0 MB/s\u001b[0m eta \u001b[36m0:00:00\u001b[0m\n",
            "\u001b[2K   \u001b[90m━━━━━━━━━━━━━━━━━━━━━━━━━━━━━━━━━━━━━━━━\u001b[0m \u001b[32m147.8/147.8 kB\u001b[0m \u001b[31m14.7 MB/s\u001b[0m eta \u001b[36m0:00:00\u001b[0m\n",
            "\u001b[2K   \u001b[90m━━━━━━━━━━━━━━━━━━━━━━━━━━━━━━━━━━━━━━━━\u001b[0m \u001b[32m91.8/91.8 kB\u001b[0m \u001b[31m9.6 MB/s\u001b[0m eta \u001b[36m0:00:00\u001b[0m\n",
            "\u001b[2K   \u001b[90m━━━━━━━━━━━━━━━━━━━━━━━━━━━━━━━━━━━━━━━━\u001b[0m \u001b[32m231.1/231.1 kB\u001b[0m \u001b[31m21.6 MB/s\u001b[0m eta \u001b[36m0:00:00\u001b[0m\n",
            "\u001b[2K   \u001b[90m━━━━━━━━━━━━━━━━━━━━━━━━━━━━━━━━━━━━━━━━\u001b[0m \u001b[32m114.7/114.7 kB\u001b[0m \u001b[31m12.5 MB/s\u001b[0m eta \u001b[36m0:00:00\u001b[0m\n",
            "\u001b[2K   \u001b[90m━━━━━━━━━━━━━━━━━━━━━━━━━━━━━━━━━━━━━━━━\u001b[0m \u001b[32m85.0/85.0 kB\u001b[0m \u001b[31m9.4 MB/s\u001b[0m eta \u001b[36m0:00:00\u001b[0m\n",
            "\u001b[2K   \u001b[90m━━━━━━━━━━━━━━━━━━━━━━━━━━━━━━━━━━━━━━━━\u001b[0m \u001b[32m447.5/447.5 kB\u001b[0m \u001b[31m36.6 MB/s\u001b[0m eta \u001b[36m0:00:00\u001b[0m\n",
            "\u001b[2K   \u001b[90m━━━━━━━━━━━━━━━━━━━━━━━━━━━━━━━━━━━━━━━━\u001b[0m \u001b[32m1.6/1.6 MB\u001b[0m \u001b[31m73.6 MB/s\u001b[0m eta \u001b[36m0:00:00\u001b[0m\n",
            "\u001b[2K   \u001b[90m━━━━━━━━━━━━━━━━━━━━━━━━━━━━━━━━━━━━━━━━\u001b[0m \u001b[32m542.0/542.0 kB\u001b[0m \u001b[31m37.7 MB/s\u001b[0m eta \u001b[36m0:00:00\u001b[0m\n",
            "\u001b[2K   \u001b[90m━━━━━━━━━━━━━━━━━━━━━━━━━━━━━━━━━━━━━━━━\u001b[0m \u001b[32m134.8/134.8 kB\u001b[0m \u001b[31m15.0 MB/s\u001b[0m eta \u001b[36m0:00:00\u001b[0m\n",
            "\u001b[2K   \u001b[90m━━━━━━━━━━━━━━━━━━━━━━━━━━━━━━━━━━━━━━━━\u001b[0m \u001b[32m686.1/686.1 kB\u001b[0m \u001b[31m47.0 MB/s\u001b[0m eta \u001b[36m0:00:00\u001b[0m\n",
            "\u001b[2K   \u001b[90m━━━━━━━━━━━━━━━━━━━━━━━━━━━━━━━━━━━━━━━━\u001b[0m \u001b[32m56.9/56.9 kB\u001b[0m \u001b[31m6.7 MB/s\u001b[0m eta \u001b[36m0:00:00\u001b[0m\n",
            "\u001b[2K   \u001b[90m━━━━━━━━━━━━━━━━━━━━━━━━━━━━━━━━━━━━━━━━\u001b[0m \u001b[32m169.2/169.2 kB\u001b[0m \u001b[31m16.4 MB/s\u001b[0m eta \u001b[36m0:00:00\u001b[0m\n",
            "\u001b[2K   \u001b[90m━━━━━━━━━━━━━━━━━━━━━━━━━━━━━━━━━━━━━━━━\u001b[0m \u001b[32m55.2/55.2 kB\u001b[0m \u001b[31m6.0 MB/s\u001b[0m eta \u001b[36m0:00:00\u001b[0m\n",
            "\u001b[2K   \u001b[90m━━━━━━━━━━━━━━━━━━━━━━━━━━━━━━━━━━━━━━━━\u001b[0m \u001b[32m11.0/11.0 MB\u001b[0m \u001b[31m94.7 MB/s\u001b[0m eta \u001b[36m0:00:00\u001b[0m\n",
            "\u001b[2K   \u001b[90m━━━━━━━━━━━━━━━━━━━━━━━━━━━━━━━━━━━━━━━━\u001b[0m \u001b[32m82.6/82.6 kB\u001b[0m \u001b[31m9.9 MB/s\u001b[0m eta \u001b[36m0:00:00\u001b[0m\n",
            "\u001b[2K   \u001b[90m━━━━━━━━━━━━━━━━━━━━━━━━━━━━━━━━━━━━━━━━\u001b[0m \u001b[32m130.1/130.1 kB\u001b[0m \u001b[31m14.5 MB/s\u001b[0m eta \u001b[36m0:00:00\u001b[0m\n",
            "\u001b[2K   \u001b[90m━━━━━━━━━━━━━━━━━━━━━━━━━━━━━━━━━━━━━━━━\u001b[0m \u001b[32m983.2/983.2 kB\u001b[0m \u001b[31m59.8 MB/s\u001b[0m eta \u001b[36m0:00:00\u001b[0m\n",
            "\u001b[2K   \u001b[90m━━━━━━━━━━━━━━━━━━━━━━━━━━━━━━━━━━━━━━━━\u001b[0m \u001b[32m73.3/73.3 kB\u001b[0m \u001b[31m8.4 MB/s\u001b[0m eta \u001b[36m0:00:00\u001b[0m\n",
            "\u001b[2K   \u001b[90m━━━━━━━━━━━━━━━━━━━━━━━━━━━━━━━━━━━━━━━━\u001b[0m \u001b[32m101.7/101.7 kB\u001b[0m \u001b[31m12.1 MB/s\u001b[0m eta \u001b[36m0:00:00\u001b[0m\n",
            "\u001b[2K   \u001b[90m━━━━━━━━━━━━━━━━━━━━━━━━━━━━━━━━━━━━━━━━\u001b[0m \u001b[32m62.3/62.3 kB\u001b[0m \u001b[31m7.2 MB/s\u001b[0m eta \u001b[36m0:00:00\u001b[0m\n",
            "\u001b[2K   \u001b[90m━━━━━━━━━━━━━━━━━━━━━━━━━━━━━━━━━━━━━━━━\u001b[0m \u001b[32m2.1/2.1 MB\u001b[0m \u001b[31m76.6 MB/s\u001b[0m eta \u001b[36m0:00:00\u001b[0m\n",
            "\u001b[2K   \u001b[90m━━━━━━━━━━━━━━━━━━━━━━━━━━━━━━━━━━━━━━━━\u001b[0m \u001b[32m53.6/53.6 kB\u001b[0m \u001b[31m5.3 MB/s\u001b[0m eta \u001b[36m0:00:00\u001b[0m\n",
            "\u001b[2K   \u001b[90m━━━━━━━━━━━━━━━━━━━━━━━━━━━━━━━━━━━━━━━━\u001b[0m \u001b[32m144.2/144.2 kB\u001b[0m \u001b[31m15.0 MB/s\u001b[0m eta \u001b[36m0:00:00\u001b[0m\n",
            "\u001b[2K   \u001b[90m━━━━━━━━━━━━━━━━━━━━━━━━━━━━━━━━━━━━━━━━\u001b[0m \u001b[32m104.8/104.8 kB\u001b[0m \u001b[31m11.6 MB/s\u001b[0m eta \u001b[36m0:00:00\u001b[0m\n",
            "\u001b[2K   \u001b[90m━━━━━━━━━━━━━━━━━━━━━━━━━━━━━━━━━━━━━━━━\u001b[0m \u001b[32m56.7/56.7 kB\u001b[0m \u001b[31m6.3 MB/s\u001b[0m eta \u001b[36m0:00:00\u001b[0m\n",
            "\u001b[2K   \u001b[90m━━━━━━━━━━━━━━━━━━━━━━━━━━━━━━━━━━━━━━━━\u001b[0m \u001b[32m79.3/79.3 kB\u001b[0m \u001b[31m8.3 MB/s\u001b[0m eta \u001b[36m0:00:00\u001b[0m\n",
            "\u001b[2K   \u001b[90m━━━━━━━━━━━━━━━━━━━━━━━━━━━━━━━━━━━━━━━━\u001b[0m \u001b[32m43.3/43.3 kB\u001b[0m \u001b[31m4.5 MB/s\u001b[0m eta \u001b[36m0:00:00\u001b[0m\n",
            "\u001b[2K   \u001b[90m━━━━━━━━━━━━━━━━━━━━━━━━━━━━━━━━━━━━━━━━\u001b[0m \u001b[32m144.2/144.2 kB\u001b[0m \u001b[31m14.8 MB/s\u001b[0m eta \u001b[36m0:00:00\u001b[0m\n",
            "\u001b[2K   \u001b[90m━━━━━━━━━━━━━━━━━━━━━━━━━━━━━━━━━━━━━━━━\u001b[0m \u001b[32m6.6/6.6 MB\u001b[0m \u001b[31m85.7 MB/s\u001b[0m eta \u001b[36m0:00:00\u001b[0m\n",
            "\u001b[2K   \u001b[90m━━━━━━━━━━━━━━━━━━━━━━━━━━━━━━━━━━━━━━━━\u001b[0m \u001b[32m243.2/243.2 kB\u001b[0m \u001b[31m24.6 MB/s\u001b[0m eta \u001b[36m0:00:00\u001b[0m\n",
            "\u001b[2K   \u001b[90m━━━━━━━━━━━━━━━━━━━━━━━━━━━━━━━━━━━━━━━━\u001b[0m \u001b[32m569.1/569.1 kB\u001b[0m \u001b[31m41.5 MB/s\u001b[0m eta \u001b[36m0:00:00\u001b[0m\n",
            "\u001b[2K   \u001b[90m━━━━━━━━━━━━━━━━━━━━━━━━━━━━━━━━━━━━━━━━\u001b[0m \u001b[32m119.4/119.4 kB\u001b[0m \u001b[31m12.4 MB/s\u001b[0m eta \u001b[36m0:00:00\u001b[0m\n",
            "\u001b[2K   \u001b[90m━━━━━━━━━━━━━━━━━━━━━━━━━━━━━━━━━━━━━━━━\u001b[0m \u001b[32m6.7/6.7 MB\u001b[0m \u001b[31m93.5 MB/s\u001b[0m eta \u001b[36m0:00:00\u001b[0m\n",
            "\u001b[2K   \u001b[90m━━━━━━━━━━━━━━━━━━━━━━━━━━━━━━━━━━━━━━━━\u001b[0m \u001b[32m203.2/203.2 kB\u001b[0m \u001b[31m21.0 MB/s\u001b[0m eta \u001b[36m0:00:00\u001b[0m\n",
            "\u001b[2K   \u001b[90m━━━━━━━━━━━━━━━━━━━━━━━━━━━━━━━━━━━━━━━━\u001b[0m \u001b[32m442.1/442.1 kB\u001b[0m \u001b[31m37.9 MB/s\u001b[0m eta \u001b[36m0:00:00\u001b[0m\n",
            "\u001b[2K   \u001b[90m━━━━━━━━━━━━━━━━━━━━━━━━━━━━━━━━━━━━━━━━\u001b[0m \u001b[32m210.3/210.3 kB\u001b[0m \u001b[31m22.7 MB/s\u001b[0m eta \u001b[36m0:00:00\u001b[0m\n",
            "\u001b[2K   \u001b[90m━━━━━━━━━━━━━━━━━━━━━━━━━━━━━━━━━━━━━━━━\u001b[0m \u001b[32m58.8/58.8 kB\u001b[0m \u001b[31m6.5 MB/s\u001b[0m eta \u001b[36m0:00:00\u001b[0m\n",
            "\u001b[2K   \u001b[90m━━━━━━━━━━━━━━━━━━━━━━━━━━━━━━━━━━━━━━━━\u001b[0m \u001b[32m778.9/778.9 kB\u001b[0m \u001b[31m52.1 MB/s\u001b[0m eta \u001b[36m0:00:00\u001b[0m\n",
            "\u001b[2K   \u001b[90m━━━━━━━━━━━━━━━━━━━━━━━━━━━━━━━━━━━━━━━━\u001b[0m \u001b[32m481.7/481.7 kB\u001b[0m \u001b[31m35.3 MB/s\u001b[0m eta \u001b[36m0:00:00\u001b[0m\n",
            "\u001b[2K   \u001b[90m━━━━━━━━━━━━━━━━━━━━━━━━━━━━━━━━━━━━━━━━\u001b[0m \u001b[32m3.8/3.8 MB\u001b[0m \u001b[31m94.4 MB/s\u001b[0m eta \u001b[36m0:00:00\u001b[0m\n",
            "\u001b[2K   \u001b[90m━━━━━━━━━━━━━━━━━━━━━━━━━━━━━━━━━━━━━━━━\u001b[0m \u001b[32m425.7/425.7 kB\u001b[0m \u001b[31m35.0 MB/s\u001b[0m eta \u001b[36m0:00:00\u001b[0m\n",
            "\u001b[2K   \u001b[90m━━━━━━━━━━━━━━━━━━━━━━━━━━━━━━━━━━━━━━━━\u001b[0m \u001b[32m130.2/130.2 kB\u001b[0m \u001b[31m14.6 MB/s\u001b[0m eta \u001b[36m0:00:00\u001b[0m\n",
            "\u001b[2K   \u001b[90m━━━━━━━━━━━━━━━━━━━━━━━━━━━━━━━━━━━━━━━━\u001b[0m \u001b[32m152.5/152.5 kB\u001b[0m \u001b[31m17.1 MB/s\u001b[0m eta \u001b[36m0:00:00\u001b[0m\n",
            "\u001b[2K   \u001b[90m━━━━━━━━━━━━━━━━━━━━━━━━━━━━━━━━━━━━━━━━\u001b[0m \u001b[32m135.3/135.3 kB\u001b[0m \u001b[31m14.6 MB/s\u001b[0m eta \u001b[36m0:00:00\u001b[0m\n",
            "\u001b[2K   \u001b[90m━━━━━━━━━━━━━━━━━━━━━━━━━━━━━━━━━━━━━━━━\u001b[0m \u001b[32m78.6/78.6 kB\u001b[0m \u001b[31m8.7 MB/s\u001b[0m eta \u001b[36m0:00:00\u001b[0m\n",
            "\u001b[2K   \u001b[90m━━━━━━━━━━━━━━━━━━━━━━━━━━━━━━━━━━━━━━━━\u001b[0m \u001b[32m4.5/4.5 MB\u001b[0m \u001b[31m86.7 MB/s\u001b[0m eta \u001b[36m0:00:00\u001b[0m\n",
            "\u001b[2K   \u001b[90m━━━━━━━━━━━━━━━━━━━━━━━━━━━━━━━━━━━━━━━━\u001b[0m \u001b[32m1.8/1.8 MB\u001b[0m \u001b[31m70.0 MB/s\u001b[0m eta \u001b[36m0:00:00\u001b[0m\n",
            "\u001b[2K   \u001b[90m━━━━━━━━━━━━━━━━━━━━━━━━━━━━━━━━━━━━━━━━\u001b[0m \u001b[32m254.2/254.2 kB\u001b[0m \u001b[31m25.3 MB/s\u001b[0m eta \u001b[36m0:00:00\u001b[0m\n",
            "\u001b[?25h  Building wheel for pyod (setup.py) ... \u001b[?25l\u001b[?25hdone\n",
            "  Building wheel for htmlmin (setup.py) ... \u001b[?25l\u001b[?25hdone\n",
            "  Building wheel for fugue-sql-antlr (setup.py) ... \u001b[?25l\u001b[?25hdone\n",
            "  Building wheel for dash-cytoscape (setup.py) ... \u001b[?25l\u001b[?25hdone\n",
            "\u001b[31mERROR: pip's dependency resolver does not currently take into account all the packages that are installed. This behaviour is the source of the following dependency conflicts.\n",
            "google-colab 1.0.0 requires pandas==2.2.2, but you have pandas 2.1.4 which is incompatible.\n",
            "mizani 0.13.0 requires pandas>=2.2.0, but you have pandas 2.1.4 which is incompatible.\n",
            "mkl 2024.2.2 requires tbb==2021.*, but you have tbb 2022.0.0 which is incompatible.\n",
            "plotnine 0.14.0 requires matplotlib>=3.8.0, but you have matplotlib 3.7.5 which is incompatible.\n",
            "plotnine 0.14.0 requires pandas>=2.2.0, but you have pandas 2.1.4 which is incompatible.\u001b[0m\u001b[31m\n",
            "\u001b[0m"
          ]
        }
      ]
    },
    {
      "cell_type": "code",
      "execution_count": null,
      "metadata": {
        "id": "EKVr0Kbxv22s"
      },
      "outputs": [],
      "source": [
        "import pandas as pd\n",
        "import numpy as np\n",
        "import matplotlib.pyplot as plt\n",
        "import seaborn as sns\n",
        "import seaborn\n",
        "import matplotlib.pyplot as mp"
      ]
    },
    {
      "cell_type": "code",
      "execution_count": null,
      "metadata": {
        "colab": {
          "base_uri": "https://localhost:8080/"
        },
        "id": "2yJ44B2r1itv",
        "outputId": "40be26b2-63ec-4f81-9fee-d99cbb766d62"
      },
      "outputs": [
        {
          "output_type": "execute_result",
          "data": {
            "text/plain": [
              "(135038, 17)"
            ]
          },
          "metadata": {},
          "execution_count": 3
        }
      ],
      "source": [
        "df = pd.read_csv('Electric_Vehicle_Population_Data.csv')\n",
        "df_copy = df.copy()\n",
        "df_copy.shape"
      ]
    },
    {
      "cell_type": "code",
      "execution_count": null,
      "metadata": {
        "colab": {
          "base_uri": "https://localhost:8080/",
          "height": 501
        },
        "id": "OmPFX1HmE7sD",
        "outputId": "e3b597e4-25b0-496b-e649-3df53171ffbe"
      },
      "outputs": [
        {
          "output_type": "execute_result",
          "data": {
            "text/plain": [
              "   VIN (1-10)     County       City State  Postal Code  Model Year    Make  \\\n",
              "0  5YJ3E1EA0K   Thurston   Tumwater    WA      98512.0        2019   TESLA   \n",
              "1  1N4BZ1DV4N     Island    Clinton    WA      98236.0        2022  NISSAN   \n",
              "2  5YJ3E1EA0L  Snohomish  Snohomish    WA      98290.0        2020   TESLA   \n",
              "3  5YJ3E1EBXL       King    Seattle    WA      98134.0        2020   TESLA   \n",
              "4  5YJSA1CP0D  Snohomish    Edmonds    WA      98020.0        2013   TESLA   \n",
              "\n",
              "     Model           Electric Vehicle Type  \\\n",
              "0  MODEL 3  Battery Electric Vehicle (BEV)   \n",
              "1     LEAF  Battery Electric Vehicle (BEV)   \n",
              "2  MODEL 3  Battery Electric Vehicle (BEV)   \n",
              "3  MODEL 3  Battery Electric Vehicle (BEV)   \n",
              "4  MODEL S  Battery Electric Vehicle (BEV)   \n",
              "\n",
              "   Clean Alternative Fuel Vehicle (CAFV) Eligibility  Electric Range  \\\n",
              "0            Clean Alternative Fuel Vehicle Eligible           220.0   \n",
              "1  Eligibility unknown as battery range has not b...             0.0   \n",
              "2            Clean Alternative Fuel Vehicle Eligible           266.0   \n",
              "3            Clean Alternative Fuel Vehicle Eligible           322.0   \n",
              "4            Clean Alternative Fuel Vehicle Eligible           208.0   \n",
              "\n",
              "   Base MSRP  Legislative District  DOL Vehicle ID  \\\n",
              "0        0.0                  22.0       242565116   \n",
              "1        0.0                  10.0       183272785   \n",
              "2        0.0                  44.0       112552366   \n",
              "3        0.0                  11.0         6336319   \n",
              "4    69900.0                  21.0       186212960   \n",
              "\n",
              "                                 Vehicle Location  \\\n",
              "0   POINT (-122.91310169999997 47.01359260000004)   \n",
              "1   POINT (-122.35936399999997 47.97965520000008)   \n",
              "2   POINT (-122.09150499999998 47.91555500000004)   \n",
              "3  POINT (-122.32981499999994 47.579810000000066)   \n",
              "4            POINT (-122.37507 47.80807000000004)   \n",
              "\n",
              "                               Electric Utility  2020 Census Tract  \n",
              "0                        PUGET SOUND ENERGY INC       5.306701e+10  \n",
              "1                        PUGET SOUND ENERGY INC       5.302997e+10  \n",
              "2                        PUGET SOUND ENERGY INC       5.306105e+10  \n",
              "3  CITY OF SEATTLE - (WA)|CITY OF TACOMA - (WA)       5.303301e+10  \n",
              "4                        PUGET SOUND ENERGY INC       5.306105e+10  "
            ],
            "text/html": [
              "\n",
              "  <div id=\"df-584c4d51-7d62-4464-83e6-0514bcf7ca5a\" class=\"colab-df-container\">\n",
              "    <div>\n",
              "<style scoped>\n",
              "    .dataframe tbody tr th:only-of-type {\n",
              "        vertical-align: middle;\n",
              "    }\n",
              "\n",
              "    .dataframe tbody tr th {\n",
              "        vertical-align: top;\n",
              "    }\n",
              "\n",
              "    .dataframe thead th {\n",
              "        text-align: right;\n",
              "    }\n",
              "</style>\n",
              "<table border=\"1\" class=\"dataframe\">\n",
              "  <thead>\n",
              "    <tr style=\"text-align: right;\">\n",
              "      <th></th>\n",
              "      <th>VIN (1-10)</th>\n",
              "      <th>County</th>\n",
              "      <th>City</th>\n",
              "      <th>State</th>\n",
              "      <th>Postal Code</th>\n",
              "      <th>Model Year</th>\n",
              "      <th>Make</th>\n",
              "      <th>Model</th>\n",
              "      <th>Electric Vehicle Type</th>\n",
              "      <th>Clean Alternative Fuel Vehicle (CAFV) Eligibility</th>\n",
              "      <th>Electric Range</th>\n",
              "      <th>Base MSRP</th>\n",
              "      <th>Legislative District</th>\n",
              "      <th>DOL Vehicle ID</th>\n",
              "      <th>Vehicle Location</th>\n",
              "      <th>Electric Utility</th>\n",
              "      <th>2020 Census Tract</th>\n",
              "    </tr>\n",
              "  </thead>\n",
              "  <tbody>\n",
              "    <tr>\n",
              "      <th>0</th>\n",
              "      <td>5YJ3E1EA0K</td>\n",
              "      <td>Thurston</td>\n",
              "      <td>Tumwater</td>\n",
              "      <td>WA</td>\n",
              "      <td>98512.0</td>\n",
              "      <td>2019</td>\n",
              "      <td>TESLA</td>\n",
              "      <td>MODEL 3</td>\n",
              "      <td>Battery Electric Vehicle (BEV)</td>\n",
              "      <td>Clean Alternative Fuel Vehicle Eligible</td>\n",
              "      <td>220.0</td>\n",
              "      <td>0.0</td>\n",
              "      <td>22.0</td>\n",
              "      <td>242565116</td>\n",
              "      <td>POINT (-122.91310169999997 47.01359260000004)</td>\n",
              "      <td>PUGET SOUND ENERGY INC</td>\n",
              "      <td>5.306701e+10</td>\n",
              "    </tr>\n",
              "    <tr>\n",
              "      <th>1</th>\n",
              "      <td>1N4BZ1DV4N</td>\n",
              "      <td>Island</td>\n",
              "      <td>Clinton</td>\n",
              "      <td>WA</td>\n",
              "      <td>98236.0</td>\n",
              "      <td>2022</td>\n",
              "      <td>NISSAN</td>\n",
              "      <td>LEAF</td>\n",
              "      <td>Battery Electric Vehicle (BEV)</td>\n",
              "      <td>Eligibility unknown as battery range has not b...</td>\n",
              "      <td>0.0</td>\n",
              "      <td>0.0</td>\n",
              "      <td>10.0</td>\n",
              "      <td>183272785</td>\n",
              "      <td>POINT (-122.35936399999997 47.97965520000008)</td>\n",
              "      <td>PUGET SOUND ENERGY INC</td>\n",
              "      <td>5.302997e+10</td>\n",
              "    </tr>\n",
              "    <tr>\n",
              "      <th>2</th>\n",
              "      <td>5YJ3E1EA0L</td>\n",
              "      <td>Snohomish</td>\n",
              "      <td>Snohomish</td>\n",
              "      <td>WA</td>\n",
              "      <td>98290.0</td>\n",
              "      <td>2020</td>\n",
              "      <td>TESLA</td>\n",
              "      <td>MODEL 3</td>\n",
              "      <td>Battery Electric Vehicle (BEV)</td>\n",
              "      <td>Clean Alternative Fuel Vehicle Eligible</td>\n",
              "      <td>266.0</td>\n",
              "      <td>0.0</td>\n",
              "      <td>44.0</td>\n",
              "      <td>112552366</td>\n",
              "      <td>POINT (-122.09150499999998 47.91555500000004)</td>\n",
              "      <td>PUGET SOUND ENERGY INC</td>\n",
              "      <td>5.306105e+10</td>\n",
              "    </tr>\n",
              "    <tr>\n",
              "      <th>3</th>\n",
              "      <td>5YJ3E1EBXL</td>\n",
              "      <td>King</td>\n",
              "      <td>Seattle</td>\n",
              "      <td>WA</td>\n",
              "      <td>98134.0</td>\n",
              "      <td>2020</td>\n",
              "      <td>TESLA</td>\n",
              "      <td>MODEL 3</td>\n",
              "      <td>Battery Electric Vehicle (BEV)</td>\n",
              "      <td>Clean Alternative Fuel Vehicle Eligible</td>\n",
              "      <td>322.0</td>\n",
              "      <td>0.0</td>\n",
              "      <td>11.0</td>\n",
              "      <td>6336319</td>\n",
              "      <td>POINT (-122.32981499999994 47.579810000000066)</td>\n",
              "      <td>CITY OF SEATTLE - (WA)|CITY OF TACOMA - (WA)</td>\n",
              "      <td>5.303301e+10</td>\n",
              "    </tr>\n",
              "    <tr>\n",
              "      <th>4</th>\n",
              "      <td>5YJSA1CP0D</td>\n",
              "      <td>Snohomish</td>\n",
              "      <td>Edmonds</td>\n",
              "      <td>WA</td>\n",
              "      <td>98020.0</td>\n",
              "      <td>2013</td>\n",
              "      <td>TESLA</td>\n",
              "      <td>MODEL S</td>\n",
              "      <td>Battery Electric Vehicle (BEV)</td>\n",
              "      <td>Clean Alternative Fuel Vehicle Eligible</td>\n",
              "      <td>208.0</td>\n",
              "      <td>69900.0</td>\n",
              "      <td>21.0</td>\n",
              "      <td>186212960</td>\n",
              "      <td>POINT (-122.37507 47.80807000000004)</td>\n",
              "      <td>PUGET SOUND ENERGY INC</td>\n",
              "      <td>5.306105e+10</td>\n",
              "    </tr>\n",
              "  </tbody>\n",
              "</table>\n",
              "</div>\n",
              "    <div class=\"colab-df-buttons\">\n",
              "\n",
              "  <div class=\"colab-df-container\">\n",
              "    <button class=\"colab-df-convert\" onclick=\"convertToInteractive('df-584c4d51-7d62-4464-83e6-0514bcf7ca5a')\"\n",
              "            title=\"Convert this dataframe to an interactive table.\"\n",
              "            style=\"display:none;\">\n",
              "\n",
              "  <svg xmlns=\"http://www.w3.org/2000/svg\" height=\"24px\" viewBox=\"0 -960 960 960\">\n",
              "    <path d=\"M120-120v-720h720v720H120Zm60-500h600v-160H180v160Zm220 220h160v-160H400v160Zm0 220h160v-160H400v160ZM180-400h160v-160H180v160Zm440 0h160v-160H620v160ZM180-180h160v-160H180v160Zm440 0h160v-160H620v160Z\"/>\n",
              "  </svg>\n",
              "    </button>\n",
              "\n",
              "  <style>\n",
              "    .colab-df-container {\n",
              "      display:flex;\n",
              "      gap: 12px;\n",
              "    }\n",
              "\n",
              "    .colab-df-convert {\n",
              "      background-color: #E8F0FE;\n",
              "      border: none;\n",
              "      border-radius: 50%;\n",
              "      cursor: pointer;\n",
              "      display: none;\n",
              "      fill: #1967D2;\n",
              "      height: 32px;\n",
              "      padding: 0 0 0 0;\n",
              "      width: 32px;\n",
              "    }\n",
              "\n",
              "    .colab-df-convert:hover {\n",
              "      background-color: #E2EBFA;\n",
              "      box-shadow: 0px 1px 2px rgba(60, 64, 67, 0.3), 0px 1px 3px 1px rgba(60, 64, 67, 0.15);\n",
              "      fill: #174EA6;\n",
              "    }\n",
              "\n",
              "    .colab-df-buttons div {\n",
              "      margin-bottom: 4px;\n",
              "    }\n",
              "\n",
              "    [theme=dark] .colab-df-convert {\n",
              "      background-color: #3B4455;\n",
              "      fill: #D2E3FC;\n",
              "    }\n",
              "\n",
              "    [theme=dark] .colab-df-convert:hover {\n",
              "      background-color: #434B5C;\n",
              "      box-shadow: 0px 1px 3px 1px rgba(0, 0, 0, 0.15);\n",
              "      filter: drop-shadow(0px 1px 2px rgba(0, 0, 0, 0.3));\n",
              "      fill: #FFFFFF;\n",
              "    }\n",
              "  </style>\n",
              "\n",
              "    <script>\n",
              "      const buttonEl =\n",
              "        document.querySelector('#df-584c4d51-7d62-4464-83e6-0514bcf7ca5a button.colab-df-convert');\n",
              "      buttonEl.style.display =\n",
              "        google.colab.kernel.accessAllowed ? 'block' : 'none';\n",
              "\n",
              "      async function convertToInteractive(key) {\n",
              "        const element = document.querySelector('#df-584c4d51-7d62-4464-83e6-0514bcf7ca5a');\n",
              "        const dataTable =\n",
              "          await google.colab.kernel.invokeFunction('convertToInteractive',\n",
              "                                                    [key], {});\n",
              "        if (!dataTable) return;\n",
              "\n",
              "        const docLinkHtml = 'Like what you see? Visit the ' +\n",
              "          '<a target=\"_blank\" href=https://colab.research.google.com/notebooks/data_table.ipynb>data table notebook</a>'\n",
              "          + ' to learn more about interactive tables.';\n",
              "        element.innerHTML = '';\n",
              "        dataTable['output_type'] = 'display_data';\n",
              "        await google.colab.output.renderOutput(dataTable, element);\n",
              "        const docLink = document.createElement('div');\n",
              "        docLink.innerHTML = docLinkHtml;\n",
              "        element.appendChild(docLink);\n",
              "      }\n",
              "    </script>\n",
              "  </div>\n",
              "\n",
              "\n",
              "<div id=\"df-4f9b439c-ccd5-4d1e-9c1d-b1ff0292a1f0\">\n",
              "  <button class=\"colab-df-quickchart\" onclick=\"quickchart('df-4f9b439c-ccd5-4d1e-9c1d-b1ff0292a1f0')\"\n",
              "            title=\"Suggest charts\"\n",
              "            style=\"display:none;\">\n",
              "\n",
              "<svg xmlns=\"http://www.w3.org/2000/svg\" height=\"24px\"viewBox=\"0 0 24 24\"\n",
              "     width=\"24px\">\n",
              "    <g>\n",
              "        <path d=\"M19 3H5c-1.1 0-2 .9-2 2v14c0 1.1.9 2 2 2h14c1.1 0 2-.9 2-2V5c0-1.1-.9-2-2-2zM9 17H7v-7h2v7zm4 0h-2V7h2v10zm4 0h-2v-4h2v4z\"/>\n",
              "    </g>\n",
              "</svg>\n",
              "  </button>\n",
              "\n",
              "<style>\n",
              "  .colab-df-quickchart {\n",
              "      --bg-color: #E8F0FE;\n",
              "      --fill-color: #1967D2;\n",
              "      --hover-bg-color: #E2EBFA;\n",
              "      --hover-fill-color: #174EA6;\n",
              "      --disabled-fill-color: #AAA;\n",
              "      --disabled-bg-color: #DDD;\n",
              "  }\n",
              "\n",
              "  [theme=dark] .colab-df-quickchart {\n",
              "      --bg-color: #3B4455;\n",
              "      --fill-color: #D2E3FC;\n",
              "      --hover-bg-color: #434B5C;\n",
              "      --hover-fill-color: #FFFFFF;\n",
              "      --disabled-bg-color: #3B4455;\n",
              "      --disabled-fill-color: #666;\n",
              "  }\n",
              "\n",
              "  .colab-df-quickchart {\n",
              "    background-color: var(--bg-color);\n",
              "    border: none;\n",
              "    border-radius: 50%;\n",
              "    cursor: pointer;\n",
              "    display: none;\n",
              "    fill: var(--fill-color);\n",
              "    height: 32px;\n",
              "    padding: 0;\n",
              "    width: 32px;\n",
              "  }\n",
              "\n",
              "  .colab-df-quickchart:hover {\n",
              "    background-color: var(--hover-bg-color);\n",
              "    box-shadow: 0 1px 2px rgba(60, 64, 67, 0.3), 0 1px 3px 1px rgba(60, 64, 67, 0.15);\n",
              "    fill: var(--button-hover-fill-color);\n",
              "  }\n",
              "\n",
              "  .colab-df-quickchart-complete:disabled,\n",
              "  .colab-df-quickchart-complete:disabled:hover {\n",
              "    background-color: var(--disabled-bg-color);\n",
              "    fill: var(--disabled-fill-color);\n",
              "    box-shadow: none;\n",
              "  }\n",
              "\n",
              "  .colab-df-spinner {\n",
              "    border: 2px solid var(--fill-color);\n",
              "    border-color: transparent;\n",
              "    border-bottom-color: var(--fill-color);\n",
              "    animation:\n",
              "      spin 1s steps(1) infinite;\n",
              "  }\n",
              "\n",
              "  @keyframes spin {\n",
              "    0% {\n",
              "      border-color: transparent;\n",
              "      border-bottom-color: var(--fill-color);\n",
              "      border-left-color: var(--fill-color);\n",
              "    }\n",
              "    20% {\n",
              "      border-color: transparent;\n",
              "      border-left-color: var(--fill-color);\n",
              "      border-top-color: var(--fill-color);\n",
              "    }\n",
              "    30% {\n",
              "      border-color: transparent;\n",
              "      border-left-color: var(--fill-color);\n",
              "      border-top-color: var(--fill-color);\n",
              "      border-right-color: var(--fill-color);\n",
              "    }\n",
              "    40% {\n",
              "      border-color: transparent;\n",
              "      border-right-color: var(--fill-color);\n",
              "      border-top-color: var(--fill-color);\n",
              "    }\n",
              "    60% {\n",
              "      border-color: transparent;\n",
              "      border-right-color: var(--fill-color);\n",
              "    }\n",
              "    80% {\n",
              "      border-color: transparent;\n",
              "      border-right-color: var(--fill-color);\n",
              "      border-bottom-color: var(--fill-color);\n",
              "    }\n",
              "    90% {\n",
              "      border-color: transparent;\n",
              "      border-bottom-color: var(--fill-color);\n",
              "    }\n",
              "  }\n",
              "</style>\n",
              "\n",
              "  <script>\n",
              "    async function quickchart(key) {\n",
              "      const quickchartButtonEl =\n",
              "        document.querySelector('#' + key + ' button');\n",
              "      quickchartButtonEl.disabled = true;  // To prevent multiple clicks.\n",
              "      quickchartButtonEl.classList.add('colab-df-spinner');\n",
              "      try {\n",
              "        const charts = await google.colab.kernel.invokeFunction(\n",
              "            'suggestCharts', [key], {});\n",
              "      } catch (error) {\n",
              "        console.error('Error during call to suggestCharts:', error);\n",
              "      }\n",
              "      quickchartButtonEl.classList.remove('colab-df-spinner');\n",
              "      quickchartButtonEl.classList.add('colab-df-quickchart-complete');\n",
              "    }\n",
              "    (() => {\n",
              "      let quickchartButtonEl =\n",
              "        document.querySelector('#df-4f9b439c-ccd5-4d1e-9c1d-b1ff0292a1f0 button');\n",
              "      quickchartButtonEl.style.display =\n",
              "        google.colab.kernel.accessAllowed ? 'block' : 'none';\n",
              "    })();\n",
              "  </script>\n",
              "</div>\n",
              "\n",
              "    </div>\n",
              "  </div>\n"
            ],
            "application/vnd.google.colaboratory.intrinsic+json": {
              "type": "dataframe",
              "variable_name": "df_copy"
            }
          },
          "metadata": {},
          "execution_count": 4
        }
      ],
      "source": [
        "df_copy.head()"
      ]
    },
    {
      "cell_type": "code",
      "execution_count": null,
      "metadata": {
        "colab": {
          "base_uri": "https://localhost:8080/"
        },
        "id": "PDFwM6f_AWvo",
        "outputId": "df6c23e2-5505-405f-cc84-150ed8456789"
      },
      "outputs": [
        {
          "output_type": "stream",
          "name": "stdout",
          "text": [
            "VIN (1-10)                                             0\n",
            "County                                                 8\n",
            "City                                                   8\n",
            "State                                                  0\n",
            "Postal Code                                            8\n",
            "Model Year                                             0\n",
            "Make                                                   0\n",
            "Model                                                249\n",
            "Electric Vehicle Type                                  0\n",
            "Clean Alternative Fuel Vehicle (CAFV) Eligibility      0\n",
            "Electric Range                                         1\n",
            "Base MSRP                                              1\n",
            "Legislative District                                 312\n",
            "DOL Vehicle ID                                         0\n",
            "Vehicle Location                                      10\n",
            "Electric Utility                                       8\n",
            "2020 Census Tract                                      8\n",
            "dtype: int64\n"
          ]
        }
      ],
      "source": [
        "print(df.isnull().sum())"
      ]
    },
    {
      "cell_type": "code",
      "execution_count": null,
      "metadata": {
        "colab": {
          "base_uri": "https://localhost:8080/"
        },
        "outputId": "b59303e7-1543-464f-a292-761d34f8c806",
        "id": "F8OqXfOOCdSS"
      },
      "outputs": [
        {
          "output_type": "execute_result",
          "data": {
            "text/plain": [
              "(134723, 17)"
            ]
          },
          "metadata": {},
          "execution_count": 6
        }
      ],
      "source": [
        "#刪除缺失值  郵遞區號 車輛登記的立法區 車輛位置 電力續航里程 2020 年人口普查區域  製造商的建議零售價\n",
        "df_copy = df_copy.dropna(subset=[\n",
        "    'Postal Code', 'Legislative District',\n",
        "    'Vehicle Location', 'Electric Utility',\n",
        "    '2020 Census Tract','Electric Range',\n",
        "    'Base MSRP'               ]) #Textual data\n",
        "df_copy.shape\n"
      ]
    },
    {
      "cell_type": "code",
      "execution_count": null,
      "metadata": {
        "colab": {
          "base_uri": "https://localhost:8080/"
        },
        "id": "iLViFTd6Sx4-",
        "outputId": "6d2e6b9e-0730-483b-8237-6758a4c3a0d8",
        "collapsed": true
      },
      "outputs": [
        {
          "output_type": "stream",
          "name": "stdout",
          "text": [
            "County\n",
            "King         70842\n",
            "Snohomish    15258\n",
            "Pierce       10410\n",
            "Clark         7991\n",
            "Thurston      4851\n",
            "Name: count, dtype: int64\n",
            "City\n",
            "Seattle           23489\n",
            "Bellevue           6959\n",
            "Redmond            4965\n",
            "Vancouver          4819\n",
            "Kirkland           4201\n",
            "                  ...  \n",
            "Uniontown             1\n",
            "Kenn                  1\n",
            "Copalis Beach         1\n",
            "Vantage               1\n",
            "Bridgeport Bar        1\n",
            "Name: count, Length: 454, dtype: int64\n"
          ]
        }
      ],
      "source": [
        "print(df_copy['County'].value_counts().head())\n",
        "print(df_copy['City'].value_counts())"
      ]
    },
    {
      "cell_type": "code",
      "execution_count": null,
      "metadata": {
        "id": "Sq1iPHykENPx"
      },
      "outputs": [],
      "source": [
        "df_copy = df_copy.drop('County', axis=1)"
      ]
    },
    {
      "cell_type": "code",
      "execution_count": null,
      "metadata": {
        "colab": {
          "base_uri": "https://localhost:8080/"
        },
        "id": "Vi8FTAxZLa9C",
        "outputId": "1a78772c-5d99-4aa1-db30-e31e0a082fdd"
      },
      "outputs": [
        {
          "output_type": "stream",
          "name": "stdout",
          "text": [
            "Seattle\n"
          ]
        }
      ],
      "source": [
        "city_mode = df_copy['City'].mode()[0]\n",
        "print(city_mode)\n",
        "df_copy.fillna(city_mode, inplace=True)"
      ]
    },
    {
      "cell_type": "code",
      "execution_count": null,
      "metadata": {
        "colab": {
          "base_uri": "https://localhost:8080/",
          "height": 489
        },
        "id": "2_t64L5FKsUm",
        "outputId": "ff9127f4-0a81-4ba9-e0c3-46553f488bf1"
      },
      "outputs": [
        {
          "output_type": "execute_result",
          "data": {
            "text/plain": [
              "City\n",
              "Seattle      23489\n",
              "Bellevue      6959\n",
              "Redmond       4965\n",
              "Vancouver     4819\n",
              "Kirkland      4201\n",
              "             ...  \n",
              "Mabton           5\n",
              "Union Gap        5\n",
              "Outlook          5\n",
              "Salkum           5\n",
              "Toutle           5\n",
              "Name: count, Length: 329, dtype: int64"
            ],
            "text/html": [
              "<div>\n",
              "<style scoped>\n",
              "    .dataframe tbody tr th:only-of-type {\n",
              "        vertical-align: middle;\n",
              "    }\n",
              "\n",
              "    .dataframe tbody tr th {\n",
              "        vertical-align: top;\n",
              "    }\n",
              "\n",
              "    .dataframe thead th {\n",
              "        text-align: right;\n",
              "    }\n",
              "</style>\n",
              "<table border=\"1\" class=\"dataframe\">\n",
              "  <thead>\n",
              "    <tr style=\"text-align: right;\">\n",
              "      <th></th>\n",
              "      <th>count</th>\n",
              "    </tr>\n",
              "    <tr>\n",
              "      <th>City</th>\n",
              "      <th></th>\n",
              "    </tr>\n",
              "  </thead>\n",
              "  <tbody>\n",
              "    <tr>\n",
              "      <th>Seattle</th>\n",
              "      <td>23489</td>\n",
              "    </tr>\n",
              "    <tr>\n",
              "      <th>Bellevue</th>\n",
              "      <td>6959</td>\n",
              "    </tr>\n",
              "    <tr>\n",
              "      <th>Redmond</th>\n",
              "      <td>4965</td>\n",
              "    </tr>\n",
              "    <tr>\n",
              "      <th>Vancouver</th>\n",
              "      <td>4819</td>\n",
              "    </tr>\n",
              "    <tr>\n",
              "      <th>Kirkland</th>\n",
              "      <td>4201</td>\n",
              "    </tr>\n",
              "    <tr>\n",
              "      <th>...</th>\n",
              "      <td>...</td>\n",
              "    </tr>\n",
              "    <tr>\n",
              "      <th>Mabton</th>\n",
              "      <td>5</td>\n",
              "    </tr>\n",
              "    <tr>\n",
              "      <th>Union Gap</th>\n",
              "      <td>5</td>\n",
              "    </tr>\n",
              "    <tr>\n",
              "      <th>Outlook</th>\n",
              "      <td>5</td>\n",
              "    </tr>\n",
              "    <tr>\n",
              "      <th>Salkum</th>\n",
              "      <td>5</td>\n",
              "    </tr>\n",
              "    <tr>\n",
              "      <th>Toutle</th>\n",
              "      <td>5</td>\n",
              "    </tr>\n",
              "  </tbody>\n",
              "</table>\n",
              "<p>329 rows × 1 columns</p>\n",
              "</div><br><label><b>dtype:</b> int64</label>"
            ]
          },
          "metadata": {},
          "execution_count": 10
        }
      ],
      "source": [
        "#City<5的合併 651row -> 329row\n",
        "city_counts = df_copy['City'].value_counts()\n",
        "cities_to_merge = city_counts[city_counts < 5].index\n",
        "df_copy['City'] = df_copy['City'].apply(lambda x: 'Other' if x in cities_to_merge else x)\n",
        "City_counts_new = df_copy['City'].value_counts()\n",
        "City_counts_new"
      ]
    },
    {
      "cell_type": "code",
      "execution_count": null,
      "metadata": {
        "colab": {
          "base_uri": "https://localhost:8080/"
        },
        "id": "VwLt-Lj5Soq2",
        "outputId": "5deaa608-dbce-4c0d-cfd0-4f8cb69a2374"
      },
      "outputs": [
        {
          "output_type": "execute_result",
          "data": {
            "text/plain": [
              "(134723, 16)"
            ]
          },
          "metadata": {},
          "execution_count": 11
        }
      ],
      "source": [
        "#刪除缺失值  郵遞區號 車輛登記的立法區 車輛位置 電力續航里程\n",
        "# 2020 年人口普查區域 電力續航里程 製造商的建議零售價\n",
        "df_cleaned = df_copy.dropna(subset=[\n",
        "    'Postal Code','Legislative District',\n",
        "    'Vehicle Location', 'Electric Utility',\n",
        "    '2020 Census Tract','Electric Range',\n",
        "    'Base MSRP'               ])\n",
        "df_cleaned.shape\n"
      ]
    },
    {
      "cell_type": "code",
      "execution_count": null,
      "metadata": {
        "colab": {
          "base_uri": "https://localhost:8080/",
          "height": 489
        },
        "id": "oTQyQXREVTvV",
        "outputId": "e4a452a4-d68d-4ff1-cd37-863c7c3b87d4",
        "collapsed": true
      },
      "outputs": [
        {
          "output_type": "execute_result",
          "data": {
            "text/plain": [
              "Model\n",
              "MODEL 3        25752\n",
              "MODEL Y        23531\n",
              "LEAF           13008\n",
              "MODEL S         7455\n",
              "BOLT EV         5414\n",
              "               ...  \n",
              "GV70               2\n",
              "FLYING SPUR        1\n",
              "918                1\n",
              "Q8                 1\n",
              "S-10 PICKUP        1\n",
              "Name: count, Length: 126, dtype: int64"
            ],
            "text/html": [
              "<div>\n",
              "<style scoped>\n",
              "    .dataframe tbody tr th:only-of-type {\n",
              "        vertical-align: middle;\n",
              "    }\n",
              "\n",
              "    .dataframe tbody tr th {\n",
              "        vertical-align: top;\n",
              "    }\n",
              "\n",
              "    .dataframe thead th {\n",
              "        text-align: right;\n",
              "    }\n",
              "</style>\n",
              "<table border=\"1\" class=\"dataframe\">\n",
              "  <thead>\n",
              "    <tr style=\"text-align: right;\">\n",
              "      <th></th>\n",
              "      <th>count</th>\n",
              "    </tr>\n",
              "    <tr>\n",
              "      <th>Model</th>\n",
              "      <th></th>\n",
              "    </tr>\n",
              "  </thead>\n",
              "  <tbody>\n",
              "    <tr>\n",
              "      <th>MODEL 3</th>\n",
              "      <td>25752</td>\n",
              "    </tr>\n",
              "    <tr>\n",
              "      <th>MODEL Y</th>\n",
              "      <td>23531</td>\n",
              "    </tr>\n",
              "    <tr>\n",
              "      <th>LEAF</th>\n",
              "      <td>13008</td>\n",
              "    </tr>\n",
              "    <tr>\n",
              "      <th>MODEL S</th>\n",
              "      <td>7455</td>\n",
              "    </tr>\n",
              "    <tr>\n",
              "      <th>BOLT EV</th>\n",
              "      <td>5414</td>\n",
              "    </tr>\n",
              "    <tr>\n",
              "      <th>...</th>\n",
              "      <td>...</td>\n",
              "    </tr>\n",
              "    <tr>\n",
              "      <th>GV70</th>\n",
              "      <td>2</td>\n",
              "    </tr>\n",
              "    <tr>\n",
              "      <th>FLYING SPUR</th>\n",
              "      <td>1</td>\n",
              "    </tr>\n",
              "    <tr>\n",
              "      <th>918</th>\n",
              "      <td>1</td>\n",
              "    </tr>\n",
              "    <tr>\n",
              "      <th>Q8</th>\n",
              "      <td>1</td>\n",
              "    </tr>\n",
              "    <tr>\n",
              "      <th>S-10 PICKUP</th>\n",
              "      <td>1</td>\n",
              "    </tr>\n",
              "  </tbody>\n",
              "</table>\n",
              "<p>126 rows × 1 columns</p>\n",
              "</div><br><label><b>dtype:</b> int64</label>"
            ]
          },
          "metadata": {},
          "execution_count": 12
        }
      ],
      "source": [
        "model_counts = df_copy['Model'].value_counts()\n",
        "model_counts"
      ]
    },
    {
      "cell_type": "code",
      "execution_count": null,
      "metadata": {
        "id": "kcf50Emu8a5X"
      },
      "outputs": [],
      "source": [
        "model_mode = df_copy['Model'].mode()[0]"
      ]
    },
    {
      "cell_type": "code",
      "execution_count": null,
      "metadata": {
        "colab": {
          "base_uri": "https://localhost:8080/",
          "height": 489
        },
        "id": "GtY3gbPCV2kc",
        "outputId": "767aa8c9-96ca-40f2-e30c-09709bc29b8e"
      },
      "outputs": [
        {
          "output_type": "execute_result",
          "data": {
            "text/plain": [
              "Model\n",
              "MODEL 3                     25752\n",
              "MODEL Y                     23531\n",
              "LEAF                        13008\n",
              "MODEL S                      7455\n",
              "BOLT EV                      5414\n",
              "                            ...  \n",
              "A7                             10\n",
              "ACCORD                          9\n",
              "G80                             8\n",
              "745E                            8\n",
              "TRANSIT CONNECT ELECTRIC        8\n",
              "Name: count, Length: 116, dtype: int64"
            ],
            "text/html": [
              "<div>\n",
              "<style scoped>\n",
              "    .dataframe tbody tr th:only-of-type {\n",
              "        vertical-align: middle;\n",
              "    }\n",
              "\n",
              "    .dataframe tbody tr th {\n",
              "        vertical-align: top;\n",
              "    }\n",
              "\n",
              "    .dataframe thead th {\n",
              "        text-align: right;\n",
              "    }\n",
              "</style>\n",
              "<table border=\"1\" class=\"dataframe\">\n",
              "  <thead>\n",
              "    <tr style=\"text-align: right;\">\n",
              "      <th></th>\n",
              "      <th>count</th>\n",
              "    </tr>\n",
              "    <tr>\n",
              "      <th>Model</th>\n",
              "      <th></th>\n",
              "    </tr>\n",
              "  </thead>\n",
              "  <tbody>\n",
              "    <tr>\n",
              "      <th>MODEL 3</th>\n",
              "      <td>25752</td>\n",
              "    </tr>\n",
              "    <tr>\n",
              "      <th>MODEL Y</th>\n",
              "      <td>23531</td>\n",
              "    </tr>\n",
              "    <tr>\n",
              "      <th>LEAF</th>\n",
              "      <td>13008</td>\n",
              "    </tr>\n",
              "    <tr>\n",
              "      <th>MODEL S</th>\n",
              "      <td>7455</td>\n",
              "    </tr>\n",
              "    <tr>\n",
              "      <th>BOLT EV</th>\n",
              "      <td>5414</td>\n",
              "    </tr>\n",
              "    <tr>\n",
              "      <th>...</th>\n",
              "      <td>...</td>\n",
              "    </tr>\n",
              "    <tr>\n",
              "      <th>A7</th>\n",
              "      <td>10</td>\n",
              "    </tr>\n",
              "    <tr>\n",
              "      <th>ACCORD</th>\n",
              "      <td>9</td>\n",
              "    </tr>\n",
              "    <tr>\n",
              "      <th>G80</th>\n",
              "      <td>8</td>\n",
              "    </tr>\n",
              "    <tr>\n",
              "      <th>745E</th>\n",
              "      <td>8</td>\n",
              "    </tr>\n",
              "    <tr>\n",
              "      <th>TRANSIT CONNECT ELECTRIC</th>\n",
              "      <td>8</td>\n",
              "    </tr>\n",
              "  </tbody>\n",
              "</table>\n",
              "<p>116 rows × 1 columns</p>\n",
              "</div><br><label><b>dtype:</b> int64</label>"
            ]
          },
          "metadata": {},
          "execution_count": 14
        }
      ],
      "source": [
        "#合併model<5的 126->116\n",
        "models_to_merge = model_counts[model_counts < 5].index\n",
        "df_copy['Model'] = df_copy['Model'].apply(lambda x: 'Other' if x in models_to_merge else x)\n",
        "model_counts_new = df_copy['Model'].value_counts()\n",
        "model_counts_new"
      ]
    },
    {
      "cell_type": "code",
      "execution_count": null,
      "metadata": {
        "colab": {
          "base_uri": "https://localhost:8080/"
        },
        "id": "9nRzkRVAV7K7",
        "outputId": "040ac44e-8837-41d0-a387-e513831bead9"
      },
      "outputs": [
        {
          "output_type": "execute_result",
          "data": {
            "text/plain": [
              "0"
            ]
          },
          "metadata": {},
          "execution_count": 15
        }
      ],
      "source": [
        "# impute missing values for 'Model' columns\n",
        "df_copy.fillna({'Model':model_mode}, inplace=True)\n",
        "missing_model_values = df_copy['Model'].isnull().sum()\n",
        "missing_model_values"
      ]
    },
    {
      "cell_type": "code",
      "execution_count": null,
      "metadata": {
        "colab": {
          "base_uri": "https://localhost:8080/"
        },
        "id": "ibpkFONgNStf",
        "outputId": "41eb1e51-76c1-4d4b-8719-368e8dd014ce"
      },
      "outputs": [
        {
          "output_type": "stream",
          "name": "stdout",
          "text": [
            "VIN (1-10)                                           0\n",
            "City                                                 0\n",
            "State                                                0\n",
            "Postal Code                                          0\n",
            "Model Year                                           0\n",
            "Make                                                 0\n",
            "Model                                                0\n",
            "Electric Vehicle Type                                0\n",
            "Clean Alternative Fuel Vehicle (CAFV) Eligibility    0\n",
            "Electric Range                                       0\n",
            "Base MSRP                                            0\n",
            "Legislative District                                 0\n",
            "DOL Vehicle ID                                       0\n",
            "Vehicle Location                                     0\n",
            "Electric Utility                                     0\n",
            "2020 Census Tract                                    0\n",
            "dtype: int64\n"
          ]
        }
      ],
      "source": [
        "missing_values = df_copy.isnull().sum()\n",
        "print(missing_values)"
      ]
    },
    {
      "cell_type": "code",
      "source": [
        "df_copy.loc[:,['Model Year']].value_counts().head()"
      ],
      "metadata": {
        "colab": {
          "base_uri": "https://localhost:8080/",
          "height": 272
        },
        "id": "VOo8UFTBVRJS",
        "outputId": "6d1115a8-61e9-47e3-9c5b-e642cddb8c9c",
        "collapsed": true
      },
      "execution_count": null,
      "outputs": [
        {
          "output_type": "execute_result",
          "data": {
            "text/plain": [
              "Model Year\n",
              "2022          27919\n",
              "2023          22458\n",
              "2021          18478\n",
              "2018          14314\n",
              "2020          11119\n",
              "Name: count, dtype: int64"
            ],
            "text/html": [
              "<div>\n",
              "<style scoped>\n",
              "    .dataframe tbody tr th:only-of-type {\n",
              "        vertical-align: middle;\n",
              "    }\n",
              "\n",
              "    .dataframe tbody tr th {\n",
              "        vertical-align: top;\n",
              "    }\n",
              "\n",
              "    .dataframe thead th {\n",
              "        text-align: right;\n",
              "    }\n",
              "</style>\n",
              "<table border=\"1\" class=\"dataframe\">\n",
              "  <thead>\n",
              "    <tr style=\"text-align: right;\">\n",
              "      <th></th>\n",
              "      <th>count</th>\n",
              "    </tr>\n",
              "    <tr>\n",
              "      <th>Model Year</th>\n",
              "      <th></th>\n",
              "    </tr>\n",
              "  </thead>\n",
              "  <tbody>\n",
              "    <tr>\n",
              "      <th>2022</th>\n",
              "      <td>27919</td>\n",
              "    </tr>\n",
              "    <tr>\n",
              "      <th>2023</th>\n",
              "      <td>22458</td>\n",
              "    </tr>\n",
              "    <tr>\n",
              "      <th>2021</th>\n",
              "      <td>18478</td>\n",
              "    </tr>\n",
              "    <tr>\n",
              "      <th>2018</th>\n",
              "      <td>14314</td>\n",
              "    </tr>\n",
              "    <tr>\n",
              "      <th>2020</th>\n",
              "      <td>11119</td>\n",
              "    </tr>\n",
              "  </tbody>\n",
              "</table>\n",
              "</div><br><label><b>dtype:</b> int64</label>"
            ]
          },
          "metadata": {},
          "execution_count": 17
        }
      ]
    },
    {
      "cell_type": "code",
      "source": [
        "df_copy.loc[:,['Base MSRP']].value_counts().head()"
      ],
      "metadata": {
        "colab": {
          "base_uri": "https://localhost:8080/",
          "height": 272
        },
        "id": "CxCA1TcvLYBP",
        "outputId": "5ac55294-a08d-4ca6-acbc-86d76a0e9b47"
      },
      "execution_count": null,
      "outputs": [
        {
          "output_type": "execute_result",
          "data": {
            "text/plain": [
              "Base MSRP\n",
              "0.0          131304\n",
              "69900.0        1430\n",
              "31950.0         400\n",
              "52900.0         214\n",
              "32250.0         152\n",
              "Name: count, dtype: int64"
            ],
            "text/html": [
              "<div>\n",
              "<style scoped>\n",
              "    .dataframe tbody tr th:only-of-type {\n",
              "        vertical-align: middle;\n",
              "    }\n",
              "\n",
              "    .dataframe tbody tr th {\n",
              "        vertical-align: top;\n",
              "    }\n",
              "\n",
              "    .dataframe thead th {\n",
              "        text-align: right;\n",
              "    }\n",
              "</style>\n",
              "<table border=\"1\" class=\"dataframe\">\n",
              "  <thead>\n",
              "    <tr style=\"text-align: right;\">\n",
              "      <th></th>\n",
              "      <th>count</th>\n",
              "    </tr>\n",
              "    <tr>\n",
              "      <th>Base MSRP</th>\n",
              "      <th></th>\n",
              "    </tr>\n",
              "  </thead>\n",
              "  <tbody>\n",
              "    <tr>\n",
              "      <th>0.0</th>\n",
              "      <td>131304</td>\n",
              "    </tr>\n",
              "    <tr>\n",
              "      <th>69900.0</th>\n",
              "      <td>1430</td>\n",
              "    </tr>\n",
              "    <tr>\n",
              "      <th>31950.0</th>\n",
              "      <td>400</td>\n",
              "    </tr>\n",
              "    <tr>\n",
              "      <th>52900.0</th>\n",
              "      <td>214</td>\n",
              "    </tr>\n",
              "    <tr>\n",
              "      <th>32250.0</th>\n",
              "      <td>152</td>\n",
              "    </tr>\n",
              "  </tbody>\n",
              "</table>\n",
              "</div><br><label><b>dtype:</b> int64</label>"
            ]
          },
          "metadata": {},
          "execution_count": 18
        }
      ]
    },
    {
      "cell_type": "code",
      "source": [
        "df_copy.loc[:,['Electric Range']].value_counts().head()"
      ],
      "metadata": {
        "colab": {
          "base_uri": "https://localhost:8080/",
          "height": 272
        },
        "id": "kE-r_bywJD_1",
        "outputId": "653df2c6-f598-478b-94e6-5df61693bc55"
      },
      "execution_count": null,
      "outputs": [
        {
          "output_type": "execute_result",
          "data": {
            "text/plain": [
              "Electric Range\n",
              "0.0               56867\n",
              "215.0              6422\n",
              "220.0              4150\n",
              "84.0               4036\n",
              "238.0              3508\n",
              "Name: count, dtype: int64"
            ],
            "text/html": [
              "<div>\n",
              "<style scoped>\n",
              "    .dataframe tbody tr th:only-of-type {\n",
              "        vertical-align: middle;\n",
              "    }\n",
              "\n",
              "    .dataframe tbody tr th {\n",
              "        vertical-align: top;\n",
              "    }\n",
              "\n",
              "    .dataframe thead th {\n",
              "        text-align: right;\n",
              "    }\n",
              "</style>\n",
              "<table border=\"1\" class=\"dataframe\">\n",
              "  <thead>\n",
              "    <tr style=\"text-align: right;\">\n",
              "      <th></th>\n",
              "      <th>count</th>\n",
              "    </tr>\n",
              "    <tr>\n",
              "      <th>Electric Range</th>\n",
              "      <th></th>\n",
              "    </tr>\n",
              "  </thead>\n",
              "  <tbody>\n",
              "    <tr>\n",
              "      <th>0.0</th>\n",
              "      <td>56867</td>\n",
              "    </tr>\n",
              "    <tr>\n",
              "      <th>215.0</th>\n",
              "      <td>6422</td>\n",
              "    </tr>\n",
              "    <tr>\n",
              "      <th>220.0</th>\n",
              "      <td>4150</td>\n",
              "    </tr>\n",
              "    <tr>\n",
              "      <th>84.0</th>\n",
              "      <td>4036</td>\n",
              "    </tr>\n",
              "    <tr>\n",
              "      <th>238.0</th>\n",
              "      <td>3508</td>\n",
              "    </tr>\n",
              "  </tbody>\n",
              "</table>\n",
              "</div><br><label><b>dtype:</b> int64</label>"
            ]
          },
          "metadata": {},
          "execution_count": 20
        }
      ]
    },
    {
      "cell_type": "code",
      "source": [
        "kk= df_copy.loc[:,\"Electric Range\"]==0\n",
        "df2=df_copy.loc[kk]\n",
        "df2.loc[:,\"Model Year\"].value_counts()"
      ],
      "metadata": {
        "colab": {
          "base_uri": "https://localhost:8080/",
          "height": 303
        },
        "id": "t3ufGNoAUDdH",
        "outputId": "3c4cc05e-98b1-4009-9105-904a6f568051"
      },
      "execution_count": null,
      "outputs": [
        {
          "output_type": "execute_result",
          "data": {
            "text/plain": [
              "Model Year\n",
              "2022    23754\n",
              "2023    18609\n",
              "2021    14429\n",
              "2020       57\n",
              "2024       15\n",
              "2019        3\n",
              "Name: count, dtype: int64"
            ],
            "text/html": [
              "<div>\n",
              "<style scoped>\n",
              "    .dataframe tbody tr th:only-of-type {\n",
              "        vertical-align: middle;\n",
              "    }\n",
              "\n",
              "    .dataframe tbody tr th {\n",
              "        vertical-align: top;\n",
              "    }\n",
              "\n",
              "    .dataframe thead th {\n",
              "        text-align: right;\n",
              "    }\n",
              "</style>\n",
              "<table border=\"1\" class=\"dataframe\">\n",
              "  <thead>\n",
              "    <tr style=\"text-align: right;\">\n",
              "      <th></th>\n",
              "      <th>count</th>\n",
              "    </tr>\n",
              "    <tr>\n",
              "      <th>Model Year</th>\n",
              "      <th></th>\n",
              "    </tr>\n",
              "  </thead>\n",
              "  <tbody>\n",
              "    <tr>\n",
              "      <th>2022</th>\n",
              "      <td>23754</td>\n",
              "    </tr>\n",
              "    <tr>\n",
              "      <th>2023</th>\n",
              "      <td>18609</td>\n",
              "    </tr>\n",
              "    <tr>\n",
              "      <th>2021</th>\n",
              "      <td>14429</td>\n",
              "    </tr>\n",
              "    <tr>\n",
              "      <th>2020</th>\n",
              "      <td>57</td>\n",
              "    </tr>\n",
              "    <tr>\n",
              "      <th>2024</th>\n",
              "      <td>15</td>\n",
              "    </tr>\n",
              "    <tr>\n",
              "      <th>2019</th>\n",
              "      <td>3</td>\n",
              "    </tr>\n",
              "  </tbody>\n",
              "</table>\n",
              "</div><br><label><b>dtype:</b> int64</label>"
            ]
          },
          "metadata": {},
          "execution_count": 19
        }
      ]
    },
    {
      "cell_type": "code",
      "execution_count": null,
      "metadata": {
        "colab": {
          "base_uri": "https://localhost:8080/",
          "height": 272
        },
        "id": "q_XuO1jrWJfH",
        "outputId": "cbd168f0-393b-4e12-bbef-cba01d72425a"
      },
      "outputs": [
        {
          "output_type": "execute_result",
          "data": {
            "text/plain": [
              "Electric Range\n",
              "51.0    4\n",
              "95.0    3\n",
              "57.0    1\n",
              "11.0    1\n",
              "59.0    1\n",
              "Name: count, dtype: int64"
            ],
            "text/html": [
              "<div>\n",
              "<style scoped>\n",
              "    .dataframe tbody tr th:only-of-type {\n",
              "        vertical-align: middle;\n",
              "    }\n",
              "\n",
              "    .dataframe tbody tr th {\n",
              "        vertical-align: top;\n",
              "    }\n",
              "\n",
              "    .dataframe thead th {\n",
              "        text-align: right;\n",
              "    }\n",
              "</style>\n",
              "<table border=\"1\" class=\"dataframe\">\n",
              "  <thead>\n",
              "    <tr style=\"text-align: right;\">\n",
              "      <th></th>\n",
              "      <th>count</th>\n",
              "    </tr>\n",
              "    <tr>\n",
              "      <th>Electric Range</th>\n",
              "      <th></th>\n",
              "    </tr>\n",
              "  </thead>\n",
              "  <tbody>\n",
              "    <tr>\n",
              "      <th>51.0</th>\n",
              "      <td>4</td>\n",
              "    </tr>\n",
              "    <tr>\n",
              "      <th>95.0</th>\n",
              "      <td>3</td>\n",
              "    </tr>\n",
              "    <tr>\n",
              "      <th>57.0</th>\n",
              "      <td>1</td>\n",
              "    </tr>\n",
              "    <tr>\n",
              "      <th>11.0</th>\n",
              "      <td>1</td>\n",
              "    </tr>\n",
              "    <tr>\n",
              "      <th>59.0</th>\n",
              "      <td>1</td>\n",
              "    </tr>\n",
              "  </tbody>\n",
              "</table>\n",
              "</div><br><label><b>dtype:</b> int64</label>"
            ]
          },
          "metadata": {},
          "execution_count": 21
        }
      ],
      "source": [
        "#檢查電力續航里程\n",
        "Electric_Range_counts = df_copy['Electric Range'].value_counts()\n",
        "Electric_Range_counts.tail()\n"
      ]
    },
    {
      "cell_type": "code",
      "source": [
        "p=df_cleaned['Electric Range'].value_counts()\n",
        "pk = p[p >= 5].index"
      ],
      "metadata": {
        "id": "XMNUsYYnj_4s"
      },
      "execution_count": null,
      "outputs": []
    },
    {
      "cell_type": "code",
      "source": [
        "a1=df_copy[(df_copy['Electric Range'] !=0) | (df_copy['Base MSRP'] !=0) ]\n",
        "a2=df_copy[(df_copy['Electric Range'] !=0) ]\n",
        "print(a1.count()==a2.count())"
      ],
      "metadata": {
        "colab": {
          "base_uri": "https://localhost:8080/"
        },
        "id": "dLyow4s1zREY",
        "outputId": "9b0b10a9-f8f4-4eae-dd9c-1ab954b89c9c"
      },
      "execution_count": null,
      "outputs": [
        {
          "output_type": "stream",
          "name": "stdout",
          "text": [
            "VIN (1-10)                                           True\n",
            "City                                                 True\n",
            "State                                                True\n",
            "Postal Code                                          True\n",
            "Model Year                                           True\n",
            "Make                                                 True\n",
            "Model                                                True\n",
            "Electric Vehicle Type                                True\n",
            "Clean Alternative Fuel Vehicle (CAFV) Eligibility    True\n",
            "Electric Range                                       True\n",
            "Base MSRP                                            True\n",
            "Legislative District                                 True\n",
            "DOL Vehicle ID                                       True\n",
            "Vehicle Location                                     True\n",
            "Electric Utility                                     True\n",
            "2020 Census Tract                                    True\n",
            "dtype: bool\n"
          ]
        }
      ]
    },
    {
      "cell_type": "markdown",
      "source": [
        "根據上述結果，可以知道Electric Range=0的時候，Base MSRP也會是0，代表是因為可能是新車或是沒有相關數據才會填上0。  \n",
        "所以考慮是否刪除Electric Range=0的index\n",
        "\n"
      ],
      "metadata": {
        "id": "hHAPFZBMnFk3"
      }
    },
    {
      "cell_type": "code",
      "execution_count": null,
      "metadata": {
        "colab": {
          "base_uri": "https://localhost:8080/"
        },
        "outputId": "a7d74687-aed3-467e-c997-18c82e0b0ec3",
        "id": "lj4E-PXuP86s"
      },
      "outputs": [
        {
          "output_type": "stream",
          "name": "stdout",
          "text": [
            "Reject the null hypothesis.\n",
            "The average Electric Range is significantly different from 0 miles.\n"
          ]
        }
      ],
      "source": [
        "import pandas as pd\n",
        "from scipy import stats\n",
        "\n",
        "# 2. Set the significance level (alpha):\n",
        "alpha = 0.01\n",
        "\n",
        "\n",
        "t_statistic, p_value = stats.ttest_1samp(df_copy['Electric Range'], 0)  # Replace 250 with your specific value\n",
        "\n",
        "if p_value < alpha:\n",
        "    print(\"Reject the null hypothesis.\")\n",
        "    print(\"The average Electric Range is significantly different from 0 miles.\")\n",
        "else:\n",
        "    print(\"Fail to reject the null hypothesis.\")\n",
        "    print(\"There is not enough evidence to conclude that the average Electric Range is different from 0 miles.\")"
      ]
    },
    {
      "cell_type": "code",
      "execution_count": null,
      "metadata": {
        "colab": {
          "base_uri": "https://localhost:8080/"
        },
        "id": "NXL7oAVb-xM6",
        "outputId": "62b6a6fc-473b-4a87-adee-81811f136b0c"
      },
      "outputs": [
        {
          "output_type": "execute_result",
          "data": {
            "text/plain": [
              "(77834, 16)"
            ]
          },
          "metadata": {},
          "execution_count": 25
        }
      ],
      "source": [
        "#刪除電力續航里程為0的\n",
        "df_cleaned = df_copy[(df_copy['Electric Range'] !=0) | (df_copy['Base MSRP'] !=0) ]\n",
        "df_cleaned = df_cleaned[df_cleaned['Electric Range'].isin(pk)]\n",
        "df_cleaned.shape"
      ]
    },
    {
      "cell_type": "code",
      "execution_count": null,
      "metadata": {
        "colab": {
          "base_uri": "https://localhost:8080/",
          "height": 272
        },
        "outputId": "f94d5c79-0e2a-4d52-c1c3-7151a42b6fc5",
        "id": "sk1FfNInkxa6"
      },
      "outputs": [
        {
          "output_type": "execute_result",
          "data": {
            "text/plain": [
              "Electric Range\n",
              "215.0    6422\n",
              "220.0    4150\n",
              "84.0     4036\n",
              "238.0    3508\n",
              "25.0     3231\n",
              "Name: count, dtype: int64"
            ],
            "text/html": [
              "<div>\n",
              "<style scoped>\n",
              "    .dataframe tbody tr th:only-of-type {\n",
              "        vertical-align: middle;\n",
              "    }\n",
              "\n",
              "    .dataframe tbody tr th {\n",
              "        vertical-align: top;\n",
              "    }\n",
              "\n",
              "    .dataframe thead th {\n",
              "        text-align: right;\n",
              "    }\n",
              "</style>\n",
              "<table border=\"1\" class=\"dataframe\">\n",
              "  <thead>\n",
              "    <tr style=\"text-align: right;\">\n",
              "      <th></th>\n",
              "      <th>count</th>\n",
              "    </tr>\n",
              "    <tr>\n",
              "      <th>Electric Range</th>\n",
              "      <th></th>\n",
              "    </tr>\n",
              "  </thead>\n",
              "  <tbody>\n",
              "    <tr>\n",
              "      <th>215.0</th>\n",
              "      <td>6422</td>\n",
              "    </tr>\n",
              "    <tr>\n",
              "      <th>220.0</th>\n",
              "      <td>4150</td>\n",
              "    </tr>\n",
              "    <tr>\n",
              "      <th>84.0</th>\n",
              "      <td>4036</td>\n",
              "    </tr>\n",
              "    <tr>\n",
              "      <th>238.0</th>\n",
              "      <td>3508</td>\n",
              "    </tr>\n",
              "    <tr>\n",
              "      <th>25.0</th>\n",
              "      <td>3231</td>\n",
              "    </tr>\n",
              "  </tbody>\n",
              "</table>\n",
              "</div><br><label><b>dtype:</b> int64</label>"
            ]
          },
          "metadata": {},
          "execution_count": 26
        }
      ],
      "source": [
        "#檢查電力續航里程\n",
        "Electric_Range_counts = df_cleaned['Electric Range'].value_counts()\n",
        "Electric_Range_counts.head()\n"
      ]
    },
    {
      "cell_type": "code",
      "execution_count": null,
      "metadata": {
        "colab": {
          "base_uri": "https://localhost:8080/",
          "height": 272
        },
        "id": "_JSYwOpwCFix",
        "outputId": "8f54bea1-d58a-4d1f-f41c-c6f707bd96df"
      },
      "outputs": [
        {
          "output_type": "execute_result",
          "data": {
            "text/plain": [
              "Make\n",
              "TESLA        25803\n",
              "NISSAN       11042\n",
              "CHEVROLET     8681\n",
              "BMW           4991\n",
              "TOYOTA        4798\n",
              "Name: count, dtype: int64"
            ],
            "text/html": [
              "<div>\n",
              "<style scoped>\n",
              "    .dataframe tbody tr th:only-of-type {\n",
              "        vertical-align: middle;\n",
              "    }\n",
              "\n",
              "    .dataframe tbody tr th {\n",
              "        vertical-align: top;\n",
              "    }\n",
              "\n",
              "    .dataframe thead th {\n",
              "        text-align: right;\n",
              "    }\n",
              "</style>\n",
              "<table border=\"1\" class=\"dataframe\">\n",
              "  <thead>\n",
              "    <tr style=\"text-align: right;\">\n",
              "      <th></th>\n",
              "      <th>count</th>\n",
              "    </tr>\n",
              "    <tr>\n",
              "      <th>Make</th>\n",
              "      <th></th>\n",
              "    </tr>\n",
              "  </thead>\n",
              "  <tbody>\n",
              "    <tr>\n",
              "      <th>TESLA</th>\n",
              "      <td>25803</td>\n",
              "    </tr>\n",
              "    <tr>\n",
              "      <th>NISSAN</th>\n",
              "      <td>11042</td>\n",
              "    </tr>\n",
              "    <tr>\n",
              "      <th>CHEVROLET</th>\n",
              "      <td>8681</td>\n",
              "    </tr>\n",
              "    <tr>\n",
              "      <th>BMW</th>\n",
              "      <td>4991</td>\n",
              "    </tr>\n",
              "    <tr>\n",
              "      <th>TOYOTA</th>\n",
              "      <td>4798</td>\n",
              "    </tr>\n",
              "  </tbody>\n",
              "</table>\n",
              "</div><br><label><b>dtype:</b> int64</label>"
            ]
          },
          "metadata": {},
          "execution_count": 27
        }
      ],
      "source": [
        "make_counts = df_cleaned['Make'].value_counts()\n",
        "make_counts.head()"
      ]
    },
    {
      "cell_type": "code",
      "source": [
        "make_to_merge = make_counts[make_counts < 10].index\n",
        "df_cleaned['Make'] = df_cleaned['Make'].apply(lambda x: 'Other' if x in make_to_merge else x)\n",
        "make_counts_new = df_cleaned['Make'].value_counts()\n",
        "make_counts_new.shape"
      ],
      "metadata": {
        "colab": {
          "base_uri": "https://localhost:8080/"
        },
        "id": "-VNQcmgYR4Tb",
        "outputId": "f7b71f56-3c3b-4cf0-ff92-d9e6fa7614db"
      },
      "execution_count": null,
      "outputs": [
        {
          "output_type": "execute_result",
          "data": {
            "text/plain": [
              "(30,)"
            ]
          },
          "metadata": {},
          "execution_count": 28
        }
      ]
    },
    {
      "cell_type": "code",
      "source": [
        "# Select only numeric columns for correlation calculation\n",
        "numeric_df = df.select_dtypes(include=np.number)\n",
        "df_corr = numeric_df.corr()\n",
        "seaborn.heatmap(df_corr, center=0, annot=True)\n",
        "mp.show()"
      ],
      "metadata": {
        "colab": {
          "base_uri": "https://localhost:8080/",
          "height": 550
        },
        "id": "IvucVkZCiqKx",
        "outputId": "e91891c8-121b-434a-c818-6a1589cfa8af"
      },
      "execution_count": null,
      "outputs": [
        {
          "output_type": "display_data",
          "data": {
            "text/plain": [
              "<Figure size 640x480 with 2 Axes>"
            ],
            "image/png": "[encoded data removed]"
          },
          "metadata": {}
        }
      ]
    },
    {
      "cell_type": "markdown",
      "source": [
        "##scaling"
      ],
      "metadata": {
        "id": "5RqG5v96ZLZa"
      }
    },
    {
      "cell_type": "code",
      "execution_count": null,
      "metadata": {
        "colab": {
          "base_uri": "https://localhost:8080/",
          "height": 430
        },
        "id": "yW825aljFw2E",
        "outputId": "db7ed5d6-042e-4ddb-8625-6a598da8518b"
      },
      "outputs": [
        {
          "output_type": "display_data",
          "data": {
            "text/plain": [
              "<Figure size 640x480 with 1 Axes>"
            ],
            "image/png": "[encoded data removed]"
          },
          "metadata": {}
        }
      ],
      "source": [
        "df_cleaned[\"Electric Range\"].hist();"
      ]
    },
    {
      "cell_type": "code",
      "execution_count": null,
      "metadata": {
        "id": "KW_p4xJuSYJt"
      },
      "outputs": [],
      "source": [
        "#標準化Electric Range\n",
        "from sklearn.preprocessing import StandardScaler\n",
        "from sklearn.preprocessing import PowerTransformer\n",
        "from sklearn.preprocessing import QuantileTransformer\n",
        "scaler = StandardScaler()\n",
        "scaler.fit(df_cleaned[['Electric Range']])\n",
        "df_cleaned['Electric Range_standardized'] = scaler.transform(df_cleaned[['Electric Range']])"
      ]
    },
    {
      "cell_type": "code",
      "execution_count": null,
      "metadata": {
        "colab": {
          "base_uri": "https://localhost:8080/",
          "height": 472
        },
        "id": "xM8gApbjTZtx",
        "outputId": "f4f48ef1-2835-42e3-b7e6-2bc0ff047422"
      },
      "outputs": [
        {
          "output_type": "display_data",
          "data": {
            "text/plain": [
              "<Figure size 640x480 with 1 Axes>"
            ],
            "image/png": "[encoded data removed]"
          },
          "metadata": {}
        }
      ],
      "source": [
        "plt.hist(df_cleaned['Electric Range_standardized'], bins=30)  # Adjust the number of bins as needed\n",
        "plt.xlabel('Standardized Electric Range')\n",
        "plt.ylabel('Frequency')\n",
        "plt.title('Distribution of Standardized Electric Range')\n",
        "plt.grid(True)\n",
        "plt.show()"
      ]
    },
    {
      "cell_type": "code",
      "execution_count": null,
      "metadata": {
        "id": "k2w5rc3oVnPd"
      },
      "outputs": [],
      "source": [
        "# Electric Range 取log\n",
        "df_cleaned['Electric Range_transformed'] = np.log1p(df_copy['Electric Range'])"
      ]
    },
    {
      "cell_type": "code",
      "execution_count": null,
      "metadata": {
        "colab": {
          "base_uri": "https://localhost:8080/",
          "height": 472
        },
        "id": "cMNbDShrV0ha",
        "outputId": "99ade028-c9cb-4c6f-acf7-3aaa0fdc9b9e"
      },
      "outputs": [
        {
          "output_type": "display_data",
          "data": {
            "text/plain": [
              "<Figure size 640x480 with 1 Axes>"
            ],
            "image/png": "[encoded data removed]"
          },
          "metadata": {}
        }
      ],
      "source": [
        "plt.hist(df_cleaned['Electric Range_transformed'], bins=30)\n",
        "plt.xlabel('Transformed Electric Range')\n",
        "plt.ylabel('Frequency')\n",
        "plt.title('Distribution of Transformed Electric Range')\n",
        "plt.grid(True)\n",
        "plt.show()"
      ]
    },
    {
      "cell_type": "code",
      "source": [
        "transformer2 = QuantileTransformer(n_quantiles=100, random_state=0, output_distribution='normal')\n",
        "t_data=transformer2.fit_transform(df_cleaned[['Electric Range']])\n"
      ],
      "metadata": {
        "id": "ZObOsldoMrgE"
      },
      "execution_count": null,
      "outputs": []
    },
    {
      "cell_type": "code",
      "execution_count": null,
      "metadata": {
        "colab": {
          "base_uri": "https://localhost:8080/",
          "height": 472
        },
        "outputId": "808cc543-51eb-4356-98fd-b08711c86ecd",
        "id": "0A0w0fhmNwaY"
      },
      "outputs": [
        {
          "output_type": "display_data",
          "data": {
            "text/plain": [
              "<Figure size 640x480 with 1 Axes>"
            ],
            "image/png": "[encoded data removed]"
          },
          "metadata": {}
        }
      ],
      "source": [
        "plt.hist(t_data, bins=30)\n",
        "plt.xlabel('Transformed Electric Range')\n",
        "plt.ylabel('Frequency')\n",
        "plt.title('Distribution of Transformed Electric Range')\n",
        "plt.grid(True)\n",
        "plt.show()"
      ]
    },
    {
      "cell_type": "code",
      "source": [
        "pt = PowerTransformer(method='box-cox')\n",
        "t1_data = pt.fit_transform(df_cleaned[['Electric Range']])"
      ],
      "metadata": {
        "id": "6e5phcRmOqmz"
      },
      "execution_count": null,
      "outputs": []
    },
    {
      "cell_type": "code",
      "source": [
        "plt.hist(t1_data, bins=30)\n",
        "plt.xlabel('Transformed Electric Range')\n",
        "plt.ylabel('Frequency')\n",
        "plt.title('Distribution of Transformed Electric Range')\n",
        "plt.grid(True)\n",
        "plt.show()"
      ],
      "metadata": {
        "colab": {
          "base_uri": "https://localhost:8080/",
          "height": 472
        },
        "id": "oux3vQLRO2D4",
        "outputId": "ee99ee0e-5fbf-4f4c-8180-4ef3b86953cb"
      },
      "execution_count": null,
      "outputs": [
        {
          "output_type": "display_data",
          "data": {
            "text/plain": [
              "<Figure size 640x480 with 1 Axes>"
            ],
            "image/png": "[encoded data removed]"
          },
          "metadata": {}
        }
      ]
    },
    {
      "cell_type": "markdown",
      "source": [
        "經由上述傳換可以看出QuantileTransformer最接近鐘形分布，所以使用QuantileTransformer"
      ],
      "metadata": {
        "id": "WUYcsLTqn0t7"
      }
    },
    {
      "cell_type": "code",
      "source": [
        "df_cleaned.loc[:,['Electric Range Quantile']]=t_data"
      ],
      "metadata": {
        "id": "Trek9DwhgKGl"
      },
      "execution_count": null,
      "outputs": []
    },
    {
      "cell_type": "markdown",
      "source": [
        "##encoding"
      ],
      "metadata": {
        "id": "Ik_H0LZaZaZY"
      }
    },
    {
      "cell_type": "code",
      "source": [
        "from sklearn.preprocessing import TargetEncoder\n",
        "enc_auto = TargetEncoder(smooth=\"auto\",cv=5,categories='auto',target_type='continuous')\n",
        "df_Make_encoded = enc_auto.fit(df_cleaned.loc[:,['Make',\"Model\"]],df_cleaned['Electric Range'])\n",
        "df_cleaned.loc[:,[\"Make_encode\",\"Model_encode\"]]=df_Make_encoded.transform(df_cleaned[['Make',\"Model\"]])"
      ],
      "metadata": {
        "id": "IEY_HibhISXn"
      },
      "execution_count": null,
      "outputs": []
    },
    {
      "cell_type": "code",
      "source": [
        "df_cleaned.loc[:,[\"Make_encode\",\"Model_encode\"]]"
      ],
      "metadata": {
        "colab": {
          "base_uri": "https://localhost:8080/",
          "height": 423
        },
        "id": "RQ7_p0M4SWod",
        "outputId": "3a8523b1-a0e1-49d5-cdf8-922f823eb3b4"
      },
      "execution_count": null,
      "outputs": [
        {
          "output_type": "execute_result",
          "data": {
            "text/plain": [
              "        Make_encode  Model_encode\n",
              "0        240.476757    238.176572\n",
              "2        240.476757    238.176572\n",
              "3        240.476757    238.176572\n",
              "4        240.476757    226.651642\n",
              "5         47.429125     90.046750\n",
              "...             ...           ...\n",
              "135029   127.724953     45.322007\n",
              "135030    22.243495     21.763181\n",
              "135032   240.476757    238.176572\n",
              "135033   240.476757    226.651642\n",
              "135037    24.945839     19.178110\n",
              "\n",
              "[77834 rows x 2 columns]"
            ],
            "text/html": [
              "\n",
              "  <div id=\"df-08c78e10-d0a8-416f-8aa6-8f5d2f04264a\" class=\"colab-df-container\">\n",
              "    <div>\n",
              "<style scoped>\n",
              "    .dataframe tbody tr th:only-of-type {\n",
              "        vertical-align: middle;\n",
              "    }\n",
              "\n",
              "    .dataframe tbody tr th {\n",
              "        vertical-align: top;\n",
              "    }\n",
              "\n",
              "    .dataframe thead th {\n",
              "        text-align: right;\n",
              "    }\n",
              "</style>\n",
              "<table border=\"1\" class=\"dataframe\">\n",
              "  <thead>\n",
              "    <tr style=\"text-align: right;\">\n",
              "      <th></th>\n",
              "      <th>Make_encode</th>\n",
              "      <th>Model_encode</th>\n",
              "    </tr>\n",
              "  </thead>\n",
              "  <tbody>\n",
              "    <tr>\n",
              "      <th>0</th>\n",
              "      <td>240.476757</td>\n",
              "      <td>238.176572</td>\n",
              "    </tr>\n",
              "    <tr>\n",
              "      <th>2</th>\n",
              "      <td>240.476757</td>\n",
              "      <td>238.176572</td>\n",
              "    </tr>\n",
              "    <tr>\n",
              "      <th>3</th>\n",
              "      <td>240.476757</td>\n",
              "      <td>238.176572</td>\n",
              "    </tr>\n",
              "    <tr>\n",
              "      <th>4</th>\n",
              "      <td>240.476757</td>\n",
              "      <td>226.651642</td>\n",
              "    </tr>\n",
              "    <tr>\n",
              "      <th>5</th>\n",
              "      <td>47.429125</td>\n",
              "      <td>90.046750</td>\n",
              "    </tr>\n",
              "    <tr>\n",
              "      <th>...</th>\n",
              "      <td>...</td>\n",
              "      <td>...</td>\n",
              "    </tr>\n",
              "    <tr>\n",
              "      <th>135029</th>\n",
              "      <td>127.724953</td>\n",
              "      <td>45.322007</td>\n",
              "    </tr>\n",
              "    <tr>\n",
              "      <th>135030</th>\n",
              "      <td>22.243495</td>\n",
              "      <td>21.763181</td>\n",
              "    </tr>\n",
              "    <tr>\n",
              "      <th>135032</th>\n",
              "      <td>240.476757</td>\n",
              "      <td>238.176572</td>\n",
              "    </tr>\n",
              "    <tr>\n",
              "      <th>135033</th>\n",
              "      <td>240.476757</td>\n",
              "      <td>226.651642</td>\n",
              "    </tr>\n",
              "    <tr>\n",
              "      <th>135037</th>\n",
              "      <td>24.945839</td>\n",
              "      <td>19.178110</td>\n",
              "    </tr>\n",
              "  </tbody>\n",
              "</table>\n",
              "<p>77834 rows × 2 columns</p>\n",
              "</div>\n",
              "    <div class=\"colab-df-buttons\">\n",
              "\n",
              "  <div class=\"colab-df-container\">\n",
              "    <button class=\"colab-df-convert\" onclick=\"convertToInteractive('df-08c78e10-d0a8-416f-8aa6-8f5d2f04264a')\"\n",
              "            title=\"Convert this dataframe to an interactive table.\"\n",
              "            style=\"display:none;\">\n",
              "\n",
              "  <svg xmlns=\"http://www.w3.org/2000/svg\" height=\"24px\" viewBox=\"0 -960 960 960\">\n",
              "    <path d=\"M120-120v-720h720v720H120Zm60-500h600v-160H180v160Zm220 220h160v-160H400v160Zm0 220h160v-160H400v160ZM180-400h160v-160H180v160Zm440 0h160v-160H620v160ZM180-180h160v-160H180v160Zm440 0h160v-160H620v160Z\"/>\n",
              "  </svg>\n",
              "    </button>\n",
              "\n",
              "  <style>\n",
              "    .colab-df-container {\n",
              "      display:flex;\n",
              "      gap: 12px;\n",
              "    }\n",
              "\n",
              "    .colab-df-convert {\n",
              "      background-color: #E8F0FE;\n",
              "      border: none;\n",
              "      border-radius: 50%;\n",
              "      cursor: pointer;\n",
              "      display: none;\n",
              "      fill: #1967D2;\n",
              "      height: 32px;\n",
              "      padding: 0 0 0 0;\n",
              "      width: 32px;\n",
              "    }\n",
              "\n",
              "    .colab-df-convert:hover {\n",
              "      background-color: #E2EBFA;\n",
              "      box-shadow: 0px 1px 2px rgba(60, 64, 67, 0.3), 0px 1px 3px 1px rgba(60, 64, 67, 0.15);\n",
              "      fill: #174EA6;\n",
              "    }\n",
              "\n",
              "    .colab-df-buttons div {\n",
              "      margin-bottom: 4px;\n",
              "    }\n",
              "\n",
              "    [theme=dark] .colab-df-convert {\n",
              "      background-color: #3B4455;\n",
              "      fill: #D2E3FC;\n",
              "    }\n",
              "\n",
              "    [theme=dark] .colab-df-convert:hover {\n",
              "      background-color: #434B5C;\n",
              "      box-shadow: 0px 1px 3px 1px rgba(0, 0, 0, 0.15);\n",
              "      filter: drop-shadow(0px 1px 2px rgba(0, 0, 0, 0.3));\n",
              "      fill: #FFFFFF;\n",
              "    }\n",
              "  </style>\n",
              "\n",
              "    <script>\n",
              "      const buttonEl =\n",
              "        document.querySelector('#df-08c78e10-d0a8-416f-8aa6-8f5d2f04264a button.colab-df-convert');\n",
              "      buttonEl.style.display =\n",
              "        google.colab.kernel.accessAllowed ? 'block' : 'none';\n",
              "\n",
              "      async function convertToInteractive(key) {\n",
              "        const element = document.querySelector('#df-08c78e10-d0a8-416f-8aa6-8f5d2f04264a');\n",
              "        const dataTable =\n",
              "          await google.colab.kernel.invokeFunction('convertToInteractive',\n",
              "                                                    [key], {});\n",
              "        if (!dataTable) return;\n",
              "\n",
              "        const docLinkHtml = 'Like what you see? Visit the ' +\n",
              "          '<a target=\"_blank\" href=https://colab.research.google.com/notebooks/data_table.ipynb>data table notebook</a>'\n",
              "          + ' to learn more about interactive tables.';\n",
              "        element.innerHTML = '';\n",
              "        dataTable['output_type'] = 'display_data';\n",
              "        await google.colab.output.renderOutput(dataTable, element);\n",
              "        const docLink = document.createElement('div');\n",
              "        docLink.innerHTML = docLinkHtml;\n",
              "        element.appendChild(docLink);\n",
              "      }\n",
              "    </script>\n",
              "  </div>\n",
              "\n",
              "\n",
              "<div id=\"df-46ac1e99-dd66-438d-af44-76358e35be07\">\n",
              "  <button class=\"colab-df-quickchart\" onclick=\"quickchart('df-46ac1e99-dd66-438d-af44-76358e35be07')\"\n",
              "            title=\"Suggest charts\"\n",
              "            style=\"display:none;\">\n",
              "\n",
              "<svg xmlns=\"http://www.w3.org/2000/svg\" height=\"24px\"viewBox=\"0 0 24 24\"\n",
              "     width=\"24px\">\n",
              "    <g>\n",
              "        <path d=\"M19 3H5c-1.1 0-2 .9-2 2v14c0 1.1.9 2 2 2h14c1.1 0 2-.9 2-2V5c0-1.1-.9-2-2-2zM9 17H7v-7h2v7zm4 0h-2V7h2v10zm4 0h-2v-4h2v4z\"/>\n",
              "    </g>\n",
              "</svg>\n",
              "  </button>\n",
              "\n",
              "<style>\n",
              "  .colab-df-quickchart {\n",
              "      --bg-color: #E8F0FE;\n",
              "      --fill-color: #1967D2;\n",
              "      --hover-bg-color: #E2EBFA;\n",
              "      --hover-fill-color: #174EA6;\n",
              "      --disabled-fill-color: #AAA;\n",
              "      --disabled-bg-color: #DDD;\n",
              "  }\n",
              "\n",
              "  [theme=dark] .colab-df-quickchart {\n",
              "      --bg-color: #3B4455;\n",
              "      --fill-color: #D2E3FC;\n",
              "      --hover-bg-color: #434B5C;\n",
              "      --hover-fill-color: #FFFFFF;\n",
              "      --disabled-bg-color: #3B4455;\n",
              "      --disabled-fill-color: #666;\n",
              "  }\n",
              "\n",
              "  .colab-df-quickchart {\n",
              "    background-color: var(--bg-color);\n",
              "    border: none;\n",
              "    border-radius: 50%;\n",
              "    cursor: pointer;\n",
              "    display: none;\n",
              "    fill: var(--fill-color);\n",
              "    height: 32px;\n",
              "    padding: 0;\n",
              "    width: 32px;\n",
              "  }\n",
              "\n",
              "  .colab-df-quickchart:hover {\n",
              "    background-color: var(--hover-bg-color);\n",
              "    box-shadow: 0 1px 2px rgba(60, 64, 67, 0.3), 0 1px 3px 1px rgba(60, 64, 67, 0.15);\n",
              "    fill: var(--button-hover-fill-color);\n",
              "  }\n",
              "\n",
              "  .colab-df-quickchart-complete:disabled,\n",
              "  .colab-df-quickchart-complete:disabled:hover {\n",
              "    background-color: var(--disabled-bg-color);\n",
              "    fill: var(--disabled-fill-color);\n",
              "    box-shadow: none;\n",
              "  }\n",
              "\n",
              "  .colab-df-spinner {\n",
              "    border: 2px solid var(--fill-color);\n",
              "    border-color: transparent;\n",
              "    border-bottom-color: var(--fill-color);\n",
              "    animation:\n",
              "      spin 1s steps(1) infinite;\n",
              "  }\n",
              "\n",
              "  @keyframes spin {\n",
              "    0% {\n",
              "      border-color: transparent;\n",
              "      border-bottom-color: var(--fill-color);\n",
              "      border-left-color: var(--fill-color);\n",
              "    }\n",
              "    20% {\n",
              "      border-color: transparent;\n",
              "      border-left-color: var(--fill-color);\n",
              "      border-top-color: var(--fill-color);\n",
              "    }\n",
              "    30% {\n",
              "      border-color: transparent;\n",
              "      border-left-color: var(--fill-color);\n",
              "      border-top-color: var(--fill-color);\n",
              "      border-right-color: var(--fill-color);\n",
              "    }\n",
              "    40% {\n",
              "      border-color: transparent;\n",
              "      border-right-color: var(--fill-color);\n",
              "      border-top-color: var(--fill-color);\n",
              "    }\n",
              "    60% {\n",
              "      border-color: transparent;\n",
              "      border-right-color: var(--fill-color);\n",
              "    }\n",
              "    80% {\n",
              "      border-color: transparent;\n",
              "      border-right-color: var(--fill-color);\n",
              "      border-bottom-color: var(--fill-color);\n",
              "    }\n",
              "    90% {\n",
              "      border-color: transparent;\n",
              "      border-bottom-color: var(--fill-color);\n",
              "    }\n",
              "  }\n",
              "</style>\n",
              "\n",
              "  <script>\n",
              "    async function quickchart(key) {\n",
              "      const quickchartButtonEl =\n",
              "        document.querySelector('#' + key + ' button');\n",
              "      quickchartButtonEl.disabled = true;  // To prevent multiple clicks.\n",
              "      quickchartButtonEl.classList.add('colab-df-spinner');\n",
              "      try {\n",
              "        const charts = await google.colab.kernel.invokeFunction(\n",
              "            'suggestCharts', [key], {});\n",
              "      } catch (error) {\n",
              "        console.error('Error during call to suggestCharts:', error);\n",
              "      }\n",
              "      quickchartButtonEl.classList.remove('colab-df-spinner');\n",
              "      quickchartButtonEl.classList.add('colab-df-quickchart-complete');\n",
              "    }\n",
              "    (() => {\n",
              "      let quickchartButtonEl =\n",
              "        document.querySelector('#df-46ac1e99-dd66-438d-af44-76358e35be07 button');\n",
              "      quickchartButtonEl.style.display =\n",
              "        google.colab.kernel.accessAllowed ? 'block' : 'none';\n",
              "    })();\n",
              "  </script>\n",
              "</div>\n",
              "\n",
              "    </div>\n",
              "  </div>\n"
            ],
            "application/vnd.google.colaboratory.intrinsic+json": {
              "type": "dataframe",
              "summary": "{\n  \"name\": \"df_cleaned\",\n  \"rows\": 77834,\n  \"fields\": [\n    {\n      \"column\": \"Make_encode\",\n      \"properties\": {\n        \"dtype\": \"number\",\n        \"std\": 85.51582449005058,\n        \"min\": 17.0,\n        \"max\": 240.47675729362578,\n        \"num_unique_values\": 30,\n        \"samples\": [\n          33.0,\n          46.60883665213814,\n          36.43412645064752\n        ],\n        \"semantic_type\": \"\",\n        \"description\": \"\"\n      }\n    },\n    {\n      \"column\": \"Model_encode\",\n      \"properties\": {\n        \"dtype\": \"number\",\n        \"std\": 94.68529687488825,\n        \"min\": 6.0,\n        \"max\": 291.0,\n        \"num_unique_values\": 78,\n        \"samples\": [\n          21.0,\n          238.1765716675267,\n          32.0\n        ],\n        \"semantic_type\": \"\",\n        \"description\": \"\"\n      }\n    }\n  ]\n}"
            }
          },
          "metadata": {},
          "execution_count": 55
        }
      ]
    },
    {
      "cell_type": "markdown",
      "source": [
        "##視覺化\n"
      ],
      "metadata": {
        "id": "r4ISn82m77W_"
      }
    },
    {
      "cell_type": "code",
      "source": [
        "#年份分布圖\n",
        "plt.figure(figsize = (8,6))\n",
        "df_by_year = df_copy['Model Year'].value_counts().sort_index()\n",
        "sns.barplot(x = df_by_year.index, y = df_by_year.values, palette = 'bright')\n",
        "plt.title('EV Adoption Over Time')\n",
        "plt.xlabel('Model Year')\n",
        "plt.ylabel('Number of Vehicles Registered')\n",
        "plt.xticks(rotation = 45)\n",
        "plt.tight_layout()\n",
        "plt.show()\n"
      ],
      "metadata": {
        "colab": {
          "base_uri": "https://localhost:8080/",
          "height": 699
        },
        "id": "xf85trXcW9Dj",
        "outputId": "2d4aafa3-1dbf-4b7e-f9ae-86b4b064426a"
      },
      "execution_count": null,
      "outputs": [
        {
          "output_type": "stream",
          "name": "stderr",
          "text": [
            "<ipython-input-42-0f82ea55426a>:4: FutureWarning: \n",
            "\n",
            "Passing `palette` without assigning `hue` is deprecated and will be removed in v0.14.0. Assign the `x` variable to `hue` and set `legend=False` for the same effect.\n",
            "\n",
            "  sns.barplot(x = df_by_year.index, y = df_by_year.values, palette = 'bright')\n"
          ]
        },
        {
          "output_type": "display_data",
          "data": {
            "text/plain": [
              "<Figure size 800x600 with 1 Axes>"
            ],
            "image/png": "[encoded data removed]"
          },
          "metadata": {}
        }
      ]
    },
    {
      "cell_type": "code",
      "source": [
        "#製造商分布圖\n",
        "plt.figure(figsize=(8, 6))\n",
        "sns.barplot(x=make_counts.index, y=make_counts.values, palette='bright', order=make_counts.index)\n",
        "make_counts = df_cleaned['Make'].value_counts()\n",
        "plt.title('Distribution of EV Makes')\n",
        "plt.xlabel('Make')\n",
        "plt.ylabel('Number of Vehicles')\n",
        "plt.xticks(rotation=45, ha='right')\n",
        "plt.tight_layout()\n",
        "plt.show()"
      ],
      "metadata": {
        "colab": {
          "base_uri": "https://localhost:8080/",
          "height": 699
        },
        "id": "kgEg5m7C9vY_",
        "outputId": "8d22a595-1165-48da-e3b6-208de52ecccd"
      },
      "execution_count": null,
      "outputs": [
        {
          "output_type": "stream",
          "name": "stderr",
          "text": [
            "<ipython-input-43-78973645a844>:3: FutureWarning: \n",
            "\n",
            "Passing `palette` without assigning `hue` is deprecated and will be removed in v0.14.0. Assign the `x` variable to `hue` and set `legend=False` for the same effect.\n",
            "\n",
            "  sns.barplot(x=make_counts.index, y=make_counts.values, palette='bright', order=make_counts.index)\n"
          ]
        },
        {
          "output_type": "display_data",
          "data": {
            "text/plain": [
              "<Figure size 800x600 with 1 Axes>"
            ],
            "image/png": "[encoded data removed]"
          },
          "metadata": {}
        }
      ]
    },
    {
      "cell_type": "code",
      "source": [
        "# 年分 VS 電力里程\n",
        "plt.figure(figsize=(10, 6))\n",
        "sns.lineplot(x='Model Year', y='Electric Range', data=df_cleaned, ci='deprecated')\n",
        "plt.title('Electric Range over Model Year')\n",
        "plt.show()"
      ],
      "metadata": {
        "colab": {
          "base_uri": "https://localhost:8080/",
          "height": 564
        },
        "id": "420e7Yv8Ytp8",
        "outputId": "32887ed3-6b62-493b-f872-0430b047b2de"
      },
      "execution_count": null,
      "outputs": [
        {
          "output_type": "display_data",
          "data": {
            "text/plain": [
              "<Figure size 1000x600 with 1 Axes>"
            ],
            "image/png": "[encoded data removed]"
          },
          "metadata": {}
        }
      ]
    },
    {
      "cell_type": "code",
      "source": [
        "# 建議零售價 VS 電力里程\n",
        "plt.figure(figsize=(10, 6))\n",
        "sns.lineplot(x='Base MSRP', y='Electric Range', data=df_cleaned, ci='deprecated')\n",
        "plt.title('Electric Range over Base MSRP')\n",
        "plt.show()"
      ],
      "metadata": {
        "colab": {
          "base_uri": "https://localhost:8080/",
          "height": 564
        },
        "id": "RtIzFx5A8Bz1",
        "outputId": "ba478223-0cb4-4aab-9709-5465de54f789"
      },
      "execution_count": null,
      "outputs": [
        {
          "output_type": "display_data",
          "data": {
            "text/plain": [
              "<Figure size 1000x600 with 1 Axes>"
            ],
            "image/png": "[encoded data removed]"
          },
          "metadata": {}
        }
      ]
    },
    {
      "cell_type": "code",
      "source": [
        "#5\t前50大製造商 VS 電力里程\n",
        "top_50_makes = df_cleaned['Make'].value_counts().nlargest(50).index\n",
        "\n",
        "filtered_df = df_cleaned[df_cleaned['Make'].isin(top_50_makes)]\n",
        "\n",
        "plt.figure(figsize=(8, 6))\n",
        "sns.boxplot(x='Make', y='Electric Range', data=filtered_df, order=top_50_makes)\n",
        "\n",
        "plt.title('Electric Range Distribution for Top 50 Makes')\n",
        "plt.xlabel('Make')\n",
        "plt.ylabel('Electric Range')\n",
        "plt.xticks(rotation=90, ha='right')\n",
        "plt.tight_layout()\n",
        "plt.show()"
      ],
      "metadata": {
        "colab": {
          "base_uri": "https://localhost:8080/",
          "height": 607
        },
        "id": "JtZ3B_eKAnrH",
        "outputId": "6d8ab5ce-af63-4a5a-d243-103cf8d2a681"
      },
      "execution_count": null,
      "outputs": [
        {
          "output_type": "display_data",
          "data": {
            "text/plain": [
              "<Figure size 800x600 with 1 Axes>"
            ],
            "image/png": "[encoded data removed]"
          },
          "metadata": {}
        }
      ]
    },
    {
      "cell_type": "markdown",
      "source": [
        "##Model"
      ],
      "metadata": {
        "id": "2zO5JUJ8geT8"
      }
    },
    {
      "cell_type": "markdown",
      "source": [
        "使用pycaret建立模型"
      ],
      "metadata": {
        "id": "pleT5-eBmXcZ"
      }
    },
    {
      "cell_type": "code",
      "source": [
        "from sklearn.datasets import make_classification\n",
        "from sklearn.model_selection import train_test_split\n",
        "from sklearn.ensemble import RandomForestClassifier\n",
        "from sklearn.metrics import accuracy_score\n",
        "\n",
        "X = df_cleaned.loc[:,[\"Make_encode\",\"Model_encode\",'Electric Range Quantile',\"Base MSRP\"]]\n",
        "#y = df_cleaned[\"Base MSRP\"]\n",
        "X_train, X_test = train_test_split(X, test_size=0.2, random_state=42)"
      ],
      "metadata": {
        "id": "EtznpKNMSqy1"
      },
      "execution_count": null,
      "outputs": []
    },
    {
      "cell_type": "code",
      "source": [
        "from pycaret.regression import *\n",
        "from pycaret.regression import compare_models\n",
        "filled_train_set=setup(data=X_train,\n",
        "            target=\"Base MSRP\",\n",
        "            train_size=0.8,\n",
        "            session_id=2024,\n",
        "            numeric_features=[\"Make_encode\",\"Model_encode\",'Electric Range Quantile'],\n",
        "            numeric_imputation=\"mean\",\n",
        "            max_encoding_ohe=10,\n",
        "            normalize=True,\n",
        "            )"
      ],
      "metadata": {
        "colab": {
          "base_uri": "https://localhost:8080/",
          "height": 708
        },
        "id": "Yn9w5mu1iibH",
        "outputId": "cd3d2332-cfa8-4b8a-8fc3-aeee436ab6ad"
      },
      "execution_count": null,
      "outputs": [
        {
          "output_type": "display_data",
          "data": {
            "text/plain": [
              "<pandas.io.formats.style.Styler at 0x780508bcc940>"
            ],
            "text/html": [
              "<style type=\"text/css\">\n",
              "#T_f4cbb_row8_col1, #T_f4cbb_row12_col1 {\n",
              "  background-color: lightgreen;\n",
              "}\n",
              "</style>\n",
              "<table id=\"T_f4cbb\" class=\"dataframe\">\n",
              "  <thead>\n",
              "    <tr>\n",
              "      <th class=\"blank level0\" >&nbsp;</th>\n",
              "      <th id=\"T_f4cbb_level0_col0\" class=\"col_heading level0 col0\" >Description</th>\n",
              "      <th id=\"T_f4cbb_level0_col1\" class=\"col_heading level0 col1\" >Value</th>\n",
              "    </tr>\n",
              "  </thead>\n",
              "  <tbody>\n",
              "    <tr>\n",
              "      <th id=\"T_f4cbb_level0_row0\" class=\"row_heading level0 row0\" >0</th>\n",
              "      <td id=\"T_f4cbb_row0_col0\" class=\"data row0 col0\" >Session id</td>\n",
              "      <td id=\"T_f4cbb_row0_col1\" class=\"data row0 col1\" >2024</td>\n",
              "    </tr>\n",
              "    <tr>\n",
              "      <th id=\"T_f4cbb_level0_row1\" class=\"row_heading level0 row1\" >1</th>\n",
              "      <td id=\"T_f4cbb_row1_col0\" class=\"data row1 col0\" >Target</td>\n",
              "      <td id=\"T_f4cbb_row1_col1\" class=\"data row1 col1\" >Base MSRP</td>\n",
              "    </tr>\n",
              "    <tr>\n",
              "      <th id=\"T_f4cbb_level0_row2\" class=\"row_heading level0 row2\" >2</th>\n",
              "      <td id=\"T_f4cbb_row2_col0\" class=\"data row2 col0\" >Target type</td>\n",
              "      <td id=\"T_f4cbb_row2_col1\" class=\"data row2 col1\" >Regression</td>\n",
              "    </tr>\n",
              "    <tr>\n",
              "      <th id=\"T_f4cbb_level0_row3\" class=\"row_heading level0 row3\" >3</th>\n",
              "      <td id=\"T_f4cbb_row3_col0\" class=\"data row3 col0\" >Original data shape</td>\n",
              "      <td id=\"T_f4cbb_row3_col1\" class=\"data row3 col1\" >(62267, 4)</td>\n",
              "    </tr>\n",
              "    <tr>\n",
              "      <th id=\"T_f4cbb_level0_row4\" class=\"row_heading level0 row4\" >4</th>\n",
              "      <td id=\"T_f4cbb_row4_col0\" class=\"data row4 col0\" >Transformed data shape</td>\n",
              "      <td id=\"T_f4cbb_row4_col1\" class=\"data row4 col1\" >(62267, 4)</td>\n",
              "    </tr>\n",
              "    <tr>\n",
              "      <th id=\"T_f4cbb_level0_row5\" class=\"row_heading level0 row5\" >5</th>\n",
              "      <td id=\"T_f4cbb_row5_col0\" class=\"data row5 col0\" >Transformed train set shape</td>\n",
              "      <td id=\"T_f4cbb_row5_col1\" class=\"data row5 col1\" >(49813, 4)</td>\n",
              "    </tr>\n",
              "    <tr>\n",
              "      <th id=\"T_f4cbb_level0_row6\" class=\"row_heading level0 row6\" >6</th>\n",
              "      <td id=\"T_f4cbb_row6_col0\" class=\"data row6 col0\" >Transformed test set shape</td>\n",
              "      <td id=\"T_f4cbb_row6_col1\" class=\"data row6 col1\" >(12454, 4)</td>\n",
              "    </tr>\n",
              "    <tr>\n",
              "      <th id=\"T_f4cbb_level0_row7\" class=\"row_heading level0 row7\" >7</th>\n",
              "      <td id=\"T_f4cbb_row7_col0\" class=\"data row7 col0\" >Numeric features</td>\n",
              "      <td id=\"T_f4cbb_row7_col1\" class=\"data row7 col1\" >3</td>\n",
              "    </tr>\n",
              "    <tr>\n",
              "      <th id=\"T_f4cbb_level0_row8\" class=\"row_heading level0 row8\" >8</th>\n",
              "      <td id=\"T_f4cbb_row8_col0\" class=\"data row8 col0\" >Preprocess</td>\n",
              "      <td id=\"T_f4cbb_row8_col1\" class=\"data row8 col1\" >True</td>\n",
              "    </tr>\n",
              "    <tr>\n",
              "      <th id=\"T_f4cbb_level0_row9\" class=\"row_heading level0 row9\" >9</th>\n",
              "      <td id=\"T_f4cbb_row9_col0\" class=\"data row9 col0\" >Imputation type</td>\n",
              "      <td id=\"T_f4cbb_row9_col1\" class=\"data row9 col1\" >simple</td>\n",
              "    </tr>\n",
              "    <tr>\n",
              "      <th id=\"T_f4cbb_level0_row10\" class=\"row_heading level0 row10\" >10</th>\n",
              "      <td id=\"T_f4cbb_row10_col0\" class=\"data row10 col0\" >Numeric imputation</td>\n",
              "      <td id=\"T_f4cbb_row10_col1\" class=\"data row10 col1\" >mean</td>\n",
              "    </tr>\n",
              "    <tr>\n",
              "      <th id=\"T_f4cbb_level0_row11\" class=\"row_heading level0 row11\" >11</th>\n",
              "      <td id=\"T_f4cbb_row11_col0\" class=\"data row11 col0\" >Categorical imputation</td>\n",
              "      <td id=\"T_f4cbb_row11_col1\" class=\"data row11 col1\" >mode</td>\n",
              "    </tr>\n",
              "    <tr>\n",
              "      <th id=\"T_f4cbb_level0_row12\" class=\"row_heading level0 row12\" >12</th>\n",
              "      <td id=\"T_f4cbb_row12_col0\" class=\"data row12 col0\" >Normalize</td>\n",
              "      <td id=\"T_f4cbb_row12_col1\" class=\"data row12 col1\" >True</td>\n",
              "    </tr>\n",
              "    <tr>\n",
              "      <th id=\"T_f4cbb_level0_row13\" class=\"row_heading level0 row13\" >13</th>\n",
              "      <td id=\"T_f4cbb_row13_col0\" class=\"data row13 col0\" >Normalize method</td>\n",
              "      <td id=\"T_f4cbb_row13_col1\" class=\"data row13 col1\" >zscore</td>\n",
              "    </tr>\n",
              "    <tr>\n",
              "      <th id=\"T_f4cbb_level0_row14\" class=\"row_heading level0 row14\" >14</th>\n",
              "      <td id=\"T_f4cbb_row14_col0\" class=\"data row14 col0\" >Fold Generator</td>\n",
              "      <td id=\"T_f4cbb_row14_col1\" class=\"data row14 col1\" >KFold</td>\n",
              "    </tr>\n",
              "    <tr>\n",
              "      <th id=\"T_f4cbb_level0_row15\" class=\"row_heading level0 row15\" >15</th>\n",
              "      <td id=\"T_f4cbb_row15_col0\" class=\"data row15 col0\" >Fold Number</td>\n",
              "      <td id=\"T_f4cbb_row15_col1\" class=\"data row15 col1\" >10</td>\n",
              "    </tr>\n",
              "    <tr>\n",
              "      <th id=\"T_f4cbb_level0_row16\" class=\"row_heading level0 row16\" >16</th>\n",
              "      <td id=\"T_f4cbb_row16_col0\" class=\"data row16 col0\" >CPU Jobs</td>\n",
              "      <td id=\"T_f4cbb_row16_col1\" class=\"data row16 col1\" >-1</td>\n",
              "    </tr>\n",
              "    <tr>\n",
              "      <th id=\"T_f4cbb_level0_row17\" class=\"row_heading level0 row17\" >17</th>\n",
              "      <td id=\"T_f4cbb_row17_col0\" class=\"data row17 col0\" >Use GPU</td>\n",
              "      <td id=\"T_f4cbb_row17_col1\" class=\"data row17 col1\" >False</td>\n",
              "    </tr>\n",
              "    <tr>\n",
              "      <th id=\"T_f4cbb_level0_row18\" class=\"row_heading level0 row18\" >18</th>\n",
              "      <td id=\"T_f4cbb_row18_col0\" class=\"data row18 col0\" >Log Experiment</td>\n",
              "      <td id=\"T_f4cbb_row18_col1\" class=\"data row18 col1\" >False</td>\n",
              "    </tr>\n",
              "    <tr>\n",
              "      <th id=\"T_f4cbb_level0_row19\" class=\"row_heading level0 row19\" >19</th>\n",
              "      <td id=\"T_f4cbb_row19_col0\" class=\"data row19 col0\" >Experiment Name</td>\n",
              "      <td id=\"T_f4cbb_row19_col1\" class=\"data row19 col1\" >reg-default-name</td>\n",
              "    </tr>\n",
              "    <tr>\n",
              "      <th id=\"T_f4cbb_level0_row20\" class=\"row_heading level0 row20\" >20</th>\n",
              "      <td id=\"T_f4cbb_row20_col0\" class=\"data row20 col0\" >USI</td>\n",
              "      <td id=\"T_f4cbb_row20_col1\" class=\"data row20 col1\" >838f</td>\n",
              "    </tr>\n",
              "  </tbody>\n",
              "</table>\n"
            ]
          },
          "metadata": {}
        }
      ]
    },
    {
      "cell_type": "markdown",
      "source": [
        "比較哪個模型最好"
      ],
      "metadata": {
        "id": "CyJRLGIFqq9x"
      }
    },
    {
      "cell_type": "code",
      "source": [
        "best_model=compare_models(fold=3,n_select=5,sort=\"MAPE\")"
      ],
      "metadata": {
        "colab": {
          "base_uri": "https://localhost:8080/",
          "height": 676,
          "referenced_widgets": [
            "9823acfdaab24c8c8fc9c6d31b37c0b0",
            "cda243a3442c43528362ae03e6a7a61e",
            "757e98db3c334f298bc191f8456fc3fc",
            "51f7a84ef91f44c18a973180c66f835e",
            "eb86561bfecc452ba95205ed87be4769",
            "de64ed5ef04e4c5ca492e2c42b1a04ee",
            "c2a86fb9ca6b402ebeb75ae3a77ff6ac",
            "1fe76766c48844cabc347e2b5a3301f2",
            "fc4085cb0f2b4cdd8d16e3ab87da317c",
            "2e01683497cf4eaabf1212804b0aaf69",
            "813d4209a6d84d55b184bbcb03b7a783"
          ]
        },
        "id": "UGXavQjZqcIY",
        "outputId": "d3eeafce-4f54-4fce-f1bb-666e1bee0181"
      },
      "execution_count": null,
      "outputs": [
        {
          "output_type": "display_data",
          "data": {
            "text/plain": [
              "<IPython.core.display.HTML object>"
            ],
            "text/html": []
          },
          "metadata": {}
        },
        {
          "output_type": "display_data",
          "data": {
            "text/plain": [
              "<pandas.io.formats.style.Styler at 0x780508b5fd30>"
            ],
            "text/html": [
              "<style type=\"text/css\">\n",
              "#T_ba5ab th {\n",
              "  text-align: left;\n",
              "}\n",
              "#T_ba5ab_row0_col0, #T_ba5ab_row0_col2, #T_ba5ab_row0_col3, #T_ba5ab_row0_col4, #T_ba5ab_row1_col0, #T_ba5ab_row1_col1, #T_ba5ab_row1_col5, #T_ba5ab_row1_col6, #T_ba5ab_row2_col0, #T_ba5ab_row2_col1, #T_ba5ab_row2_col2, #T_ba5ab_row2_col3, #T_ba5ab_row2_col4, #T_ba5ab_row2_col5, #T_ba5ab_row2_col6, #T_ba5ab_row3_col0, #T_ba5ab_row3_col1, #T_ba5ab_row3_col2, #T_ba5ab_row3_col3, #T_ba5ab_row3_col4, #T_ba5ab_row3_col5, #T_ba5ab_row3_col6, #T_ba5ab_row4_col0, #T_ba5ab_row4_col1, #T_ba5ab_row4_col2, #T_ba5ab_row4_col3, #T_ba5ab_row4_col4, #T_ba5ab_row4_col5, #T_ba5ab_row4_col6, #T_ba5ab_row5_col0, #T_ba5ab_row5_col1, #T_ba5ab_row5_col2, #T_ba5ab_row5_col3, #T_ba5ab_row5_col4, #T_ba5ab_row5_col5, #T_ba5ab_row5_col6, #T_ba5ab_row6_col0, #T_ba5ab_row6_col1, #T_ba5ab_row6_col2, #T_ba5ab_row6_col3, #T_ba5ab_row6_col4, #T_ba5ab_row6_col5, #T_ba5ab_row6_col6, #T_ba5ab_row7_col0, #T_ba5ab_row7_col1, #T_ba5ab_row7_col2, #T_ba5ab_row7_col3, #T_ba5ab_row7_col4, #T_ba5ab_row7_col5, #T_ba5ab_row7_col6, #T_ba5ab_row8_col0, #T_ba5ab_row8_col1, #T_ba5ab_row8_col2, #T_ba5ab_row8_col3, #T_ba5ab_row8_col4, #T_ba5ab_row8_col5, #T_ba5ab_row8_col6, #T_ba5ab_row9_col0, #T_ba5ab_row9_col1, #T_ba5ab_row9_col2, #T_ba5ab_row9_col3, #T_ba5ab_row9_col4, #T_ba5ab_row9_col5, #T_ba5ab_row9_col6, #T_ba5ab_row10_col0, #T_ba5ab_row10_col1, #T_ba5ab_row10_col2, #T_ba5ab_row10_col3, #T_ba5ab_row10_col4, #T_ba5ab_row10_col5, #T_ba5ab_row10_col6, #T_ba5ab_row11_col0, #T_ba5ab_row11_col1, #T_ba5ab_row11_col2, #T_ba5ab_row11_col3, #T_ba5ab_row11_col4, #T_ba5ab_row11_col5, #T_ba5ab_row11_col6, #T_ba5ab_row12_col0, #T_ba5ab_row12_col1, #T_ba5ab_row12_col2, #T_ba5ab_row12_col3, #T_ba5ab_row12_col4, #T_ba5ab_row12_col5, #T_ba5ab_row12_col6, #T_ba5ab_row13_col0, #T_ba5ab_row13_col1, #T_ba5ab_row13_col2, #T_ba5ab_row13_col3, #T_ba5ab_row13_col4, #T_ba5ab_row13_col5, #T_ba5ab_row13_col6, #T_ba5ab_row14_col0, #T_ba5ab_row14_col1, #T_ba5ab_row14_col2, #T_ba5ab_row14_col3, #T_ba5ab_row14_col4, #T_ba5ab_row14_col5, #T_ba5ab_row14_col6, #T_ba5ab_row15_col0, #T_ba5ab_row15_col1, #T_ba5ab_row15_col2, #T_ba5ab_row15_col3, #T_ba5ab_row15_col4, #T_ba5ab_row15_col5, #T_ba5ab_row15_col6, #T_ba5ab_row16_col0, #T_ba5ab_row16_col1, #T_ba5ab_row16_col2, #T_ba5ab_row16_col3, #T_ba5ab_row16_col4, #T_ba5ab_row16_col5, #T_ba5ab_row16_col6, #T_ba5ab_row17_col0, #T_ba5ab_row17_col1, #T_ba5ab_row17_col2, #T_ba5ab_row17_col3, #T_ba5ab_row17_col4, #T_ba5ab_row17_col5, #T_ba5ab_row17_col6, #T_ba5ab_row18_col0, #T_ba5ab_row18_col1, #T_ba5ab_row18_col2, #T_ba5ab_row18_col3, #T_ba5ab_row18_col4, #T_ba5ab_row18_col5, #T_ba5ab_row18_col6, #T_ba5ab_row19_col0, #T_ba5ab_row19_col1, #T_ba5ab_row19_col2, #T_ba5ab_row19_col3, #T_ba5ab_row19_col4, #T_ba5ab_row19_col5, #T_ba5ab_row19_col6 {\n",
              "  text-align: left;\n",
              "}\n",
              "#T_ba5ab_row0_col1, #T_ba5ab_row0_col5, #T_ba5ab_row0_col6, #T_ba5ab_row1_col2, #T_ba5ab_row1_col3, #T_ba5ab_row1_col4 {\n",
              "  text-align: left;\n",
              "  background-color: yellow;\n",
              "}\n",
              "#T_ba5ab_row0_col7, #T_ba5ab_row1_col7, #T_ba5ab_row2_col7, #T_ba5ab_row3_col7, #T_ba5ab_row4_col7, #T_ba5ab_row5_col7, #T_ba5ab_row6_col7, #T_ba5ab_row7_col7, #T_ba5ab_row8_col7, #T_ba5ab_row9_col7, #T_ba5ab_row10_col7, #T_ba5ab_row11_col7, #T_ba5ab_row12_col7, #T_ba5ab_row13_col7, #T_ba5ab_row14_col7, #T_ba5ab_row15_col7, #T_ba5ab_row17_col7, #T_ba5ab_row18_col7, #T_ba5ab_row19_col7 {\n",
              "  text-align: left;\n",
              "  background-color: lightgrey;\n",
              "}\n",
              "#T_ba5ab_row16_col7 {\n",
              "  text-align: left;\n",
              "  background-color: yellow;\n",
              "  background-color: lightgrey;\n",
              "}\n",
              "</style>\n",
              "<table id=\"T_ba5ab\" class=\"dataframe\">\n",
              "  <thead>\n",
              "    <tr>\n",
              "      <th class=\"blank level0\" >&nbsp;</th>\n",
              "      <th id=\"T_ba5ab_level0_col0\" class=\"col_heading level0 col0\" >Model</th>\n",
              "      <th id=\"T_ba5ab_level0_col1\" class=\"col_heading level0 col1\" >MAE</th>\n",
              "      <th id=\"T_ba5ab_level0_col2\" class=\"col_heading level0 col2\" >MSE</th>\n",
              "      <th id=\"T_ba5ab_level0_col3\" class=\"col_heading level0 col3\" >RMSE</th>\n",
              "      <th id=\"T_ba5ab_level0_col4\" class=\"col_heading level0 col4\" >R2</th>\n",
              "      <th id=\"T_ba5ab_level0_col5\" class=\"col_heading level0 col5\" >RMSLE</th>\n",
              "      <th id=\"T_ba5ab_level0_col6\" class=\"col_heading level0 col6\" >MAPE</th>\n",
              "      <th id=\"T_ba5ab_level0_col7\" class=\"col_heading level0 col7\" >TT (Sec)</th>\n",
              "    </tr>\n",
              "  </thead>\n",
              "  <tbody>\n",
              "    <tr>\n",
              "      <th id=\"T_ba5ab_level0_row0\" class=\"row_heading level0 row0\" >knn</th>\n",
              "      <td id=\"T_ba5ab_row0_col0\" class=\"data row0 col0\" >K Neighbors Regressor</td>\n",
              "      <td id=\"T_ba5ab_row0_col1\" class=\"data row0 col1\" >1310.3102</td>\n",
              "      <td id=\"T_ba5ab_row0_col2\" class=\"data row0 col2\" >72857472.0000</td>\n",
              "      <td id=\"T_ba5ab_row0_col3\" class=\"data row0 col3\" >8488.5933</td>\n",
              "      <td id=\"T_ba5ab_row0_col4\" class=\"data row0 col4\" >0.5552</td>\n",
              "      <td id=\"T_ba5ab_row0_col5\" class=\"data row0 col5\" >1.6915</td>\n",
              "      <td id=\"T_ba5ab_row0_col6\" class=\"data row0 col6\" >0.1427</td>\n",
              "      <td id=\"T_ba5ab_row0_col7\" class=\"data row0 col7\" >0.4367</td>\n",
              "    </tr>\n",
              "    <tr>\n",
              "      <th id=\"T_ba5ab_level0_row1\" class=\"row_heading level0 row1\" >dt</th>\n",
              "      <td id=\"T_ba5ab_row1_col0\" class=\"data row1 col0\" >Decision Tree Regressor</td>\n",
              "      <td id=\"T_ba5ab_row1_col1\" class=\"data row1 col1\" >1343.1386</td>\n",
              "      <td id=\"T_ba5ab_row1_col2\" class=\"data row1 col2\" >58984269.2877</td>\n",
              "      <td id=\"T_ba5ab_row1_col3\" class=\"data row1 col3\" >7572.8048</td>\n",
              "      <td id=\"T_ba5ab_row1_col4\" class=\"data row1 col4\" >0.6480</td>\n",
              "      <td id=\"T_ba5ab_row1_col5\" class=\"data row1 col5\" >1.7531</td>\n",
              "      <td id=\"T_ba5ab_row1_col6\" class=\"data row1 col6\" >0.2354</td>\n",
              "      <td id=\"T_ba5ab_row1_col7\" class=\"data row1 col7\" >0.0900</td>\n",
              "    </tr>\n",
              "    <tr>\n",
              "      <th id=\"T_ba5ab_level0_row2\" class=\"row_heading level0 row2\" >et</th>\n",
              "      <td id=\"T_ba5ab_row2_col0\" class=\"data row2 col0\" >Extra Trees Regressor</td>\n",
              "      <td id=\"T_ba5ab_row2_col1\" class=\"data row2 col1\" >1348.7605</td>\n",
              "      <td id=\"T_ba5ab_row2_col2\" class=\"data row2 col2\" >60661608.3091</td>\n",
              "      <td id=\"T_ba5ab_row2_col3\" class=\"data row2 col3\" >7671.6131</td>\n",
              "      <td id=\"T_ba5ab_row2_col4\" class=\"data row2 col4\" >0.6387</td>\n",
              "      <td id=\"T_ba5ab_row2_col5\" class=\"data row2 col5\" >1.7575</td>\n",
              "      <td id=\"T_ba5ab_row2_col6\" class=\"data row2 col6\" >0.2354</td>\n",
              "      <td id=\"T_ba5ab_row2_col7\" class=\"data row2 col7\" >0.9133</td>\n",
              "    </tr>\n",
              "    <tr>\n",
              "      <th id=\"T_ba5ab_level0_row3\" class=\"row_heading level0 row3\" >xgboost</th>\n",
              "      <td id=\"T_ba5ab_row3_col0\" class=\"data row3 col0\" >Extreme Gradient Boosting</td>\n",
              "      <td id=\"T_ba5ab_row3_col1\" class=\"data row3 col1\" >1368.8053</td>\n",
              "      <td id=\"T_ba5ab_row3_col2\" class=\"data row3 col2\" >72041702.6667</td>\n",
              "      <td id=\"T_ba5ab_row3_col3\" class=\"data row3 col3\" >8381.2757</td>\n",
              "      <td id=\"T_ba5ab_row3_col4\" class=\"data row3 col4\" >0.5613</td>\n",
              "      <td id=\"T_ba5ab_row3_col5\" class=\"data row3 col5\" >1.8517</td>\n",
              "      <td id=\"T_ba5ab_row3_col6\" class=\"data row3 col6\" >0.2355</td>\n",
              "      <td id=\"T_ba5ab_row3_col7\" class=\"data row3 col7\" >0.2533</td>\n",
              "    </tr>\n",
              "    <tr>\n",
              "      <th id=\"T_ba5ab_level0_row4\" class=\"row_heading level0 row4\" >rf</th>\n",
              "      <td id=\"T_ba5ab_row4_col0\" class=\"data row4 col0\" >Random Forest Regressor</td>\n",
              "      <td id=\"T_ba5ab_row4_col1\" class=\"data row4 col1\" >1359.4464</td>\n",
              "      <td id=\"T_ba5ab_row4_col2\" class=\"data row4 col2\" >65656429.4809</td>\n",
              "      <td id=\"T_ba5ab_row4_col3\" class=\"data row4 col3\" >8007.0396</td>\n",
              "      <td id=\"T_ba5ab_row4_col4\" class=\"data row4 col4\" >0.6041</td>\n",
              "      <td id=\"T_ba5ab_row4_col5\" class=\"data row4 col5\" >1.7595</td>\n",
              "      <td id=\"T_ba5ab_row4_col6\" class=\"data row4 col6\" >0.2359</td>\n",
              "      <td id=\"T_ba5ab_row4_col7\" class=\"data row4 col7\" >0.9967</td>\n",
              "    </tr>\n",
              "    <tr>\n",
              "      <th id=\"T_ba5ab_level0_row5\" class=\"row_heading level0 row5\" >catboost</th>\n",
              "      <td id=\"T_ba5ab_row5_col0\" class=\"data row5 col0\" >CatBoost Regressor</td>\n",
              "      <td id=\"T_ba5ab_row5_col1\" class=\"data row5 col1\" >1359.3720</td>\n",
              "      <td id=\"T_ba5ab_row5_col2\" class=\"data row5 col2\" >61425821.1533</td>\n",
              "      <td id=\"T_ba5ab_row5_col3\" class=\"data row5 col3\" >7709.6886</td>\n",
              "      <td id=\"T_ba5ab_row5_col4\" class=\"data row5 col4\" >0.6350</td>\n",
              "      <td id=\"T_ba5ab_row5_col5\" class=\"data row5 col5\" >2.6263</td>\n",
              "      <td id=\"T_ba5ab_row5_col6\" class=\"data row5 col6\" >0.2360</td>\n",
              "      <td id=\"T_ba5ab_row5_col7\" class=\"data row5 col7\" >6.1033</td>\n",
              "    </tr>\n",
              "    <tr>\n",
              "      <th id=\"T_ba5ab_level0_row6\" class=\"row_heading level0 row6\" >lightgbm</th>\n",
              "      <td id=\"T_ba5ab_row6_col0\" class=\"data row6 col0\" >Light Gradient Boosting Machine</td>\n",
              "      <td id=\"T_ba5ab_row6_col1\" class=\"data row6 col1\" >1515.4294</td>\n",
              "      <td id=\"T_ba5ab_row6_col2\" class=\"data row6 col2\" >64087424.3712</td>\n",
              "      <td id=\"T_ba5ab_row6_col3\" class=\"data row6 col3\" >7879.5929</td>\n",
              "      <td id=\"T_ba5ab_row6_col4\" class=\"data row6 col4\" >0.6189</td>\n",
              "      <td id=\"T_ba5ab_row6_col5\" class=\"data row6 col5\" >3.8425</td>\n",
              "      <td id=\"T_ba5ab_row6_col6\" class=\"data row6 col6\" >0.2580</td>\n",
              "      <td id=\"T_ba5ab_row6_col7\" class=\"data row6 col7\" >0.9100</td>\n",
              "    </tr>\n",
              "    <tr>\n",
              "      <th id=\"T_ba5ab_level0_row7\" class=\"row_heading level0 row7\" >gbr</th>\n",
              "      <td id=\"T_ba5ab_row7_col0\" class=\"data row7 col0\" >Gradient Boosting Regressor</td>\n",
              "      <td id=\"T_ba5ab_row7_col1\" class=\"data row7 col1\" >2212.1759</td>\n",
              "      <td id=\"T_ba5ab_row7_col2\" class=\"data row7 col2\" >74897830.0114</td>\n",
              "      <td id=\"T_ba5ab_row7_col3\" class=\"data row7 col3\" >8580.4852</td>\n",
              "      <td id=\"T_ba5ab_row7_col4\" class=\"data row7 col4\" >0.5477</td>\n",
              "      <td id=\"T_ba5ab_row7_col5\" class=\"data row7 col5\" >5.6959</td>\n",
              "      <td id=\"T_ba5ab_row7_col6\" class=\"data row7 col6\" >0.4136</td>\n",
              "      <td id=\"T_ba5ab_row7_col7\" class=\"data row7 col7\" >1.1033</td>\n",
              "    </tr>\n",
              "    <tr>\n",
              "      <th id=\"T_ba5ab_level0_row8\" class=\"row_heading level0 row8\" >ada</th>\n",
              "      <td id=\"T_ba5ab_row8_col0\" class=\"data row8 col0\" >AdaBoost Regressor</td>\n",
              "      <td id=\"T_ba5ab_row8_col1\" class=\"data row8 col1\" >5948.2429</td>\n",
              "      <td id=\"T_ba5ab_row8_col2\" class=\"data row8 col2\" >149777001.2104</td>\n",
              "      <td id=\"T_ba5ab_row8_col3\" class=\"data row8 col3\" >12151.2615</td>\n",
              "      <td id=\"T_ba5ab_row8_col4\" class=\"data row8 col4\" >0.0764</td>\n",
              "      <td id=\"T_ba5ab_row8_col5\" class=\"data row8 col5\" >6.9045</td>\n",
              "      <td id=\"T_ba5ab_row8_col6\" class=\"data row8 col6\" >0.6684</td>\n",
              "      <td id=\"T_ba5ab_row8_col7\" class=\"data row8 col7\" >0.3833</td>\n",
              "    </tr>\n",
              "    <tr>\n",
              "      <th id=\"T_ba5ab_level0_row9\" class=\"row_heading level0 row9\" >lar</th>\n",
              "      <td id=\"T_ba5ab_row9_col0\" class=\"data row9 col0\" >Least Angle Regression</td>\n",
              "      <td id=\"T_ba5ab_row9_col1\" class=\"data row9 col1\" >4704.7153</td>\n",
              "      <td id=\"T_ba5ab_row9_col2\" class=\"data row9 col2\" >159059194.6667</td>\n",
              "      <td id=\"T_ba5ab_row9_col3\" class=\"data row9 col3\" >12572.3587</td>\n",
              "      <td id=\"T_ba5ab_row9_col4\" class=\"data row9 col4\" >0.0240</td>\n",
              "      <td id=\"T_ba5ab_row9_col5\" class=\"data row9 col5\" >7.3650</td>\n",
              "      <td id=\"T_ba5ab_row9_col6\" class=\"data row9 col6\" >0.9364</td>\n",
              "      <td id=\"T_ba5ab_row9_col7\" class=\"data row9 col7\" >0.1200</td>\n",
              "    </tr>\n",
              "    <tr>\n",
              "      <th id=\"T_ba5ab_level0_row10\" class=\"row_heading level0 row10\" >lasso</th>\n",
              "      <td id=\"T_ba5ab_row10_col0\" class=\"data row10 col0\" >Lasso Regression</td>\n",
              "      <td id=\"T_ba5ab_row10_col1\" class=\"data row10 col1\" >4704.6003</td>\n",
              "      <td id=\"T_ba5ab_row10_col2\" class=\"data row10 col2\" >159059216.0000</td>\n",
              "      <td id=\"T_ba5ab_row10_col3\" class=\"data row10 col3\" >12572.3555</td>\n",
              "      <td id=\"T_ba5ab_row10_col4\" class=\"data row10 col4\" >0.0240</td>\n",
              "      <td id=\"T_ba5ab_row10_col5\" class=\"data row10 col5\" >7.3657</td>\n",
              "      <td id=\"T_ba5ab_row10_col6\" class=\"data row10 col6\" >0.9364</td>\n",
              "      <td id=\"T_ba5ab_row10_col7\" class=\"data row10 col7\" >0.1167</td>\n",
              "    </tr>\n",
              "    <tr>\n",
              "      <th id=\"T_ba5ab_level0_row11\" class=\"row_heading level0 row11\" >lr</th>\n",
              "      <td id=\"T_ba5ab_row11_col0\" class=\"data row11 col0\" >Linear Regression</td>\n",
              "      <td id=\"T_ba5ab_row11_col1\" class=\"data row11 col1\" >4704.7155</td>\n",
              "      <td id=\"T_ba5ab_row11_col2\" class=\"data row11 col2\" >159059194.6667</td>\n",
              "      <td id=\"T_ba5ab_row11_col3\" class=\"data row11 col3\" >12572.3587</td>\n",
              "      <td id=\"T_ba5ab_row11_col4\" class=\"data row11 col4\" >0.0240</td>\n",
              "      <td id=\"T_ba5ab_row11_col5\" class=\"data row11 col5\" >7.3650</td>\n",
              "      <td id=\"T_ba5ab_row11_col6\" class=\"data row11 col6\" >0.9364</td>\n",
              "      <td id=\"T_ba5ab_row11_col7\" class=\"data row11 col7\" >2.4967</td>\n",
              "    </tr>\n",
              "    <tr>\n",
              "      <th id=\"T_ba5ab_level0_row12\" class=\"row_heading level0 row12\" >llar</th>\n",
              "      <td id=\"T_ba5ab_row12_col0\" class=\"data row12 col0\" >Lasso Least Angle Regression</td>\n",
              "      <td id=\"T_ba5ab_row12_col1\" class=\"data row12 col1\" >4704.5327</td>\n",
              "      <td id=\"T_ba5ab_row12_col2\" class=\"data row12 col2\" >159059200.0000</td>\n",
              "      <td id=\"T_ba5ab_row12_col3\" class=\"data row12 col3\" >12572.3548</td>\n",
              "      <td id=\"T_ba5ab_row12_col4\" class=\"data row12 col4\" >0.0240</td>\n",
              "      <td id=\"T_ba5ab_row12_col5\" class=\"data row12 col5\" >7.3659</td>\n",
              "      <td id=\"T_ba5ab_row12_col6\" class=\"data row12 col6\" >0.9364</td>\n",
              "      <td id=\"T_ba5ab_row12_col7\" class=\"data row12 col7\" >0.2167</td>\n",
              "    </tr>\n",
              "    <tr>\n",
              "      <th id=\"T_ba5ab_level0_row13\" class=\"row_heading level0 row13\" >ridge</th>\n",
              "      <td id=\"T_ba5ab_row13_col0\" class=\"data row13 col0\" >Ridge Regression</td>\n",
              "      <td id=\"T_ba5ab_row13_col1\" class=\"data row13 col1\" >4704.6807</td>\n",
              "      <td id=\"T_ba5ab_row13_col2\" class=\"data row13 col2\" >159059189.3333</td>\n",
              "      <td id=\"T_ba5ab_row13_col3\" class=\"data row13 col3\" >12572.3581</td>\n",
              "      <td id=\"T_ba5ab_row13_col4\" class=\"data row13 col4\" >0.0240</td>\n",
              "      <td id=\"T_ba5ab_row13_col5\" class=\"data row13 col5\" >7.3651</td>\n",
              "      <td id=\"T_ba5ab_row13_col6\" class=\"data row13 col6\" >0.9364</td>\n",
              "      <td id=\"T_ba5ab_row13_col7\" class=\"data row13 col7\" >0.1433</td>\n",
              "    </tr>\n",
              "    <tr>\n",
              "      <th id=\"T_ba5ab_level0_row14\" class=\"row_heading level0 row14\" >br</th>\n",
              "      <td id=\"T_ba5ab_row14_col0\" class=\"data row14 col0\" >Bayesian Ridge</td>\n",
              "      <td id=\"T_ba5ab_row14_col1\" class=\"data row14 col1\" >4703.6011</td>\n",
              "      <td id=\"T_ba5ab_row14_col2\" class=\"data row14 col2\" >159059072.0000</td>\n",
              "      <td id=\"T_ba5ab_row14_col3\" class=\"data row14 col3\" >12572.3444</td>\n",
              "      <td id=\"T_ba5ab_row14_col4\" class=\"data row14 col4\" >0.0240</td>\n",
              "      <td id=\"T_ba5ab_row14_col5\" class=\"data row14 col5\" >7.3680</td>\n",
              "      <td id=\"T_ba5ab_row14_col6\" class=\"data row14 col6\" >0.9365</td>\n",
              "      <td id=\"T_ba5ab_row14_col7\" class=\"data row14 col7\" >0.1033</td>\n",
              "    </tr>\n",
              "    <tr>\n",
              "      <th id=\"T_ba5ab_level0_row15\" class=\"row_heading level0 row15\" >en</th>\n",
              "      <td id=\"T_ba5ab_row15_col0\" class=\"data row15 col0\" >Elastic Net</td>\n",
              "      <td id=\"T_ba5ab_row15_col1\" class=\"data row15 col1\" >4698.4683</td>\n",
              "      <td id=\"T_ba5ab_row15_col2\" class=\"data row15 col2\" >160674192.0000</td>\n",
              "      <td id=\"T_ba5ab_row15_col3\" class=\"data row15 col3\" >12635.5238</td>\n",
              "      <td id=\"T_ba5ab_row15_col4\" class=\"data row15 col4\" >0.0143</td>\n",
              "      <td id=\"T_ba5ab_row15_col5\" class=\"data row15 col5\" >7.6247</td>\n",
              "      <td id=\"T_ba5ab_row15_col6\" class=\"data row15 col6\" >0.9468</td>\n",
              "      <td id=\"T_ba5ab_row15_col7\" class=\"data row15 col7\" >0.1633</td>\n",
              "    </tr>\n",
              "    <tr>\n",
              "      <th id=\"T_ba5ab_level0_row16\" class=\"row_heading level0 row16\" >dummy</th>\n",
              "      <td id=\"T_ba5ab_row16_col0\" class=\"data row16 col0\" >Dummy Regressor</td>\n",
              "      <td id=\"T_ba5ab_row16_col1\" class=\"data row16 col1\" >4734.2463</td>\n",
              "      <td id=\"T_ba5ab_row16_col2\" class=\"data row16 col2\" >162997306.6667</td>\n",
              "      <td id=\"T_ba5ab_row16_col3\" class=\"data row16 col3\" >12727.3389</td>\n",
              "      <td id=\"T_ba5ab_row16_col4\" class=\"data row16 col4\" >-0.0002</td>\n",
              "      <td id=\"T_ba5ab_row16_col5\" class=\"data row16 col5\" >7.6700</td>\n",
              "      <td id=\"T_ba5ab_row16_col6\" class=\"data row16 col6\" >0.9514</td>\n",
              "      <td id=\"T_ba5ab_row16_col7\" class=\"data row16 col7\" >0.0400</td>\n",
              "    </tr>\n",
              "    <tr>\n",
              "      <th id=\"T_ba5ab_level0_row17\" class=\"row_heading level0 row17\" >omp</th>\n",
              "      <td id=\"T_ba5ab_row17_col0\" class=\"data row17 col0\" >Orthogonal Matching Pursuit</td>\n",
              "      <td id=\"T_ba5ab_row17_col1\" class=\"data row17 col1\" >4721.3599</td>\n",
              "      <td id=\"T_ba5ab_row17_col2\" class=\"data row17 col2\" >162186592.0000</td>\n",
              "      <td id=\"T_ba5ab_row17_col3\" class=\"data row17 col3\" >12695.1989</td>\n",
              "      <td id=\"T_ba5ab_row17_col4\" class=\"data row17 col4\" >0.0049</td>\n",
              "      <td id=\"T_ba5ab_row17_col5\" class=\"data row17 col5\" >7.6099</td>\n",
              "      <td id=\"T_ba5ab_row17_col6\" class=\"data row17 col6\" >0.9524</td>\n",
              "      <td id=\"T_ba5ab_row17_col7\" class=\"data row17 col7\" >0.1700</td>\n",
              "    </tr>\n",
              "    <tr>\n",
              "      <th id=\"T_ba5ab_level0_row18\" class=\"row_heading level0 row18\" >par</th>\n",
              "      <td id=\"T_ba5ab_row18_col0\" class=\"data row18 col0\" >Passive Aggressive Regressor</td>\n",
              "      <td id=\"T_ba5ab_row18_col1\" class=\"data row18 col1\" >2475.0651</td>\n",
              "      <td id=\"T_ba5ab_row18_col2\" class=\"data row18 col2\" >169096067.1318</td>\n",
              "      <td id=\"T_ba5ab_row18_col3\" class=\"data row18 col3\" >12964.2713</td>\n",
              "      <td id=\"T_ba5ab_row18_col4\" class=\"data row18 col4\" >-0.0380</td>\n",
              "      <td id=\"T_ba5ab_row18_col5\" class=\"data row18 col5\" >2.3106</td>\n",
              "      <td id=\"T_ba5ab_row18_col6\" class=\"data row18 col6\" >1.0000</td>\n",
              "      <td id=\"T_ba5ab_row18_col7\" class=\"data row18 col7\" >0.1167</td>\n",
              "    </tr>\n",
              "    <tr>\n",
              "      <th id=\"T_ba5ab_level0_row19\" class=\"row_heading level0 row19\" >huber</th>\n",
              "      <td id=\"T_ba5ab_row19_col0\" class=\"data row19 col0\" >Huber Regressor</td>\n",
              "      <td id=\"T_ba5ab_row19_col1\" class=\"data row19 col1\" >2474.0253</td>\n",
              "      <td id=\"T_ba5ab_row19_col2\" class=\"data row19 col2\" >169096657.4700</td>\n",
              "      <td id=\"T_ba5ab_row19_col3\" class=\"data row19 col3\" >12964.2947</td>\n",
              "      <td id=\"T_ba5ab_row19_col4\" class=\"data row19 col4\" >-0.0380</td>\n",
              "      <td id=\"T_ba5ab_row19_col5\" class=\"data row19 col5\" >2.2666</td>\n",
              "      <td id=\"T_ba5ab_row19_col6\" class=\"data row19 col6\" >1.0000</td>\n",
              "      <td id=\"T_ba5ab_row19_col7\" class=\"data row19 col7\" >0.2267</td>\n",
              "    </tr>\n",
              "  </tbody>\n",
              "</table>\n"
            ]
          },
          "metadata": {}
        },
        {
          "output_type": "display_data",
          "data": {
            "text/plain": [
              "Processing:   0%|          | 0/89 [00:00<?, ?it/s]"
            ],
            "application/vnd.jupyter.widget-view+json": {
              "version_major": 2,
              "version_minor": 0,
              "model_id": "9823acfdaab24c8c8fc9c6d31b37c0b0"
            }
          },
          "metadata": {
            "application/vnd.jupyter.widget-view+json": {
              "colab": {
                "custom_widget_manager": {
                  "url": "https://ssl.gstatic.com/colaboratory-static/widgets/colab-cdn-widget-manager/2b70e893a8ba7c0f/manager.min.js"
                }
              }
            }
          }
        },
        {
          "output_type": "display_data",
          "data": {
            "text/plain": [
              "<IPython.core.display.HTML object>"
            ],
            "text/html": []
          },
          "metadata": {}
        }
      ]
    },
    {
      "cell_type": "code",
      "source": [
        "finalModel=create_model(best_model[0])\n",
        "predict_model(finalModel,data=X_test)"
      ],
      "metadata": {
        "id": "GOaymPhg-okI",
        "colab": {
          "base_uri": "https://localhost:8080/",
          "height": 927,
          "referenced_widgets": [
            "39575f78a3c547d082379c3af95d01b3",
            "406ba9f7da2d470a98806a0e328050a9",
            "6110f587f2a74efca84fdf9a689e01e7",
            "814b521b79ab47fd849b7d065f0ee3d5",
            "cb3c4c204bb94e758ecdf48f351d3ea8",
            "def082dc52734a1eb9544faf72996e53",
            "39e00085850c41328f4eec6d41257ccb",
            "39f27e9665fd459a8dbef13d9efd10a3",
            "3675c8aad3ae4ab49c72ed99ec609644",
            "e91cfc42ad79403d935c49a7f818ddc9",
            "9dc74fa1fd8d441fa0658d18624579e2"
          ]
        },
        "outputId": "1349a3c3-d609-41e6-82a6-5359bd5ece6f"
      },
      "execution_count": null,
      "outputs": [
        {
          "output_type": "display_data",
          "data": {
            "text/plain": [
              "<IPython.core.display.HTML object>"
            ],
            "text/html": []
          },
          "metadata": {}
        },
        {
          "output_type": "display_data",
          "data": {
            "text/plain": [
              "<pandas.io.formats.style.Styler at 0x780508b5fe20>"
            ],
            "text/html": [
              "<style type=\"text/css\">\n",
              "#T_7859b_row10_col0, #T_7859b_row10_col1, #T_7859b_row10_col2, #T_7859b_row10_col3, #T_7859b_row10_col4, #T_7859b_row10_col5 {\n",
              "  background: yellow;\n",
              "}\n",
              "</style>\n",
              "<table id=\"T_7859b\" class=\"dataframe\">\n",
              "  <thead>\n",
              "    <tr>\n",
              "      <th class=\"blank level0\" >&nbsp;</th>\n",
              "      <th id=\"T_7859b_level0_col0\" class=\"col_heading level0 col0\" >MAE</th>\n",
              "      <th id=\"T_7859b_level0_col1\" class=\"col_heading level0 col1\" >MSE</th>\n",
              "      <th id=\"T_7859b_level0_col2\" class=\"col_heading level0 col2\" >RMSE</th>\n",
              "      <th id=\"T_7859b_level0_col3\" class=\"col_heading level0 col3\" >R2</th>\n",
              "      <th id=\"T_7859b_level0_col4\" class=\"col_heading level0 col4\" >RMSLE</th>\n",
              "      <th id=\"T_7859b_level0_col5\" class=\"col_heading level0 col5\" >MAPE</th>\n",
              "    </tr>\n",
              "    <tr>\n",
              "      <th class=\"index_name level0\" >Fold</th>\n",
              "      <th class=\"blank col0\" >&nbsp;</th>\n",
              "      <th class=\"blank col1\" >&nbsp;</th>\n",
              "      <th class=\"blank col2\" >&nbsp;</th>\n",
              "      <th class=\"blank col3\" >&nbsp;</th>\n",
              "      <th class=\"blank col4\" >&nbsp;</th>\n",
              "      <th class=\"blank col5\" >&nbsp;</th>\n",
              "    </tr>\n",
              "  </thead>\n",
              "  <tbody>\n",
              "    <tr>\n",
              "      <th id=\"T_7859b_level0_row0\" class=\"row_heading level0 row0\" >0</th>\n",
              "      <td id=\"T_7859b_row0_col0\" class=\"data row0 col0\" >1162.4377</td>\n",
              "      <td id=\"T_7859b_row0_col1\" class=\"data row0 col1\" >57197556.0000</td>\n",
              "      <td id=\"T_7859b_row0_col2\" class=\"data row0 col2\" >7562.9067</td>\n",
              "      <td id=\"T_7859b_row0_col3\" class=\"data row0 col3\" >0.5777</td>\n",
              "      <td id=\"T_7859b_row0_col4\" class=\"data row0 col4\" >1.1738</td>\n",
              "      <td id=\"T_7859b_row0_col5\" class=\"data row0 col5\" >0.3586</td>\n",
              "    </tr>\n",
              "    <tr>\n",
              "      <th id=\"T_7859b_level0_row1\" class=\"row_heading level0 row1\" >1</th>\n",
              "      <td id=\"T_7859b_row1_col0\" class=\"data row1 col0\" >1348.1312</td>\n",
              "      <td id=\"T_7859b_row1_col1\" class=\"data row1 col1\" >50687816.0000</td>\n",
              "      <td id=\"T_7859b_row1_col2\" class=\"data row1 col2\" >7119.5376</td>\n",
              "      <td id=\"T_7859b_row1_col3\" class=\"data row1 col3\" >0.6583</td>\n",
              "      <td id=\"T_7859b_row1_col4\" class=\"data row1 col4\" >1.4832</td>\n",
              "      <td id=\"T_7859b_row1_col5\" class=\"data row1 col5\" >0.2406</td>\n",
              "    </tr>\n",
              "    <tr>\n",
              "      <th id=\"T_7859b_level0_row2\" class=\"row_heading level0 row2\" >2</th>\n",
              "      <td id=\"T_7859b_row2_col0\" class=\"data row2 col0\" >1328.2222</td>\n",
              "      <td id=\"T_7859b_row2_col1\" class=\"data row2 col1\" >47424956.0000</td>\n",
              "      <td id=\"T_7859b_row2_col2\" class=\"data row2 col2\" >6886.5781</td>\n",
              "      <td id=\"T_7859b_row2_col3\" class=\"data row2 col3\" >0.6724</td>\n",
              "      <td id=\"T_7859b_row2_col4\" class=\"data row2 col4\" >1.7096</td>\n",
              "      <td id=\"T_7859b_row2_col5\" class=\"data row2 col5\" >0.2902</td>\n",
              "    </tr>\n",
              "    <tr>\n",
              "      <th id=\"T_7859b_level0_row3\" class=\"row_heading level0 row3\" >3</th>\n",
              "      <td id=\"T_7859b_row3_col0\" class=\"data row3 col0\" >1157.2285</td>\n",
              "      <td id=\"T_7859b_row3_col1\" class=\"data row3 col1\" >42074288.0000</td>\n",
              "      <td id=\"T_7859b_row3_col2\" class=\"data row3 col2\" >6486.4697</td>\n",
              "      <td id=\"T_7859b_row3_col3\" class=\"data row3 col3\" >0.7087</td>\n",
              "      <td id=\"T_7859b_row3_col4\" class=\"data row3 col4\" >1.3337</td>\n",
              "      <td id=\"T_7859b_row3_col5\" class=\"data row3 col5\" >0.2014</td>\n",
              "    </tr>\n",
              "    <tr>\n",
              "      <th id=\"T_7859b_level0_row4\" class=\"row_heading level0 row4\" >4</th>\n",
              "      <td id=\"T_7859b_row4_col0\" class=\"data row4 col0\" >1448.9093</td>\n",
              "      <td id=\"T_7859b_row4_col1\" class=\"data row4 col1\" >54627188.0000</td>\n",
              "      <td id=\"T_7859b_row4_col2\" class=\"data row4 col2\" >7391.0210</td>\n",
              "      <td id=\"T_7859b_row4_col3\" class=\"data row4 col3\" >0.6688</td>\n",
              "      <td id=\"T_7859b_row4_col4\" class=\"data row4 col4\" >1.8220</td>\n",
              "      <td id=\"T_7859b_row4_col5\" class=\"data row4 col5\" >0.1976</td>\n",
              "    </tr>\n",
              "    <tr>\n",
              "      <th id=\"T_7859b_level0_row5\" class=\"row_heading level0 row5\" >5</th>\n",
              "      <td id=\"T_7859b_row5_col0\" class=\"data row5 col0\" >1611.8070</td>\n",
              "      <td id=\"T_7859b_row5_col1\" class=\"data row5 col1\" >54805616.0000</td>\n",
              "      <td id=\"T_7859b_row5_col2\" class=\"data row5 col2\" >7403.0815</td>\n",
              "      <td id=\"T_7859b_row5_col3\" class=\"data row5 col3\" >0.6417</td>\n",
              "      <td id=\"T_7859b_row5_col4\" class=\"data row5 col4\" >1.9379</td>\n",
              "      <td id=\"T_7859b_row5_col5\" class=\"data row5 col5\" >0.2002</td>\n",
              "    </tr>\n",
              "    <tr>\n",
              "      <th id=\"T_7859b_level0_row6\" class=\"row_heading level0 row6\" >6</th>\n",
              "      <td id=\"T_7859b_row6_col0\" class=\"data row6 col0\" >1759.1333</td>\n",
              "      <td id=\"T_7859b_row6_col1\" class=\"data row6 col1\" >193358672.0000</td>\n",
              "      <td id=\"T_7859b_row6_col2\" class=\"data row6 col2\" >13905.3467</td>\n",
              "      <td id=\"T_7859b_row6_col3\" class=\"data row6 col3\" >0.3634</td>\n",
              "      <td id=\"T_7859b_row6_col4\" class=\"data row6 col4\" >1.8647</td>\n",
              "      <td id=\"T_7859b_row6_col5\" class=\"data row6 col5\" >0.2170</td>\n",
              "    </tr>\n",
              "    <tr>\n",
              "      <th id=\"T_7859b_level0_row7\" class=\"row_heading level0 row7\" >7</th>\n",
              "      <td id=\"T_7859b_row7_col0\" class=\"data row7 col0\" >1433.2975</td>\n",
              "      <td id=\"T_7859b_row7_col1\" class=\"data row7 col1\" >49648736.0000</td>\n",
              "      <td id=\"T_7859b_row7_col2\" class=\"data row7 col2\" >7046.1860</td>\n",
              "      <td id=\"T_7859b_row7_col3\" class=\"data row7 col3\" >0.6657</td>\n",
              "      <td id=\"T_7859b_row7_col4\" class=\"data row7 col4\" >1.9137</td>\n",
              "      <td id=\"T_7859b_row7_col5\" class=\"data row7 col5\" >0.2169</td>\n",
              "    </tr>\n",
              "    <tr>\n",
              "      <th id=\"T_7859b_level0_row8\" class=\"row_heading level0 row8\" >8</th>\n",
              "      <td id=\"T_7859b_row8_col0\" class=\"data row8 col0\" >1367.5088</td>\n",
              "      <td id=\"T_7859b_row8_col1\" class=\"data row8 col1\" >49156288.0000</td>\n",
              "      <td id=\"T_7859b_row8_col2\" class=\"data row8 col2\" >7011.1548</td>\n",
              "      <td id=\"T_7859b_row8_col3\" class=\"data row8 col3\" >0.6608</td>\n",
              "      <td id=\"T_7859b_row8_col4\" class=\"data row8 col4\" >1.8179</td>\n",
              "      <td id=\"T_7859b_row8_col5\" class=\"data row8 col5\" >0.2174</td>\n",
              "    </tr>\n",
              "    <tr>\n",
              "      <th id=\"T_7859b_level0_row9\" class=\"row_heading level0 row9\" >9</th>\n",
              "      <td id=\"T_7859b_row9_col0\" class=\"data row9 col0\" >1348.1410</td>\n",
              "      <td id=\"T_7859b_row9_col1\" class=\"data row9 col1\" >48361080.0000</td>\n",
              "      <td id=\"T_7859b_row9_col2\" class=\"data row9 col2\" >6954.2129</td>\n",
              "      <td id=\"T_7859b_row9_col3\" class=\"data row9 col3\" >0.6578</td>\n",
              "      <td id=\"T_7859b_row9_col4\" class=\"data row9 col4\" >1.4589</td>\n",
              "      <td id=\"T_7859b_row9_col5\" class=\"data row9 col5\" >0.2213</td>\n",
              "    </tr>\n",
              "    <tr>\n",
              "      <th id=\"T_7859b_level0_row10\" class=\"row_heading level0 row10\" >Mean</th>\n",
              "      <td id=\"T_7859b_row10_col0\" class=\"data row10 col0\" >1396.4817</td>\n",
              "      <td id=\"T_7859b_row10_col1\" class=\"data row10 col1\" >64734219.6000</td>\n",
              "      <td id=\"T_7859b_row10_col2\" class=\"data row10 col2\" >7776.6495</td>\n",
              "      <td id=\"T_7859b_row10_col3\" class=\"data row10 col3\" >0.6275</td>\n",
              "      <td id=\"T_7859b_row10_col4\" class=\"data row10 col4\" >1.6515</td>\n",
              "      <td id=\"T_7859b_row10_col5\" class=\"data row10 col5\" >0.2361</td>\n",
              "    </tr>\n",
              "    <tr>\n",
              "      <th id=\"T_7859b_level0_row11\" class=\"row_heading level0 row11\" >Std</th>\n",
              "      <td id=\"T_7859b_row11_col0\" class=\"data row11 col0\" >174.4068</td>\n",
              "      <td id=\"T_7859b_row11_col1\" class=\"data row11 col1\" >43070277.8491</td>\n",
              "      <td id=\"T_7859b_row11_col2\" class=\"data row11 col2\" >2063.4783</td>\n",
              "      <td id=\"T_7859b_row11_col3\" class=\"data row11 col3\" >0.0934</td>\n",
              "      <td id=\"T_7859b_row11_col4\" class=\"data row11 col4\" >0.2552</td>\n",
              "      <td id=\"T_7859b_row11_col5\" class=\"data row11 col5\" >0.0482</td>\n",
              "    </tr>\n",
              "  </tbody>\n",
              "</table>\n"
            ]
          },
          "metadata": {}
        },
        {
          "output_type": "display_data",
          "data": {
            "text/plain": [
              "Processing:   0%|          | 0/4 [00:00<?, ?it/s]"
            ],
            "application/vnd.jupyter.widget-view+json": {
              "version_major": 2,
              "version_minor": 0,
              "model_id": "39575f78a3c547d082379c3af95d01b3"
            }
          },
          "metadata": {
            "application/vnd.jupyter.widget-view+json": {
              "colab": {
                "custom_widget_manager": {
                  "url": "https://ssl.gstatic.com/colaboratory-static/widgets/colab-cdn-widget-manager/2b70e893a8ba7c0f/manager.min.js"
                }
              }
            }
          }
        },
        {
          "output_type": "display_data",
          "data": {
            "text/plain": [
              "<IPython.core.display.HTML object>"
            ],
            "text/html": []
          },
          "metadata": {}
        },
        {
          "output_type": "display_data",
          "data": {
            "text/plain": [
              "<pandas.io.formats.style.Styler at 0x7805089b5e10>"
            ],
            "text/html": [
              "<style type=\"text/css\">\n",
              "</style>\n",
              "<table id=\"T_b5929\" class=\"dataframe\">\n",
              "  <thead>\n",
              "    <tr>\n",
              "      <th class=\"blank level0\" >&nbsp;</th>\n",
              "      <th id=\"T_b5929_level0_col0\" class=\"col_heading level0 col0\" >Model</th>\n",
              "      <th id=\"T_b5929_level0_col1\" class=\"col_heading level0 col1\" >MAE</th>\n",
              "      <th id=\"T_b5929_level0_col2\" class=\"col_heading level0 col2\" >MSE</th>\n",
              "      <th id=\"T_b5929_level0_col3\" class=\"col_heading level0 col3\" >RMSE</th>\n",
              "      <th id=\"T_b5929_level0_col4\" class=\"col_heading level0 col4\" >R2</th>\n",
              "      <th id=\"T_b5929_level0_col5\" class=\"col_heading level0 col5\" >RMSLE</th>\n",
              "      <th id=\"T_b5929_level0_col6\" class=\"col_heading level0 col6\" >MAPE</th>\n",
              "    </tr>\n",
              "  </thead>\n",
              "  <tbody>\n",
              "    <tr>\n",
              "      <th id=\"T_b5929_level0_row0\" class=\"row_heading level0 row0\" >0</th>\n",
              "      <td id=\"T_b5929_row0_col0\" class=\"data row0 col0\" >K Neighbors Regressor</td>\n",
              "      <td id=\"T_b5929_row0_col1\" class=\"data row0 col1\" >1441.7606</td>\n",
              "      <td id=\"T_b5929_row0_col2\" class=\"data row0 col2\" >51602144.0000</td>\n",
              "      <td id=\"T_b5929_row0_col3\" class=\"data row0 col3\" >7183.4634</td>\n",
              "      <td id=\"T_b5929_row0_col4\" class=\"data row0 col4\" >0.6645</td>\n",
              "      <td id=\"T_b5929_row0_col5\" class=\"data row0 col5\" >1.8159</td>\n",
              "      <td id=\"T_b5929_row0_col6\" class=\"data row0 col6\" >0.2008</td>\n",
              "    </tr>\n",
              "  </tbody>\n",
              "</table>\n"
            ]
          },
          "metadata": {}
        },
        {
          "output_type": "execute_result",
          "data": {
            "text/plain": [
              "        Make_encode  Model_encode  Electric Range Quantile  Base MSRP  \\\n",
              "129266    26.989639     25.000000                -0.927754        0.0   \n",
              "32514     97.236053     34.000000                -0.589456        0.0   \n",
              "8074     127.724953    243.619766                 0.967422        0.0   \n",
              "106542    37.000000     37.000000                -0.554664        0.0   \n",
              "103074    24.945839     20.378393                -1.366707        0.0   \n",
              "...             ...           ...                      ...        ...   \n",
              "21999     97.236053     93.000000                 0.037988        0.0   \n",
              "28569    240.476761    239.674454                 0.255962        0.0   \n",
              "82738    240.476761    226.651642                 1.399657        0.0   \n",
              "69887    127.724953    243.619766                 1.220640        0.0   \n",
              "102456    47.429127     90.046753                -0.269066        0.0   \n",
              "\n",
              "        prediction_label  \n",
              "129266               0.0  \n",
              "32514                0.0  \n",
              "8074                 0.0  \n",
              "106542               0.0  \n",
              "103074               0.0  \n",
              "...                  ...  \n",
              "21999            31950.0  \n",
              "28569                0.0  \n",
              "82738                0.0  \n",
              "69887                0.0  \n",
              "102456               0.0  \n",
              "\n",
              "[15567 rows x 5 columns]"
            ],
            "text/html": [
              "\n",
              "  <div id=\"df-65ed1a7c-633d-4a04-92ee-3626e159a2c2\" class=\"colab-df-container\">\n",
              "    <div>\n",
              "<style scoped>\n",
              "    .dataframe tbody tr th:only-of-type {\n",
              "        vertical-align: middle;\n",
              "    }\n",
              "\n",
              "    .dataframe tbody tr th {\n",
              "        vertical-align: top;\n",
              "    }\n",
              "\n",
              "    .dataframe thead th {\n",
              "        text-align: right;\n",
              "    }\n",
              "</style>\n",
              "<table border=\"1\" class=\"dataframe\">\n",
              "  <thead>\n",
              "    <tr style=\"text-align: right;\">\n",
              "      <th></th>\n",
              "      <th>Make_encode</th>\n",
              "      <th>Model_encode</th>\n",
              "      <th>Electric Range Quantile</th>\n",
              "      <th>Base MSRP</th>\n",
              "      <th>prediction_label</th>\n",
              "    </tr>\n",
              "  </thead>\n",
              "  <tbody>\n",
              "    <tr>\n",
              "      <th>129266</th>\n",
              "      <td>26.989639</td>\n",
              "      <td>25.000000</td>\n",
              "      <td>-0.927754</td>\n",
              "      <td>0.0</td>\n",
              "      <td>0.0</td>\n",
              "    </tr>\n",
              "    <tr>\n",
              "      <th>32514</th>\n",
              "      <td>97.236053</td>\n",
              "      <td>34.000000</td>\n",
              "      <td>-0.589456</td>\n",
              "      <td>0.0</td>\n",
              "      <td>0.0</td>\n",
              "    </tr>\n",
              "    <tr>\n",
              "      <th>8074</th>\n",
              "      <td>127.724953</td>\n",
              "      <td>243.619766</td>\n",
              "      <td>0.967422</td>\n",
              "      <td>0.0</td>\n",
              "      <td>0.0</td>\n",
              "    </tr>\n",
              "    <tr>\n",
              "      <th>106542</th>\n",
              "      <td>37.000000</td>\n",
              "      <td>37.000000</td>\n",
              "      <td>-0.554664</td>\n",
              "      <td>0.0</td>\n",
              "      <td>0.0</td>\n",
              "    </tr>\n",
              "    <tr>\n",
              "      <th>103074</th>\n",
              "      <td>24.945839</td>\n",
              "      <td>20.378393</td>\n",
              "      <td>-1.366707</td>\n",
              "      <td>0.0</td>\n",
              "      <td>0.0</td>\n",
              "    </tr>\n",
              "    <tr>\n",
              "      <th>...</th>\n",
              "      <td>...</td>\n",
              "      <td>...</td>\n",
              "      <td>...</td>\n",
              "      <td>...</td>\n",
              "      <td>...</td>\n",
              "    </tr>\n",
              "    <tr>\n",
              "      <th>21999</th>\n",
              "      <td>97.236053</td>\n",
              "      <td>93.000000</td>\n",
              "      <td>0.037988</td>\n",
              "      <td>0.0</td>\n",
              "      <td>31950.0</td>\n",
              "    </tr>\n",
              "    <tr>\n",
              "      <th>28569</th>\n",
              "      <td>240.476761</td>\n",
              "      <td>239.674454</td>\n",
              "      <td>0.255962</td>\n",
              "      <td>0.0</td>\n",
              "      <td>0.0</td>\n",
              "    </tr>\n",
              "    <tr>\n",
              "      <th>82738</th>\n",
              "      <td>240.476761</td>\n",
              "      <td>226.651642</td>\n",
              "      <td>1.399657</td>\n",
              "      <td>0.0</td>\n",
              "      <td>0.0</td>\n",
              "    </tr>\n",
              "    <tr>\n",
              "      <th>69887</th>\n",
              "      <td>127.724953</td>\n",
              "      <td>243.619766</td>\n",
              "      <td>1.220640</td>\n",
              "      <td>0.0</td>\n",
              "      <td>0.0</td>\n",
              "    </tr>\n",
              "    <tr>\n",
              "      <th>102456</th>\n",
              "      <td>47.429127</td>\n",
              "      <td>90.046753</td>\n",
              "      <td>-0.269066</td>\n",
              "      <td>0.0</td>\n",
              "      <td>0.0</td>\n",
              "    </tr>\n",
              "  </tbody>\n",
              "</table>\n",
              "<p>15567 rows × 5 columns</p>\n",
              "</div>\n",
              "    <div class=\"colab-df-buttons\">\n",
              "\n",
              "  <div class=\"colab-df-container\">\n",
              "    <button class=\"colab-df-convert\" onclick=\"convertToInteractive('df-65ed1a7c-633d-4a04-92ee-3626e159a2c2')\"\n",
              "            title=\"Convert this dataframe to an interactive table.\"\n",
              "            style=\"display:none;\">\n",
              "\n",
              "  <svg xmlns=\"http://www.w3.org/2000/svg\" height=\"24px\" viewBox=\"0 -960 960 960\">\n",
              "    <path d=\"M120-120v-720h720v720H120Zm60-500h600v-160H180v160Zm220 220h160v-160H400v160Zm0 220h160v-160H400v160ZM180-400h160v-160H180v160Zm440 0h160v-160H620v160ZM180-180h160v-160H180v160Zm440 0h160v-160H620v160Z\"/>\n",
              "  </svg>\n",
              "    </button>\n",
              "\n",
              "  <style>\n",
              "    .colab-df-container {\n",
              "      display:flex;\n",
              "      gap: 12px;\n",
              "    }\n",
              "\n",
              "    .colab-df-convert {\n",
              "      background-color: #E8F0FE;\n",
              "      border: none;\n",
              "      border-radius: 50%;\n",
              "      cursor: pointer;\n",
              "      display: none;\n",
              "      fill: #1967D2;\n",
              "      height: 32px;\n",
              "      padding: 0 0 0 0;\n",
              "      width: 32px;\n",
              "    }\n",
              "\n",
              "    .colab-df-convert:hover {\n",
              "      background-color: #E2EBFA;\n",
              "      box-shadow: 0px 1px 2px rgba(60, 64, 67, 0.3), 0px 1px 3px 1px rgba(60, 64, 67, 0.15);\n",
              "      fill: #174EA6;\n",
              "    }\n",
              "\n",
              "    .colab-df-buttons div {\n",
              "      margin-bottom: 4px;\n",
              "    }\n",
              "\n",
              "    [theme=dark] .colab-df-convert {\n",
              "      background-color: #3B4455;\n",
              "      fill: #D2E3FC;\n",
              "    }\n",
              "\n",
              "    [theme=dark] .colab-df-convert:hover {\n",
              "      background-color: #434B5C;\n",
              "      box-shadow: 0px 1px 3px 1px rgba(0, 0, 0, 0.15);\n",
              "      filter: drop-shadow(0px 1px 2px rgba(0, 0, 0, 0.3));\n",
              "      fill: #FFFFFF;\n",
              "    }\n",
              "  </style>\n",
              "\n",
              "    <script>\n",
              "      const buttonEl =\n",
              "        document.querySelector('#df-65ed1a7c-633d-4a04-92ee-3626e159a2c2 button.colab-df-convert');\n",
              "      buttonEl.style.display =\n",
              "        google.colab.kernel.accessAllowed ? 'block' : 'none';\n",
              "\n",
              "      async function convertToInteractive(key) {\n",
              "        const element = document.querySelector('#df-65ed1a7c-633d-4a04-92ee-3626e159a2c2');\n",
              "        const dataTable =\n",
              "          await google.colab.kernel.invokeFunction('convertToInteractive',\n",
              "                                                    [key], {});\n",
              "        if (!dataTable) return;\n",
              "\n",
              "        const docLinkHtml = 'Like what you see? Visit the ' +\n",
              "          '<a target=\"_blank\" href=https://colab.research.google.com/notebooks/data_table.ipynb>data table notebook</a>'\n",
              "          + ' to learn more about interactive tables.';\n",
              "        element.innerHTML = '';\n",
              "        dataTable['output_type'] = 'display_data';\n",
              "        await google.colab.output.renderOutput(dataTable, element);\n",
              "        const docLink = document.createElement('div');\n",
              "        docLink.innerHTML = docLinkHtml;\n",
              "        element.appendChild(docLink);\n",
              "      }\n",
              "    </script>\n",
              "  </div>\n",
              "\n",
              "\n",
              "<div id=\"df-8e87ffe2-6906-4787-aee9-83128ff5e15e\">\n",
              "  <button class=\"colab-df-quickchart\" onclick=\"quickchart('df-8e87ffe2-6906-4787-aee9-83128ff5e15e')\"\n",
              "            title=\"Suggest charts\"\n",
              "            style=\"display:none;\">\n",
              "\n",
              "<svg xmlns=\"http://www.w3.org/2000/svg\" height=\"24px\"viewBox=\"0 0 24 24\"\n",
              "     width=\"24px\">\n",
              "    <g>\n",
              "        <path d=\"M19 3H5c-1.1 0-2 .9-2 2v14c0 1.1.9 2 2 2h14c1.1 0 2-.9 2-2V5c0-1.1-.9-2-2-2zM9 17H7v-7h2v7zm4 0h-2V7h2v10zm4 0h-2v-4h2v4z\"/>\n",
              "    </g>\n",
              "</svg>\n",
              "  </button>\n",
              "\n",
              "<style>\n",
              "  .colab-df-quickchart {\n",
              "      --bg-color: #E8F0FE;\n",
              "      --fill-color: #1967D2;\n",
              "      --hover-bg-color: #E2EBFA;\n",
              "      --hover-fill-color: #174EA6;\n",
              "      --disabled-fill-color: #AAA;\n",
              "      --disabled-bg-color: #DDD;\n",
              "  }\n",
              "\n",
              "  [theme=dark] .colab-df-quickchart {\n",
              "      --bg-color: #3B4455;\n",
              "      --fill-color: #D2E3FC;\n",
              "      --hover-bg-color: #434B5C;\n",
              "      --hover-fill-color: #FFFFFF;\n",
              "      --disabled-bg-color: #3B4455;\n",
              "      --disabled-fill-color: #666;\n",
              "  }\n",
              "\n",
              "  .colab-df-quickchart {\n",
              "    background-color: var(--bg-color);\n",
              "    border: none;\n",
              "    border-radius: 50%;\n",
              "    cursor: pointer;\n",
              "    display: none;\n",
              "    fill: var(--fill-color);\n",
              "    height: 32px;\n",
              "    padding: 0;\n",
              "    width: 32px;\n",
              "  }\n",
              "\n",
              "  .colab-df-quickchart:hover {\n",
              "    background-color: var(--hover-bg-color);\n",
              "    box-shadow: 0 1px 2px rgba(60, 64, 67, 0.3), 0 1px 3px 1px rgba(60, 64, 67, 0.15);\n",
              "    fill: var(--button-hover-fill-color);\n",
              "  }\n",
              "\n",
              "  .colab-df-quickchart-complete:disabled,\n",
              "  .colab-df-quickchart-complete:disabled:hover {\n",
              "    background-color: var(--disabled-bg-color);\n",
              "    fill: var(--disabled-fill-color);\n",
              "    box-shadow: none;\n",
              "  }\n",
              "\n",
              "  .colab-df-spinner {\n",
              "    border: 2px solid var(--fill-color);\n",
              "    border-color: transparent;\n",
              "    border-bottom-color: var(--fill-color);\n",
              "    animation:\n",
              "      spin 1s steps(1) infinite;\n",
              "  }\n",
              "\n",
              "  @keyframes spin {\n",
              "    0% {\n",
              "      border-color: transparent;\n",
              "      border-bottom-color: var(--fill-color);\n",
              "      border-left-color: var(--fill-color);\n",
              "    }\n",
              "    20% {\n",
              "      border-color: transparent;\n",
              "      border-left-color: var(--fill-color);\n",
              "      border-top-color: var(--fill-color);\n",
              "    }\n",
              "    30% {\n",
              "      border-color: transparent;\n",
              "      border-left-color: var(--fill-color);\n",
              "      border-top-color: var(--fill-color);\n",
              "      border-right-color: var(--fill-color);\n",
              "    }\n",
              "    40% {\n",
              "      border-color: transparent;\n",
              "      border-right-color: var(--fill-color);\n",
              "      border-top-color: var(--fill-color);\n",
              "    }\n",
              "    60% {\n",
              "      border-color: transparent;\n",
              "      border-right-color: var(--fill-color);\n",
              "    }\n",
              "    80% {\n",
              "      border-color: transparent;\n",
              "      border-right-color: var(--fill-color);\n",
              "      border-bottom-color: var(--fill-color);\n",
              "    }\n",
              "    90% {\n",
              "      border-color: transparent;\n",
              "      border-bottom-color: var(--fill-color);\n",
              "    }\n",
              "  }\n",
              "</style>\n",
              "\n",
              "  <script>\n",
              "    async function quickchart(key) {\n",
              "      const quickchartButtonEl =\n",
              "        document.querySelector('#' + key + ' button');\n",
              "      quickchartButtonEl.disabled = true;  // To prevent multiple clicks.\n",
              "      quickchartButtonEl.classList.add('colab-df-spinner');\n",
              "      try {\n",
              "        const charts = await google.colab.kernel.invokeFunction(\n",
              "            'suggestCharts', [key], {});\n",
              "      } catch (error) {\n",
              "        console.error('Error during call to suggestCharts:', error);\n",
              "      }\n",
              "      quickchartButtonEl.classList.remove('colab-df-spinner');\n",
              "      quickchartButtonEl.classList.add('colab-df-quickchart-complete');\n",
              "    }\n",
              "    (() => {\n",
              "      let quickchartButtonEl =\n",
              "        document.querySelector('#df-8e87ffe2-6906-4787-aee9-83128ff5e15e button');\n",
              "      quickchartButtonEl.style.display =\n",
              "        google.colab.kernel.accessAllowed ? 'block' : 'none';\n",
              "    })();\n",
              "  </script>\n",
              "</div>\n",
              "\n",
              "    </div>\n",
              "  </div>\n"
            ],
            "application/vnd.google.colaboratory.intrinsic+json": {
              "type": "dataframe",
              "summary": "{\n  \"name\": \"predict_model(finalModel,data=X_test)\",\n  \"rows\": 15567,\n  \"fields\": [\n    {\n      \"column\": \"Make_encode\",\n      \"properties\": {\n        \"dtype\": \"float32\",\n        \"num_unique_values\": 30,\n        \"samples\": [\n          233.0,\n          69.77696990966797,\n          36.43412780761719\n        ],\n        \"semantic_type\": \"\",\n        \"description\": \"\"\n      }\n    },\n    {\n      \"column\": \"Model_encode\",\n      \"properties\": {\n        \"dtype\": \"float32\",\n        \"num_unique_values\": 78,\n        \"samples\": [\n          60.91824722290039,\n          25.0,\n          47.0\n        ],\n        \"semantic_type\": \"\",\n        \"description\": \"\"\n      }\n    },\n    {\n      \"column\": \"Electric Range Quantile\",\n      \"properties\": {\n        \"dtype\": \"float32\",\n        \"num_unique_values\": 92,\n        \"samples\": [\n          -0.5157048106193542,\n          1.4705452919006348,\n          0.2822161614894867\n        ],\n        \"semantic_type\": \"\",\n        \"description\": \"\"\n      }\n    },\n    {\n      \"column\": \"Base MSRP\",\n      \"properties\": {\n        \"dtype\": \"float32\",\n        \"num_unique_values\": 28,\n        \"samples\": [\n          36800.0,\n          81100.0,\n          53400.0\n        ],\n        \"semantic_type\": \"\",\n        \"description\": \"\"\n      }\n    },\n    {\n      \"column\": \"prediction_label\",\n      \"properties\": {\n        \"dtype\": \"float32\",\n        \"num_unique_values\": 22,\n        \"samples\": [\n          0.0,\n          64950.0,\n          110560.0\n        ],\n        \"semantic_type\": \"\",\n        \"description\": \"\"\n      }\n    }\n  ]\n}"
            }
          },
          "metadata": {},
          "execution_count": 50
        }
      ]
    },
    {
      "cell_type": "markdown",
      "source": [
        "查看殘差圖"
      ],
      "metadata": {
        "id": "HLo6ExbeZ2nu"
      }
    },
    {
      "cell_type": "code",
      "source": [
        "plot_model(finalModel,plot=\"residuals\")"
      ],
      "metadata": {
        "colab": {
          "base_uri": "https://localhost:8080/",
          "height": 524
        },
        "id": "ds6MLXwB-6jH",
        "outputId": "24269f01-6c61-4de3-9960-ab6d2dc29e27"
      },
      "execution_count": null,
      "outputs": [
        {
          "output_type": "display_data",
          "data": {
            "text/plain": [
              "<IPython.core.display.HTML object>"
            ],
            "text/html": []
          },
          "metadata": {}
        },
        {
          "output_type": "display_data",
          "data": {
            "text/plain": [
              "<Figure size 800x550 with 2 Axes>"
            ],
            "image/png": "[encoded data removed]"
          },
          "metadata": {}
        }
      ]
    },
    {
      "cell_type": "markdown",
      "source": [
        "查看模型解釋比例"
      ],
      "metadata": {
        "id": "oEDyq510ZrcI"
      }
    },
    {
      "cell_type": "code",
      "source": [
        "plot_model(finalModel,plot=\"error\")"
      ],
      "metadata": {
        "id": "OQhzbkLGuwQx",
        "colab": {
          "base_uri": "https://localhost:8080/",
          "height": 526
        },
        "outputId": "146f3b15-b978-4419-d09c-24e8c020b76e"
      },
      "execution_count": null,
      "outputs": [
        {
          "output_type": "display_data",
          "data": {
            "text/plain": [
              "<IPython.core.display.HTML object>"
            ],
            "text/html": []
          },
          "metadata": {}
        },
        {
          "output_type": "display_data",
          "data": {
            "text/plain": [
              "<Figure size 800x550 with 1 Axes>"
            ],
            "image/png": "[encoded data removed]"
          },
          "metadata": {}
        }
      ]
    },
    {
      "cell_type": "markdown",
      "source": [
        "查看模型score"
      ],
      "metadata": {
        "id": "lc4xO76wZllM"
      }
    },
    {
      "cell_type": "code",
      "source": [
        "plot_model(finalModel,plot=\"learning\")"
      ],
      "metadata": {
        "colab": {
          "base_uri": "https://localhost:8080/",
          "height": 524
        },
        "id": "f67aAtljbmmT",
        "outputId": "34f69d7c-832c-48fe-8806-aa0692f51f70"
      },
      "execution_count": null,
      "outputs": [
        {
          "output_type": "display_data",
          "data": {
            "text/plain": [
              "<IPython.core.display.HTML object>"
            ],
            "text/html": []
          },
          "metadata": {}
        },
        {
          "output_type": "display_data",
          "data": {
            "text/plain": [
              "<Figure size 800x550 with 1 Axes>"
            ],
            "image/png": "[encoded data removed]"
          },
          "metadata": {}
        }
      ]
    }
  ],
  "metadata": {
    "colab": {
      "provenance": [],
      "include_colab_link": true
    },
    "kernelspec": {
      "display_name": "Python 3",
      "name": "python3"
    },
    "language_info": {
      "name": "python"
    },
    "widgets": {
      "application/vnd.jupyter.widget-state+json": {
        "9823acfdaab24c8c8fc9c6d31b37c0b0": {
          "model_module": "@jupyter-widgets/controls",
          "model_name": "HBoxModel",
          "model_module_version": "1.5.0",
          "state": {
            "_dom_classes": [],
            "_model_module": "@jupyter-widgets/controls",
            "_model_module_version": "1.5.0",
            "_model_name": "HBoxModel",
            "_view_count": null,
            "_view_module": "@jupyter-widgets/controls",
            "_view_module_version": "1.5.0",
            "_view_name": "HBoxView",
            "box_style": "",
            "children": [
              "IPY_MODEL_cda243a3442c43528362ae03e6a7a61e",
              "IPY_MODEL_757e98db3c334f298bc191f8456fc3fc",
              "IPY_MODEL_51f7a84ef91f44c18a973180c66f835e"
            ],
            "layout": "IPY_MODEL_eb86561bfecc452ba95205ed87be4769"
          }
        },
        "cda243a3442c43528362ae03e6a7a61e": {
          "model_module": "@jupyter-widgets/controls",
          "model_name": "HTMLModel",
          "model_module_version": "1.5.0",
          "state": {
            "_dom_classes": [],
            "_model_module": "@jupyter-widgets/controls",
            "_model_module_version": "1.5.0",
            "_model_name": "HTMLModel",
            "_view_count": null,
            "_view_module": "@jupyter-widgets/controls",
            "_view_module_version": "1.5.0",
            "_view_name": "HTMLView",
            "description": "",
            "description_tooltip": null,
            "layout": "IPY_MODEL_de64ed5ef04e4c5ca492e2c42b1a04ee",
            "placeholder": "​",
            "style": "IPY_MODEL_c2a86fb9ca6b402ebeb75ae3a77ff6ac",
            "value": "Processing: 100%"
          }
        },
        "757e98db3c334f298bc191f8456fc3fc": {
          "model_module": "@jupyter-widgets/controls",
          "model_name": "FloatProgressModel",
          "model_module_version": "1.5.0",
          "state": {
            "_dom_classes": [],
            "_model_module": "@jupyter-widgets/controls",
            "_model_module_version": "1.5.0",
            "_model_name": "FloatProgressModel",
            "_view_count": null,
            "_view_module": "@jupyter-widgets/controls",
            "_view_module_version": "1.5.0",
            "_view_name": "ProgressView",
            "bar_style": "",
            "description": "",
            "description_tooltip": null,
            "layout": "IPY_MODEL_1fe76766c48844cabc347e2b5a3301f2",
            "max": 89,
            "min": 0,
            "orientation": "horizontal",
            "style": "IPY_MODEL_fc4085cb0f2b4cdd8d16e3ab87da317c",
            "value": 89
          }
        },
        "51f7a84ef91f44c18a973180c66f835e": {
          "model_module": "@jupyter-widgets/controls",
          "model_name": "HTMLModel",
          "model_module_version": "1.5.0",
          "state": {
            "_dom_classes": [],
            "_model_module": "@jupyter-widgets/controls",
            "_model_module_version": "1.5.0",
            "_model_name": "HTMLModel",
            "_view_count": null,
            "_view_module": "@jupyter-widgets/controls",
            "_view_module_version": "1.5.0",
            "_view_name": "HTMLView",
            "description": "",
            "description_tooltip": null,
            "layout": "IPY_MODEL_2e01683497cf4eaabf1212804b0aaf69",
            "placeholder": "​",
            "style": "IPY_MODEL_813d4209a6d84d55b184bbcb03b7a783",
            "value": " 89/89 [01:04&lt;00:00,  1.57s/it]"
          }
        },
        "eb86561bfecc452ba95205ed87be4769": {
          "model_module": "@jupyter-widgets/base",
          "model_name": "LayoutModel",
          "model_module_version": "1.2.0",
          "state": {
            "_model_module": "@jupyter-widgets/base",
            "_model_module_version": "1.2.0",
            "_model_name": "LayoutModel",
            "_view_count": null,
            "_view_module": "@jupyter-widgets/base",
            "_view_module_version": "1.2.0",
            "_view_name": "LayoutView",
            "align_content": null,
            "align_items": null,
            "align_self": null,
            "border": null,
            "bottom": null,
            "display": null,
            "flex": null,
            "flex_flow": null,
            "grid_area": null,
            "grid_auto_columns": null,
            "grid_auto_flow": null,
            "grid_auto_rows": null,
            "grid_column": null,
            "grid_gap": null,
            "grid_row": null,
            "grid_template_areas": null,
            "grid_template_columns": null,
            "grid_template_rows": null,
            "height": null,
            "justify_content": null,
            "justify_items": null,
            "left": null,
            "margin": null,
            "max_height": null,
            "max_width": null,
            "min_height": null,
            "min_width": null,
            "object_fit": null,
            "object_position": null,
            "order": null,
            "overflow": null,
            "overflow_x": null,
            "overflow_y": null,
            "padding": null,
            "right": null,
            "top": null,
            "visibility": "hidden",
            "width": null
          }
        },
        "de64ed5ef04e4c5ca492e2c42b1a04ee": {
          "model_module": "@jupyter-widgets/base",
          "model_name": "LayoutModel",
          "model_module_version": "1.2.0",
          "state": {
            "_model_module": "@jupyter-widgets/base",
            "_model_module_version": "1.2.0",
            "_model_name": "LayoutModel",
            "_view_count": null,
            "_view_module": "@jupyter-widgets/base",
            "_view_module_version": "1.2.0",
            "_view_name": "LayoutView",
            "align_content": null,
            "align_items": null,
            "align_self": null,
            "border": null,
            "bottom": null,
            "display": null,
            "flex": null,
            "flex_flow": null,
            "grid_area": null,
            "grid_auto_columns": null,
            "grid_auto_flow": null,
            "grid_auto_rows": null,
            "grid_column": null,
            "grid_gap": null,
            "grid_row": null,
            "grid_template_areas": null,
            "grid_template_columns": null,
            "grid_template_rows": null,
            "height": null,
            "justify_content": null,
            "justify_items": null,
            "left": null,
            "margin": null,
            "max_height": null,
            "max_width": null,
            "min_height": null,
            "min_width": null,
            "object_fit": null,
            "object_position": null,
            "order": null,
            "overflow": null,
            "overflow_x": null,
            "overflow_y": null,
            "padding": null,
            "right": null,
            "top": null,
            "visibility": null,
            "width": null
          }
        },
        "c2a86fb9ca6b402ebeb75ae3a77ff6ac": {
          "model_module": "@jupyter-widgets/controls",
          "model_name": "DescriptionStyleModel",
          "model_module_version": "1.5.0",
          "state": {
            "_model_module": "@jupyter-widgets/controls",
            "_model_module_version": "1.5.0",
            "_model_name": "DescriptionStyleModel",
            "_view_count": null,
            "_view_module": "@jupyter-widgets/base",
            "_view_module_version": "1.2.0",
            "_view_name": "StyleView",
            "description_width": ""
          }
        },
        "1fe76766c48844cabc347e2b5a3301f2": {
          "model_module": "@jupyter-widgets/base",
          "model_name": "LayoutModel",
          "model_module_version": "1.2.0",
          "state": {
            "_model_module": "@jupyter-widgets/base",
            "_model_module_version": "1.2.0",
            "_model_name": "LayoutModel",
            "_view_count": null,
            "_view_module": "@jupyter-widgets/base",
            "_view_module_version": "1.2.0",
            "_view_name": "LayoutView",
            "align_content": null,
            "align_items": null,
            "align_self": null,
            "border": null,
            "bottom": null,
            "display": null,
            "flex": null,
            "flex_flow": null,
            "grid_area": null,
            "grid_auto_columns": null,
            "grid_auto_flow": null,
            "grid_auto_rows": null,
            "grid_column": null,
            "grid_gap": null,
            "grid_row": null,
            "grid_template_areas": null,
            "grid_template_columns": null,
            "grid_template_rows": null,
            "height": null,
            "justify_content": null,
            "justify_items": null,
            "left": null,
            "margin": null,
            "max_height": null,
            "max_width": null,
            "min_height": null,
            "min_width": null,
            "object_fit": null,
            "object_position": null,
            "order": null,
            "overflow": null,
            "overflow_x": null,
            "overflow_y": null,
            "padding": null,
            "right": null,
            "top": null,
            "visibility": null,
            "width": null
          }
        },
        "fc4085cb0f2b4cdd8d16e3ab87da317c": {
          "model_module": "@jupyter-widgets/controls",
          "model_name": "ProgressStyleModel",
          "model_module_version": "1.5.0",
          "state": {
            "_model_module": "@jupyter-widgets/controls",
            "_model_module_version": "1.5.0",
            "_model_name": "ProgressStyleModel",
            "_view_count": null,
            "_view_module": "@jupyter-widgets/base",
            "_view_module_version": "1.2.0",
            "_view_name": "StyleView",
            "bar_color": null,
            "description_width": ""
          }
        },
        "2e01683497cf4eaabf1212804b0aaf69": {
          "model_module": "@jupyter-widgets/base",
          "model_name": "LayoutModel",
          "model_module_version": "1.2.0",
          "state": {
            "_model_module": "@jupyter-widgets/base",
            "_model_module_version": "1.2.0",
            "_model_name": "LayoutModel",
            "_view_count": null,
            "_view_module": "@jupyter-widgets/base",
            "_view_module_version": "1.2.0",
            "_view_name": "LayoutView",
            "align_content": null,
            "align_items": null,
            "align_self": null,
            "border": null,
            "bottom": null,
            "display": null,
            "flex": null,
            "flex_flow": null,
            "grid_area": null,
            "grid_auto_columns": null,
            "grid_auto_flow": null,
            "grid_auto_rows": null,
            "grid_column": null,
            "grid_gap": null,
            "grid_row": null,
            "grid_template_areas": null,
            "grid_template_columns": null,
            "grid_template_rows": null,
            "height": null,
            "justify_content": null,
            "justify_items": null,
            "left": null,
            "margin": null,
            "max_height": null,
            "max_width": null,
            "min_height": null,
            "min_width": null,
            "object_fit": null,
            "object_position": null,
            "order": null,
            "overflow": null,
            "overflow_x": null,
            "overflow_y": null,
            "padding": null,
            "right": null,
            "top": null,
            "visibility": null,
            "width": null
          }
        },
        "813d4209a6d84d55b184bbcb03b7a783": {
          "model_module": "@jupyter-widgets/controls",
          "model_name": "DescriptionStyleModel",
          "model_module_version": "1.5.0",
          "state": {
            "_model_module": "@jupyter-widgets/controls",
            "_model_module_version": "1.5.0",
            "_model_name": "DescriptionStyleModel",
            "_view_count": null,
            "_view_module": "@jupyter-widgets/base",
            "_view_module_version": "1.2.0",
            "_view_name": "StyleView",
            "description_width": ""
          }
        },
        "39575f78a3c547d082379c3af95d01b3": {
          "model_module": "@jupyter-widgets/controls",
          "model_name": "HBoxModel",
          "model_module_version": "1.5.0",
          "state": {
            "_dom_classes": [],
            "_model_module": "@jupyter-widgets/controls",
            "_model_module_version": "1.5.0",
            "_model_name": "HBoxModel",
            "_view_count": null,
            "_view_module": "@jupyter-widgets/controls",
            "_view_module_version": "1.5.0",
            "_view_name": "HBoxView",
            "box_style": "",
            "children": [
              "IPY_MODEL_406ba9f7da2d470a98806a0e328050a9",
              "IPY_MODEL_6110f587f2a74efca84fdf9a689e01e7",
              "IPY_MODEL_814b521b79ab47fd849b7d065f0ee3d5"
            ],
            "layout": "IPY_MODEL_cb3c4c204bb94e758ecdf48f351d3ea8"
          }
        },
        "406ba9f7da2d470a98806a0e328050a9": {
          "model_module": "@jupyter-widgets/controls",
          "model_name": "HTMLModel",
          "model_module_version": "1.5.0",
          "state": {
            "_dom_classes": [],
            "_model_module": "@jupyter-widgets/controls",
            "_model_module_version": "1.5.0",
            "_model_name": "HTMLModel",
            "_view_count": null,
            "_view_module": "@jupyter-widgets/controls",
            "_view_module_version": "1.5.0",
            "_view_name": "HTMLView",
            "description": "",
            "description_tooltip": null,
            "layout": "IPY_MODEL_def082dc52734a1eb9544faf72996e53",
            "placeholder": "​",
            "style": "IPY_MODEL_39e00085850c41328f4eec6d41257ccb",
            "value": "Processing:  75%"
          }
        },
        "6110f587f2a74efca84fdf9a689e01e7": {
          "model_module": "@jupyter-widgets/controls",
          "model_name": "FloatProgressModel",
          "model_module_version": "1.5.0",
          "state": {
            "_dom_classes": [],
            "_model_module": "@jupyter-widgets/controls",
            "_model_module_version": "1.5.0",
            "_model_name": "FloatProgressModel",
            "_view_count": null,
            "_view_module": "@jupyter-widgets/controls",
            "_view_module_version": "1.5.0",
            "_view_name": "ProgressView",
            "bar_style": "",
            "description": "",
            "description_tooltip": null,
            "layout": "IPY_MODEL_39f27e9665fd459a8dbef13d9efd10a3",
            "max": 4,
            "min": 0,
            "orientation": "horizontal",
            "style": "IPY_MODEL_3675c8aad3ae4ab49c72ed99ec609644",
            "value": 4
          }
        },
        "814b521b79ab47fd849b7d065f0ee3d5": {
          "model_module": "@jupyter-widgets/controls",
          "model_name": "HTMLModel",
          "model_module_version": "1.5.0",
          "state": {
            "_dom_classes": [],
            "_model_module": "@jupyter-widgets/controls",
            "_model_module_version": "1.5.0",
            "_model_name": "HTMLModel",
            "_view_count": null,
            "_view_module": "@jupyter-widgets/controls",
            "_view_module_version": "1.5.0",
            "_view_name": "HTMLView",
            "description": "",
            "description_tooltip": null,
            "layout": "IPY_MODEL_e91cfc42ad79403d935c49a7f818ddc9",
            "placeholder": "​",
            "style": "IPY_MODEL_9dc74fa1fd8d441fa0658d18624579e2",
            "value": " 3/4 [00:01&lt;00:00,  1.74it/s]"
          }
        },
        "cb3c4c204bb94e758ecdf48f351d3ea8": {
          "model_module": "@jupyter-widgets/base",
          "model_name": "LayoutModel",
          "model_module_version": "1.2.0",
          "state": {
            "_model_module": "@jupyter-widgets/base",
            "_model_module_version": "1.2.0",
            "_model_name": "LayoutModel",
            "_view_count": null,
            "_view_module": "@jupyter-widgets/base",
            "_view_module_version": "1.2.0",
            "_view_name": "LayoutView",
            "align_content": null,
            "align_items": null,
            "align_self": null,
            "border": null,
            "bottom": null,
            "display": null,
            "flex": null,
            "flex_flow": null,
            "grid_area": null,
            "grid_auto_columns": null,
            "grid_auto_flow": null,
            "grid_auto_rows": null,
            "grid_column": null,
            "grid_gap": null,
            "grid_row": null,
            "grid_template_areas": null,
            "grid_template_columns": null,
            "grid_template_rows": null,
            "height": null,
            "justify_content": null,
            "justify_items": null,
            "left": null,
            "margin": null,
            "max_height": null,
            "max_width": null,
            "min_height": null,
            "min_width": null,
            "object_fit": null,
            "object_position": null,
            "order": null,
            "overflow": null,
            "overflow_x": null,
            "overflow_y": null,
            "padding": null,
            "right": null,
            "top": null,
            "visibility": "hidden",
            "width": null
          }
        },
        "def082dc52734a1eb9544faf72996e53": {
          "model_module": "@jupyter-widgets/base",
          "model_name": "LayoutModel",
          "model_module_version": "1.2.0",
          "state": {
            "_model_module": "@jupyter-widgets/base",
            "_model_module_version": "1.2.0",
            "_model_name": "LayoutModel",
            "_view_count": null,
            "_view_module": "@jupyter-widgets/base",
            "_view_module_version": "1.2.0",
            "_view_name": "LayoutView",
            "align_content": null,
            "align_items": null,
            "align_self": null,
            "border": null,
            "bottom": null,
            "display": null,
            "flex": null,
            "flex_flow": null,
            "grid_area": null,
            "grid_auto_columns": null,
            "grid_auto_flow": null,
            "grid_auto_rows": null,
            "grid_column": null,
            "grid_gap": null,
            "grid_row": null,
            "grid_template_areas": null,
            "grid_template_columns": null,
            "grid_template_rows": null,
            "height": null,
            "justify_content": null,
            "justify_items": null,
            "left": null,
            "margin": null,
            "max_height": null,
            "max_width": null,
            "min_height": null,
            "min_width": null,
            "object_fit": null,
            "object_position": null,
            "order": null,
            "overflow": null,
            "overflow_x": null,
            "overflow_y": null,
            "padding": null,
            "right": null,
            "top": null,
            "visibility": null,
            "width": null
          }
        },
        "39e00085850c41328f4eec6d41257ccb": {
          "model_module": "@jupyter-widgets/controls",
          "model_name": "DescriptionStyleModel",
          "model_module_version": "1.5.0",
          "state": {
            "_model_module": "@jupyter-widgets/controls",
            "_model_module_version": "1.5.0",
            "_model_name": "DescriptionStyleModel",
            "_view_count": null,
            "_view_module": "@jupyter-widgets/base",
            "_view_module_version": "1.2.0",
            "_view_name": "StyleView",
            "description_width": ""
          }
        },
        "39f27e9665fd459a8dbef13d9efd10a3": {
          "model_module": "@jupyter-widgets/base",
          "model_name": "LayoutModel",
          "model_module_version": "1.2.0",
          "state": {
            "_model_module": "@jupyter-widgets/base",
            "_model_module_version": "1.2.0",
            "_model_name": "LayoutModel",
            "_view_count": null,
            "_view_module": "@jupyter-widgets/base",
            "_view_module_version": "1.2.0",
            "_view_name": "LayoutView",
            "align_content": null,
            "align_items": null,
            "align_self": null,
            "border": null,
            "bottom": null,
            "display": null,
            "flex": null,
            "flex_flow": null,
            "grid_area": null,
            "grid_auto_columns": null,
            "grid_auto_flow": null,
            "grid_auto_rows": null,
            "grid_column": null,
            "grid_gap": null,
            "grid_row": null,
            "grid_template_areas": null,
            "grid_template_columns": null,
            "grid_template_rows": null,
            "height": null,
            "justify_content": null,
            "justify_items": null,
            "left": null,
            "margin": null,
            "max_height": null,
            "max_width": null,
            "min_height": null,
            "min_width": null,
            "object_fit": null,
            "object_position": null,
            "order": null,
            "overflow": null,
            "overflow_x": null,
            "overflow_y": null,
            "padding": null,
            "right": null,
            "top": null,
            "visibility": null,
            "width": null
          }
        },
        "3675c8aad3ae4ab49c72ed99ec609644": {
          "model_module": "@jupyter-widgets/controls",
          "model_name": "ProgressStyleModel",
          "model_module_version": "1.5.0",
          "state": {
            "_model_module": "@jupyter-widgets/controls",
            "_model_module_version": "1.5.0",
            "_model_name": "ProgressStyleModel",
            "_view_count": null,
            "_view_module": "@jupyter-widgets/base",
            "_view_module_version": "1.2.0",
            "_view_name": "StyleView",
            "bar_color": null,
            "description_width": ""
          }
        },
        "e91cfc42ad79403d935c49a7f818ddc9": {
          "model_module": "@jupyter-widgets/base",
          "model_name": "LayoutModel",
          "model_module_version": "1.2.0",
          "state": {
            "_model_module": "@jupyter-widgets/base",
            "_model_module_version": "1.2.0",
            "_model_name": "LayoutModel",
            "_view_count": null,
            "_view_module": "@jupyter-widgets/base",
            "_view_module_version": "1.2.0",
            "_view_name": "LayoutView",
            "align_content": null,
            "align_items": null,
            "align_self": null,
            "border": null,
            "bottom": null,
            "display": null,
            "flex": null,
            "flex_flow": null,
            "grid_area": null,
            "grid_auto_columns": null,
            "grid_auto_flow": null,
            "grid_auto_rows": null,
            "grid_column": null,
            "grid_gap": null,
            "grid_row": null,
            "grid_template_areas": null,
            "grid_template_columns": null,
            "grid_template_rows": null,
            "height": null,
            "justify_content": null,
            "justify_items": null,
            "left": null,
            "margin": null,
            "max_height": null,
            "max_width": null,
            "min_height": null,
            "min_width": null,
            "object_fit": null,
            "object_position": null,
            "order": null,
            "overflow": null,
            "overflow_x": null,
            "overflow_y": null,
            "padding": null,
            "right": null,
            "top": null,
            "visibility": null,
            "width": null
          }
        },
        "9dc74fa1fd8d441fa0658d18624579e2": {
          "model_module": "@jupyter-widgets/controls",
          "model_name": "DescriptionStyleModel",
          "model_module_version": "1.5.0",
          "state": {
            "_model_module": "@jupyter-widgets/controls",
            "_model_module_version": "1.5.0",
            "_model_name": "DescriptionStyleModel",
            "_view_count": null,
            "_view_module": "@jupyter-widgets/base",
            "_view_module_version": "1.2.0",
            "_view_name": "StyleView",
            "description_width": ""
          }
        }
      }
    }
  },
  "nbformat": 4,
  "nbformat_minor": 0
}